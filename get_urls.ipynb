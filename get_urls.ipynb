{
 "cells": [
  {
   "cell_type": "code",
   "execution_count": 18,
   "metadata": {},
   "outputs": [],
   "source": [
    "from urllib.request import urlopen as uReq\n",
    "import pandas as pd\n",
    "import requests\n",
    "import json\n",
    "import time\n",
    "import random\n",
    "import bs4\n",
    "from bs4 import BeautifulSoup"
   ]
  },
  {
   "cell_type": "code",
   "execution_count": 12,
   "metadata": {},
   "outputs": [],
   "source": [
    "url = 'https://www.instagram.com/soymuyfalsa/'"
   ]
  },
  {
   "cell_type": "code",
   "execution_count": 13,
   "metadata": {},
   "outputs": [],
   "source": [
    "uClient = uReq(url)"
   ]
  },
  {
   "cell_type": "code",
   "execution_count": 14,
   "metadata": {},
   "outputs": [],
   "source": [
    "page_html = uClient.read()"
   ]
  },
  {
   "cell_type": "code",
   "execution_count": 15,
   "metadata": {},
   "outputs": [],
   "source": [
    "uClient.close()"
   ]
  },
  {
   "cell_type": "code",
   "execution_count": 20,
   "metadata": {},
   "outputs": [],
   "source": [
    "soup = BeautifulSoup(page_html, \"html.parser\")"
   ]
  },
  {
   "cell_type": "code",
   "execution_count": 22,
   "metadata": {},
   "outputs": [],
   "source": [
    "sel = \"meta\"\n",
    "s = soup.find_all(sel, attrs={'name': 'description'})\n"
   ]
  },
  {
   "cell_type": "code",
   "execution_count": 23,
   "metadata": {},
   "outputs": [
    {
     "data": {
      "text/plain": [
       "[<meta content=\"74 Followers, 0 Following, 5 Posts - See Instagram photos and videos from Soy Muy Falsa💄 (@soymuyfalsa)\" name=\"description\"/>]"
      ]
     },
     "execution_count": 23,
     "metadata": {},
     "output_type": "execute_result"
    }
   ],
   "source": [
    "s"
   ]
  },
  {
   "cell_type": "code",
   "execution_count": null,
   "metadata": {},
   "outputs": [],
   "source": []
  },
  {
   "cell_type": "code",
   "execution_count": null,
   "metadata": {},
   "outputs": [],
   "source": []
  },
  {
   "cell_type": "code",
   "execution_count": 29,
   "metadata": {},
   "outputs": [],
   "source": [
    "json_acceptable_string = s.replace('\"', \"'\").replace(\"'\", \"\\\"\")\n",
    "d = json.loads(json_acceptable_string)"
   ]
  },
  {
   "cell_type": "code",
   "execution_count": 39,
   "metadata": {},
   "outputs": [],
   "source": [
    "from selenium import webdriver\n",
    "from selenium.webdriver.common.by import By\n",
    "from selenium.webdriver.support.ui import WebDriverWait\n",
    "from selenium.webdriver.support import expected_conditions as EC"
   ]
  },
  {
   "cell_type": "code",
   "execution_count": 40,
   "metadata": {},
   "outputs": [],
   "source": [
    "def scrape_followers(driver, account):\n",
    "    # Load account page\n",
    "    driver.get(\"https://www.instagram.com/{0}/\".format(account))\n",
    "\n",
    "    # Click the 'Follower(s)' link\n",
    "    driver.find_element_by_partial_link_text(\"follower\").click()\n",
    "\n",
    "    # Wait for the followers modal to load\n",
    "    xpath = \"//div[@style='position: relative; z-index: 1;']/div/div[2]/div/div[1]\"\n",
    "    WebDriverWait(driver, 10).until(\n",
    "        EC.presence_of_element_located((By.XPATH, xpath)))\n",
    "\n",
    "    # You'll need to figure out some scrolling magic here. Something that can\n",
    "    # scroll to the bottom of the followers modal, and know when its reached\n",
    "    # the bottom. This is pretty impractical for people with a lot of followers\n",
    "\n",
    "    # Finally, scrape the followers\n",
    "    xpath = \"//div[@style='position: relative; z-index: 1;']//ul/li/div/div/div/div/a\"\n",
    "    followers_elems = driver.find_elements_by_xpath(xpath)\n",
    "\n",
    "    return [e.text for e in followers_elems]"
   ]
  },
  {
   "cell_type": "code",
   "execution_count": null,
   "metadata": {},
   "outputs": [],
   "source": []
  },
  {
   "cell_type": "code",
   "execution_count": null,
   "metadata": {},
   "outputs": [],
   "source": []
  },
  {
   "cell_type": "code",
   "execution_count": 5,
   "metadata": {},
   "outputs": [],
   "source": [
    "db = mc['instagram_fake_follower_detector']\n",
    "rc = db['user']"
   ]
  },
  {
   "cell_type": "code",
   "execution_count": 6,
   "metadata": {},
   "outputs": [
    {
     "data": {
      "text/plain": [
       "Collection(Database(MongoClient(host=['localhost:27017'], document_class=dict, tz_aware=False, connect=True), 'instagram_fake_follower_detector'), 'user')"
      ]
     },
     "execution_count": 6,
     "metadata": {},
     "output_type": "execute_result"
    }
   ],
   "source": [
    "rc"
   ]
  },
  {
   "cell_type": "code",
   "execution_count": 7,
   "metadata": {},
   "outputs": [],
   "source": [
    "offsets = list(range(1, 2000, 50))"
   ]
  },
  {
   "cell_type": "code",
   "execution_count": 9,
   "metadata": {},
   "outputs": [],
   "source": [
    "default_params = {\n",
    "    'location': '98104',\n",
    "    'limit': 50,\n",
    "    'term': 'user'\n",
    "    }"
   ]
  },
  {
   "cell_type": "code",
   "execution_count": 50,
   "metadata": {},
   "outputs": [],
   "source": [
    "offsets = list(range(1, 2000, 50))"
   ]
  },
  {
   "cell_type": "code",
   "execution_count": 55,
   "metadata": {},
   "outputs": [
    {
     "data": {
      "text/plain": [
       "[1,\n",
       " 51,\n",
       " 101,\n",
       " 151,\n",
       " 201,\n",
       " 251,\n",
       " 301,\n",
       " 351,\n",
       " 401,\n",
       " 451,\n",
       " 501,\n",
       " 551,\n",
       " 601,\n",
       " 651,\n",
       " 701,\n",
       " 751,\n",
       " 801,\n",
       " 851,\n",
       " 901,\n",
       " 951,\n",
       " 1001,\n",
       " 1051,\n",
       " 1101,\n",
       " 1151,\n",
       " 1201,\n",
       " 1251,\n",
       " 1301,\n",
       " 1351,\n",
       " 1401,\n",
       " 1451,\n",
       " 1501,\n",
       " 1551,\n",
       " 1601,\n",
       " 1651,\n",
       " 1701,\n",
       " 1751,\n",
       " 1801,\n",
       " 1851,\n",
       " 1901,\n",
       " 1951]"
      ]
     },
     "execution_count": 55,
     "metadata": {},
     "output_type": "execute_result"
    }
   ],
   "source": [
    "offsets"
   ]
  },
  {
   "cell_type": "code",
   "execution_count": null,
   "metadata": {},
   "outputs": [],
   "source": []
  },
  {
   "cell_type": "code",
   "execution_count": null,
   "metadata": {},
   "outputs": [],
   "source": []
  },
  {
   "cell_type": "code",
   "execution_count": null,
   "metadata": {},
   "outputs": [],
   "source": []
  },
  {
   "cell_type": "code",
   "execution_count": null,
   "metadata": {},
   "outputs": [],
   "source": []
  },
  {
   "cell_type": "code",
   "execution_count": null,
   "metadata": {},
   "outputs": [],
   "source": []
  }
 ],
 "metadata": {
  "kernelspec": {
   "display_name": "Python 3",
   "language": "python",
   "name": "python3"
  },
  "language_info": {
   "codemirror_mode": {
    "name": "ipython",
    "version": 3
   },
   "file_extension": ".py",
   "mimetype": "text/x-python",
   "name": "python",
   "nbconvert_exporter": "python",
   "pygments_lexer": "ipython3",
   "version": "3.6.5"
  }
 },
 "nbformat": 4,
 "nbformat_minor": 2
}
