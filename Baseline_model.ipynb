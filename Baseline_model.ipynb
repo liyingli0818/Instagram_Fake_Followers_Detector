{
 "cells": [
  {
   "cell_type": "code",
   "execution_count": 19,
   "metadata": {},
   "outputs": [],
   "source": [
    "import pandas as pd\n",
    "import numpy as np\n",
    "from scipy import stats\n",
    "import matplotlib.pyplot as plt\n",
    "%matplotlib inline\n",
    "from scipy.special import comb\n",
    "\n",
    "from sklearn.linear_model import LogisticRegression, LinearRegression\n",
    "from sklearn.tree import DecisionTreeRegressor, DecisionTreeClassifier\n",
    "from sklearn.ensemble import RandomForestRegressor, RandomForestClassifier\n",
    "from sklearn.metrics import log_loss, make_scorer\n",
    "from sklearn.model_selection import cross_val_score, train_test_split, GridSearchCV\n",
    "from sklearn.datasets import load_breast_cancer, load_iris"
   ]
  },
  {
   "cell_type": "code",
   "execution_count": 5,
   "metadata": {},
   "outputs": [
    {
     "data": {
      "text/plain": [
       "'/Users/liliying/Galvanize/instagram_fake_followers_detector'"
      ]
     },
     "execution_count": 5,
     "metadata": {},
     "output_type": "execute_result"
    }
   ],
   "source": [
    "pwd"
   ]
  },
  {
   "cell_type": "code",
   "execution_count": 6,
   "metadata": {},
   "outputs": [
    {
     "name": "stdout",
     "output_type": "stream",
     "text": [
      "/Users/liliying/Galvanize/instagram_fake_followers_detector/src\n"
     ]
    }
   ],
   "source": [
    "cd src"
   ]
  },
  {
   "cell_type": "code",
   "execution_count": 87,
   "metadata": {},
   "outputs": [],
   "source": [
    "data = pd.read_csv('../data_cleaned.csv')"
   ]
  },
  {
   "cell_type": "code",
   "execution_count": 88,
   "metadata": {},
   "outputs": [
    {
     "data": {
      "text/html": [
       "<div>\n",
       "<style scoped>\n",
       "    .dataframe tbody tr th:only-of-type {\n",
       "        vertical-align: middle;\n",
       "    }\n",
       "\n",
       "    .dataframe tbody tr th {\n",
       "        vertical-align: top;\n",
       "    }\n",
       "\n",
       "    .dataframe thead th {\n",
       "        text-align: right;\n",
       "    }\n",
       "</style>\n",
       "<table border=\"1\" class=\"dataframe\">\n",
       "  <thead>\n",
       "    <tr style=\"text-align: right;\">\n",
       "      <th></th>\n",
       "      <th>follower_id</th>\n",
       "      <th>user_name</th>\n",
       "      <th>full_name</th>\n",
       "      <th>num_posts</th>\n",
       "      <th>num_followers</th>\n",
       "      <th>num_followings</th>\n",
       "      <th>is_private</th>\n",
       "      <th>is_business</th>\n",
       "      <th>is_joined_recently</th>\n",
       "      <th>biography</th>\n",
       "      <th>num_followers_float</th>\n",
       "      <th>following_follower_ratio</th>\n",
       "      <th>engagement_rate</th>\n",
       "      <th>label</th>\n",
       "    </tr>\n",
       "  </thead>\n",
       "  <tbody>\n",
       "    <tr>\n",
       "      <th>0</th>\n",
       "      <td>0</td>\n",
       "      <td>wqwqwq12345w</td>\n",
       "      <td>1998</td>\n",
       "      <td>0.0</td>\n",
       "      <td>1</td>\n",
       "      <td>12.0</td>\n",
       "      <td>0</td>\n",
       "      <td>0</td>\n",
       "      <td>1</td>\n",
       "      <td>åÁNi recentid@ ni dolid@ acÌÁ te la bancas_ÙÕ£...</td>\n",
       "      <td>1.0</td>\n",
       "      <td>6.000000</td>\n",
       "      <td>0.0000</td>\n",
       "      <td>0</td>\n",
       "    </tr>\n",
       "    <tr>\n",
       "      <th>1</th>\n",
       "      <td>1</td>\n",
       "      <td>soymuyfalsa</td>\n",
       "      <td>soy muy falsa</td>\n",
       "      <td>5.0</td>\n",
       "      <td>62</td>\n",
       "      <td>1.0</td>\n",
       "      <td>0</td>\n",
       "      <td>0</td>\n",
       "      <td>0</td>\n",
       "      <td>0</td>\n",
       "      <td>62.0</td>\n",
       "      <td>0.015873</td>\n",
       "      <td>0.0000</td>\n",
       "      <td>0</td>\n",
       "    </tr>\n",
       "    <tr>\n",
       "      <th>2</th>\n",
       "      <td>2</td>\n",
       "      <td>andrea_bordon_</td>\n",
       "      <td>andrea bordon</td>\n",
       "      <td>1.0</td>\n",
       "      <td>132</td>\n",
       "      <td>78.0</td>\n",
       "      <td>0</td>\n",
       "      <td>1</td>\n",
       "      <td>0</td>\n",
       "      <td>25/08/1999Monfalcone-Udine Italy_Ùà¨_Ùà_</td>\n",
       "      <td>132.0</td>\n",
       "      <td>0.586466</td>\n",
       "      <td>0.0000</td>\n",
       "      <td>0</td>\n",
       "    </tr>\n",
       "    <tr>\n",
       "      <th>3</th>\n",
       "      <td>3</td>\n",
       "      <td>@ndah.endah.3701</td>\n",
       "      <td>@ndah.endah.3701 _ã¢ Instagram photos and videos</td>\n",
       "      <td>3.0</td>\n",
       "      <td>798</td>\n",
       "      <td>138.0</td>\n",
       "      <td>0</td>\n",
       "      <td>1</td>\n",
       "      <td>0</td>\n",
       "      <td>Haters make me famous_Ù÷È</td>\n",
       "      <td>798.0</td>\n",
       "      <td>0.172716</td>\n",
       "      <td>0.0000</td>\n",
       "      <td>0</td>\n",
       "    </tr>\n",
       "    <tr>\n",
       "      <th>4</th>\n",
       "      <td>4</td>\n",
       "      <td>jolsuperstar_tz</td>\n",
       "      <td>jolsuperstartz</td>\n",
       "      <td>66.0</td>\n",
       "      <td>494</td>\n",
       "      <td>195.0</td>\n",
       "      <td>0</td>\n",
       "      <td>0</td>\n",
       "      <td>0</td>\n",
       "      <td>_ÙÓ¡FANSHII NDIO SPECIAL ACCOUNT YANGU KARIBUN...</td>\n",
       "      <td>494.0</td>\n",
       "      <td>0.393939</td>\n",
       "      <td>0.0000</td>\n",
       "      <td>0</td>\n",
       "    </tr>\n",
       "    <tr>\n",
       "      <th>5</th>\n",
       "      <td>5</td>\n",
       "      <td>wisnuhdyat33</td>\n",
       "      <td>WisnuHidayat</td>\n",
       "      <td>5.0</td>\n",
       "      <td>552</td>\n",
       "      <td>252.0</td>\n",
       "      <td>0</td>\n",
       "      <td>1</td>\n",
       "      <td>0</td>\n",
       "      <td>PERSIB BANDUNG___Ù÷üBogor Indonesia_Ùà¨_Ùà©</td>\n",
       "      <td>552.0</td>\n",
       "      <td>0.455696</td>\n",
       "      <td>0.0000</td>\n",
       "      <td>0</td>\n",
       "    </tr>\n",
       "    <tr>\n",
       "      <th>6</th>\n",
       "      <td>6</td>\n",
       "      <td>adiukulelo87</td>\n",
       "      <td>________ _____ä_____µ__Î__µ__ª</td>\n",
       "      <td>27.0</td>\n",
       "      <td>9438</td>\n",
       "      <td>6989.0</td>\n",
       "      <td>0</td>\n",
       "      <td>0</td>\n",
       "      <td>0</td>\n",
       "      <td>£À _Óà_ÓÂ_ÓÇ_Ó± _Ó±_Ó¢_Ó©_Ó© _Ó__Ó¢...</td>\n",
       "      <td>9438.0</td>\n",
       "      <td>0.740439</td>\n",
       "      <td>0.0325</td>\n",
       "      <td>1</td>\n",
       "    </tr>\n",
       "    <tr>\n",
       "      <th>7</th>\n",
       "      <td>7</td>\n",
       "      <td>edupdv04</td>\n",
       "      <td>Eduard Puigdevall</td>\n",
       "      <td>303.0</td>\n",
       "      <td>1705</td>\n",
       "      <td>434.0</td>\n",
       "      <td>0</td>\n",
       "      <td>1</td>\n",
       "      <td>0</td>\n",
       "      <td>Subcamp.Cat. SQ '06CampeÌ_n Cat. SQ '07Subcamp...</td>\n",
       "      <td>1705.0</td>\n",
       "      <td>0.254396</td>\n",
       "      <td>0.0730</td>\n",
       "      <td>0</td>\n",
       "    </tr>\n",
       "    <tr>\n",
       "      <th>8</th>\n",
       "      <td>8</td>\n",
       "      <td>segaid98</td>\n",
       "      <td>Sega ID98</td>\n",
       "      <td>17.0</td>\n",
       "      <td>274</td>\n",
       "      <td>210.0</td>\n",
       "      <td>0</td>\n",
       "      <td>0</td>\n",
       "      <td>0</td>\n",
       "      <td>Senggol bacok.Pribadi yang lebih baik _Ùª</td>\n",
       "      <td>274.0</td>\n",
       "      <td>0.763636</td>\n",
       "      <td>0.0000</td>\n",
       "      <td>0</td>\n",
       "    </tr>\n",
       "    <tr>\n",
       "      <th>9</th>\n",
       "      <td>9</td>\n",
       "      <td>reza.aliakber</td>\n",
       "      <td>Reza Aliakbar</td>\n",
       "      <td>2.0</td>\n",
       "      <td>75</td>\n",
       "      <td>168.0</td>\n",
       "      <td>0</td>\n",
       "      <td>0</td>\n",
       "      <td>0</td>\n",
       "      <td>0</td>\n",
       "      <td>75.0</td>\n",
       "      <td>2.210526</td>\n",
       "      <td>0.0000</td>\n",
       "      <td>0</td>\n",
       "    </tr>\n",
       "    <tr>\n",
       "      <th>10</th>\n",
       "      <td>10</td>\n",
       "      <td>dairo_p10</td>\n",
       "      <td>Dairo Perez   ))ÔÔ/M((</td>\n",
       "      <td>78.0</td>\n",
       "      <td>358</td>\n",
       "      <td>163.0</td>\n",
       "      <td>1</td>\n",
       "      <td>0</td>\n",
       "      <td>0</td>\n",
       "      <td>0</td>\n",
       "      <td>358.0</td>\n",
       "      <td>0.454039</td>\n",
       "      <td>0.0000</td>\n",
       "      <td>0</td>\n",
       "    </tr>\n",
       "    <tr>\n",
       "      <th>11</th>\n",
       "      <td>11</td>\n",
       "      <td>zj.2_</td>\n",
       "      <td>éóè±è_è_é_ è_éÊèëèµè±è_é_é_</td>\n",
       "      <td>1.0</td>\n",
       "      <td>5757</td>\n",
       "      <td>602.0</td>\n",
       "      <td>0</td>\n",
       "      <td>1</td>\n",
       "      <td>0</td>\n",
       "      <td>ôÛôÛôÛôÛôÛôÛôÛôÛôÛôÛôÛôÛôÛôÛôÛôÛôÛôÛôÛôÛôÛôÛôÛ...</td>\n",
       "      <td>5757.0</td>\n",
       "      <td>0.104550</td>\n",
       "      <td>0.1108</td>\n",
       "      <td>0</td>\n",
       "    </tr>\n",
       "    <tr>\n",
       "      <th>12</th>\n",
       "      <td>12</td>\n",
       "      <td>djgiulilocatti</td>\n",
       "      <td>Giuli Locatti Mascareê±o _È_Î_È__</td>\n",
       "      <td>67.0</td>\n",
       "      <td>4808</td>\n",
       "      <td>4881.0</td>\n",
       "      <td>0</td>\n",
       "      <td>1</td>\n",
       "      <td>0</td>\n",
       "      <td>OLIMPIA DE MI VIDA _ü_ü_üDJ _Ù_¤_Ù...</td>\n",
       "      <td>4808.0</td>\n",
       "      <td>1.014972</td>\n",
       "      <td>0.0458</td>\n",
       "      <td>1</td>\n",
       "    </tr>\n",
       "    <tr>\n",
       "      <th>13</th>\n",
       "      <td>13</td>\n",
       "      <td>fabiiojr</td>\n",
       "      <td>Fabio A._È_Î_È__</td>\n",
       "      <td>30.0</td>\n",
       "      <td>1726</td>\n",
       "      <td>996.0</td>\n",
       "      <td>0</td>\n",
       "      <td>1</td>\n",
       "      <td>0</td>\n",
       "      <td>_ÙÒBenidorm                                  ...</td>\n",
       "      <td>1726.0</td>\n",
       "      <td>0.576723</td>\n",
       "      <td>0.1270</td>\n",
       "      <td>0</td>\n",
       "    </tr>\n",
       "    <tr>\n",
       "      <th>14</th>\n",
       "      <td>14</td>\n",
       "      <td>kbenitok</td>\n",
       "      <td>Erico Benito</td>\n",
       "      <td>59.0</td>\n",
       "      <td>8193</td>\n",
       "      <td>25.0</td>\n",
       "      <td>0</td>\n",
       "      <td>1</td>\n",
       "      <td>0</td>\n",
       "      <td>#Tranky</td>\n",
       "      <td>8193.0</td>\n",
       "      <td>0.003051</td>\n",
       "      <td>0.0050</td>\n",
       "      <td>1</td>\n",
       "    </tr>\n",
       "    <tr>\n",
       "      <th>15</th>\n",
       "      <td>15</td>\n",
       "      <td>yuliagarciafer</td>\n",
       "      <td>Julia</td>\n",
       "      <td>345.0</td>\n",
       "      <td>7204</td>\n",
       "      <td>78.0</td>\n",
       "      <td>0</td>\n",
       "      <td>0</td>\n",
       "      <td>0</td>\n",
       "      <td>0</td>\n",
       "      <td>7204.0</td>\n",
       "      <td>0.010826</td>\n",
       "      <td>0.0284</td>\n",
       "      <td>1</td>\n",
       "    </tr>\n",
       "    <tr>\n",
       "      <th>16</th>\n",
       "      <td>16</td>\n",
       "      <td>firsov1996</td>\n",
       "      <td>___ª ã ____ ____ª _ ã_ª__</td>\n",
       "      <td>20.0</td>\n",
       "      <td>89</td>\n",
       "      <td>4761.0</td>\n",
       "      <td>0</td>\n",
       "      <td>0</td>\n",
       "      <td>0</td>\n",
       "      <td>0</td>\n",
       "      <td>89.0</td>\n",
       "      <td>52.900000</td>\n",
       "      <td>0.0000</td>\n",
       "      <td>0</td>\n",
       "    </tr>\n",
       "    <tr>\n",
       "      <th>17</th>\n",
       "      <td>17</td>\n",
       "      <td>fmsoft.co.za</td>\n",
       "      <td>FMsoft</td>\n",
       "      <td>5.0</td>\n",
       "      <td>82</td>\n",
       "      <td>39.0</td>\n",
       "      <td>0</td>\n",
       "      <td>1</td>\n",
       "      <td>0</td>\n",
       "      <td>_ÙÒâTailor-made Software Websites &amp; Apps for a...</td>\n",
       "      <td>82.0</td>\n",
       "      <td>0.469880</td>\n",
       "      <td>0.0000</td>\n",
       "      <td>0</td>\n",
       "    </tr>\n",
       "    <tr>\n",
       "      <th>18</th>\n",
       "      <td>18</td>\n",
       "      <td>francy_lanzetta</td>\n",
       "      <td>kekka lanzetta</td>\n",
       "      <td>2.0</td>\n",
       "      <td>229</td>\n",
       "      <td>677.0</td>\n",
       "      <td>0</td>\n",
       "      <td>1</td>\n",
       "      <td>0</td>\n",
       "      <td>0</td>\n",
       "      <td>229.0</td>\n",
       "      <td>2.943478</td>\n",
       "      <td>0.0000</td>\n",
       "      <td>0</td>\n",
       "    </tr>\n",
       "    <tr>\n",
       "      <th>19</th>\n",
       "      <td>19</td>\n",
       "      <td>sambelnya_pisah</td>\n",
       "      <td>Pangkur Jagat Aldian</td>\n",
       "      <td>28.0</td>\n",
       "      <td>450</td>\n",
       "      <td>328.0</td>\n",
       "      <td>0</td>\n",
       "      <td>0</td>\n",
       "      <td>0</td>\n",
       "      <td>Jogjascarfta Crew _Ù¼Jakmania Jogja_ÙÔÙPersij...</td>\n",
       "      <td>450.0</td>\n",
       "      <td>0.727273</td>\n",
       "      <td>0.0000</td>\n",
       "      <td>0</td>\n",
       "    </tr>\n",
       "    <tr>\n",
       "      <th>20</th>\n",
       "      <td>20</td>\n",
       "      <td>miguelrill98</td>\n",
       "      <td>Miguel_È</td>\n",
       "      <td>9.0</td>\n",
       "      <td>677</td>\n",
       "      <td>292.0</td>\n",
       "      <td>1</td>\n",
       "      <td>0</td>\n",
       "      <td>0</td>\n",
       "      <td>Germany/ffm_ÙÒ| 20 | snap: miguel_2511</td>\n",
       "      <td>677.0</td>\n",
       "      <td>0.430678</td>\n",
       "      <td>0.0000</td>\n",
       "      <td>0</td>\n",
       "    </tr>\n",
       "    <tr>\n",
       "      <th>21</th>\n",
       "      <td>21</td>\n",
       "      <td>graf_kherson</td>\n",
       "      <td>Vladik _È_</td>\n",
       "      <td>70.0</td>\n",
       "      <td>3853</td>\n",
       "      <td>152.0</td>\n",
       "      <td>0</td>\n",
       "      <td>1</td>\n",
       "      <td>0</td>\n",
       "      <td>Kherson__µ _±____ ___µ _¼_____«_¡ ___µ à...</td>\n",
       "      <td>3853.0</td>\n",
       "      <td>0.039440</td>\n",
       "      <td>0.0263</td>\n",
       "      <td>1</td>\n",
       "    </tr>\n",
       "    <tr>\n",
       "      <th>22</th>\n",
       "      <td>22</td>\n",
       "      <td>gineuse</td>\n",
       "      <td>YT</td>\n",
       "      <td>10.0</td>\n",
       "      <td>1924</td>\n",
       "      <td>76.0</td>\n",
       "      <td>0</td>\n",
       "      <td>0</td>\n",
       "      <td>0</td>\n",
       "      <td>GINEUSE</td>\n",
       "      <td>1924.0</td>\n",
       "      <td>0.039481</td>\n",
       "      <td>0.0892</td>\n",
       "      <td>0</td>\n",
       "    </tr>\n",
       "    <tr>\n",
       "      <th>23</th>\n",
       "      <td>23</td>\n",
       "      <td>brisbris</td>\n",
       "      <td>Giovanni Farris</td>\n",
       "      <td>54.0</td>\n",
       "      <td>1286</td>\n",
       "      <td>268.0</td>\n",
       "      <td>0</td>\n",
       "      <td>0</td>\n",
       "      <td>0</td>\n",
       "      <td>_Ù÷à my live_ÙÓ´Chef_üSardinia_üVeneto...</td>\n",
       "      <td>1286.0</td>\n",
       "      <td>0.208236</td>\n",
       "      <td>0.0667</td>\n",
       "      <td>0</td>\n",
       "    </tr>\n",
       "    <tr>\n",
       "      <th>24</th>\n",
       "      <td>24</td>\n",
       "      <td>adiosplastico</td>\n",
       "      <td>ADIê_S PLêSTICO BY BIOTIME</td>\n",
       "      <td>20.0</td>\n",
       "      <td>146</td>\n",
       "      <td>161.0</td>\n",
       "      <td>0</td>\n",
       "      <td>1</td>\n",
       "      <td>0</td>\n",
       "      <td>TIENDA DE PRODUCTOS ECOLÌÒGICOS Y BIODEGRADABL...</td>\n",
       "      <td>146.0</td>\n",
       "      <td>1.095238</td>\n",
       "      <td>0.0000</td>\n",
       "      <td>0</td>\n",
       "    </tr>\n",
       "    <tr>\n",
       "      <th>25</th>\n",
       "      <td>25</td>\n",
       "      <td>@chrismainahperre</td>\n",
       "      <td>@chrismainahperre _ã¢ Instagram photos and videos</td>\n",
       "      <td>0.0</td>\n",
       "      <td>0</td>\n",
       "      <td>2.0</td>\n",
       "      <td>0</td>\n",
       "      <td>0</td>\n",
       "      <td>1</td>\n",
       "      <td>0</td>\n",
       "      <td>0.0</td>\n",
       "      <td>2.000000</td>\n",
       "      <td>0.0000</td>\n",
       "      <td>0</td>\n",
       "    </tr>\n",
       "    <tr>\n",
       "      <th>26</th>\n",
       "      <td>26</td>\n",
       "      <td>nisanur4266</td>\n",
       "      <td>Nisanur ê_zata</td>\n",
       "      <td>1.0</td>\n",
       "      <td>6</td>\n",
       "      <td>77.0</td>\n",
       "      <td>0</td>\n",
       "      <td>0</td>\n",
       "      <td>0</td>\n",
       "      <td>0</td>\n",
       "      <td>6.0</td>\n",
       "      <td>11.000000</td>\n",
       "      <td>0.0000</td>\n",
       "      <td>0</td>\n",
       "    </tr>\n",
       "    <tr>\n",
       "      <th>27</th>\n",
       "      <td>27</td>\n",
       "      <td>ojo_olaiya_wahab</td>\n",
       "      <td>ojo olaiya wahab</td>\n",
       "      <td>0.0</td>\n",
       "      <td>1</td>\n",
       "      <td>118.0</td>\n",
       "      <td>0</td>\n",
       "      <td>0</td>\n",
       "      <td>1</td>\n",
       "      <td>0</td>\n",
       "      <td>1.0</td>\n",
       "      <td>59.000000</td>\n",
       "      <td>0.0000</td>\n",
       "      <td>0</td>\n",
       "    </tr>\n",
       "    <tr>\n",
       "      <th>28</th>\n",
       "      <td>28</td>\n",
       "      <td>ph.page_ferro</td>\n",
       "      <td>PHOTOGRAPHER PAGE</td>\n",
       "      <td>6.0</td>\n",
       "      <td>90</td>\n",
       "      <td>386.0</td>\n",
       "      <td>0</td>\n",
       "      <td>1</td>\n",
       "      <td>0</td>\n",
       "      <td>0</td>\n",
       "      <td>90.0</td>\n",
       "      <td>4.241758</td>\n",
       "      <td>0.0000</td>\n",
       "      <td>0</td>\n",
       "    </tr>\n",
       "    <tr>\n",
       "      <th>29</th>\n",
       "      <td>29</td>\n",
       "      <td>nadia.lehmann.18</td>\n",
       "      <td>Nadia Lehmann</td>\n",
       "      <td>13.0</td>\n",
       "      <td>1091</td>\n",
       "      <td>291.0</td>\n",
       "      <td>0</td>\n",
       "      <td>0</td>\n",
       "      <td>0</td>\n",
       "      <td>Horse Rider_Ù« Clint Pleasure Lexus Poker | 9...</td>\n",
       "      <td>1091.0</td>\n",
       "      <td>0.266484</td>\n",
       "      <td>0.2831</td>\n",
       "      <td>0</td>\n",
       "    </tr>\n",
       "    <tr>\n",
       "      <th>...</th>\n",
       "      <td>...</td>\n",
       "      <td>...</td>\n",
       "      <td>...</td>\n",
       "      <td>...</td>\n",
       "      <td>...</td>\n",
       "      <td>...</td>\n",
       "      <td>...</td>\n",
       "      <td>...</td>\n",
       "      <td>...</td>\n",
       "      <td>...</td>\n",
       "      <td>...</td>\n",
       "      <td>...</td>\n",
       "      <td>...</td>\n",
       "      <td>...</td>\n",
       "    </tr>\n",
       "    <tr>\n",
       "      <th>168</th>\n",
       "      <td>168</td>\n",
       "      <td>iklhnmlfc.90</td>\n",
       "      <td>ikranur</td>\n",
       "      <td>0.0</td>\n",
       "      <td>60</td>\n",
       "      <td>227.0</td>\n",
       "      <td>1</td>\n",
       "      <td>0</td>\n",
       "      <td>0</td>\n",
       "      <td>Sessizlik</td>\n",
       "      <td>60.0</td>\n",
       "      <td>3.721311</td>\n",
       "      <td>0.0000</td>\n",
       "      <td>0</td>\n",
       "    </tr>\n",
       "    <tr>\n",
       "      <th>169</th>\n",
       "      <td>169</td>\n",
       "      <td>__im_amit__</td>\n",
       "      <td>Amit Amit</td>\n",
       "      <td>67.0</td>\n",
       "      <td>381</td>\n",
       "      <td>3203.0</td>\n",
       "      <td>0</td>\n",
       "      <td>0</td>\n",
       "      <td>0</td>\n",
       "      <td>0</td>\n",
       "      <td>381.0</td>\n",
       "      <td>8.384817</td>\n",
       "      <td>0.0000</td>\n",
       "      <td>0</td>\n",
       "    </tr>\n",
       "    <tr>\n",
       "      <th>170</th>\n",
       "      <td>170</td>\n",
       "      <td>skylar_aaesthetic</td>\n",
       "      <td>Skylars aestheetic</td>\n",
       "      <td>9.0</td>\n",
       "      <td>9</td>\n",
       "      <td>29.0</td>\n",
       "      <td>0</td>\n",
       "      <td>0</td>\n",
       "      <td>1</td>\n",
       "      <td>I will accept all follow request and I will fo...</td>\n",
       "      <td>9.0</td>\n",
       "      <td>2.900000</td>\n",
       "      <td>0.0000</td>\n",
       "      <td>0</td>\n",
       "    </tr>\n",
       "    <tr>\n",
       "      <th>171</th>\n",
       "      <td>171</td>\n",
       "      <td>andoboce</td>\n",
       "      <td>Ando bocell</td>\n",
       "      <td>28.0</td>\n",
       "      <td>295</td>\n",
       "      <td>1200.0</td>\n",
       "      <td>0</td>\n",
       "      <td>0</td>\n",
       "      <td>0</td>\n",
       "      <td>0</td>\n",
       "      <td>295.0</td>\n",
       "      <td>4.054054</td>\n",
       "      <td>0.0000</td>\n",
       "      <td>0</td>\n",
       "    </tr>\n",
       "    <tr>\n",
       "      <th>172</th>\n",
       "      <td>172</td>\n",
       "      <td>cullamandu59_96</td>\n",
       "      <td>Muhammad Nasrullah</td>\n",
       "      <td>5.0</td>\n",
       "      <td>279</td>\n",
       "      <td>349.0</td>\n",
       "      <td>0</td>\n",
       "      <td>1</td>\n",
       "      <td>0</td>\n",
       "      <td>Saya luar biasa Boring.. ? Play my channel. _Ù...</td>\n",
       "      <td>279.0</td>\n",
       "      <td>1.246429</td>\n",
       "      <td>0.0000</td>\n",
       "      <td>0</td>\n",
       "    </tr>\n",
       "    <tr>\n",
       "      <th>173</th>\n",
       "      <td>173</td>\n",
       "      <td>@shyrose_cut</td>\n",
       "      <td>@shyrose_cut _ã¢ Instagram photos and videos</td>\n",
       "      <td>7.0</td>\n",
       "      <td>4249</td>\n",
       "      <td>65.0</td>\n",
       "      <td>0</td>\n",
       "      <td>1</td>\n",
       "      <td>0</td>\n",
       "      <td>0</td>\n",
       "      <td>4249.0</td>\n",
       "      <td>0.015294</td>\n",
       "      <td>0.0000</td>\n",
       "      <td>0</td>\n",
       "    </tr>\n",
       "    <tr>\n",
       "      <th>174</th>\n",
       "      <td>174</td>\n",
       "      <td>nurdan.akdemir</td>\n",
       "      <td>Nurdan AKDEMR</td>\n",
       "      <td>1.0</td>\n",
       "      <td>10</td>\n",
       "      <td>172.0</td>\n",
       "      <td>0</td>\n",
       "      <td>0</td>\n",
       "      <td>0</td>\n",
       "      <td>0</td>\n",
       "      <td>10.0</td>\n",
       "      <td>15.636364</td>\n",
       "      <td>0.0000</td>\n",
       "      <td>0</td>\n",
       "    </tr>\n",
       "    <tr>\n",
       "      <th>175</th>\n",
       "      <td>175</td>\n",
       "      <td>slavik_sorokin7733</td>\n",
       "      <td>s_È_äã_ä___ä¾ s_ä_ã_ä_ä¾_ä</td>\n",
       "      <td>2.0</td>\n",
       "      <td>167</td>\n",
       "      <td>73.0</td>\n",
       "      <td>0</td>\n",
       "      <td>1</td>\n",
       "      <td>0</td>\n",
       "      <td>0</td>\n",
       "      <td>167.0</td>\n",
       "      <td>0.434524</td>\n",
       "      <td>0.0000</td>\n",
       "      <td>0</td>\n",
       "    </tr>\n",
       "    <tr>\n",
       "      <th>176</th>\n",
       "      <td>176</td>\n",
       "      <td>mr.nikhil.malik</td>\n",
       "      <td>Nikhil MalikÔÎ  (ï_ï_ïÔ_©ï_©ïó¾)</td>\n",
       "      <td>52.0</td>\n",
       "      <td>644</td>\n",
       "      <td>182.0</td>\n",
       "      <td>0</td>\n",
       "      <td>1</td>\n",
       "      <td>0</td>\n",
       "      <td>Ï«Karma Believer _ÙªÜÏ«JAAT  _Ù÷__Ù÷_Ï«IMSi...</td>\n",
       "      <td>644.0</td>\n",
       "      <td>0.282171</td>\n",
       "      <td>0.0000</td>\n",
       "      <td>0</td>\n",
       "    </tr>\n",
       "    <tr>\n",
       "      <th>177</th>\n",
       "      <td>177</td>\n",
       "      <td>tufan95_</td>\n",
       "      <td>Mustafa Monther</td>\n",
       "      <td>838.0</td>\n",
       "      <td>11k</td>\n",
       "      <td>1173.0</td>\n",
       "      <td>0</td>\n",
       "      <td>0</td>\n",
       "      <td>0</td>\n",
       "      <td>Name  ÷I _ fooball  __Real Madrid _ÙÔÔ_»...</td>\n",
       "      <td>11000.0</td>\n",
       "      <td>0.106627</td>\n",
       "      <td>0.0992</td>\n",
       "      <td>0</td>\n",
       "    </tr>\n",
       "    <tr>\n",
       "      <th>178</th>\n",
       "      <td>178</td>\n",
       "      <td>skreeeph_</td>\n",
       "      <td>skreeeph</td>\n",
       "      <td>0.0</td>\n",
       "      <td>8</td>\n",
       "      <td>33.0</td>\n",
       "      <td>0</td>\n",
       "      <td>0</td>\n",
       "      <td>1</td>\n",
       "      <td>Fotos PaisajesFotos y paisajes</td>\n",
       "      <td>8.0</td>\n",
       "      <td>3.666667</td>\n",
       "      <td>0.0000</td>\n",
       "      <td>0</td>\n",
       "    </tr>\n",
       "    <tr>\n",
       "      <th>179</th>\n",
       "      <td>179</td>\n",
       "      <td>hawin_grams</td>\n",
       "      <td>HawinGrams</td>\n",
       "      <td>1.0</td>\n",
       "      <td>114</td>\n",
       "      <td>178.0</td>\n",
       "      <td>0</td>\n",
       "      <td>0</td>\n",
       "      <td>0</td>\n",
       "      <td>~HawinVlog~HawinPrank~Hawin_Photograpyh---//--...</td>\n",
       "      <td>114.0</td>\n",
       "      <td>1.547826</td>\n",
       "      <td>0.0000</td>\n",
       "      <td>0</td>\n",
       "    </tr>\n",
       "    <tr>\n",
       "      <th>180</th>\n",
       "      <td>180</td>\n",
       "      <td>bout_hein_a</td>\n",
       "      <td>Kra Liê_e</td>\n",
       "      <td>1.0</td>\n",
       "      <td>17</td>\n",
       "      <td>109.0</td>\n",
       "      <td>1</td>\n",
       "      <td>0</td>\n",
       "      <td>0</td>\n",
       "      <td>0</td>\n",
       "      <td>17.0</td>\n",
       "      <td>6.055556</td>\n",
       "      <td>0.0000</td>\n",
       "      <td>0</td>\n",
       "    </tr>\n",
       "    <tr>\n",
       "      <th>181</th>\n",
       "      <td>181</td>\n",
       "      <td>abusaliim.aladawi</td>\n",
       "      <td>abusaliim</td>\n",
       "      <td>172.0</td>\n",
       "      <td>1904</td>\n",
       "      <td>1942.0</td>\n",
       "      <td>0</td>\n",
       "      <td>0</td>\n",
       "      <td>0</td>\n",
       "      <td>¯¤¯_¯_ô  ôö¯¤¯_¯ø ¯¬¯¤ôã¯øô ô_¯¤ ÷_ÙÔÎ_Ù÷ä#ô...</td>\n",
       "      <td>1904.0</td>\n",
       "      <td>1.019423</td>\n",
       "      <td>0.0329</td>\n",
       "      <td>1</td>\n",
       "    </tr>\n",
       "    <tr>\n",
       "      <th>182</th>\n",
       "      <td>182</td>\n",
       "      <td>izabelasoares_1</td>\n",
       "      <td>I Z A B E L A  S O A R E S</td>\n",
       "      <td>12.0</td>\n",
       "      <td>4300</td>\n",
       "      <td>271.0</td>\n",
       "      <td>0</td>\n",
       "      <td>1</td>\n",
       "      <td>0</td>\n",
       "      <td>ÛÜWelcome to my life_ÙÎÎ_ÙÓ´Ð»Û¢Û¢Û¢Û¢Û...</td>\n",
       "      <td>4300.0</td>\n",
       "      <td>0.063009</td>\n",
       "      <td>0.0724</td>\n",
       "      <td>0</td>\n",
       "    </tr>\n",
       "    <tr>\n",
       "      <th>183</th>\n",
       "      <td>183</td>\n",
       "      <td>manuel.ottoboni</td>\n",
       "      <td>Manuel Ottoboni _È_</td>\n",
       "      <td>148.0</td>\n",
       "      <td>22.7k</td>\n",
       "      <td>507.0</td>\n",
       "      <td>0</td>\n",
       "      <td>1</td>\n",
       "      <td>0</td>\n",
       "      <td>Living around the world _ÙÎ__Ùã_Ùâ_ÙÎ«Ýµ_Ù_</td>\n",
       "      <td>22700.0</td>\n",
       "      <td>0.022334</td>\n",
       "      <td>0.0152</td>\n",
       "      <td>1</td>\n",
       "    </tr>\n",
       "    <tr>\n",
       "      <th>184</th>\n",
       "      <td>184</td>\n",
       "      <td>atalay_icbay</td>\n",
       "      <td>Atalay ê_BAY</td>\n",
       "      <td>1.0</td>\n",
       "      <td>10</td>\n",
       "      <td>92.0</td>\n",
       "      <td>0</td>\n",
       "      <td>0</td>\n",
       "      <td>0</td>\n",
       "      <td>0</td>\n",
       "      <td>10.0</td>\n",
       "      <td>8.363636</td>\n",
       "      <td>0.0000</td>\n",
       "      <td>0</td>\n",
       "    </tr>\n",
       "    <tr>\n",
       "      <th>185</th>\n",
       "      <td>185</td>\n",
       "      <td>ninaroma26</td>\n",
       "      <td>black&amp;white</td>\n",
       "      <td>1.0</td>\n",
       "      <td>0</td>\n",
       "      <td>2.0</td>\n",
       "      <td>0</td>\n",
       "      <td>1</td>\n",
       "      <td>1</td>\n",
       "      <td>* Photographs* Nature* Black* White* Color _ÙÒ...</td>\n",
       "      <td>0.0</td>\n",
       "      <td>2.000000</td>\n",
       "      <td>0.0000</td>\n",
       "      <td>0</td>\n",
       "    </tr>\n",
       "    <tr>\n",
       "      <th>186</th>\n",
       "      <td>186</td>\n",
       "      <td>guevaraanderson78</td>\n",
       "      <td>andersonguevara</td>\n",
       "      <td>0.0</td>\n",
       "      <td>11</td>\n",
       "      <td>126.0</td>\n",
       "      <td>0</td>\n",
       "      <td>0</td>\n",
       "      <td>1</td>\n",
       "      <td>0</td>\n",
       "      <td>11.0</td>\n",
       "      <td>10.500000</td>\n",
       "      <td>0.0000</td>\n",
       "      <td>0</td>\n",
       "    </tr>\n",
       "    <tr>\n",
       "      <th>187</th>\n",
       "      <td>187</td>\n",
       "      <td>roycom4</td>\n",
       "      <td>Roynaldi Saputra</td>\n",
       "      <td>93.0</td>\n",
       "      <td>1786</td>\n",
       "      <td>559.0</td>\n",
       "      <td>0</td>\n",
       "      <td>1</td>\n",
       "      <td>0</td>\n",
       "      <td>Est.1997_Ùà¨_Ùà© Indonesia - Aceh_Ùà¨_Ùà©±  ...</td>\n",
       "      <td>1786.0</td>\n",
       "      <td>0.312815</td>\n",
       "      <td>0.0317</td>\n",
       "      <td>1</td>\n",
       "    </tr>\n",
       "    <tr>\n",
       "      <th>188</th>\n",
       "      <td>188</td>\n",
       "      <td>_.anshuman</td>\n",
       "      <td>Anshuman Panda</td>\n",
       "      <td>48.0</td>\n",
       "      <td>1034</td>\n",
       "      <td>143.0</td>\n",
       "      <td>0</td>\n",
       "      <td>0</td>\n",
       "      <td>0</td>\n",
       "      <td>Athlete | believer of unbelief | seekerSnapcha...</td>\n",
       "      <td>1034.0</td>\n",
       "      <td>0.138164</td>\n",
       "      <td>0.1465</td>\n",
       "      <td>0</td>\n",
       "    </tr>\n",
       "    <tr>\n",
       "      <th>189</th>\n",
       "      <td>189</td>\n",
       "      <td>zeroday_band</td>\n",
       "      <td>ZERODAY</td>\n",
       "      <td>304.0</td>\n",
       "      <td>2147</td>\n",
       "      <td>294.0</td>\n",
       "      <td>0</td>\n",
       "      <td>1</td>\n",
       "      <td>0</td>\n",
       "      <td>New pop-punk metalcore from HUNGARY_ÙÓ´BAGGIRA...</td>\n",
       "      <td>2147.0</td>\n",
       "      <td>0.136872</td>\n",
       "      <td>0.0206</td>\n",
       "      <td>1</td>\n",
       "    </tr>\n",
       "    <tr>\n",
       "      <th>190</th>\n",
       "      <td>190</td>\n",
       "      <td>nicolasoliveira.21</td>\n",
       "      <td>__ -     Nicolas Oliveira</td>\n",
       "      <td>22.0</td>\n",
       "      <td>486</td>\n",
       "      <td>241.0</td>\n",
       "      <td>0</td>\n",
       "      <td>0</td>\n",
       "      <td>0</td>\n",
       "      <td>-    Uns vÌ£o Tentar Provar Que SÌ£o melhores ...</td>\n",
       "      <td>486.0</td>\n",
       "      <td>0.494867</td>\n",
       "      <td>0.0000</td>\n",
       "      <td>0</td>\n",
       "    </tr>\n",
       "    <tr>\n",
       "      <th>191</th>\n",
       "      <td>191</td>\n",
       "      <td>zachpearsonphoto</td>\n",
       "      <td>Zach Pearson</td>\n",
       "      <td>98.0</td>\n",
       "      <td>767</td>\n",
       "      <td>3038.0</td>\n",
       "      <td>0</td>\n",
       "      <td>1</td>\n",
       "      <td>0</td>\n",
       "      <td>Action Sports PhotographerCascais PortugalFeel...</td>\n",
       "      <td>767.0</td>\n",
       "      <td>3.955729</td>\n",
       "      <td>0.0000</td>\n",
       "      <td>0</td>\n",
       "    </tr>\n",
       "    <tr>\n",
       "      <th>192</th>\n",
       "      <td>192</td>\n",
       "      <td>dobedo_40_</td>\n",
       "      <td>Dobedo</td>\n",
       "      <td>13.0</td>\n",
       "      <td>105</td>\n",
       "      <td>189.0</td>\n",
       "      <td>0</td>\n",
       "      <td>0</td>\n",
       "      <td>0</td>\n",
       "      <td>0</td>\n",
       "      <td>105.0</td>\n",
       "      <td>1.783019</td>\n",
       "      <td>0.0000</td>\n",
       "      <td>0</td>\n",
       "    </tr>\n",
       "    <tr>\n",
       "      <th>193</th>\n",
       "      <td>193</td>\n",
       "      <td>batiksabang</td>\n",
       "      <td>Batik Sabang</td>\n",
       "      <td>2432.0</td>\n",
       "      <td>9477</td>\n",
       "      <td>3993.0</td>\n",
       "      <td>0</td>\n",
       "      <td>0</td>\n",
       "      <td>0</td>\n",
       "      <td>Variety of Indonesia to the world             ...</td>\n",
       "      <td>9477.0</td>\n",
       "      <td>0.421291</td>\n",
       "      <td>0.0611</td>\n",
       "      <td>0</td>\n",
       "    </tr>\n",
       "    <tr>\n",
       "      <th>194</th>\n",
       "      <td>194</td>\n",
       "      <td>figeraj</td>\n",
       "      <td>Joshua Figera</td>\n",
       "      <td>0.0</td>\n",
       "      <td>3</td>\n",
       "      <td>15.0</td>\n",
       "      <td>0</td>\n",
       "      <td>0</td>\n",
       "      <td>1</td>\n",
       "      <td>0</td>\n",
       "      <td>3.0</td>\n",
       "      <td>3.750000</td>\n",
       "      <td>0.0000</td>\n",
       "      <td>0</td>\n",
       "    </tr>\n",
       "    <tr>\n",
       "      <th>195</th>\n",
       "      <td>195</td>\n",
       "      <td>ozlemkaplan38</td>\n",
       "      <td>Ozlem Kaplan</td>\n",
       "      <td>1.0</td>\n",
       "      <td>10</td>\n",
       "      <td>234.0</td>\n",
       "      <td>0</td>\n",
       "      <td>0</td>\n",
       "      <td>0</td>\n",
       "      <td>0</td>\n",
       "      <td>10.0</td>\n",
       "      <td>21.272727</td>\n",
       "      <td>0.0000</td>\n",
       "      <td>0</td>\n",
       "    </tr>\n",
       "    <tr>\n",
       "      <th>196</th>\n",
       "      <td>196</td>\n",
       "      <td>janah1253</td>\n",
       "      <td>@janah12</td>\n",
       "      <td>0.0</td>\n",
       "      <td>1</td>\n",
       "      <td>4.0</td>\n",
       "      <td>0</td>\n",
       "      <td>0</td>\n",
       "      <td>0</td>\n",
       "      <td>0</td>\n",
       "      <td>1.0</td>\n",
       "      <td>2.000000</td>\n",
       "      <td>0.0000</td>\n",
       "      <td>0</td>\n",
       "    </tr>\n",
       "    <tr>\n",
       "      <th>197</th>\n",
       "      <td>197</td>\n",
       "      <td>luciapiovaroli98</td>\n",
       "      <td>lucia</td>\n",
       "      <td>47.0</td>\n",
       "      <td>135</td>\n",
       "      <td>360.0</td>\n",
       "      <td>0</td>\n",
       "      <td>0</td>\n",
       "      <td>0</td>\n",
       "      <td>0</td>\n",
       "      <td>135.0</td>\n",
       "      <td>2.647059</td>\n",
       "      <td>0.0000</td>\n",
       "      <td>0</td>\n",
       "    </tr>\n",
       "  </tbody>\n",
       "</table>\n",
       "<p>198 rows × 14 columns</p>\n",
       "</div>"
      ],
      "text/plain": [
       "     follower_id           user_name  \\\n",
       "0              0        wqwqwq12345w   \n",
       "1              1         soymuyfalsa   \n",
       "2              2      andrea_bordon_   \n",
       "3              3    @ndah.endah.3701   \n",
       "4              4     jolsuperstar_tz   \n",
       "5              5        wisnuhdyat33   \n",
       "6              6        adiukulelo87   \n",
       "7              7            edupdv04   \n",
       "8              8            segaid98   \n",
       "9              9       reza.aliakber   \n",
       "10            10           dairo_p10   \n",
       "11            11               zj.2_   \n",
       "12            12      djgiulilocatti   \n",
       "13            13            fabiiojr   \n",
       "14            14            kbenitok   \n",
       "15            15      yuliagarciafer   \n",
       "16            16          firsov1996   \n",
       "17            17        fmsoft.co.za   \n",
       "18            18     francy_lanzetta   \n",
       "19            19     sambelnya_pisah   \n",
       "20            20        miguelrill98   \n",
       "21            21        graf_kherson   \n",
       "22            22             gineuse   \n",
       "23            23            brisbris   \n",
       "24            24       adiosplastico   \n",
       "25            25   @chrismainahperre   \n",
       "26            26         nisanur4266   \n",
       "27            27    ojo_olaiya_wahab   \n",
       "28            28       ph.page_ferro   \n",
       "29            29    nadia.lehmann.18   \n",
       "..           ...                 ...   \n",
       "168          168        iklhnmlfc.90   \n",
       "169          169         __im_amit__   \n",
       "170          170   skylar_aaesthetic   \n",
       "171          171            andoboce   \n",
       "172          172     cullamandu59_96   \n",
       "173          173        @shyrose_cut   \n",
       "174          174      nurdan.akdemir   \n",
       "175          175  slavik_sorokin7733   \n",
       "176          176     mr.nikhil.malik   \n",
       "177          177            tufan95_   \n",
       "178          178           skreeeph_   \n",
       "179          179         hawin_grams   \n",
       "180          180         bout_hein_a   \n",
       "181          181   abusaliim.aladawi   \n",
       "182          182     izabelasoares_1   \n",
       "183          183     manuel.ottoboni   \n",
       "184          184        atalay_icbay   \n",
       "185          185          ninaroma26   \n",
       "186          186   guevaraanderson78   \n",
       "187          187             roycom4   \n",
       "188          188          _.anshuman   \n",
       "189          189        zeroday_band   \n",
       "190          190  nicolasoliveira.21   \n",
       "191          191    zachpearsonphoto   \n",
       "192          192          dobedo_40_   \n",
       "193          193         batiksabang   \n",
       "194          194             figeraj   \n",
       "195          195       ozlemkaplan38   \n",
       "196          196           janah1253   \n",
       "197          197    luciapiovaroli98   \n",
       "\n",
       "                                             full_name  num_posts  \\\n",
       "0                                                 1998        0.0   \n",
       "1                                        soy muy falsa        5.0   \n",
       "2                                        andrea bordon        1.0   \n",
       "3     @ndah.endah.3701 _ã¢ Instagram photos and videos        3.0   \n",
       "4                                      jolsuperstartz        66.0   \n",
       "5                                        WisnuHidayat         5.0   \n",
       "6           ________ _____ä_____µ__Î__µ__ª        27.0   \n",
       "7                                   Eduard Puigdevall       303.0   \n",
       "8                                           Sega ID98        17.0   \n",
       "9                                       Reza Aliakbar         2.0   \n",
       "10                           Dairo Perez   ))ÔÔ/M((        78.0   \n",
       "11                        éóè±è_è_é_ è_éÊèëèµè±è_é_é_         1.0   \n",
       "12                  Giuli Locatti Mascareê±o _È_Î_È__        67.0   \n",
       "13                                   Fabio A._È_Î_È__        30.0   \n",
       "14                                       Erico Benito        59.0   \n",
       "15                                              Julia       345.0   \n",
       "16                        ___ª ã ____ ____ª _ ã_ª__        20.0   \n",
       "17                                             FMsoft         5.0   \n",
       "18                                     kekka lanzetta         2.0   \n",
       "19                               Pangkur Jagat Aldian        28.0   \n",
       "20                                         Miguel_È         9.0   \n",
       "21                                        Vladik _È_        70.0   \n",
       "22                                                 YT        10.0   \n",
       "23                                    Giovanni Farris        54.0   \n",
       "24                        ADIê_S PLêSTICO BY BIOTIME        20.0   \n",
       "25   @chrismainahperre _ã¢ Instagram photos and videos        0.0   \n",
       "26                                     Nisanur ê_zata         1.0   \n",
       "27                                   ojo olaiya wahab         0.0   \n",
       "28                                  PHOTOGRAPHER PAGE         6.0   \n",
       "29                                      Nadia Lehmann        13.0   \n",
       "..                                                 ...        ...   \n",
       "168                                           ikranur         0.0   \n",
       "169                                         Amit Amit        67.0   \n",
       "170                                Skylars aestheetic         9.0   \n",
       "171                                       Ando bocell        28.0   \n",
       "172                                Muhammad Nasrullah         5.0   \n",
       "173       @shyrose_cut _ã¢ Instagram photos and videos        7.0   \n",
       "174                                   Nurdan AKDEMR         1.0   \n",
       "175                   s_È_äã_ä___ä¾ s_ä_ã_ä_ä¾_ä         2.0   \n",
       "176            Nikhil MalikÔÎ  (ï_ï_ïÔ_©ï_©ïó¾)        52.0   \n",
       "177                                   Mustafa Monther       838.0   \n",
       "178                                          skreeeph         0.0   \n",
       "179                                        HawinGrams         1.0   \n",
       "180                                         Kra Liê_e         1.0   \n",
       "181                                         abusaliim       172.0   \n",
       "182                        I Z A B E L A  S O A R E S        12.0   \n",
       "183                              Manuel Ottoboni _È_       148.0   \n",
       "184                                    Atalay ê_BAY         1.0   \n",
       "185                                       black&white         1.0   \n",
       "186                                   andersonguevara         0.0   \n",
       "187                                  Roynaldi Saputra        93.0   \n",
       "188                                    Anshuman Panda        48.0   \n",
       "189                                           ZERODAY       304.0   \n",
       "190                        __ -     Nicolas Oliveira        22.0   \n",
       "191                                      Zach Pearson        98.0   \n",
       "192                                            Dobedo        13.0   \n",
       "193                                      Batik Sabang      2432.0   \n",
       "194                                     Joshua Figera         0.0   \n",
       "195                                      Ozlem Kaplan         1.0   \n",
       "196                                          @janah12         0.0   \n",
       "197                                             lucia        47.0   \n",
       "\n",
       "    num_followers  num_followings  is_private   is_business  \\\n",
       "0               1            12.0           0             0   \n",
       "1              62             1.0           0             0   \n",
       "2             132            78.0           0             1   \n",
       "3             798           138.0           0             1   \n",
       "4             494           195.0           0             0   \n",
       "5             552           252.0           0             1   \n",
       "6            9438          6989.0           0             0   \n",
       "7            1705           434.0           0             1   \n",
       "8             274           210.0           0             0   \n",
       "9              75           168.0           0             0   \n",
       "10            358           163.0           1             0   \n",
       "11           5757           602.0           0             1   \n",
       "12           4808          4881.0           0             1   \n",
       "13           1726           996.0           0             1   \n",
       "14           8193            25.0           0             1   \n",
       "15           7204            78.0           0             0   \n",
       "16             89          4761.0           0             0   \n",
       "17             82            39.0           0             1   \n",
       "18            229           677.0           0             1   \n",
       "19            450           328.0           0             0   \n",
       "20            677           292.0           1             0   \n",
       "21           3853           152.0           0             1   \n",
       "22           1924            76.0           0             0   \n",
       "23           1286           268.0           0             0   \n",
       "24            146           161.0           0             1   \n",
       "25              0             2.0           0             0   \n",
       "26              6            77.0           0             0   \n",
       "27              1           118.0           0             0   \n",
       "28             90           386.0           0             1   \n",
       "29           1091           291.0           0             0   \n",
       "..            ...             ...         ...           ...   \n",
       "168            60           227.0           1             0   \n",
       "169           381          3203.0           0             0   \n",
       "170             9            29.0           0             0   \n",
       "171           295          1200.0           0             0   \n",
       "172           279           349.0           0             1   \n",
       "173          4249            65.0           0             1   \n",
       "174            10           172.0           0             0   \n",
       "175           167            73.0           0             1   \n",
       "176           644           182.0           0             1   \n",
       "177           11k          1173.0           0             0   \n",
       "178             8            33.0           0             0   \n",
       "179           114           178.0           0             0   \n",
       "180            17           109.0           1             0   \n",
       "181          1904          1942.0           0             0   \n",
       "182          4300           271.0           0             1   \n",
       "183         22.7k           507.0           0             1   \n",
       "184            10            92.0           0             0   \n",
       "185             0             2.0           0             1   \n",
       "186            11           126.0           0             0   \n",
       "187          1786           559.0           0             1   \n",
       "188          1034           143.0           0             0   \n",
       "189          2147           294.0           0             1   \n",
       "190           486           241.0           0             0   \n",
       "191           767          3038.0           0             1   \n",
       "192           105           189.0           0             0   \n",
       "193          9477          3993.0           0             0   \n",
       "194             3            15.0           0             0   \n",
       "195            10           234.0           0             0   \n",
       "196             1             4.0           0             0   \n",
       "197           135           360.0           0             0   \n",
       "\n",
       "      is_joined_recently                                          biography  \\\n",
       "0                      1  åÁNi recentid@ ni dolid@ acÌÁ te la bancas_ÙÕ£...   \n",
       "1                      0                                                  0   \n",
       "2                      0           25/08/1999Monfalcone-Udine Italy_Ùà¨_Ùà_   \n",
       "3                      0                          Haters make me famous_Ù÷È   \n",
       "4                      0  _ÙÓ¡FANSHII NDIO SPECIAL ACCOUNT YANGU KARIBUN...   \n",
       "5                      0    PERSIB BANDUNG___Ù÷üBogor Indonesia_Ùà¨_Ùà©   \n",
       "6                      0  £À _Óà_ÓÂ_ÓÇ_Ó± _Ó±_Ó¢_Ó©_Ó© _Ó__Ó¢...   \n",
       "7                      0  Subcamp.Cat. SQ '06CampeÌ_n Cat. SQ '07Subcamp...   \n",
       "8                      0         Senggol bacok.Pribadi yang lebih baik _Ùª   \n",
       "9                      0                                                  0   \n",
       "10                     0                                                  0   \n",
       "11                     0  ôÛôÛôÛôÛôÛôÛôÛôÛôÛôÛôÛôÛôÛôÛôÛôÛôÛôÛôÛôÛôÛôÛôÛ...   \n",
       "12                     0  OLIMPIA DE MI VIDA _ü_ü_üDJ _Ù_¤_Ù...   \n",
       "13                     0  _ÙÒBenidorm                                  ...   \n",
       "14                     0                                            #Tranky   \n",
       "15                     0                                                  0   \n",
       "16                     0                                                  0   \n",
       "17                     0  _ÙÒâTailor-made Software Websites & Apps for a...   \n",
       "18                     0                                                  0   \n",
       "19                     0  Jogjascarfta Crew _Ù¼Jakmania Jogja_ÙÔÙPersij...   \n",
       "20                     0            Germany/ffm_ÙÒ| 20 | snap: miguel_2511   \n",
       "21                     0  Kherson__µ _±____ ___µ _¼_____«_¡ ___µ à...   \n",
       "22                     0                                            GINEUSE   \n",
       "23                     0  _Ù÷à my live_ÙÓ´Chef_üSardinia_üVeneto...   \n",
       "24                     0  TIENDA DE PRODUCTOS ECOLÌÒGICOS Y BIODEGRADABL...   \n",
       "25                     1                                                  0   \n",
       "26                     0                                                  0   \n",
       "27                     1                                                  0   \n",
       "28                     0                                                  0   \n",
       "29                     0  Horse Rider_Ù« Clint Pleasure Lexus Poker | 9...   \n",
       "..                   ...                                                ...   \n",
       "168                    0                                          Sessizlik   \n",
       "169                    0                                                  0   \n",
       "170                    1  I will accept all follow request and I will fo...   \n",
       "171                    0                                                  0   \n",
       "172                    0  Saya luar biasa Boring.. ? Play my channel. _Ù...   \n",
       "173                    0                                                  0   \n",
       "174                    0                                                  0   \n",
       "175                    0                                                  0   \n",
       "176                    0  Ï«Karma Believer _ÙªÜÏ«JAAT  _Ù÷__Ù÷_Ï«IMSi...   \n",
       "177                    0  Name  ÷I _ fooball  __Real Madrid _ÙÔÔ_»...   \n",
       "178                    1                     Fotos PaisajesFotos y paisajes   \n",
       "179                    0  ~HawinVlog~HawinPrank~Hawin_Photograpyh---//--...   \n",
       "180                    0                                                  0   \n",
       "181                    0  ¯¤¯_¯_ô  ôö¯¤¯_¯ø ¯¬¯¤ôã¯øô ô_¯¤ ÷_ÙÔÎ_Ù÷ä#ô...   \n",
       "182                    0  ÛÜWelcome to my life_ÙÎÎ_ÙÓ´Ð»Û¢Û¢Û¢Û¢Û...   \n",
       "183                    0    Living around the world _ÙÎ__Ùã_Ùâ_ÙÎ«Ýµ_Ù_   \n",
       "184                    0                                                  0   \n",
       "185                    1  * Photographs* Nature* Black* White* Color _ÙÒ...   \n",
       "186                    1                                                  0   \n",
       "187                    0  Est.1997_Ùà¨_Ùà© Indonesia - Aceh_Ùà¨_Ùà©±  ...   \n",
       "188                    0  Athlete | believer of unbelief | seekerSnapcha...   \n",
       "189                    0  New pop-punk metalcore from HUNGARY_ÙÓ´BAGGIRA...   \n",
       "190                    0  -    Uns vÌ£o Tentar Provar Que SÌ£o melhores ...   \n",
       "191                    0  Action Sports PhotographerCascais PortugalFeel...   \n",
       "192                    0                                                  0   \n",
       "193                    0  Variety of Indonesia to the world             ...   \n",
       "194                    1                                                  0   \n",
       "195                    0                                                  0   \n",
       "196                    0                                                  0   \n",
       "197                    0                                                  0   \n",
       "\n",
       "     num_followers_float  following_follower_ratio  engagement_rate  label  \n",
       "0                    1.0                  6.000000           0.0000      0  \n",
       "1                   62.0                  0.015873           0.0000      0  \n",
       "2                  132.0                  0.586466           0.0000      0  \n",
       "3                  798.0                  0.172716           0.0000      0  \n",
       "4                  494.0                  0.393939           0.0000      0  \n",
       "5                  552.0                  0.455696           0.0000      0  \n",
       "6                 9438.0                  0.740439           0.0325      1  \n",
       "7                 1705.0                  0.254396           0.0730      0  \n",
       "8                  274.0                  0.763636           0.0000      0  \n",
       "9                   75.0                  2.210526           0.0000      0  \n",
       "10                 358.0                  0.454039           0.0000      0  \n",
       "11                5757.0                  0.104550           0.1108      0  \n",
       "12                4808.0                  1.014972           0.0458      1  \n",
       "13                1726.0                  0.576723           0.1270      0  \n",
       "14                8193.0                  0.003051           0.0050      1  \n",
       "15                7204.0                  0.010826           0.0284      1  \n",
       "16                  89.0                 52.900000           0.0000      0  \n",
       "17                  82.0                  0.469880           0.0000      0  \n",
       "18                 229.0                  2.943478           0.0000      0  \n",
       "19                 450.0                  0.727273           0.0000      0  \n",
       "20                 677.0                  0.430678           0.0000      0  \n",
       "21                3853.0                  0.039440           0.0263      1  \n",
       "22                1924.0                  0.039481           0.0892      0  \n",
       "23                1286.0                  0.208236           0.0667      0  \n",
       "24                 146.0                  1.095238           0.0000      0  \n",
       "25                   0.0                  2.000000           0.0000      0  \n",
       "26                   6.0                 11.000000           0.0000      0  \n",
       "27                   1.0                 59.000000           0.0000      0  \n",
       "28                  90.0                  4.241758           0.0000      0  \n",
       "29                1091.0                  0.266484           0.2831      0  \n",
       "..                   ...                       ...              ...    ...  \n",
       "168                 60.0                  3.721311           0.0000      0  \n",
       "169                381.0                  8.384817           0.0000      0  \n",
       "170                  9.0                  2.900000           0.0000      0  \n",
       "171                295.0                  4.054054           0.0000      0  \n",
       "172                279.0                  1.246429           0.0000      0  \n",
       "173               4249.0                  0.015294           0.0000      0  \n",
       "174                 10.0                 15.636364           0.0000      0  \n",
       "175                167.0                  0.434524           0.0000      0  \n",
       "176                644.0                  0.282171           0.0000      0  \n",
       "177              11000.0                  0.106627           0.0992      0  \n",
       "178                  8.0                  3.666667           0.0000      0  \n",
       "179                114.0                  1.547826           0.0000      0  \n",
       "180                 17.0                  6.055556           0.0000      0  \n",
       "181               1904.0                  1.019423           0.0329      1  \n",
       "182               4300.0                  0.063009           0.0724      0  \n",
       "183              22700.0                  0.022334           0.0152      1  \n",
       "184                 10.0                  8.363636           0.0000      0  \n",
       "185                  0.0                  2.000000           0.0000      0  \n",
       "186                 11.0                 10.500000           0.0000      0  \n",
       "187               1786.0                  0.312815           0.0317      1  \n",
       "188               1034.0                  0.138164           0.1465      0  \n",
       "189               2147.0                  0.136872           0.0206      1  \n",
       "190                486.0                  0.494867           0.0000      0  \n",
       "191                767.0                  3.955729           0.0000      0  \n",
       "192                105.0                  1.783019           0.0000      0  \n",
       "193               9477.0                  0.421291           0.0611      0  \n",
       "194                  3.0                  3.750000           0.0000      0  \n",
       "195                 10.0                 21.272727           0.0000      0  \n",
       "196                  1.0                  2.000000           0.0000      0  \n",
       "197                135.0                  2.647059           0.0000      0  \n",
       "\n",
       "[198 rows x 14 columns]"
      ]
     },
     "execution_count": 88,
     "metadata": {},
     "output_type": "execute_result"
    }
   ],
   "source": [
    "data.rename({'Unnamed: 0':'follower_id'}, axis = 'columns')"
   ]
  },
  {
   "cell_type": "code",
   "execution_count": 62,
   "metadata": {},
   "outputs": [
    {
     "data": {
      "text/plain": [
       "Text(0.5,0,'follower')"
      ]
     },
     "execution_count": 62,
     "metadata": {},
     "output_type": "execute_result"
    },
    {
     "data": {
      "image/png": "[encoded data removed]",
      "text/plain": [
       "<Figure size 432x288 with 1 Axes>"
      ]
     },
     "metadata": {},
     "output_type": "display_data"
    }
   ],
   "source": [
    "plt.scatter(data['Unnamed: 0'],sorted(data['engagement_rate'], reverse=True))\n",
    "plt.ylabel('engagement rates of followers')\n",
    "plt.xlabel('follower')"
   ]
  },
  {
   "cell_type": "code",
   "execution_count": 46,
   "metadata": {},
   "outputs": [],
   "source": [
    "plt.scatter?"
   ]
  },
  {
   "cell_type": "code",
   "execution_count": 15,
   "metadata": {},
   "outputs": [],
   "source": [
    "pct_low_er_followers = data[data['label'] == 1].shape[0]/data.shape[0]"
   ]
  },
  {
   "cell_type": "code",
   "execution_count": 18,
   "metadata": {},
   "outputs": [
    {
     "data": {
      "text/plain": [
       "0.10606060606060606"
      ]
     },
     "execution_count": 18,
     "metadata": {},
     "output_type": "execute_result"
    }
   ],
   "source": [
    "pct_low_er_followers"
   ]
  },
  {
   "cell_type": "code",
   "execution_count": 24,
   "metadata": {},
   "outputs": [],
   "source": [
    "X = data.iloc[:, [3,5,6,7,8,10,11]]"
   ]
  },
  {
   "cell_type": "code",
   "execution_count": 82,
   "metadata": {},
   "outputs": [],
   "source": [
    "y = data['label']"
   ]
  },
  {
   "cell_type": "code",
   "execution_count": 34,
   "metadata": {},
   "outputs": [
    {
     "data": {
      "text/plain": [
       "(198, 7)"
      ]
     },
     "execution_count": 34,
     "metadata": {},
     "output_type": "execute_result"
    }
   ],
   "source": [
    "X.shape"
   ]
  },
  {
   "cell_type": "code",
   "execution_count": 35,
   "metadata": {},
   "outputs": [
    {
     "data": {
      "text/plain": [
       "(198,)"
      ]
     },
     "execution_count": 35,
     "metadata": {},
     "output_type": "execute_result"
    }
   ],
   "source": [
    "y.shape"
   ]
  },
  {
   "cell_type": "markdown",
   "metadata": {},
   "source": [
    "### train-test split"
   ]
  },
  {
   "cell_type": "code",
   "execution_count": 89,
   "metadata": {},
   "outputs": [],
   "source": [
    "X_train, X_test, y_train, y_test = train_test_split(X, y, random_state=4)"
   ]
  },
  {
   "cell_type": "code",
   "execution_count": 90,
   "metadata": {},
   "outputs": [
    {
     "data": {
      "text/plain": [
       "((148, 7), (50, 7), (148,), (50,))"
      ]
     },
     "execution_count": 90,
     "metadata": {},
     "output_type": "execute_result"
    }
   ],
   "source": [
    "X_train.shape, X_test.shape, y_train.shape, y_test.shape"
   ]
  },
  {
   "cell_type": "markdown",
   "metadata": {},
   "source": [
    "### linear regression"
   ]
  },
  {
   "cell_type": "code",
   "execution_count": 39,
   "metadata": {},
   "outputs": [],
   "source": [
    "model = LinearRegression()"
   ]
  },
  {
   "cell_type": "code",
   "execution_count": 40,
   "metadata": {},
   "outputs": [
    {
     "data": {
      "text/plain": [
       "LinearRegression(copy_X=True, fit_intercept=True, n_jobs=1, normalize=False)"
      ]
     },
     "execution_count": 40,
     "metadata": {},
     "output_type": "execute_result"
    }
   ],
   "source": [
    "model.fit(X_train, y_train)"
   ]
  },
  {
   "cell_type": "code",
   "execution_count": 41,
   "metadata": {},
   "outputs": [],
   "source": [
    "y_pred = model.predict(X_test)"
   ]
  },
  {
   "cell_type": "code",
   "execution_count": 43,
   "metadata": {},
   "outputs": [
    {
     "data": {
      "text/plain": [
       "array([ 0.04536721,  0.01918794,  0.01659516,  0.04057575,  0.01389674,\n",
       "        0.00029388,  0.00068745,  0.01891585,  0.00048344,  0.01382398,\n",
       "        0.01683231,  0.06148327,  0.00061841,  0.02575911,  0.04296595,\n",
       "        0.03876015,  0.00048753,  0.03787426,  0.00062793,  0.01737349,\n",
       "        0.02467958, -0.01437351,  0.04044303,  0.01619555,  0.06067519,\n",
       "        0.00132503,  0.05363694,  0.04990836,  0.01528494,  0.00062703,\n",
       "        0.03287866,  0.01470943,  0.01441388,  0.0156173 ,  0.00116802,\n",
       "        0.01394341,  0.01437908,  0.00044895,  0.01375659,  0.01372605,\n",
       "        0.01681535, -0.00073963,  0.00048375,  0.00095776,  0.01565492,\n",
       "        0.01390984,  0.03360626,  0.05482206,  0.03020001,  0.03691616])"
      ]
     },
     "execution_count": 43,
     "metadata": {},
     "output_type": "execute_result"
    }
   ],
   "source": [
    "y_pred # predict their engagement rate"
   ]
  },
  {
   "cell_type": "code",
   "execution_count": 72,
   "metadata": {},
   "outputs": [],
   "source": [
    "x = np.linspace(0, 49)"
   ]
  },
  {
   "cell_type": "code",
   "execution_count": 73,
   "metadata": {},
   "outputs": [
    {
     "data": {
      "text/plain": [
       "array([ 0.,  1.,  2.,  3.,  4.,  5.,  6.,  7.,  8.,  9., 10., 11., 12.,\n",
       "       13., 14., 15., 16., 17., 18., 19., 20., 21., 22., 23., 24., 25.,\n",
       "       26., 27., 28., 29., 30., 31., 32., 33., 34., 35., 36., 37., 38.,\n",
       "       39., 40., 41., 42., 43., 44., 45., 46., 47., 48., 49.])"
      ]
     },
     "execution_count": 73,
     "metadata": {},
     "output_type": "execute_result"
    }
   ],
   "source": [
    "x"
   ]
  },
  {
   "cell_type": "code",
   "execution_count": 75,
   "metadata": {},
   "outputs": [
    {
     "data": {
      "text/plain": [
       "<matplotlib.collections.PathCollection at 0x1a0e1922e8>"
      ]
     },
     "execution_count": 75,
     "metadata": {},
     "output_type": "execute_result"
    },
    {
     "data": {
      "image/png": "[encoded data removed]",
      "text/plain": [
       "<Figure size 432x288 with 1 Axes>"
      ]
     },
     "metadata": {},
     "output_type": "display_data"
    }
   ],
   "source": [
    "plt.scatter(x, sorted(y_pred, reverse=True))"
   ]
  },
  {
   "cell_type": "markdown",
   "metadata": {},
   "source": [
    "### logistic regression"
   ]
  },
  {
   "cell_type": "code",
   "execution_count": 91,
   "metadata": {},
   "outputs": [],
   "source": [
    "model = LogisticRegression()"
   ]
  },
  {
   "cell_type": "code",
   "execution_count": 92,
   "metadata": {},
   "outputs": [
    {
     "name": "stdout",
     "output_type": "stream",
     "text": [
      "<class 'pandas.core.frame.DataFrame'>\n",
      "Int64Index: 148 entries, 84 to 122\n",
      "Data columns (total 7 columns):\n",
      "num_posts                   148 non-null float64\n",
      "num_followings              148 non-null float64\n",
      "is_private                  148 non-null int64\n",
      " is_business                148 non-null int64\n",
      " is_joined_recently         148 non-null int64\n",
      "num_followers_float         148 non-null float64\n",
      "following_follower_ratio    148 non-null float64\n",
      "dtypes: float64(4), int64(3)\n",
      "memory usage: 9.2 KB\n"
     ]
    }
   ],
   "source": [
    "X_train.info()"
   ]
  },
  {
   "cell_type": "code",
   "execution_count": 93,
   "metadata": {},
   "outputs": [
    {
     "data": {
      "text/plain": [
       "LogisticRegression(C=1.0, class_weight=None, dual=False, fit_intercept=True,\n",
       "          intercept_scaling=1, max_iter=100, multi_class='ovr', n_jobs=1,\n",
       "          penalty='l2', random_state=None, solver='liblinear', tol=0.0001,\n",
       "          verbose=0, warm_start=False)"
      ]
     },
     "execution_count": 93,
     "metadata": {},
     "output_type": "execute_result"
    }
   ],
   "source": [
    "model.fit(X_train, y_train)"
   ]
  },
  {
   "cell_type": "code",
   "execution_count": 94,
   "metadata": {},
   "outputs": [],
   "source": [
    "y_pred = model.predict_proba(X_test)"
   ]
  },
  {
   "cell_type": "code",
   "execution_count": 95,
   "metadata": {},
   "outputs": [],
   "source": [
    "log_loss1 = log_loss(y_test, y_pred)"
   ]
  },
  {
   "cell_type": "code",
   "execution_count": 96,
   "metadata": {},
   "outputs": [
    {
     "data": {
      "text/plain": [
       "0.6981216448661424"
      ]
     },
     "execution_count": 96,
     "metadata": {},
     "output_type": "execute_result"
    }
   ],
   "source": [
    "log_loss1"
   ]
  },
  {
   "cell_type": "code",
   "execution_count": 97,
   "metadata": {},
   "outputs": [
    {
     "data": {
      "text/plain": [
       "0.32261185172152895"
      ]
     },
     "execution_count": 97,
     "metadata": {},
     "output_type": "execute_result"
    }
   ],
   "source": [
    "cv_logloss = -cross_val_score(model, X, y, scoring = 'neg_log_loss', cv = 10).mean()\n",
    "cv_logloss"
   ]
  },
  {
   "cell_type": "markdown",
   "metadata": {},
   "source": [
    "### random forest"
   ]
  },
  {
   "cell_type": "code",
   "execution_count": 98,
   "metadata": {},
   "outputs": [],
   "source": [
    "rf = RandomForestClassifier(n_estimators=100,\n",
    "                            n_jobs=-1,\n",
    "                            random_state=1)"
   ]
  },
  {
   "cell_type": "code",
   "execution_count": 99,
   "metadata": {},
   "outputs": [
    {
     "data": {
      "text/plain": [
       "RandomForestClassifier(bootstrap=True, class_weight=None, criterion='gini',\n",
       "            max_depth=None, max_features='auto', max_leaf_nodes=None,\n",
       "            min_impurity_decrease=0.0, min_impurity_split=None,\n",
       "            min_samples_leaf=1, min_samples_split=2,\n",
       "            min_weight_fraction_leaf=0.0, n_estimators=100, n_jobs=-1,\n",
       "            oob_score=False, random_state=1, verbose=0, warm_start=False)"
      ]
     },
     "execution_count": 99,
     "metadata": {},
     "output_type": "execute_result"
    }
   ],
   "source": [
    "rf.fit(X_train, y_train)"
   ]
  },
  {
   "cell_type": "code",
   "execution_count": 100,
   "metadata": {},
   "outputs": [
    {
     "data": {
      "text/plain": [
       "array([0.22, 0.27, 0.  , 0.43, 0.26, 0.  , 0.  , 0.65, 0.  , 0.  , 0.33,\n",
       "       0.62, 0.  , 0.53, 0.13, 0.55, 0.  , 0.1 , 0.  , 0.  , 0.  , 0.  ,\n",
       "       0.3 , 0.  , 0.12, 0.  , 0.12, 0.62, 0.01, 0.  , 0.  , 0.12, 0.01,\n",
       "       0.  , 0.  , 0.  , 0.01, 0.  , 0.  , 0.  , 0.02, 0.  , 0.  , 0.  ,\n",
       "       0.01, 0.  , 0.02, 0.12, 0.27, 0.08])"
      ]
     },
     "execution_count": 100,
     "metadata": {},
     "output_type": "execute_result"
    }
   ],
   "source": [
    "y_pred = rf.predict_proba(X_test)[:, 1]\n",
    "y_pred"
   ]
  },
  {
   "cell_type": "code",
   "execution_count": 101,
   "metadata": {},
   "outputs": [],
   "source": [
    "cv_logloss_rf1 = -cross_val_score(rf, X, y, cv = 10, scoring = 'neg_log_loss').mean()"
   ]
  },
  {
   "cell_type": "code",
   "execution_count": 102,
   "metadata": {},
   "outputs": [
    {
     "data": {
      "text/plain": [
       "0.17735862171376354"
      ]
     },
     "execution_count": 102,
     "metadata": {},
     "output_type": "execute_result"
    }
   ],
   "source": [
    "cv_logloss_rf1"
   ]
  },
  {
   "cell_type": "markdown",
   "metadata": {},
   "source": [
    "### Best random forest"
   ]
  },
  {
   "cell_type": "code",
   "execution_count": 26,
   "metadata": {},
   "outputs": [
    {
     "name": "stdout",
     "output_type": "stream",
     "text": [
      "Fitting 3 folds for each of 432 candidates, totalling 1296 fits\n"
     ]
    },
    {
     "name": "stderr",
     "output_type": "stream",
     "text": [
      "[Parallel(n_jobs=-1)]: Done  76 tasks      | elapsed:    5.6s\n",
      "[Parallel(n_jobs=-1)]: Done 376 tasks      | elapsed:   25.5s\n",
      "[Parallel(n_jobs=-1)]: Done 634 tasks      | elapsed:   43.1s\n",
      "[Parallel(n_jobs=-1)]: Done 984 tasks      | elapsed:  1.1min\n",
      "[Parallel(n_jobs=-1)]: Done 1296 out of 1296 | elapsed:  1.5min finished\n"
     ]
    },
    {
     "name": "stdout",
     "output_type": "stream",
     "text": [
      "best parameters: {'bootstrap': True, 'max_depth': 3, 'max_features': 'sqrt', 'min_samples_leaf': 1, 'min_samples_split': 2, 'n_estimators': 100, 'random_state': 359}\n"
     ]
    }
   ],
   "source": [
    "random_forest_grid = {'max_depth': [3, 4, None],\n",
    "                      'max_features': ['sqrt', 'log2', None],\n",
    "                      'min_samples_split': [2, 4],\n",
    "                      'min_samples_leaf': [1, 2, 4],\n",
    "                      'bootstrap': [True, False],\n",
    "                      'n_estimators': [20, 40, 80, 100],\n",
    "                      'random_state': [359]}\n",
    "\n",
    "rf_gridsearch = GridSearchCV(RandomForestClassifier(),\n",
    "                             random_forest_grid,\n",
    "                             n_jobs=-1,\n",
    "                             verbose=True,\n",
    "                             scoring='neg_log_loss')\n",
    "rf_gridsearch.fit(X_train, y_train)\n",
    "\n",
    "print(\"best parameters:\", rf_gridsearch.best_params_)\n",
    "\n",
    "best_rf_model = rf_gridsearch.best_estimator_"
   ]
  },
  {
   "cell_type": "code",
   "execution_count": 27,
   "metadata": {},
   "outputs": [
    {
     "data": {
      "text/plain": [
       "RandomForestClassifier(bootstrap=True, class_weight=None, criterion='gini',\n",
       "            max_depth=3, max_features='sqrt', max_leaf_nodes=None,\n",
       "            min_impurity_decrease=0.0, min_impurity_split=None,\n",
       "            min_samples_leaf=1, min_samples_split=2,\n",
       "            min_weight_fraction_leaf=0.0, n_estimators=100, n_jobs=1,\n",
       "            oob_score=False, random_state=359, verbose=0, warm_start=False)"
      ]
     },
     "execution_count": 27,
     "metadata": {},
     "output_type": "execute_result"
    }
   ],
   "source": [
    "best_rf_model.fit(X_train, y_train)"
   ]
  },
  {
   "cell_type": "code",
   "execution_count": 28,
   "metadata": {},
   "outputs": [],
   "source": [
    "y_pred_best = best_rf_model.predict_proba(X_test)[:, 1]\n"
   ]
  },
  {
   "cell_type": "code",
   "execution_count": 29,
   "metadata": {},
   "outputs": [
    {
     "data": {
      "text/plain": [
       "array([2.29754658e-01, 1.93968278e-01, 8.38340291e-03, 3.88620649e-01,\n",
       "       1.76440354e-01, 3.36408711e-04, 2.96942500e-03, 4.76212985e-01,\n",
       "       1.14321685e-03, 3.93395463e-03, 2.19760040e-01, 5.84963903e-01,\n",
       "       1.14321685e-03, 4.54465458e-01, 1.26176090e-01, 4.34407062e-01,\n",
       "       3.36408711e-04, 1.05622985e-01, 2.96942500e-03, 7.53075378e-04,\n",
       "       9.33457663e-03, 7.09219858e-05, 2.85011890e-01, 7.07238634e-03,\n",
       "       2.73237032e-01, 2.96942500e-03, 1.26940478e-01, 4.76174573e-01,\n",
       "       4.60663808e-02, 1.14321685e-03, 6.43593945e-03, 6.16790247e-02,\n",
       "       1.51728138e-02, 6.53155106e-03, 2.96942500e-03, 2.80456585e-03,\n",
       "       1.16720499e-02, 1.14321685e-03, 2.80456585e-03, 3.38148893e-03,\n",
       "       8.38340291e-03, 2.38642313e-03, 1.14321685e-03, 2.73132976e-03,\n",
       "       1.43339964e-02, 3.04266109e-03, 4.29834000e-02, 1.46706493e-01,\n",
       "       1.65747722e-01, 1.32951143e-01])"
      ]
     },
     "execution_count": 29,
     "metadata": {},
     "output_type": "execute_result"
    }
   ],
   "source": [
    "y_pred_best"
   ]
  },
  {
   "cell_type": "code",
   "execution_count": null,
   "metadata": {},
   "outputs": [],
   "source": []
  },
  {
   "cell_type": "code",
   "execution_count": 30,
   "metadata": {},
   "outputs": [],
   "source": [
    "cv_logloss_rf2 = -cross_val_score(best_rf_model, X, y, cv = 10, scoring = 'neg_log_loss').mean()"
   ]
  },
  {
   "cell_type": "code",
   "execution_count": 31,
   "metadata": {},
   "outputs": [
    {
     "data": {
      "text/plain": [
       "0.18128442265286898"
      ]
     },
     "execution_count": 31,
     "metadata": {},
     "output_type": "execute_result"
    }
   ],
   "source": [
    "cv_logloss_rf2"
   ]
  },
  {
   "cell_type": "code",
   "execution_count": 32,
   "metadata": {},
   "outputs": [
    {
     "data": {
      "text/plain": [
       "<matplotlib.axes._subplots.AxesSubplot at 0x1a12a8f5f8>"
      ]
     },
     "execution_count": 32,
     "metadata": {},
     "output_type": "execute_result"
    },
    {
     "data": {
      "image/png": "[encoded data removed]",
      "text/plain": [
       "<Figure size 432x288 with 1 Axes>"
      ]
     },
     "metadata": {},
     "output_type": "display_data"
    }
   ],
   "source": [
    "feat_scores = pd.DataFrame({'Fraction of Samples Affected' : rf.feature_importances_},\n",
    "                           index=X.columns)\n",
    "feat_scores = feat_scores.sort_values(by='Fraction of Samples Affected')\n",
    "feat_scores.plot(kind='barh')"
   ]
  },
  {
   "cell_type": "code",
   "execution_count": null,
   "metadata": {},
   "outputs": [],
   "source": []
  },
  {
   "cell_type": "code",
   "execution_count": null,
   "metadata": {},
   "outputs": [],
   "source": []
  },
  {
   "cell_type": "markdown",
   "metadata": {},
   "source": [
    "### predict proba given a username"
   ]
  },
  {
   "cell_type": "code",
   "execution_count": 34,
   "metadata": {},
   "outputs": [
    {
     "data": {
      "text/plain": [
       "'/Users/liliying/Galvanize/instagram_fake_followers_detector'"
      ]
     },
     "execution_count": 34,
     "metadata": {},
     "output_type": "execute_result"
    }
   ],
   "source": [
    "pwd"
   ]
  },
  {
   "cell_type": "code",
   "execution_count": 35,
   "metadata": {},
   "outputs": [
    {
     "name": "stdout",
     "output_type": "stream",
     "text": [
      "/Users/liliying/Galvanize/instagram_fake_followers_detector/src\n"
     ]
    }
   ],
   "source": [
    "cd src"
   ]
  },
  {
   "cell_type": "code",
   "execution_count": 36,
   "metadata": {
    "scrolled": true
   },
   "outputs": [],
   "source": [
    "from get_new_feature import get_new_features"
   ]
  },
  {
   "cell_type": "code",
   "execution_count": 37,
   "metadata": {},
   "outputs": [],
   "source": [
    "from DataPreparation import get_info"
   ]
  },
  {
   "cell_type": "code",
   "execution_count": 38,
   "metadata": {},
   "outputs": [],
   "source": [
    "url = 'https://www.instagram.com/lilylii818/'"
   ]
  },
  {
   "cell_type": "code",
   "execution_count": 39,
   "metadata": {},
   "outputs": [
    {
     "data": {
      "text/plain": [
       "('lilylii818', 'Liying (Lily) Li ', '90', '128', '116')"
      ]
     },
     "execution_count": 39,
     "metadata": {},
     "output_type": "execute_result"
    }
   ],
   "source": [
    "get_info(url)"
   ]
  },
  {
   "cell_type": "code",
   "execution_count": 40,
   "metadata": {},
   "outputs": [
    {
     "data": {
      "text/plain": [
       "(True, False, False, 'Decision making.')"
      ]
     },
     "execution_count": 40,
     "metadata": {},
     "output_type": "execute_result"
    }
   ],
   "source": [
    "get_new_features(url)"
   ]
  },
  {
   "cell_type": "code",
   "execution_count": 41,
   "metadata": {},
   "outputs": [],
   "source": [
    "one_user = []"
   ]
  },
  {
   "cell_type": "code",
   "execution_count": 42,
   "metadata": {},
   "outputs": [],
   "source": [
    "for item in get_info(url):\n",
    "    one_user.append(item)\n",
    "for feature in get_new_features(url):\n",
    "    one_user.append(feature)"
   ]
  },
  {
   "cell_type": "code",
   "execution_count": 43,
   "metadata": {
    "scrolled": true
   },
   "outputs": [],
   "source": [
    "one_user_df = pd.DataFrame(np.array(one_user).reshape(1,-1))"
   ]
  },
  {
   "cell_type": "code",
   "execution_count": 44,
   "metadata": {},
   "outputs": [],
   "source": [
    "one_user_df['num_followers_float'] = one_user_df.apply(lambda row: float(row[3].replace('k', 'e3').replace('m', 'e6')), axis=1)"
   ]
  },
  {
   "cell_type": "code",
   "execution_count": 45,
   "metadata": {},
   "outputs": [
    {
     "data": {
      "text/html": [
       "<div>\n",
       "<style scoped>\n",
       "    .dataframe tbody tr th:only-of-type {\n",
       "        vertical-align: middle;\n",
       "    }\n",
       "\n",
       "    .dataframe tbody tr th {\n",
       "        vertical-align: top;\n",
       "    }\n",
       "\n",
       "    .dataframe thead th {\n",
       "        text-align: right;\n",
       "    }\n",
       "</style>\n",
       "<table border=\"1\" class=\"dataframe\">\n",
       "  <thead>\n",
       "    <tr style=\"text-align: right;\">\n",
       "      <th></th>\n",
       "      <th>0</th>\n",
       "      <th>1</th>\n",
       "      <th>2</th>\n",
       "      <th>3</th>\n",
       "      <th>4</th>\n",
       "      <th>5</th>\n",
       "      <th>6</th>\n",
       "      <th>7</th>\n",
       "      <th>8</th>\n",
       "      <th>num_followers_float</th>\n",
       "    </tr>\n",
       "  </thead>\n",
       "  <tbody>\n",
       "    <tr>\n",
       "      <th>0</th>\n",
       "      <td>lilylii818</td>\n",
       "      <td>Liying (Lily) Li</td>\n",
       "      <td>90</td>\n",
       "      <td>128</td>\n",
       "      <td>116</td>\n",
       "      <td>True</td>\n",
       "      <td>False</td>\n",
       "      <td>False</td>\n",
       "      <td>Decision making.</td>\n",
       "      <td>128.0</td>\n",
       "    </tr>\n",
       "  </tbody>\n",
       "</table>\n",
       "</div>"
      ],
      "text/plain": [
       "            0                  1   2    3    4     5      6      7  \\\n",
       "0  lilylii818  Liying (Lily) Li   90  128  116  True  False  False   \n",
       "\n",
       "                  8  num_followers_float  \n",
       "0  Decision making.                128.0  "
      ]
     },
     "execution_count": 45,
     "metadata": {},
     "output_type": "execute_result"
    }
   ],
   "source": [
    "one_user_df"
   ]
  },
  {
   "cell_type": "code",
   "execution_count": 46,
   "metadata": {},
   "outputs": [
    {
     "data": {
      "text/plain": [
       "0    128.0\n",
       "Name: num_followers_float, dtype: float64"
      ]
     },
     "execution_count": 46,
     "metadata": {},
     "output_type": "execute_result"
    }
   ],
   "source": [
    "one_user_df['num_followers_float']"
   ]
  },
  {
   "cell_type": "code",
   "execution_count": 47,
   "metadata": {},
   "outputs": [],
   "source": [
    "one_user_df['following_follower_ratio'] = float(one_user_df[4]) / (float(one_user_df['num_followers_float']) +1)\n"
   ]
  },
  {
   "cell_type": "code",
   "execution_count": 48,
   "metadata": {},
   "outputs": [],
   "source": [
    "one_user_df = one_user_df.drop(8, axis = 1)"
   ]
  },
  {
   "cell_type": "code",
   "execution_count": 49,
   "metadata": {},
   "outputs": [
    {
     "data": {
      "text/html": [
       "<div>\n",
       "<style scoped>\n",
       "    .dataframe tbody tr th:only-of-type {\n",
       "        vertical-align: middle;\n",
       "    }\n",
       "\n",
       "    .dataframe tbody tr th {\n",
       "        vertical-align: top;\n",
       "    }\n",
       "\n",
       "    .dataframe thead th {\n",
       "        text-align: right;\n",
       "    }\n",
       "</style>\n",
       "<table border=\"1\" class=\"dataframe\">\n",
       "  <thead>\n",
       "    <tr style=\"text-align: right;\">\n",
       "      <th></th>\n",
       "      <th>0</th>\n",
       "      <th>1</th>\n",
       "      <th>2</th>\n",
       "      <th>3</th>\n",
       "      <th>4</th>\n",
       "      <th>5</th>\n",
       "      <th>6</th>\n",
       "      <th>7</th>\n",
       "      <th>num_followers_float</th>\n",
       "      <th>following_follower_ratio</th>\n",
       "    </tr>\n",
       "  </thead>\n",
       "  <tbody>\n",
       "    <tr>\n",
       "      <th>0</th>\n",
       "      <td>lilylii818</td>\n",
       "      <td>Liying (Lily) Li</td>\n",
       "      <td>90</td>\n",
       "      <td>128</td>\n",
       "      <td>116</td>\n",
       "      <td>True</td>\n",
       "      <td>False</td>\n",
       "      <td>False</td>\n",
       "      <td>128.0</td>\n",
       "      <td>0.899225</td>\n",
       "    </tr>\n",
       "  </tbody>\n",
       "</table>\n",
       "</div>"
      ],
      "text/plain": [
       "            0                  1   2    3    4     5      6      7  \\\n",
       "0  lilylii818  Liying (Lily) Li   90  128  116  True  False  False   \n",
       "\n",
       "   num_followers_float  following_follower_ratio  \n",
       "0                128.0                  0.899225  "
      ]
     },
     "execution_count": 49,
     "metadata": {},
     "output_type": "execute_result"
    }
   ],
   "source": [
    "one_user_df"
   ]
  },
  {
   "cell_type": "code",
   "execution_count": 50,
   "metadata": {},
   "outputs": [
    {
     "data": {
      "text/plain": [
       "0    True\n",
       "Name: 5, dtype: object"
      ]
     },
     "execution_count": 50,
     "metadata": {},
     "output_type": "execute_result"
    }
   ],
   "source": [
    "one_user_df.iloc[:,5]"
   ]
  },
  {
   "cell_type": "code",
   "execution_count": 51,
   "metadata": {},
   "outputs": [],
   "source": [
    "#data_no_nan.iloc[:,6] = data_no_nan.iloc[:,6].astype(int)\n",
    "one_user_df.iloc[0,5] = [1 if one_user_df.iloc[0,5] == 'True' else 0]\n",
    "one_user_df.iloc[0,6] = [1 if one_user_df.iloc[0,6] == 'True' else 0]\n",
    "one_user_df.iloc[0,7] = [1 if one_user_df.iloc[0,7] == 'True' else 0]"
   ]
  },
  {
   "cell_type": "code",
   "execution_count": 52,
   "metadata": {},
   "outputs": [
    {
     "data": {
      "text/html": [
       "<div>\n",
       "<style scoped>\n",
       "    .dataframe tbody tr th:only-of-type {\n",
       "        vertical-align: middle;\n",
       "    }\n",
       "\n",
       "    .dataframe tbody tr th {\n",
       "        vertical-align: top;\n",
       "    }\n",
       "\n",
       "    .dataframe thead th {\n",
       "        text-align: right;\n",
       "    }\n",
       "</style>\n",
       "<table border=\"1\" class=\"dataframe\">\n",
       "  <thead>\n",
       "    <tr style=\"text-align: right;\">\n",
       "      <th></th>\n",
       "      <th>2</th>\n",
       "      <th>4</th>\n",
       "      <th>5</th>\n",
       "      <th>6</th>\n",
       "      <th>7</th>\n",
       "      <th>num_followers_float</th>\n",
       "      <th>following_follower_ratio</th>\n",
       "    </tr>\n",
       "  </thead>\n",
       "  <tbody>\n",
       "    <tr>\n",
       "      <th>0</th>\n",
       "      <td>90</td>\n",
       "      <td>116</td>\n",
       "      <td>1</td>\n",
       "      <td>0</td>\n",
       "      <td>0</td>\n",
       "      <td>128.0</td>\n",
       "      <td>0.899225</td>\n",
       "    </tr>\n",
       "  </tbody>\n",
       "</table>\n",
       "</div>"
      ],
      "text/plain": [
       "    2    4  5  6  7  num_followers_float  following_follower_ratio\n",
       "0  90  116  1  0  0                128.0                  0.899225"
      ]
     },
     "execution_count": 52,
     "metadata": {},
     "output_type": "execute_result"
    }
   ],
   "source": [
    "one_user_df.iloc[:,[2,4,5,6,7,8,9]]"
   ]
  },
  {
   "cell_type": "code",
   "execution_count": 53,
   "metadata": {},
   "outputs": [],
   "source": [
    "one_user_pred_proba = best_rf_model.predict_proba(one_user_df.iloc[:,[2,4,5,6,7,8,9]])[:,1][0]"
   ]
  },
  {
   "cell_type": "code",
   "execution_count": 54,
   "metadata": {},
   "outputs": [
    {
     "data": {
      "text/plain": [
       "0.0731802981749361"
      ]
     },
     "execution_count": 54,
     "metadata": {},
     "output_type": "execute_result"
    }
   ],
   "source": [
    "one_user_pred_proba"
   ]
  },
  {
   "cell_type": "code",
   "execution_count": 77,
   "metadata": {},
   "outputs": [],
   "source": [
    "from get_proba import *"
   ]
  },
  {
   "cell_type": "code",
   "execution_count": 109,
   "metadata": {},
   "outputs": [
    {
     "data": {
      "text/plain": [
       "0.04"
      ]
     },
     "execution_count": 109,
     "metadata": {},
     "output_type": "execute_result"
    }
   ],
   "source": [
    "prob_has_fake = get_proba('lilylii818', model = rf)\n",
    "prob_has_fake"
   ]
  },
  {
   "cell_type": "code",
   "execution_count": null,
   "metadata": {},
   "outputs": [],
   "source": []
  },
  {
   "cell_type": "code",
   "execution_count": null,
   "metadata": {},
   "outputs": [],
   "source": []
  },
  {
   "cell_type": "code",
   "execution_count": null,
   "metadata": {},
   "outputs": [],
   "source": []
  },
  {
   "cell_type": "code",
   "execution_count": null,
   "metadata": {},
   "outputs": [],
   "source": []
  },
  {
   "cell_type": "code",
   "execution_count": null,
   "metadata": {},
   "outputs": [],
   "source": []
  }
 ],
 "metadata": {
  "kernelspec": {
   "display_name": "Python 3",
   "language": "python",
   "name": "python3"
  },
  "language_info": {
   "codemirror_mode": {
    "name": "ipython",
    "version": 3
   },
   "file_extension": ".py",
   "mimetype": "text/x-python",
   "name": "python",
   "nbconvert_exporter": "python",
   "pygments_lexer": "ipython3",
   "version": "3.6.5"
  }
 },
 "nbformat": 4,
 "nbformat_minor": 2
}
