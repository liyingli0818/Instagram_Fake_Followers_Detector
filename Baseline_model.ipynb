{
 "cells": [
  {
   "cell_type": "code",
   "execution_count": 5,
   "metadata": {},
   "outputs": [],
   "source": [
    "import pandas as pd\n",
    "import numpy as np\n",
    "from scipy import stats\n",
    "import matplotlib.pyplot as plt\n",
    "%matplotlib inline\n",
    "from scipy.special import comb\n",
    "\n",
    "from sklearn.linear_model import LogisticRegression\n",
    "from sklearn.tree import DecisionTreeRegressor, DecisionTreeClassifier\n",
    "from sklearn.ensemble import RandomForestRegressor, RandomForestClassifier\n",
    "from sklearn.metrics import log_loss, make_scorer\n",
    "from sklearn.model_selection import cross_val_score, train_test_split, GridSearchCV\n",
    "from sklearn.datasets import load_breast_cancer, load_iris"
   ]
  },
  {
   "cell_type": "code",
   "execution_count": 76,
   "metadata": {},
   "outputs": [],
   "source": [
    "data = pd.read_csv('../data_cleaned.csv')"
   ]
  },
  {
   "cell_type": "code",
   "execution_count": 84,
   "metadata": {},
   "outputs": [
    {
     "data": {
      "text/html": [
       "<div>\n",
       "<style scoped>\n",
       "    .dataframe tbody tr th:only-of-type {\n",
       "        vertical-align: middle;\n",
       "    }\n",
       "\n",
       "    .dataframe tbody tr th {\n",
       "        vertical-align: top;\n",
       "    }\n",
       "\n",
       "    .dataframe thead th {\n",
       "        text-align: right;\n",
       "    }\n",
       "</style>\n",
       "<table border=\"1\" class=\"dataframe\">\n",
       "  <thead>\n",
       "    <tr style=\"text-align: right;\">\n",
       "      <th></th>\n",
       "      <th>Unnamed: 0</th>\n",
       "      <th>user_name</th>\n",
       "      <th>full_name</th>\n",
       "      <th>num_posts</th>\n",
       "      <th>num_followers</th>\n",
       "      <th>num_followings</th>\n",
       "      <th>is_private</th>\n",
       "      <th>is_business</th>\n",
       "      <th>is_joined_recently</th>\n",
       "      <th>biography</th>\n",
       "      <th>num_followers_float</th>\n",
       "      <th>following_follower_ratio</th>\n",
       "      <th>engagement_rate</th>\n",
       "      <th>label</th>\n",
       "    </tr>\n",
       "  </thead>\n",
       "  <tbody>\n",
       "    <tr>\n",
       "      <th>2</th>\n",
       "      <td>2</td>\n",
       "      <td>andrea_bordon_</td>\n",
       "      <td>andrea bordon</td>\n",
       "      <td>1.0</td>\n",
       "      <td>132</td>\n",
       "      <td>78.0</td>\n",
       "      <td>0</td>\n",
       "      <td>1</td>\n",
       "      <td>0</td>\n",
       "      <td>25/08/1999Monfalcone-Udine Italy_Ùà¨_Ùà_</td>\n",
       "      <td>132.0</td>\n",
       "      <td>0.586466</td>\n",
       "      <td>0.0000</td>\n",
       "      <td>0</td>\n",
       "    </tr>\n",
       "    <tr>\n",
       "      <th>3</th>\n",
       "      <td>3</td>\n",
       "      <td>@ndah.endah.3701</td>\n",
       "      <td>@ndah.endah.3701 _ã¢ Instagram photos and videos</td>\n",
       "      <td>3.0</td>\n",
       "      <td>798</td>\n",
       "      <td>138.0</td>\n",
       "      <td>0</td>\n",
       "      <td>1</td>\n",
       "      <td>0</td>\n",
       "      <td>Haters make me famous_Ù÷È</td>\n",
       "      <td>798.0</td>\n",
       "      <td>0.172716</td>\n",
       "      <td>0.0000</td>\n",
       "      <td>0</td>\n",
       "    </tr>\n",
       "    <tr>\n",
       "      <th>5</th>\n",
       "      <td>5</td>\n",
       "      <td>wisnuhdyat33</td>\n",
       "      <td>WisnuHidayat</td>\n",
       "      <td>5.0</td>\n",
       "      <td>552</td>\n",
       "      <td>252.0</td>\n",
       "      <td>0</td>\n",
       "      <td>1</td>\n",
       "      <td>0</td>\n",
       "      <td>PERSIB BANDUNG___Ù÷üBogor Indonesia_Ùà¨_Ùà©</td>\n",
       "      <td>552.0</td>\n",
       "      <td>0.455696</td>\n",
       "      <td>0.0000</td>\n",
       "      <td>0</td>\n",
       "    </tr>\n",
       "    <tr>\n",
       "      <th>7</th>\n",
       "      <td>7</td>\n",
       "      <td>edupdv04</td>\n",
       "      <td>Eduard Puigdevall</td>\n",
       "      <td>303.0</td>\n",
       "      <td>1705</td>\n",
       "      <td>434.0</td>\n",
       "      <td>0</td>\n",
       "      <td>1</td>\n",
       "      <td>0</td>\n",
       "      <td>Subcamp.Cat. SQ '06CampeÌ_n Cat. SQ '07Subcamp...</td>\n",
       "      <td>1705.0</td>\n",
       "      <td>0.254396</td>\n",
       "      <td>0.0730</td>\n",
       "      <td>0</td>\n",
       "    </tr>\n",
       "    <tr>\n",
       "      <th>11</th>\n",
       "      <td>11</td>\n",
       "      <td>zj.2_</td>\n",
       "      <td>éóè±è_è_é_ è_éÊèëèµè±è_é_é_</td>\n",
       "      <td>1.0</td>\n",
       "      <td>5757</td>\n",
       "      <td>602.0</td>\n",
       "      <td>0</td>\n",
       "      <td>1</td>\n",
       "      <td>0</td>\n",
       "      <td>ôÛôÛôÛôÛôÛôÛôÛôÛôÛôÛôÛôÛôÛôÛôÛôÛôÛôÛôÛôÛôÛôÛôÛ...</td>\n",
       "      <td>5757.0</td>\n",
       "      <td>0.104550</td>\n",
       "      <td>0.1108</td>\n",
       "      <td>0</td>\n",
       "    </tr>\n",
       "    <tr>\n",
       "      <th>12</th>\n",
       "      <td>12</td>\n",
       "      <td>djgiulilocatti</td>\n",
       "      <td>Giuli Locatti Mascareê±o _È_Î_È__</td>\n",
       "      <td>67.0</td>\n",
       "      <td>4808</td>\n",
       "      <td>4881.0</td>\n",
       "      <td>0</td>\n",
       "      <td>1</td>\n",
       "      <td>0</td>\n",
       "      <td>OLIMPIA DE MI VIDA _ü_ü_üDJ _Ù_¤_Ù...</td>\n",
       "      <td>4808.0</td>\n",
       "      <td>1.014972</td>\n",
       "      <td>0.0458</td>\n",
       "      <td>1</td>\n",
       "    </tr>\n",
       "    <tr>\n",
       "      <th>13</th>\n",
       "      <td>13</td>\n",
       "      <td>fabiiojr</td>\n",
       "      <td>Fabio A._È_Î_È__</td>\n",
       "      <td>30.0</td>\n",
       "      <td>1726</td>\n",
       "      <td>996.0</td>\n",
       "      <td>0</td>\n",
       "      <td>1</td>\n",
       "      <td>0</td>\n",
       "      <td>_ÙÒBenidorm                                  ...</td>\n",
       "      <td>1726.0</td>\n",
       "      <td>0.576723</td>\n",
       "      <td>0.1270</td>\n",
       "      <td>0</td>\n",
       "    </tr>\n",
       "    <tr>\n",
       "      <th>14</th>\n",
       "      <td>14</td>\n",
       "      <td>kbenitok</td>\n",
       "      <td>Erico Benito</td>\n",
       "      <td>59.0</td>\n",
       "      <td>8193</td>\n",
       "      <td>25.0</td>\n",
       "      <td>0</td>\n",
       "      <td>1</td>\n",
       "      <td>0</td>\n",
       "      <td>#Tranky</td>\n",
       "      <td>8193.0</td>\n",
       "      <td>0.003051</td>\n",
       "      <td>0.0050</td>\n",
       "      <td>1</td>\n",
       "    </tr>\n",
       "    <tr>\n",
       "      <th>17</th>\n",
       "      <td>17</td>\n",
       "      <td>fmsoft.co.za</td>\n",
       "      <td>FMsoft</td>\n",
       "      <td>5.0</td>\n",
       "      <td>82</td>\n",
       "      <td>39.0</td>\n",
       "      <td>0</td>\n",
       "      <td>1</td>\n",
       "      <td>0</td>\n",
       "      <td>_ÙÒâTailor-made Software Websites &amp; Apps for a...</td>\n",
       "      <td>82.0</td>\n",
       "      <td>0.469880</td>\n",
       "      <td>0.0000</td>\n",
       "      <td>0</td>\n",
       "    </tr>\n",
       "    <tr>\n",
       "      <th>18</th>\n",
       "      <td>18</td>\n",
       "      <td>francy_lanzetta</td>\n",
       "      <td>kekka lanzetta</td>\n",
       "      <td>2.0</td>\n",
       "      <td>229</td>\n",
       "      <td>677.0</td>\n",
       "      <td>0</td>\n",
       "      <td>1</td>\n",
       "      <td>0</td>\n",
       "      <td>0</td>\n",
       "      <td>229.0</td>\n",
       "      <td>2.943478</td>\n",
       "      <td>0.0000</td>\n",
       "      <td>0</td>\n",
       "    </tr>\n",
       "    <tr>\n",
       "      <th>21</th>\n",
       "      <td>21</td>\n",
       "      <td>graf_kherson</td>\n",
       "      <td>Vladik _È_</td>\n",
       "      <td>70.0</td>\n",
       "      <td>3853</td>\n",
       "      <td>152.0</td>\n",
       "      <td>0</td>\n",
       "      <td>1</td>\n",
       "      <td>0</td>\n",
       "      <td>Kherson__µ _±____ ___µ _¼_____«_¡ ___µ à...</td>\n",
       "      <td>3853.0</td>\n",
       "      <td>0.039440</td>\n",
       "      <td>0.0263</td>\n",
       "      <td>1</td>\n",
       "    </tr>\n",
       "    <tr>\n",
       "      <th>24</th>\n",
       "      <td>24</td>\n",
       "      <td>adiosplastico</td>\n",
       "      <td>ADIê_S PLêSTICO BY BIOTIME</td>\n",
       "      <td>20.0</td>\n",
       "      <td>146</td>\n",
       "      <td>161.0</td>\n",
       "      <td>0</td>\n",
       "      <td>1</td>\n",
       "      <td>0</td>\n",
       "      <td>TIENDA DE PRODUCTOS ECOLÌÒGICOS Y BIODEGRADABL...</td>\n",
       "      <td>146.0</td>\n",
       "      <td>1.095238</td>\n",
       "      <td>0.0000</td>\n",
       "      <td>0</td>\n",
       "    </tr>\n",
       "    <tr>\n",
       "      <th>28</th>\n",
       "      <td>28</td>\n",
       "      <td>ph.page_ferro</td>\n",
       "      <td>PHOTOGRAPHER PAGE</td>\n",
       "      <td>6.0</td>\n",
       "      <td>90</td>\n",
       "      <td>386.0</td>\n",
       "      <td>0</td>\n",
       "      <td>1</td>\n",
       "      <td>0</td>\n",
       "      <td>0</td>\n",
       "      <td>90.0</td>\n",
       "      <td>4.241758</td>\n",
       "      <td>0.0000</td>\n",
       "      <td>0</td>\n",
       "    </tr>\n",
       "    <tr>\n",
       "      <th>40</th>\n",
       "      <td>40</td>\n",
       "      <td>sagi9999</td>\n",
       "      <td>__ªsagi shmaryahu__ª</td>\n",
       "      <td>98.0</td>\n",
       "      <td>13.3k</td>\n",
       "      <td>448.0</td>\n",
       "      <td>0</td>\n",
       "      <td>1</td>\n",
       "      <td>0</td>\n",
       "      <td>Welcome_ÙªMy life my rules_ÙÔÔNormal is borin...</td>\n",
       "      <td>13300.0</td>\n",
       "      <td>0.033682</td>\n",
       "      <td>0.1251</td>\n",
       "      <td>0</td>\n",
       "    </tr>\n",
       "    <tr>\n",
       "      <th>42</th>\n",
       "      <td>42</td>\n",
       "      <td>realcarlos1</td>\n",
       "      <td>RealCarlos</td>\n",
       "      <td>180.0</td>\n",
       "      <td>24.2k</td>\n",
       "      <td>155.0</td>\n",
       "      <td>0</td>\n",
       "      <td>1</td>\n",
       "      <td>0</td>\n",
       "      <td>En mis tiempos libres hago vÌ_deos _Ù÷_ÙÔà_ÙÔ...</td>\n",
       "      <td>24200.0</td>\n",
       "      <td>0.006405</td>\n",
       "      <td>0.0119</td>\n",
       "      <td>1</td>\n",
       "    </tr>\n",
       "    <tr>\n",
       "      <th>65</th>\n",
       "      <td>65</td>\n",
       "      <td>michellallencar</td>\n",
       "      <td>Michell AllencarÔ©ª</td>\n",
       "      <td>15.0</td>\n",
       "      <td>14.8k</td>\n",
       "      <td>7343.0</td>\n",
       "      <td>0</td>\n",
       "      <td>1</td>\n",
       "      <td>0</td>\n",
       "      <td>ÊÛÊÛÊÛÊÛÊÛÊÛÊÛÊÛÊÛ VEJAM MEUS STORIES...</td>\n",
       "      <td>14800.0</td>\n",
       "      <td>0.496115</td>\n",
       "      <td>0.1212</td>\n",
       "      <td>0</td>\n",
       "    </tr>\n",
       "    <tr>\n",
       "      <th>66</th>\n",
       "      <td>66</td>\n",
       "      <td>milliemacdougall</td>\n",
       "      <td>Millie MacDougall</td>\n",
       "      <td>612.0</td>\n",
       "      <td>3436</td>\n",
       "      <td>472.0</td>\n",
       "      <td>0</td>\n",
       "      <td>1</td>\n",
       "      <td>0</td>\n",
       "      <td>Artist &amp; cat lover</td>\n",
       "      <td>3436.0</td>\n",
       "      <td>0.137329</td>\n",
       "      <td>0.0129</td>\n",
       "      <td>1</td>\n",
       "    </tr>\n",
       "    <tr>\n",
       "      <th>68</th>\n",
       "      <td>68</td>\n",
       "      <td>diieta_21</td>\n",
       "      <td>Dieta 21 dias</td>\n",
       "      <td>0.0</td>\n",
       "      <td>0</td>\n",
       "      <td>2.0</td>\n",
       "      <td>0</td>\n",
       "      <td>1</td>\n",
       "      <td>1</td>\n",
       "      <td>©EmagreÌ¤a Entre 6 a 10 KG Com saÌ¼de Com Dr...</td>\n",
       "      <td>0.0</td>\n",
       "      <td>2.000000</td>\n",
       "      <td>0.0000</td>\n",
       "      <td>0</td>\n",
       "    </tr>\n",
       "    <tr>\n",
       "      <th>77</th>\n",
       "      <td>77</td>\n",
       "      <td>iam_yimmy</td>\n",
       "      <td>Y-30 _Èä_È_</td>\n",
       "      <td>2.0</td>\n",
       "      <td>1020</td>\n",
       "      <td>241.0</td>\n",
       "      <td>0</td>\n",
       "      <td>1</td>\n",
       "      <td>0</td>\n",
       "      <td>It does not bother me that they speak ill of m...</td>\n",
       "      <td>1020.0</td>\n",
       "      <td>0.236043</td>\n",
       "      <td>0.1147</td>\n",
       "      <td>0</td>\n",
       "    </tr>\n",
       "    <tr>\n",
       "      <th>78</th>\n",
       "      <td>78</td>\n",
       "      <td>matteo_san1691</td>\n",
       "      <td>Matteo Pepe _ÈÄ__È««</td>\n",
       "      <td>27.0</td>\n",
       "      <td>2611</td>\n",
       "      <td>774.0</td>\n",
       "      <td>0</td>\n",
       "      <td>1</td>\n",
       "      <td>0</td>\n",
       "      <td>-Turin Italy _ÙÎ_ -27 years old 16/07/1991-Mus...</td>\n",
       "      <td>2611.0</td>\n",
       "      <td>0.296325</td>\n",
       "      <td>0.0795</td>\n",
       "      <td>0</td>\n",
       "    </tr>\n",
       "    <tr>\n",
       "      <th>79</th>\n",
       "      <td>79</td>\n",
       "      <td>@_____a___d___a_____</td>\n",
       "      <td>@_____a___d___a_____ _ã¢ Instagram photos and ...</td>\n",
       "      <td>11.0</td>\n",
       "      <td>552</td>\n",
       "      <td>44.0</td>\n",
       "      <td>0</td>\n",
       "      <td>1</td>\n",
       "      <td>0</td>\n",
       "      <td>_ÙÎü _ø®__ø_ÙÎü_ÙÎü 1üÄ£7üÄ£  ø¦.__ _...</td>\n",
       "      <td>552.0</td>\n",
       "      <td>0.079566</td>\n",
       "      <td>0.0000</td>\n",
       "      <td>0</td>\n",
       "    </tr>\n",
       "    <tr>\n",
       "      <th>86</th>\n",
       "      <td>86</td>\n",
       "      <td>lojaludioutlet</td>\n",
       "      <td>Lucas Miguel</td>\n",
       "      <td>0.0</td>\n",
       "      <td>0</td>\n",
       "      <td>1.0</td>\n",
       "      <td>0</td>\n",
       "      <td>1</td>\n",
       "      <td>1</td>\n",
       "      <td>Trazer a vocÌ» cliente o melhor produto com os...</td>\n",
       "      <td>0.0</td>\n",
       "      <td>1.000000</td>\n",
       "      <td>0.0000</td>\n",
       "      <td>0</td>\n",
       "    </tr>\n",
       "    <tr>\n",
       "      <th>88</th>\n",
       "      <td>88</td>\n",
       "      <td>brandeez_alia_nizam</td>\n",
       "      <td>Brandeez_alia_nizam</td>\n",
       "      <td>662.0</td>\n",
       "      <td>6506</td>\n",
       "      <td>3787.0</td>\n",
       "      <td>0</td>\n",
       "      <td>1</td>\n",
       "      <td>0</td>\n",
       "      <td>ÛÏStyle is a way to say who you are without h...</td>\n",
       "      <td>6506.0</td>\n",
       "      <td>0.581989</td>\n",
       "      <td>0.0115</td>\n",
       "      <td>1</td>\n",
       "    </tr>\n",
       "    <tr>\n",
       "      <th>91</th>\n",
       "      <td>91</td>\n",
       "      <td>artha_aqiqah</td>\n",
       "      <td>Artha Aqiqah</td>\n",
       "      <td>18.0</td>\n",
       "      <td>527</td>\n",
       "      <td>765.0</td>\n",
       "      <td>0</td>\n",
       "      <td>1</td>\n",
       "      <td>0</td>\n",
       "      <td>Ñ Paket Aqiqah Syukuran dllÑ Paket Nasi Sn...</td>\n",
       "      <td>527.0</td>\n",
       "      <td>1.448864</td>\n",
       "      <td>0.0000</td>\n",
       "      <td>0</td>\n",
       "    </tr>\n",
       "    <tr>\n",
       "      <th>94</th>\n",
       "      <td>94</td>\n",
       "      <td>saputra__david</td>\n",
       "      <td>David Saputra</td>\n",
       "      <td>5.0</td>\n",
       "      <td>2599</td>\n",
       "      <td>600.0</td>\n",
       "      <td>0</td>\n",
       "      <td>1</td>\n",
       "      <td>0</td>\n",
       "      <td>Innovation Is What Distinguishes Between Leade...</td>\n",
       "      <td>2599.0</td>\n",
       "      <td>0.230769</td>\n",
       "      <td>0.1977</td>\n",
       "      <td>0</td>\n",
       "    </tr>\n",
       "    <tr>\n",
       "      <th>95</th>\n",
       "      <td>95</td>\n",
       "      <td>@rozhy__musl__manakan</td>\n",
       "      <td>@rozhy__musl__manakan _ã¢ Instagram photos and...</td>\n",
       "      <td>9.0</td>\n",
       "      <td>1317</td>\n",
       "      <td>3454.0</td>\n",
       "      <td>0</td>\n",
       "      <td>1</td>\n",
       "      <td>0</td>\n",
       "      <td>ô_ôà ô_¯Âôä ôôà ¯±ôÉôä ¯±¯_ò÷ôä ô ôöôä_Ù¥ÜÛ¢...</td>\n",
       "      <td>1317.0</td>\n",
       "      <td>2.620637</td>\n",
       "      <td>0.0000</td>\n",
       "      <td>0</td>\n",
       "    </tr>\n",
       "    <tr>\n",
       "      <th>107</th>\n",
       "      <td>107</td>\n",
       "      <td>lil_stark10</td>\n",
       "      <td>G.Santos</td>\n",
       "      <td>3.0</td>\n",
       "      <td>1848</td>\n",
       "      <td>338.0</td>\n",
       "      <td>0</td>\n",
       "      <td>1</td>\n",
       "      <td>0</td>\n",
       "      <td>| \"Love of computer science\"_ÙÕÈ |       | \"pa...</td>\n",
       "      <td>1848.0</td>\n",
       "      <td>0.182802</td>\n",
       "      <td>0.0696</td>\n",
       "      <td>0</td>\n",
       "    </tr>\n",
       "    <tr>\n",
       "      <th>109</th>\n",
       "      <td>109</td>\n",
       "      <td>junnu_02jd</td>\n",
       "      <td>junaiduddin _È««</td>\n",
       "      <td>8.0</td>\n",
       "      <td>2488</td>\n",
       "      <td>174.0</td>\n",
       "      <td>0</td>\n",
       "      <td>1</td>\n",
       "      <td>0</td>\n",
       "      <td>_ÙÔäwÌ»lÌ¤Ì«mÌ» tÌ« my prÌ«fÌ¨lÌ»_ÙÔä_Ù_âCÌ¢kÌ...</td>\n",
       "      <td>2488.0</td>\n",
       "      <td>0.069908</td>\n",
       "      <td>0.0486</td>\n",
       "      <td>1</td>\n",
       "    </tr>\n",
       "    <tr>\n",
       "      <th>110</th>\n",
       "      <td>110</td>\n",
       "      <td>vilbun_dsouza_captures</td>\n",
       "      <td>Vilbun D'souza</td>\n",
       "      <td>50.0</td>\n",
       "      <td>2345</td>\n",
       "      <td>569.0</td>\n",
       "      <td>0</td>\n",
       "      <td>1</td>\n",
       "      <td>0</td>\n",
       "      <td>#LondonerA 20 y/o Marketing StudentHobbyist Ph...</td>\n",
       "      <td>2345.0</td>\n",
       "      <td>0.242540</td>\n",
       "      <td>0.0901</td>\n",
       "      <td>0</td>\n",
       "    </tr>\n",
       "    <tr>\n",
       "      <th>119</th>\n",
       "      <td>119</td>\n",
       "      <td>@srikandi_cantik_</td>\n",
       "      <td>@srikandi_cantik_ _ã¢ Instagram photos and videos</td>\n",
       "      <td>8.0</td>\n",
       "      <td>218</td>\n",
       "      <td>157.0</td>\n",
       "      <td>0</td>\n",
       "      <td>1</td>\n",
       "      <td>0</td>\n",
       "      <td>Penikmat kata</td>\n",
       "      <td>218.0</td>\n",
       "      <td>0.716895</td>\n",
       "      <td>0.0000</td>\n",
       "      <td>0</td>\n",
       "    </tr>\n",
       "    <tr>\n",
       "      <th>120</th>\n",
       "      <td>120</td>\n",
       "      <td>tony_agliano</td>\n",
       "      <td>Tony Aglianê_ Real</td>\n",
       "      <td>603.0</td>\n",
       "      <td>10.4k</td>\n",
       "      <td>2894.0</td>\n",
       "      <td>0</td>\n",
       "      <td>1</td>\n",
       "      <td>0</td>\n",
       "      <td>_Ù  Finalista di Amici Di Maria De Filippi #a...</td>\n",
       "      <td>10400.0</td>\n",
       "      <td>0.278242</td>\n",
       "      <td>0.0587</td>\n",
       "      <td>0</td>\n",
       "    </tr>\n",
       "    <tr>\n",
       "      <th>129</th>\n",
       "      <td>129</td>\n",
       "      <td>rayafiani</td>\n",
       "      <td>Ray Primus Afiani</td>\n",
       "      <td>1.0</td>\n",
       "      <td>411</td>\n",
       "      <td>112.0</td>\n",
       "      <td>0</td>\n",
       "      <td>1</td>\n",
       "      <td>0</td>\n",
       "      <td>Gitar . Vokal . BassKeep White Stay Clean</td>\n",
       "      <td>411.0</td>\n",
       "      <td>0.271845</td>\n",
       "      <td>0.0000</td>\n",
       "      <td>0</td>\n",
       "    </tr>\n",
       "    <tr>\n",
       "      <th>136</th>\n",
       "      <td>136</td>\n",
       "      <td>cesar_sebass</td>\n",
       "      <td>s e b a s _È_</td>\n",
       "      <td>5.0</td>\n",
       "      <td>654</td>\n",
       "      <td>305.0</td>\n",
       "      <td>0</td>\n",
       "      <td>1</td>\n",
       "      <td>0</td>\n",
       "      <td>I know that at some point everything will impr...</td>\n",
       "      <td>654.0</td>\n",
       "      <td>0.465649</td>\n",
       "      <td>0.0000</td>\n",
       "      <td>0</td>\n",
       "    </tr>\n",
       "    <tr>\n",
       "      <th>139</th>\n",
       "      <td>139</td>\n",
       "      <td>des_galleryfashion</td>\n",
       "      <td>JAM TANGAN__TAS BRAND_È« SEPATU _È«_</td>\n",
       "      <td>150.0</td>\n",
       "      <td>83</td>\n",
       "      <td>30.0</td>\n",
       "      <td>0</td>\n",
       "      <td>1</td>\n",
       "      <td>0</td>\n",
       "      <td>_ÙÒBANDUNG BARAT_Ù¤ BRI-BCA-MANDIRI-BJBÐ»ü...</td>\n",
       "      <td>83.0</td>\n",
       "      <td>0.357143</td>\n",
       "      <td>0.0000</td>\n",
       "      <td>0</td>\n",
       "    </tr>\n",
       "    <tr>\n",
       "      <th>146</th>\n",
       "      <td>146</td>\n",
       "      <td>elvirat_0404</td>\n",
       "      <td>Elvira Taalaibekova</td>\n",
       "      <td>30.0</td>\n",
       "      <td>1198</td>\n",
       "      <td>463.0</td>\n",
       "      <td>0</td>\n",
       "      <td>1</td>\n",
       "      <td>0</td>\n",
       "      <td>Bishkek _Ùà¡_ÙàÂMoscow _Ùàá_Ùà¼Istanbul _Ùà__Ù...</td>\n",
       "      <td>1198.0</td>\n",
       "      <td>0.386155</td>\n",
       "      <td>0.1419</td>\n",
       "      <td>0</td>\n",
       "    </tr>\n",
       "    <tr>\n",
       "      <th>150</th>\n",
       "      <td>150</td>\n",
       "      <td>rostikgerst.76</td>\n",
       "      <td>Rostik Gerst</td>\n",
       "      <td>4.0</td>\n",
       "      <td>601</td>\n",
       "      <td>2447.0</td>\n",
       "      <td>0</td>\n",
       "      <td>1</td>\n",
       "      <td>0</td>\n",
       "      <td>Kalsruhe . 13   _Ùà¡_ÙàÀCR7_ÙÕ»snap- rgerst17-...</td>\n",
       "      <td>601.0</td>\n",
       "      <td>4.064784</td>\n",
       "      <td>0.0000</td>\n",
       "      <td>0</td>\n",
       "    </tr>\n",
       "    <tr>\n",
       "      <th>151</th>\n",
       "      <td>151</td>\n",
       "      <td>elenanapolskay</td>\n",
       "      <td>_âlen_Anapolskay_È_</td>\n",
       "      <td>578.0</td>\n",
       "      <td>11.1k</td>\n",
       "      <td>310.0</td>\n",
       "      <td>0</td>\n",
       "      <td>1</td>\n",
       "      <td>0</td>\n",
       "      <td>Ï actressÏ ModelÏ studying (director_Ù_Â...</td>\n",
       "      <td>11100.0</td>\n",
       "      <td>0.027925</td>\n",
       "      <td>0.0252</td>\n",
       "      <td>1</td>\n",
       "    </tr>\n",
       "    <tr>\n",
       "      <th>152</th>\n",
       "      <td>152</td>\n",
       "      <td>felipeoliveira</td>\n",
       "      <td>Felipe mua _ÈÈ</td>\n",
       "      <td>78.0</td>\n",
       "      <td>3941</td>\n",
       "      <td>969.0</td>\n",
       "      <td>0</td>\n",
       "      <td>1</td>\n",
       "      <td>0</td>\n",
       "      <td>The artist and the muse.</td>\n",
       "      <td>3941.0</td>\n",
       "      <td>0.245814</td>\n",
       "      <td>0.2116</td>\n",
       "      <td>0</td>\n",
       "    </tr>\n",
       "    <tr>\n",
       "      <th>158</th>\n",
       "      <td>158</td>\n",
       "      <td>frmn_tuarita03</td>\n",
       "      <td>Firman Tuarita</td>\n",
       "      <td>87.0</td>\n",
       "      <td>940</td>\n",
       "      <td>289.0</td>\n",
       "      <td>0</td>\n",
       "      <td>1</td>\n",
       "      <td>0</td>\n",
       "      <td>INDONESIA _Ùà¨_Ùà©Arts Speaks Where Words Are ...</td>\n",
       "      <td>940.0</td>\n",
       "      <td>0.307120</td>\n",
       "      <td>0.0955</td>\n",
       "      <td>0</td>\n",
       "    </tr>\n",
       "    <tr>\n",
       "      <th>172</th>\n",
       "      <td>172</td>\n",
       "      <td>cullamandu59_96</td>\n",
       "      <td>Muhammad Nasrullah</td>\n",
       "      <td>5.0</td>\n",
       "      <td>279</td>\n",
       "      <td>349.0</td>\n",
       "      <td>0</td>\n",
       "      <td>1</td>\n",
       "      <td>0</td>\n",
       "      <td>Saya luar biasa Boring.. ? Play my channel. _Ù...</td>\n",
       "      <td>279.0</td>\n",
       "      <td>1.246429</td>\n",
       "      <td>0.0000</td>\n",
       "      <td>0</td>\n",
       "    </tr>\n",
       "    <tr>\n",
       "      <th>173</th>\n",
       "      <td>173</td>\n",
       "      <td>@shyrose_cut</td>\n",
       "      <td>@shyrose_cut _ã¢ Instagram photos and videos</td>\n",
       "      <td>7.0</td>\n",
       "      <td>4249</td>\n",
       "      <td>65.0</td>\n",
       "      <td>0</td>\n",
       "      <td>1</td>\n",
       "      <td>0</td>\n",
       "      <td>0</td>\n",
       "      <td>4249.0</td>\n",
       "      <td>0.015294</td>\n",
       "      <td>0.0000</td>\n",
       "      <td>0</td>\n",
       "    </tr>\n",
       "    <tr>\n",
       "      <th>175</th>\n",
       "      <td>175</td>\n",
       "      <td>slavik_sorokin7733</td>\n",
       "      <td>s_È_äã_ä___ä¾ s_ä_ã_ä_ä¾_ä</td>\n",
       "      <td>2.0</td>\n",
       "      <td>167</td>\n",
       "      <td>73.0</td>\n",
       "      <td>0</td>\n",
       "      <td>1</td>\n",
       "      <td>0</td>\n",
       "      <td>0</td>\n",
       "      <td>167.0</td>\n",
       "      <td>0.434524</td>\n",
       "      <td>0.0000</td>\n",
       "      <td>0</td>\n",
       "    </tr>\n",
       "    <tr>\n",
       "      <th>176</th>\n",
       "      <td>176</td>\n",
       "      <td>mr.nikhil.malik</td>\n",
       "      <td>Nikhil MalikÔÎ  (ï_ï_ïÔ_©ï_©ïó¾)</td>\n",
       "      <td>52.0</td>\n",
       "      <td>644</td>\n",
       "      <td>182.0</td>\n",
       "      <td>0</td>\n",
       "      <td>1</td>\n",
       "      <td>0</td>\n",
       "      <td>Ï«Karma Believer _ÙªÜÏ«JAAT  _Ù÷__Ù÷_Ï«IMSi...</td>\n",
       "      <td>644.0</td>\n",
       "      <td>0.282171</td>\n",
       "      <td>0.0000</td>\n",
       "      <td>0</td>\n",
       "    </tr>\n",
       "    <tr>\n",
       "      <th>182</th>\n",
       "      <td>182</td>\n",
       "      <td>izabelasoares_1</td>\n",
       "      <td>I Z A B E L A  S O A R E S</td>\n",
       "      <td>12.0</td>\n",
       "      <td>4300</td>\n",
       "      <td>271.0</td>\n",
       "      <td>0</td>\n",
       "      <td>1</td>\n",
       "      <td>0</td>\n",
       "      <td>ÛÜWelcome to my life_ÙÎÎ_ÙÓ´Ð»Û¢Û¢Û¢Û¢Û...</td>\n",
       "      <td>4300.0</td>\n",
       "      <td>0.063009</td>\n",
       "      <td>0.0724</td>\n",
       "      <td>0</td>\n",
       "    </tr>\n",
       "    <tr>\n",
       "      <th>183</th>\n",
       "      <td>183</td>\n",
       "      <td>manuel.ottoboni</td>\n",
       "      <td>Manuel Ottoboni _È_</td>\n",
       "      <td>148.0</td>\n",
       "      <td>22.7k</td>\n",
       "      <td>507.0</td>\n",
       "      <td>0</td>\n",
       "      <td>1</td>\n",
       "      <td>0</td>\n",
       "      <td>Living around the world _ÙÎ__Ùã_Ùâ_ÙÎ«Ýµ_Ù_</td>\n",
       "      <td>22700.0</td>\n",
       "      <td>0.022334</td>\n",
       "      <td>0.0152</td>\n",
       "      <td>1</td>\n",
       "    </tr>\n",
       "    <tr>\n",
       "      <th>185</th>\n",
       "      <td>185</td>\n",
       "      <td>ninaroma26</td>\n",
       "      <td>black&amp;white</td>\n",
       "      <td>1.0</td>\n",
       "      <td>0</td>\n",
       "      <td>2.0</td>\n",
       "      <td>0</td>\n",
       "      <td>1</td>\n",
       "      <td>1</td>\n",
       "      <td>* Photographs* Nature* Black* White* Color _ÙÒ...</td>\n",
       "      <td>0.0</td>\n",
       "      <td>2.000000</td>\n",
       "      <td>0.0000</td>\n",
       "      <td>0</td>\n",
       "    </tr>\n",
       "    <tr>\n",
       "      <th>187</th>\n",
       "      <td>187</td>\n",
       "      <td>roycom4</td>\n",
       "      <td>Roynaldi Saputra</td>\n",
       "      <td>93.0</td>\n",
       "      <td>1786</td>\n",
       "      <td>559.0</td>\n",
       "      <td>0</td>\n",
       "      <td>1</td>\n",
       "      <td>0</td>\n",
       "      <td>Est.1997_Ùà¨_Ùà© Indonesia - Aceh_Ùà¨_Ùà©±  ...</td>\n",
       "      <td>1786.0</td>\n",
       "      <td>0.312815</td>\n",
       "      <td>0.0317</td>\n",
       "      <td>1</td>\n",
       "    </tr>\n",
       "    <tr>\n",
       "      <th>189</th>\n",
       "      <td>189</td>\n",
       "      <td>zeroday_band</td>\n",
       "      <td>ZERODAY</td>\n",
       "      <td>304.0</td>\n",
       "      <td>2147</td>\n",
       "      <td>294.0</td>\n",
       "      <td>0</td>\n",
       "      <td>1</td>\n",
       "      <td>0</td>\n",
       "      <td>New pop-punk metalcore from HUNGARY_ÙÓ´BAGGIRA...</td>\n",
       "      <td>2147.0</td>\n",
       "      <td>0.136872</td>\n",
       "      <td>0.0206</td>\n",
       "      <td>1</td>\n",
       "    </tr>\n",
       "    <tr>\n",
       "      <th>191</th>\n",
       "      <td>191</td>\n",
       "      <td>zachpearsonphoto</td>\n",
       "      <td>Zach Pearson</td>\n",
       "      <td>98.0</td>\n",
       "      <td>767</td>\n",
       "      <td>3038.0</td>\n",
       "      <td>0</td>\n",
       "      <td>1</td>\n",
       "      <td>0</td>\n",
       "      <td>Action Sports PhotographerCascais PortugalFeel...</td>\n",
       "      <td>767.0</td>\n",
       "      <td>3.955729</td>\n",
       "      <td>0.0000</td>\n",
       "      <td>0</td>\n",
       "    </tr>\n",
       "  </tbody>\n",
       "</table>\n",
       "</div>"
      ],
      "text/plain": [
       "     Unnamed: 0               user_name  \\\n",
       "2             2          andrea_bordon_   \n",
       "3             3        @ndah.endah.3701   \n",
       "5             5            wisnuhdyat33   \n",
       "7             7                edupdv04   \n",
       "11           11                   zj.2_   \n",
       "12           12          djgiulilocatti   \n",
       "13           13                fabiiojr   \n",
       "14           14                kbenitok   \n",
       "17           17            fmsoft.co.za   \n",
       "18           18         francy_lanzetta   \n",
       "21           21            graf_kherson   \n",
       "24           24           adiosplastico   \n",
       "28           28           ph.page_ferro   \n",
       "40           40                sagi9999   \n",
       "42           42             realcarlos1   \n",
       "65           65         michellallencar   \n",
       "66           66        milliemacdougall   \n",
       "68           68               diieta_21   \n",
       "77           77               iam_yimmy   \n",
       "78           78          matteo_san1691   \n",
       "79           79    @_____a___d___a_____   \n",
       "86           86          lojaludioutlet   \n",
       "88           88     brandeez_alia_nizam   \n",
       "91           91            artha_aqiqah   \n",
       "94           94          saputra__david   \n",
       "95           95   @rozhy__musl__manakan   \n",
       "107         107             lil_stark10   \n",
       "109         109              junnu_02jd   \n",
       "110         110  vilbun_dsouza_captures   \n",
       "119         119       @srikandi_cantik_   \n",
       "120         120            tony_agliano   \n",
       "129         129               rayafiani   \n",
       "136         136            cesar_sebass   \n",
       "139         139      des_galleryfashion   \n",
       "146         146            elvirat_0404   \n",
       "150         150          rostikgerst.76   \n",
       "151         151          elenanapolskay   \n",
       "152         152          felipeoliveira   \n",
       "158         158          frmn_tuarita03   \n",
       "172         172         cullamandu59_96   \n",
       "173         173            @shyrose_cut   \n",
       "175         175      slavik_sorokin7733   \n",
       "176         176         mr.nikhil.malik   \n",
       "182         182         izabelasoares_1   \n",
       "183         183         manuel.ottoboni   \n",
       "185         185              ninaroma26   \n",
       "187         187                 roycom4   \n",
       "189         189            zeroday_band   \n",
       "191         191        zachpearsonphoto   \n",
       "\n",
       "                                             full_name  num_posts  \\\n",
       "2                                        andrea bordon        1.0   \n",
       "3     @ndah.endah.3701 _ã¢ Instagram photos and videos        3.0   \n",
       "5                                        WisnuHidayat         5.0   \n",
       "7                                   Eduard Puigdevall       303.0   \n",
       "11                        éóè±è_è_é_ è_éÊèëèµè±è_é_é_         1.0   \n",
       "12                  Giuli Locatti Mascareê±o _È_Î_È__        67.0   \n",
       "13                                   Fabio A._È_Î_È__        30.0   \n",
       "14                                       Erico Benito        59.0   \n",
       "17                                             FMsoft         5.0   \n",
       "18                                     kekka lanzetta         2.0   \n",
       "21                                        Vladik _È_        70.0   \n",
       "24                        ADIê_S PLêSTICO BY BIOTIME        20.0   \n",
       "28                                  PHOTOGRAPHER PAGE         6.0   \n",
       "40                         __ªsagi shmaryahu__ª        98.0   \n",
       "42                                         RealCarlos       180.0   \n",
       "65                              Michell AllencarÔ©ª        15.0   \n",
       "66                                  Millie MacDougall       612.0   \n",
       "68                                      Dieta 21 dias         0.0   \n",
       "77                                      Y-30 _Èä_È_         2.0   \n",
       "78                               Matteo Pepe _ÈÄ__È««        27.0   \n",
       "79   @_____a___d___a_____ _ã¢ Instagram photos and ...       11.0   \n",
       "86                                       Lucas Miguel         0.0   \n",
       "88                                Brandeez_alia_nizam       662.0   \n",
       "91                                       Artha Aqiqah        18.0   \n",
       "94                                      David Saputra         5.0   \n",
       "95   @rozhy__musl__manakan _ã¢ Instagram photos and...        9.0   \n",
       "107                                          G.Santos         3.0   \n",
       "109                                  junaiduddin _È««         8.0   \n",
       "110                                    Vilbun D'souza        50.0   \n",
       "119  @srikandi_cantik_ _ã¢ Instagram photos and videos        8.0   \n",
       "120                                Tony Aglianê_ Real       603.0   \n",
       "129                                 Ray Primus Afiani         1.0   \n",
       "136                                    s e b a s _È_         5.0   \n",
       "139            JAM TANGAN__TAS BRAND_È« SEPATU _È«_       150.0   \n",
       "146                               Elvira Taalaibekova        30.0   \n",
       "150                                      Rostik Gerst         4.0   \n",
       "151                              _âlen_Anapolskay_È_       578.0   \n",
       "152                                   Felipe mua _ÈÈ        78.0   \n",
       "158                                    Firman Tuarita        87.0   \n",
       "172                                Muhammad Nasrullah         5.0   \n",
       "173       @shyrose_cut _ã¢ Instagram photos and videos        7.0   \n",
       "175                   s_È_äã_ä___ä¾ s_ä_ã_ä_ä¾_ä         2.0   \n",
       "176            Nikhil MalikÔÎ  (ï_ï_ïÔ_©ï_©ïó¾)        52.0   \n",
       "182                        I Z A B E L A  S O A R E S        12.0   \n",
       "183                              Manuel Ottoboni _È_       148.0   \n",
       "185                                       black&white         1.0   \n",
       "187                                  Roynaldi Saputra        93.0   \n",
       "189                                           ZERODAY       304.0   \n",
       "191                                      Zach Pearson        98.0   \n",
       "\n",
       "    num_followers  num_followings  is_private   is_business  \\\n",
       "2             132            78.0           0             1   \n",
       "3             798           138.0           0             1   \n",
       "5             552           252.0           0             1   \n",
       "7            1705           434.0           0             1   \n",
       "11           5757           602.0           0             1   \n",
       "12           4808          4881.0           0             1   \n",
       "13           1726           996.0           0             1   \n",
       "14           8193            25.0           0             1   \n",
       "17             82            39.0           0             1   \n",
       "18            229           677.0           0             1   \n",
       "21           3853           152.0           0             1   \n",
       "24            146           161.0           0             1   \n",
       "28             90           386.0           0             1   \n",
       "40          13.3k           448.0           0             1   \n",
       "42          24.2k           155.0           0             1   \n",
       "65          14.8k          7343.0           0             1   \n",
       "66           3436           472.0           0             1   \n",
       "68              0             2.0           0             1   \n",
       "77           1020           241.0           0             1   \n",
       "78           2611           774.0           0             1   \n",
       "79            552            44.0           0             1   \n",
       "86              0             1.0           0             1   \n",
       "88           6506          3787.0           0             1   \n",
       "91            527           765.0           0             1   \n",
       "94           2599           600.0           0             1   \n",
       "95           1317          3454.0           0             1   \n",
       "107          1848           338.0           0             1   \n",
       "109          2488           174.0           0             1   \n",
       "110          2345           569.0           0             1   \n",
       "119           218           157.0           0             1   \n",
       "120         10.4k          2894.0           0             1   \n",
       "129           411           112.0           0             1   \n",
       "136           654           305.0           0             1   \n",
       "139            83            30.0           0             1   \n",
       "146          1198           463.0           0             1   \n",
       "150           601          2447.0           0             1   \n",
       "151         11.1k           310.0           0             1   \n",
       "152          3941           969.0           0             1   \n",
       "158           940           289.0           0             1   \n",
       "172           279           349.0           0             1   \n",
       "173          4249            65.0           0             1   \n",
       "175           167            73.0           0             1   \n",
       "176           644           182.0           0             1   \n",
       "182          4300           271.0           0             1   \n",
       "183         22.7k           507.0           0             1   \n",
       "185             0             2.0           0             1   \n",
       "187          1786           559.0           0             1   \n",
       "189          2147           294.0           0             1   \n",
       "191           767          3038.0           0             1   \n",
       "\n",
       "      is_joined_recently                                          biography  \\\n",
       "2                      0           25/08/1999Monfalcone-Udine Italy_Ùà¨_Ùà_   \n",
       "3                      0                          Haters make me famous_Ù÷È   \n",
       "5                      0    PERSIB BANDUNG___Ù÷üBogor Indonesia_Ùà¨_Ùà©   \n",
       "7                      0  Subcamp.Cat. SQ '06CampeÌ_n Cat. SQ '07Subcamp...   \n",
       "11                     0  ôÛôÛôÛôÛôÛôÛôÛôÛôÛôÛôÛôÛôÛôÛôÛôÛôÛôÛôÛôÛôÛôÛôÛ...   \n",
       "12                     0  OLIMPIA DE MI VIDA _ü_ü_üDJ _Ù_¤_Ù...   \n",
       "13                     0  _ÙÒBenidorm                                  ...   \n",
       "14                     0                                            #Tranky   \n",
       "17                     0  _ÙÒâTailor-made Software Websites & Apps for a...   \n",
       "18                     0                                                  0   \n",
       "21                     0  Kherson__µ _±____ ___µ _¼_____«_¡ ___µ à...   \n",
       "24                     0  TIENDA DE PRODUCTOS ECOLÌÒGICOS Y BIODEGRADABL...   \n",
       "28                     0                                                  0   \n",
       "40                     0  Welcome_ÙªMy life my rules_ÙÔÔNormal is borin...   \n",
       "42                     0  En mis tiempos libres hago vÌ_deos _Ù÷_ÙÔà_ÙÔ...   \n",
       "65                     0  ÊÛÊÛÊÛÊÛÊÛÊÛÊÛÊÛÊÛ VEJAM MEUS STORIES...   \n",
       "66                     0                                 Artist & cat lover   \n",
       "68                     1  ©EmagreÌ¤a Entre 6 a 10 KG Com saÌ¼de Com Dr...   \n",
       "77                     0  It does not bother me that they speak ill of m...   \n",
       "78                     0  -Turin Italy _ÙÎ_ -27 years old 16/07/1991-Mus...   \n",
       "79                     0  _ÙÎü _ø®__ø_ÙÎü_ÙÎü 1üÄ£7üÄ£  ø¦.__ _...   \n",
       "86                     1  Trazer a vocÌ» cliente o melhor produto com os...   \n",
       "88                     0  ÛÏStyle is a way to say who you are without h...   \n",
       "91                     0  Ñ Paket Aqiqah Syukuran dllÑ Paket Nasi Sn...   \n",
       "94                     0  Innovation Is What Distinguishes Between Leade...   \n",
       "95                     0  ô_ôà ô_¯Âôä ôôà ¯±ôÉôä ¯±¯_ò÷ôä ô ôöôä_Ù¥ÜÛ¢...   \n",
       "107                    0  | \"Love of computer science\"_ÙÕÈ |       | \"pa...   \n",
       "109                    0  _ÙÔäwÌ»lÌ¤Ì«mÌ» tÌ« my prÌ«fÌ¨lÌ»_ÙÔä_Ù_âCÌ¢kÌ...   \n",
       "110                    0  #LondonerA 20 y/o Marketing StudentHobbyist Ph...   \n",
       "119                    0                                      Penikmat kata   \n",
       "120                    0  _Ù  Finalista di Amici Di Maria De Filippi #a...   \n",
       "129                    0          Gitar . Vokal . BassKeep White Stay Clean   \n",
       "136                    0  I know that at some point everything will impr...   \n",
       "139                    0  _ÙÒBANDUNG BARAT_Ù¤ BRI-BCA-MANDIRI-BJBÐ»ü...   \n",
       "146                    0  Bishkek _Ùà¡_ÙàÂMoscow _Ùàá_Ùà¼Istanbul _Ùà__Ù...   \n",
       "150                    0  Kalsruhe . 13   _Ùà¡_ÙàÀCR7_ÙÕ»snap- rgerst17-...   \n",
       "151                    0  Ï actressÏ ModelÏ studying (director_Ù_Â...   \n",
       "152                    0                           The artist and the muse.   \n",
       "158                    0  INDONESIA _Ùà¨_Ùà©Arts Speaks Where Words Are ...   \n",
       "172                    0  Saya luar biasa Boring.. ? Play my channel. _Ù...   \n",
       "173                    0                                                  0   \n",
       "175                    0                                                  0   \n",
       "176                    0  Ï«Karma Believer _ÙªÜÏ«JAAT  _Ù÷__Ù÷_Ï«IMSi...   \n",
       "182                    0  ÛÜWelcome to my life_ÙÎÎ_ÙÓ´Ð»Û¢Û¢Û¢Û¢Û...   \n",
       "183                    0    Living around the world _ÙÎ__Ùã_Ùâ_ÙÎ«Ýµ_Ù_   \n",
       "185                    1  * Photographs* Nature* Black* White* Color _ÙÒ...   \n",
       "187                    0  Est.1997_Ùà¨_Ùà© Indonesia - Aceh_Ùà¨_Ùà©±  ...   \n",
       "189                    0  New pop-punk metalcore from HUNGARY_ÙÓ´BAGGIRA...   \n",
       "191                    0  Action Sports PhotographerCascais PortugalFeel...   \n",
       "\n",
       "     num_followers_float  following_follower_ratio  engagement_rate  label  \n",
       "2                  132.0                  0.586466           0.0000      0  \n",
       "3                  798.0                  0.172716           0.0000      0  \n",
       "5                  552.0                  0.455696           0.0000      0  \n",
       "7                 1705.0                  0.254396           0.0730      0  \n",
       "11                5757.0                  0.104550           0.1108      0  \n",
       "12                4808.0                  1.014972           0.0458      1  \n",
       "13                1726.0                  0.576723           0.1270      0  \n",
       "14                8193.0                  0.003051           0.0050      1  \n",
       "17                  82.0                  0.469880           0.0000      0  \n",
       "18                 229.0                  2.943478           0.0000      0  \n",
       "21                3853.0                  0.039440           0.0263      1  \n",
       "24                 146.0                  1.095238           0.0000      0  \n",
       "28                  90.0                  4.241758           0.0000      0  \n",
       "40               13300.0                  0.033682           0.1251      0  \n",
       "42               24200.0                  0.006405           0.0119      1  \n",
       "65               14800.0                  0.496115           0.1212      0  \n",
       "66                3436.0                  0.137329           0.0129      1  \n",
       "68                   0.0                  2.000000           0.0000      0  \n",
       "77                1020.0                  0.236043           0.1147      0  \n",
       "78                2611.0                  0.296325           0.0795      0  \n",
       "79                 552.0                  0.079566           0.0000      0  \n",
       "86                   0.0                  1.000000           0.0000      0  \n",
       "88                6506.0                  0.581989           0.0115      1  \n",
       "91                 527.0                  1.448864           0.0000      0  \n",
       "94                2599.0                  0.230769           0.1977      0  \n",
       "95                1317.0                  2.620637           0.0000      0  \n",
       "107               1848.0                  0.182802           0.0696      0  \n",
       "109               2488.0                  0.069908           0.0486      1  \n",
       "110               2345.0                  0.242540           0.0901      0  \n",
       "119                218.0                  0.716895           0.0000      0  \n",
       "120              10400.0                  0.278242           0.0587      0  \n",
       "129                411.0                  0.271845           0.0000      0  \n",
       "136                654.0                  0.465649           0.0000      0  \n",
       "139                 83.0                  0.357143           0.0000      0  \n",
       "146               1198.0                  0.386155           0.1419      0  \n",
       "150                601.0                  4.064784           0.0000      0  \n",
       "151              11100.0                  0.027925           0.0252      1  \n",
       "152               3941.0                  0.245814           0.2116      0  \n",
       "158                940.0                  0.307120           0.0955      0  \n",
       "172                279.0                  1.246429           0.0000      0  \n",
       "173               4249.0                  0.015294           0.0000      0  \n",
       "175                167.0                  0.434524           0.0000      0  \n",
       "176                644.0                  0.282171           0.0000      0  \n",
       "182               4300.0                  0.063009           0.0724      0  \n",
       "183              22700.0                  0.022334           0.0152      1  \n",
       "185                  0.0                  2.000000           0.0000      0  \n",
       "187               1786.0                  0.312815           0.0317      1  \n",
       "189               2147.0                  0.136872           0.0206      1  \n",
       "191                767.0                  3.955729           0.0000      0  "
      ]
     },
     "execution_count": 84,
     "metadata": {},
     "output_type": "execute_result"
    }
   ],
   "source": [
    "data[data.iloc[:,7] == 1]"
   ]
  },
  {
   "cell_type": "code",
   "execution_count": 8,
   "metadata": {},
   "outputs": [],
   "source": [
    "X = data.iloc[:, [3,5,6,7,8,10,11]]"
   ]
  },
  {
   "cell_type": "code",
   "execution_count": 9,
   "metadata": {},
   "outputs": [],
   "source": [
    "y = data['label']"
   ]
  },
  {
   "cell_type": "code",
   "execution_count": 10,
   "metadata": {},
   "outputs": [
    {
     "data": {
      "text/plain": [
       "(198, 7)"
      ]
     },
     "execution_count": 10,
     "metadata": {},
     "output_type": "execute_result"
    }
   ],
   "source": [
    "X.shape"
   ]
  },
  {
   "cell_type": "code",
   "execution_count": 11,
   "metadata": {},
   "outputs": [
    {
     "data": {
      "text/plain": [
       "(198,)"
      ]
     },
     "execution_count": 11,
     "metadata": {},
     "output_type": "execute_result"
    }
   ],
   "source": [
    "y.shape"
   ]
  },
  {
   "cell_type": "markdown",
   "metadata": {},
   "source": [
    "### train-test split"
   ]
  },
  {
   "cell_type": "code",
   "execution_count": 12,
   "metadata": {},
   "outputs": [],
   "source": [
    "X_train, X_test, y_train, y_test = train_test_split(X, y, random_state=4)"
   ]
  },
  {
   "cell_type": "code",
   "execution_count": 13,
   "metadata": {},
   "outputs": [
    {
     "data": {
      "text/plain": [
       "((148, 7), (50, 7), (148,), (50,))"
      ]
     },
     "execution_count": 13,
     "metadata": {},
     "output_type": "execute_result"
    }
   ],
   "source": [
    "X_train.shape, X_test.shape, y_train.shape, y_test.shape"
   ]
  },
  {
   "cell_type": "markdown",
   "metadata": {},
   "source": [
    "### logistic regression"
   ]
  },
  {
   "cell_type": "code",
   "execution_count": 14,
   "metadata": {},
   "outputs": [],
   "source": [
    "model = LogisticRegression()"
   ]
  },
  {
   "cell_type": "code",
   "execution_count": 15,
   "metadata": {},
   "outputs": [
    {
     "name": "stdout",
     "output_type": "stream",
     "text": [
      "<class 'pandas.core.frame.DataFrame'>\n",
      "Int64Index: 148 entries, 84 to 122\n",
      "Data columns (total 7 columns):\n",
      "num_posts                   148 non-null float64\n",
      "num_followings              148 non-null float64\n",
      "is_private                  148 non-null int64\n",
      " is_business                148 non-null int64\n",
      " is_joined_recently         148 non-null int64\n",
      "num_followers_float         148 non-null float64\n",
      "following_follower_ratio    148 non-null float64\n",
      "dtypes: float64(4), int64(3)\n",
      "memory usage: 9.2 KB\n"
     ]
    }
   ],
   "source": [
    "X_train.info()"
   ]
  },
  {
   "cell_type": "code",
   "execution_count": 16,
   "metadata": {},
   "outputs": [
    {
     "data": {
      "text/plain": [
       "LogisticRegression(C=1.0, class_weight=None, dual=False, fit_intercept=True,\n",
       "          intercept_scaling=1, max_iter=100, multi_class='ovr', n_jobs=1,\n",
       "          penalty='l2', random_state=None, solver='liblinear', tol=0.0001,\n",
       "          verbose=0, warm_start=False)"
      ]
     },
     "execution_count": 16,
     "metadata": {},
     "output_type": "execute_result"
    }
   ],
   "source": [
    "model.fit(X_train, y_train)"
   ]
  },
  {
   "cell_type": "code",
   "execution_count": 17,
   "metadata": {},
   "outputs": [],
   "source": [
    "y_pred = model.predict_proba(X_test)"
   ]
  },
  {
   "cell_type": "code",
   "execution_count": 18,
   "metadata": {},
   "outputs": [],
   "source": [
    "log_loss1 = log_loss(y_test, y_pred)"
   ]
  },
  {
   "cell_type": "code",
   "execution_count": 19,
   "metadata": {},
   "outputs": [
    {
     "data": {
      "text/plain": [
       "0.6981216448661424"
      ]
     },
     "execution_count": 19,
     "metadata": {},
     "output_type": "execute_result"
    }
   ],
   "source": [
    "log_loss1"
   ]
  },
  {
   "cell_type": "code",
   "execution_count": 20,
   "metadata": {},
   "outputs": [
    {
     "data": {
      "text/plain": [
       "0.32261185172152895"
      ]
     },
     "execution_count": 20,
     "metadata": {},
     "output_type": "execute_result"
    }
   ],
   "source": [
    "cv_logloss = -cross_val_score(model, X, y, scoring = 'neg_log_loss', cv = 10).mean()\n",
    "cv_logloss"
   ]
  },
  {
   "cell_type": "markdown",
   "metadata": {},
   "source": [
    "### random forest"
   ]
  },
  {
   "cell_type": "code",
   "execution_count": 21,
   "metadata": {},
   "outputs": [],
   "source": [
    "rf = RandomForestClassifier(n_estimators=100,\n",
    "                            n_jobs=-1,\n",
    "                            random_state=1)"
   ]
  },
  {
   "cell_type": "code",
   "execution_count": 22,
   "metadata": {},
   "outputs": [
    {
     "data": {
      "text/plain": [
       "RandomForestClassifier(bootstrap=True, class_weight=None, criterion='gini',\n",
       "            max_depth=None, max_features='auto', max_leaf_nodes=None,\n",
       "            min_impurity_decrease=0.0, min_impurity_split=None,\n",
       "            min_samples_leaf=1, min_samples_split=2,\n",
       "            min_weight_fraction_leaf=0.0, n_estimators=100, n_jobs=-1,\n",
       "            oob_score=False, random_state=1, verbose=0, warm_start=False)"
      ]
     },
     "execution_count": 22,
     "metadata": {},
     "output_type": "execute_result"
    }
   ],
   "source": [
    "rf.fit(X_train, y_train)"
   ]
  },
  {
   "cell_type": "code",
   "execution_count": 23,
   "metadata": {},
   "outputs": [
    {
     "data": {
      "text/plain": [
       "array([0.22, 0.27, 0.  , 0.43, 0.26, 0.  , 0.  , 0.65, 0.  , 0.  , 0.33,\n",
       "       0.62, 0.  , 0.53, 0.13, 0.55, 0.  , 0.1 , 0.  , 0.  , 0.  , 0.  ,\n",
       "       0.3 , 0.  , 0.12, 0.  , 0.12, 0.62, 0.01, 0.  , 0.  , 0.12, 0.01,\n",
       "       0.  , 0.  , 0.  , 0.01, 0.  , 0.  , 0.  , 0.02, 0.  , 0.  , 0.  ,\n",
       "       0.01, 0.  , 0.02, 0.12, 0.27, 0.08])"
      ]
     },
     "execution_count": 23,
     "metadata": {},
     "output_type": "execute_result"
    }
   ],
   "source": [
    "y_pred = rf.predict_proba(X_test)[:, 1]\n",
    "y_pred"
   ]
  },
  {
   "cell_type": "code",
   "execution_count": 24,
   "metadata": {},
   "outputs": [],
   "source": [
    "cv_logloss_rf1 = -cross_val_score(rf, X, y, cv = 10, scoring = 'neg_log_loss').mean()"
   ]
  },
  {
   "cell_type": "code",
   "execution_count": 25,
   "metadata": {},
   "outputs": [
    {
     "data": {
      "text/plain": [
       "0.17735862171376354"
      ]
     },
     "execution_count": 25,
     "metadata": {},
     "output_type": "execute_result"
    }
   ],
   "source": [
    "cv_logloss_rf1"
   ]
  },
  {
   "cell_type": "markdown",
   "metadata": {},
   "source": [
    "### Best random forest"
   ]
  },
  {
   "cell_type": "code",
   "execution_count": 26,
   "metadata": {},
   "outputs": [
    {
     "name": "stdout",
     "output_type": "stream",
     "text": [
      "Fitting 3 folds for each of 432 candidates, totalling 1296 fits\n"
     ]
    },
    {
     "name": "stderr",
     "output_type": "stream",
     "text": [
      "[Parallel(n_jobs=-1)]: Done  76 tasks      | elapsed:    5.6s\n",
      "[Parallel(n_jobs=-1)]: Done 376 tasks      | elapsed:   25.5s\n",
      "[Parallel(n_jobs=-1)]: Done 634 tasks      | elapsed:   43.1s\n",
      "[Parallel(n_jobs=-1)]: Done 984 tasks      | elapsed:  1.1min\n",
      "[Parallel(n_jobs=-1)]: Done 1296 out of 1296 | elapsed:  1.5min finished\n"
     ]
    },
    {
     "name": "stdout",
     "output_type": "stream",
     "text": [
      "best parameters: {'bootstrap': True, 'max_depth': 3, 'max_features': 'sqrt', 'min_samples_leaf': 1, 'min_samples_split': 2, 'n_estimators': 100, 'random_state': 359}\n"
     ]
    }
   ],
   "source": [
    "random_forest_grid = {'max_depth': [3, 4, None],\n",
    "                      'max_features': ['sqrt', 'log2', None],\n",
    "                      'min_samples_split': [2, 4],\n",
    "                      'min_samples_leaf': [1, 2, 4],\n",
    "                      'bootstrap': [True, False],\n",
    "                      'n_estimators': [20, 40, 80, 100],\n",
    "                      'random_state': [359]}\n",
    "\n",
    "rf_gridsearch = GridSearchCV(RandomForestClassifier(),\n",
    "                             random_forest_grid,\n",
    "                             n_jobs=-1,\n",
    "                             verbose=True,\n",
    "                             scoring='neg_log_loss')\n",
    "rf_gridsearch.fit(X_train, y_train)\n",
    "\n",
    "print(\"best parameters:\", rf_gridsearch.best_params_)\n",
    "\n",
    "best_rf_model = rf_gridsearch.best_estimator_"
   ]
  },
  {
   "cell_type": "code",
   "execution_count": 27,
   "metadata": {},
   "outputs": [
    {
     "data": {
      "text/plain": [
       "RandomForestClassifier(bootstrap=True, class_weight=None, criterion='gini',\n",
       "            max_depth=3, max_features='sqrt', max_leaf_nodes=None,\n",
       "            min_impurity_decrease=0.0, min_impurity_split=None,\n",
       "            min_samples_leaf=1, min_samples_split=2,\n",
       "            min_weight_fraction_leaf=0.0, n_estimators=100, n_jobs=1,\n",
       "            oob_score=False, random_state=359, verbose=0, warm_start=False)"
      ]
     },
     "execution_count": 27,
     "metadata": {},
     "output_type": "execute_result"
    }
   ],
   "source": [
    "best_rf_model.fit(X_train, y_train)"
   ]
  },
  {
   "cell_type": "code",
   "execution_count": 28,
   "metadata": {},
   "outputs": [],
   "source": [
    "y_pred_best = best_rf_model.predict_proba(X_test)[:, 1]\n"
   ]
  },
  {
   "cell_type": "code",
   "execution_count": 29,
   "metadata": {},
   "outputs": [
    {
     "data": {
      "text/plain": [
       "array([2.29754658e-01, 1.93968278e-01, 8.38340291e-03, 3.88620649e-01,\n",
       "       1.76440354e-01, 3.36408711e-04, 2.96942500e-03, 4.76212985e-01,\n",
       "       1.14321685e-03, 3.93395463e-03, 2.19760040e-01, 5.84963903e-01,\n",
       "       1.14321685e-03, 4.54465458e-01, 1.26176090e-01, 4.34407062e-01,\n",
       "       3.36408711e-04, 1.05622985e-01, 2.96942500e-03, 7.53075378e-04,\n",
       "       9.33457663e-03, 7.09219858e-05, 2.85011890e-01, 7.07238634e-03,\n",
       "       2.73237032e-01, 2.96942500e-03, 1.26940478e-01, 4.76174573e-01,\n",
       "       4.60663808e-02, 1.14321685e-03, 6.43593945e-03, 6.16790247e-02,\n",
       "       1.51728138e-02, 6.53155106e-03, 2.96942500e-03, 2.80456585e-03,\n",
       "       1.16720499e-02, 1.14321685e-03, 2.80456585e-03, 3.38148893e-03,\n",
       "       8.38340291e-03, 2.38642313e-03, 1.14321685e-03, 2.73132976e-03,\n",
       "       1.43339964e-02, 3.04266109e-03, 4.29834000e-02, 1.46706493e-01,\n",
       "       1.65747722e-01, 1.32951143e-01])"
      ]
     },
     "execution_count": 29,
     "metadata": {},
     "output_type": "execute_result"
    }
   ],
   "source": [
    "y_pred_best"
   ]
  },
  {
   "cell_type": "code",
   "execution_count": null,
   "metadata": {},
   "outputs": [],
   "source": []
  },
  {
   "cell_type": "code",
   "execution_count": 30,
   "metadata": {},
   "outputs": [],
   "source": [
    "cv_logloss_rf2 = -cross_val_score(best_rf_model, X, y, cv = 10, scoring = 'neg_log_loss').mean()"
   ]
  },
  {
   "cell_type": "code",
   "execution_count": 31,
   "metadata": {},
   "outputs": [
    {
     "data": {
      "text/plain": [
       "0.18128442265286898"
      ]
     },
     "execution_count": 31,
     "metadata": {},
     "output_type": "execute_result"
    }
   ],
   "source": [
    "cv_logloss_rf2"
   ]
  },
  {
   "cell_type": "code",
   "execution_count": 32,
   "metadata": {},
   "outputs": [
    {
     "data": {
      "text/plain": [
       "<matplotlib.axes._subplots.AxesSubplot at 0x1a12a8f5f8>"
      ]
     },
     "execution_count": 32,
     "metadata": {},
     "output_type": "execute_result"
    },
    {
     "data": {
      "image/png": "[encoded data removed]",
      "text/plain": [
       "<Figure size 432x288 with 1 Axes>"
      ]
     },
     "metadata": {},
     "output_type": "display_data"
    }
   ],
   "source": [
    "feat_scores = pd.DataFrame({'Fraction of Samples Affected' : rf.feature_importances_},\n",
    "                           index=X.columns)\n",
    "feat_scores = feat_scores.sort_values(by='Fraction of Samples Affected')\n",
    "feat_scores.plot(kind='barh')"
   ]
  },
  {
   "cell_type": "code",
   "execution_count": null,
   "metadata": {},
   "outputs": [],
   "source": []
  },
  {
   "cell_type": "code",
   "execution_count": null,
   "metadata": {},
   "outputs": [],
   "source": []
  },
  {
   "cell_type": "markdown",
   "metadata": {},
   "source": [
    "### predict proba given a username"
   ]
  },
  {
   "cell_type": "code",
   "execution_count": 34,
   "metadata": {},
   "outputs": [
    {
     "data": {
      "text/plain": [
       "'/Users/liliying/Galvanize/instagram_fake_followers_detector'"
      ]
     },
     "execution_count": 34,
     "metadata": {},
     "output_type": "execute_result"
    }
   ],
   "source": [
    "pwd"
   ]
  },
  {
   "cell_type": "code",
   "execution_count": 35,
   "metadata": {},
   "outputs": [
    {
     "name": "stdout",
     "output_type": "stream",
     "text": [
      "/Users/liliying/Galvanize/instagram_fake_followers_detector/src\n"
     ]
    }
   ],
   "source": [
    "cd src"
   ]
  },
  {
   "cell_type": "code",
   "execution_count": 36,
   "metadata": {
    "scrolled": true
   },
   "outputs": [],
   "source": [
    "from get_new_feature import get_new_features"
   ]
  },
  {
   "cell_type": "code",
   "execution_count": 37,
   "metadata": {},
   "outputs": [],
   "source": [
    "from DataPreparation import get_info"
   ]
  },
  {
   "cell_type": "code",
   "execution_count": 38,
   "metadata": {},
   "outputs": [],
   "source": [
    "url = 'https://www.instagram.com/lilylii818/'"
   ]
  },
  {
   "cell_type": "code",
   "execution_count": 39,
   "metadata": {},
   "outputs": [
    {
     "data": {
      "text/plain": [
       "('lilylii818', 'Liying (Lily) Li ', '90', '128', '116')"
      ]
     },
     "execution_count": 39,
     "metadata": {},
     "output_type": "execute_result"
    }
   ],
   "source": [
    "get_info(url)"
   ]
  },
  {
   "cell_type": "code",
   "execution_count": 40,
   "metadata": {},
   "outputs": [
    {
     "data": {
      "text/plain": [
       "(True, False, False, 'Decision making.')"
      ]
     },
     "execution_count": 40,
     "metadata": {},
     "output_type": "execute_result"
    }
   ],
   "source": [
    "get_new_features(url)"
   ]
  },
  {
   "cell_type": "code",
   "execution_count": 41,
   "metadata": {},
   "outputs": [],
   "source": [
    "one_user = []"
   ]
  },
  {
   "cell_type": "code",
   "execution_count": 42,
   "metadata": {},
   "outputs": [],
   "source": [
    "for item in get_info(url):\n",
    "    one_user.append(item)\n",
    "for feature in get_new_features(url):\n",
    "    one_user.append(feature)"
   ]
  },
  {
   "cell_type": "code",
   "execution_count": 43,
   "metadata": {
    "scrolled": true
   },
   "outputs": [],
   "source": [
    "one_user_df = pd.DataFrame(np.array(one_user).reshape(1,-1))"
   ]
  },
  {
   "cell_type": "code",
   "execution_count": 44,
   "metadata": {},
   "outputs": [],
   "source": [
    "one_user_df['num_followers_float'] = one_user_df.apply(lambda row: float(row[3].replace('k', 'e3').replace('m', 'e6')), axis=1)"
   ]
  },
  {
   "cell_type": "code",
   "execution_count": 45,
   "metadata": {},
   "outputs": [
    {
     "data": {
      "text/html": [
       "<div>\n",
       "<style scoped>\n",
       "    .dataframe tbody tr th:only-of-type {\n",
       "        vertical-align: middle;\n",
       "    }\n",
       "\n",
       "    .dataframe tbody tr th {\n",
       "        vertical-align: top;\n",
       "    }\n",
       "\n",
       "    .dataframe thead th {\n",
       "        text-align: right;\n",
       "    }\n",
       "</style>\n",
       "<table border=\"1\" class=\"dataframe\">\n",
       "  <thead>\n",
       "    <tr style=\"text-align: right;\">\n",
       "      <th></th>\n",
       "      <th>0</th>\n",
       "      <th>1</th>\n",
       "      <th>2</th>\n",
       "      <th>3</th>\n",
       "      <th>4</th>\n",
       "      <th>5</th>\n",
       "      <th>6</th>\n",
       "      <th>7</th>\n",
       "      <th>8</th>\n",
       "      <th>num_followers_float</th>\n",
       "    </tr>\n",
       "  </thead>\n",
       "  <tbody>\n",
       "    <tr>\n",
       "      <th>0</th>\n",
       "      <td>lilylii818</td>\n",
       "      <td>Liying (Lily) Li</td>\n",
       "      <td>90</td>\n",
       "      <td>128</td>\n",
       "      <td>116</td>\n",
       "      <td>True</td>\n",
       "      <td>False</td>\n",
       "      <td>False</td>\n",
       "      <td>Decision making.</td>\n",
       "      <td>128.0</td>\n",
       "    </tr>\n",
       "  </tbody>\n",
       "</table>\n",
       "</div>"
      ],
      "text/plain": [
       "            0                  1   2    3    4     5      6      7  \\\n",
       "0  lilylii818  Liying (Lily) Li   90  128  116  True  False  False   \n",
       "\n",
       "                  8  num_followers_float  \n",
       "0  Decision making.                128.0  "
      ]
     },
     "execution_count": 45,
     "metadata": {},
     "output_type": "execute_result"
    }
   ],
   "source": [
    "one_user_df"
   ]
  },
  {
   "cell_type": "code",
   "execution_count": 46,
   "metadata": {},
   "outputs": [
    {
     "data": {
      "text/plain": [
       "0    128.0\n",
       "Name: num_followers_float, dtype: float64"
      ]
     },
     "execution_count": 46,
     "metadata": {},
     "output_type": "execute_result"
    }
   ],
   "source": [
    "one_user_df['num_followers_float']"
   ]
  },
  {
   "cell_type": "code",
   "execution_count": 47,
   "metadata": {},
   "outputs": [],
   "source": [
    "one_user_df['following_follower_ratio'] = float(one_user_df[4]) / (float(one_user_df['num_followers_float']) +1)\n"
   ]
  },
  {
   "cell_type": "code",
   "execution_count": 48,
   "metadata": {},
   "outputs": [],
   "source": [
    "one_user_df = one_user_df.drop(8, axis = 1)"
   ]
  },
  {
   "cell_type": "code",
   "execution_count": 49,
   "metadata": {},
   "outputs": [
    {
     "data": {
      "text/html": [
       "<div>\n",
       "<style scoped>\n",
       "    .dataframe tbody tr th:only-of-type {\n",
       "        vertical-align: middle;\n",
       "    }\n",
       "\n",
       "    .dataframe tbody tr th {\n",
       "        vertical-align: top;\n",
       "    }\n",
       "\n",
       "    .dataframe thead th {\n",
       "        text-align: right;\n",
       "    }\n",
       "</style>\n",
       "<table border=\"1\" class=\"dataframe\">\n",
       "  <thead>\n",
       "    <tr style=\"text-align: right;\">\n",
       "      <th></th>\n",
       "      <th>0</th>\n",
       "      <th>1</th>\n",
       "      <th>2</th>\n",
       "      <th>3</th>\n",
       "      <th>4</th>\n",
       "      <th>5</th>\n",
       "      <th>6</th>\n",
       "      <th>7</th>\n",
       "      <th>num_followers_float</th>\n",
       "      <th>following_follower_ratio</th>\n",
       "    </tr>\n",
       "  </thead>\n",
       "  <tbody>\n",
       "    <tr>\n",
       "      <th>0</th>\n",
       "      <td>lilylii818</td>\n",
       "      <td>Liying (Lily) Li</td>\n",
       "      <td>90</td>\n",
       "      <td>128</td>\n",
       "      <td>116</td>\n",
       "      <td>True</td>\n",
       "      <td>False</td>\n",
       "      <td>False</td>\n",
       "      <td>128.0</td>\n",
       "      <td>0.899225</td>\n",
       "    </tr>\n",
       "  </tbody>\n",
       "</table>\n",
       "</div>"
      ],
      "text/plain": [
       "            0                  1   2    3    4     5      6      7  \\\n",
       "0  lilylii818  Liying (Lily) Li   90  128  116  True  False  False   \n",
       "\n",
       "   num_followers_float  following_follower_ratio  \n",
       "0                128.0                  0.899225  "
      ]
     },
     "execution_count": 49,
     "metadata": {},
     "output_type": "execute_result"
    }
   ],
   "source": [
    "one_user_df"
   ]
  },
  {
   "cell_type": "code",
   "execution_count": 50,
   "metadata": {},
   "outputs": [
    {
     "data": {
      "text/plain": [
       "0    True\n",
       "Name: 5, dtype: object"
      ]
     },
     "execution_count": 50,
     "metadata": {},
     "output_type": "execute_result"
    }
   ],
   "source": [
    "one_user_df.iloc[:,5]"
   ]
  },
  {
   "cell_type": "code",
   "execution_count": 51,
   "metadata": {},
   "outputs": [],
   "source": [
    "#data_no_nan.iloc[:,6] = data_no_nan.iloc[:,6].astype(int)\n",
    "one_user_df.iloc[0,5] = [1 if one_user_df.iloc[0,5] == 'True' else 0]\n",
    "one_user_df.iloc[0,6] = [1 if one_user_df.iloc[0,6] == 'True' else 0]\n",
    "one_user_df.iloc[0,7] = [1 if one_user_df.iloc[0,7] == 'True' else 0]"
   ]
  },
  {
   "cell_type": "code",
   "execution_count": 52,
   "metadata": {},
   "outputs": [
    {
     "data": {
      "text/html": [
       "<div>\n",
       "<style scoped>\n",
       "    .dataframe tbody tr th:only-of-type {\n",
       "        vertical-align: middle;\n",
       "    }\n",
       "\n",
       "    .dataframe tbody tr th {\n",
       "        vertical-align: top;\n",
       "    }\n",
       "\n",
       "    .dataframe thead th {\n",
       "        text-align: right;\n",
       "    }\n",
       "</style>\n",
       "<table border=\"1\" class=\"dataframe\">\n",
       "  <thead>\n",
       "    <tr style=\"text-align: right;\">\n",
       "      <th></th>\n",
       "      <th>2</th>\n",
       "      <th>4</th>\n",
       "      <th>5</th>\n",
       "      <th>6</th>\n",
       "      <th>7</th>\n",
       "      <th>num_followers_float</th>\n",
       "      <th>following_follower_ratio</th>\n",
       "    </tr>\n",
       "  </thead>\n",
       "  <tbody>\n",
       "    <tr>\n",
       "      <th>0</th>\n",
       "      <td>90</td>\n",
       "      <td>116</td>\n",
       "      <td>1</td>\n",
       "      <td>0</td>\n",
       "      <td>0</td>\n",
       "      <td>128.0</td>\n",
       "      <td>0.899225</td>\n",
       "    </tr>\n",
       "  </tbody>\n",
       "</table>\n",
       "</div>"
      ],
      "text/plain": [
       "    2    4  5  6  7  num_followers_float  following_follower_ratio\n",
       "0  90  116  1  0  0                128.0                  0.899225"
      ]
     },
     "execution_count": 52,
     "metadata": {},
     "output_type": "execute_result"
    }
   ],
   "source": [
    "one_user_df.iloc[:,[2,4,5,6,7,8,9]]"
   ]
  },
  {
   "cell_type": "code",
   "execution_count": 53,
   "metadata": {},
   "outputs": [],
   "source": [
    "one_user_pred_proba = best_rf_model.predict_proba(one_user_df.iloc[:,[2,4,5,6,7,8,9]])[:,1][0]"
   ]
  },
  {
   "cell_type": "code",
   "execution_count": 54,
   "metadata": {},
   "outputs": [
    {
     "data": {
      "text/plain": [
       "0.0731802981749361"
      ]
     },
     "execution_count": 54,
     "metadata": {},
     "output_type": "execute_result"
    }
   ],
   "source": [
    "one_user_pred_proba"
   ]
  },
  {
   "cell_type": "code",
   "execution_count": 55,
   "metadata": {},
   "outputs": [],
   "source": [
    "from get_proba import *"
   ]
  },
  {
   "cell_type": "code",
   "execution_count": 93,
   "metadata": {},
   "outputs": [
    {
     "data": {
      "text/plain": [
       "0.28073703225204116"
      ]
     },
     "execution_count": 93,
     "metadata": {},
     "output_type": "execute_result"
    }
   ],
   "source": [
    "prob_has_fake = get_proba('brandeez_alia_nizam', model = best_rf_model)\n",
    "prob_has_fake"
   ]
  },
  {
   "cell_type": "code",
   "execution_count": null,
   "metadata": {},
   "outputs": [],
   "source": []
  },
  {
   "cell_type": "code",
   "execution_count": null,
   "metadata": {},
   "outputs": [],
   "source": []
  },
  {
   "cell_type": "code",
   "execution_count": null,
   "metadata": {},
   "outputs": [],
   "source": []
  },
  {
   "cell_type": "code",
   "execution_count": null,
   "metadata": {},
   "outputs": [],
   "source": []
  },
  {
   "cell_type": "code",
   "execution_count": null,
   "metadata": {},
   "outputs": [],
   "source": []
  },
  {
   "cell_type": "code",
   "execution_count": null,
   "metadata": {},
   "outputs": [],
   "source": []
  },
  {
   "cell_type": "code",
   "execution_count": null,
   "metadata": {},
   "outputs": [],
   "source": []
  }
 ],
 "metadata": {
  "kernelspec": {
   "display_name": "Python 3",
   "language": "python",
   "name": "python3"
  },
  "language_info": {
   "codemirror_mode": {
    "name": "ipython",
    "version": 3
   },
   "file_extension": ".py",
   "mimetype": "text/x-python",
   "name": "python",
   "nbconvert_exporter": "python",
   "pygments_lexer": "ipython3",
   "version": "3.6.5"
  }
 },
 "nbformat": 4,
 "nbformat_minor": 2
}
