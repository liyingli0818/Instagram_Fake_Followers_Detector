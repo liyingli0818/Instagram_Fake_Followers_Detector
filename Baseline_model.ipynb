{
 "cells": [
  {
   "cell_type": "code",
   "execution_count": 124,
   "metadata": {},
   "outputs": [],
   "source": [
    "import pandas as pd\n",
    "import numpy as np\n",
    "from scipy import stats\n",
    "import matplotlib.pyplot as plt\n",
    "%matplotlib inline\n",
    "from scipy.special import comb\n",
    "\n",
    "from sklearn.linear_model import LogisticRegression, LinearRegression\n",
    "from sklearn.tree import DecisionTreeRegressor, DecisionTreeClassifier\n",
    "from sklearn.ensemble import RandomForestRegressor, RandomForestClassifier\n",
    "from sklearn.metrics import log_loss, make_scorer\n",
    "from sklearn.model_selection import cross_val_score, train_test_split, GridSearchCV"
   ]
  },
  {
   "cell_type": "code",
   "execution_count": 10,
   "metadata": {},
   "outputs": [],
   "source": [
    "from sklearn.metrics import roc_auc_score, roc_curve"
   ]
  },
  {
   "cell_type": "code",
   "execution_count": 127,
   "metadata": {},
   "outputs": [
    {
     "name": "stdout",
     "output_type": "stream",
     "text": [
      "/Users/liliying/Galvanize/instagram_fake_followers_detector\n"
     ]
    }
   ],
   "source": [
    "cd .."
   ]
  },
  {
   "cell_type": "code",
   "execution_count": 128,
   "metadata": {},
   "outputs": [],
   "source": [
    "data = pd.read_csv('data_cleaned.csv')"
   ]
  },
  {
   "cell_type": "code",
   "execution_count": 129,
   "metadata": {},
   "outputs": [],
   "source": [
    "data = data.rename({'Unnamed: 0':'follower_id'}, axis = 'columns').iloc[:,:-1]"
   ]
  },
  {
   "cell_type": "code",
   "execution_count": 130,
   "metadata": {},
   "outputs": [],
   "source": [
    "mean_er = data['engagement_rate'][data['engagement_rate'] !=0].mean()"
   ]
  },
  {
   "cell_type": "code",
   "execution_count": 131,
   "metadata": {},
   "outputs": [
    {
     "name": "stderr",
     "output_type": "stream",
     "text": [
      "/anaconda3/lib/python3.6/site-packages/ipykernel_launcher.py:1: SettingWithCopyWarning: \n",
      "A value is trying to be set on a copy of a slice from a DataFrame\n",
      "\n",
      "See the caveats in the documentation: http://pandas.pydata.org/pandas-docs/stable/indexing.html#indexing-view-versus-copy\n",
      "  \"\"\"Entry point for launching an IPython kernel.\n"
     ]
    }
   ],
   "source": [
    "data['engagement_rate'][data['engagement_rate'] == 0] = mean_er"
   ]
  },
  {
   "cell_type": "code",
   "execution_count": 132,
   "metadata": {
    "scrolled": false
   },
   "outputs": [
    {
     "data": {
      "text/html": [
       "<div>\n",
       "<style scoped>\n",
       "    .dataframe tbody tr th:only-of-type {\n",
       "        vertical-align: middle;\n",
       "    }\n",
       "\n",
       "    .dataframe tbody tr th {\n",
       "        vertical-align: top;\n",
       "    }\n",
       "\n",
       "    .dataframe thead th {\n",
       "        text-align: right;\n",
       "    }\n",
       "</style>\n",
       "<table border=\"1\" class=\"dataframe\">\n",
       "  <thead>\n",
       "    <tr style=\"text-align: right;\">\n",
       "      <th></th>\n",
       "      <th>follower_id</th>\n",
       "      <th>user_name</th>\n",
       "      <th>full_name</th>\n",
       "      <th>num_posts</th>\n",
       "      <th>num_followers</th>\n",
       "      <th>num_followings</th>\n",
       "      <th>is_private</th>\n",
       "      <th>is_business</th>\n",
       "      <th>is_joined_recently</th>\n",
       "      <th>biography</th>\n",
       "      <th>num_followers_float</th>\n",
       "      <th>following_follower_ratio</th>\n",
       "      <th>engagement_rate</th>\n",
       "    </tr>\n",
       "  </thead>\n",
       "  <tbody>\n",
       "    <tr>\n",
       "      <th>0</th>\n",
       "      <td>0</td>\n",
       "      <td>wqwqwq12345w</td>\n",
       "      <td>1998</td>\n",
       "      <td>0.0</td>\n",
       "      <td>1</td>\n",
       "      <td>12.0</td>\n",
       "      <td>0</td>\n",
       "      <td>0</td>\n",
       "      <td>1</td>\n",
       "      <td>åÁNi recentid@ ni dolid@ acÌÁ te la bancas_ÙÕ£...</td>\n",
       "      <td>1.0</td>\n",
       "      <td>6.000000</td>\n",
       "      <td>0.073413</td>\n",
       "    </tr>\n",
       "    <tr>\n",
       "      <th>1</th>\n",
       "      <td>1</td>\n",
       "      <td>soymuyfalsa</td>\n",
       "      <td>soy muy falsa</td>\n",
       "      <td>5.0</td>\n",
       "      <td>62</td>\n",
       "      <td>1.0</td>\n",
       "      <td>0</td>\n",
       "      <td>0</td>\n",
       "      <td>0</td>\n",
       "      <td>0</td>\n",
       "      <td>62.0</td>\n",
       "      <td>0.015873</td>\n",
       "      <td>0.073413</td>\n",
       "    </tr>\n",
       "    <tr>\n",
       "      <th>2</th>\n",
       "      <td>2</td>\n",
       "      <td>andrea_bordon_</td>\n",
       "      <td>andrea bordon</td>\n",
       "      <td>1.0</td>\n",
       "      <td>132</td>\n",
       "      <td>78.0</td>\n",
       "      <td>0</td>\n",
       "      <td>1</td>\n",
       "      <td>0</td>\n",
       "      <td>25/08/1999Monfalcone-Udine Italy_Ùà¨_Ùà_</td>\n",
       "      <td>132.0</td>\n",
       "      <td>0.586466</td>\n",
       "      <td>0.073413</td>\n",
       "    </tr>\n",
       "    <tr>\n",
       "      <th>3</th>\n",
       "      <td>3</td>\n",
       "      <td>@ndah.endah.3701</td>\n",
       "      <td>@ndah.endah.3701 _ã¢ Instagram photos and videos</td>\n",
       "      <td>3.0</td>\n",
       "      <td>798</td>\n",
       "      <td>138.0</td>\n",
       "      <td>0</td>\n",
       "      <td>1</td>\n",
       "      <td>0</td>\n",
       "      <td>Haters make me famous_Ù÷È</td>\n",
       "      <td>798.0</td>\n",
       "      <td>0.172716</td>\n",
       "      <td>0.073413</td>\n",
       "    </tr>\n",
       "    <tr>\n",
       "      <th>4</th>\n",
       "      <td>4</td>\n",
       "      <td>jolsuperstar_tz</td>\n",
       "      <td>jolsuperstartz</td>\n",
       "      <td>66.0</td>\n",
       "      <td>494</td>\n",
       "      <td>195.0</td>\n",
       "      <td>0</td>\n",
       "      <td>0</td>\n",
       "      <td>0</td>\n",
       "      <td>_ÙÓ¡FANSHII NDIO SPECIAL ACCOUNT YANGU KARIBUN...</td>\n",
       "      <td>494.0</td>\n",
       "      <td>0.393939</td>\n",
       "      <td>0.073413</td>\n",
       "    </tr>\n",
       "  </tbody>\n",
       "</table>\n",
       "</div>"
      ],
      "text/plain": [
       "   follower_id         user_name  \\\n",
       "0            0      wqwqwq12345w   \n",
       "1            1       soymuyfalsa   \n",
       "2            2    andrea_bordon_   \n",
       "3            3  @ndah.endah.3701   \n",
       "4            4   jolsuperstar_tz   \n",
       "\n",
       "                                          full_name  num_posts num_followers  \\\n",
       "0                                              1998        0.0             1   \n",
       "1                                     soy muy falsa        5.0            62   \n",
       "2                                     andrea bordon        1.0           132   \n",
       "3  @ndah.endah.3701 _ã¢ Instagram photos and videos        3.0           798   \n",
       "4                                   jolsuperstartz        66.0           494   \n",
       "\n",
       "   num_followings  is_private   is_business   is_joined_recently  \\\n",
       "0            12.0           0             0                    1   \n",
       "1             1.0           0             0                    0   \n",
       "2            78.0           0             1                    0   \n",
       "3           138.0           0             1                    0   \n",
       "4           195.0           0             0                    0   \n",
       "\n",
       "                                           biography  num_followers_float  \\\n",
       "0  åÁNi recentid@ ni dolid@ acÌÁ te la bancas_ÙÕ£...                  1.0   \n",
       "1                                                  0                 62.0   \n",
       "2           25/08/1999Monfalcone-Udine Italy_Ùà¨_Ùà_                132.0   \n",
       "3                          Haters make me famous_Ù÷È                798.0   \n",
       "4  _ÙÓ¡FANSHII NDIO SPECIAL ACCOUNT YANGU KARIBUN...                494.0   \n",
       "\n",
       "   following_follower_ratio  engagement_rate  \n",
       "0                  6.000000         0.073413  \n",
       "1                  0.015873         0.073413  \n",
       "2                  0.586466         0.073413  \n",
       "3                  0.172716         0.073413  \n",
       "4                  0.393939         0.073413  "
      ]
     },
     "execution_count": 132,
     "metadata": {},
     "output_type": "execute_result"
    }
   ],
   "source": [
    "data.head()"
   ]
  },
  {
   "cell_type": "code",
   "execution_count": 133,
   "metadata": {},
   "outputs": [],
   "source": [
    "X = data.iloc[:, [3,5,6,8,10,11,12]]"
   ]
  },
  {
   "cell_type": "code",
   "execution_count": 134,
   "metadata": {},
   "outputs": [
    {
     "data": {
      "text/html": [
       "<div>\n",
       "<style scoped>\n",
       "    .dataframe tbody tr th:only-of-type {\n",
       "        vertical-align: middle;\n",
       "    }\n",
       "\n",
       "    .dataframe tbody tr th {\n",
       "        vertical-align: top;\n",
       "    }\n",
       "\n",
       "    .dataframe thead th {\n",
       "        text-align: right;\n",
       "    }\n",
       "</style>\n",
       "<table border=\"1\" class=\"dataframe\">\n",
       "  <thead>\n",
       "    <tr style=\"text-align: right;\">\n",
       "      <th></th>\n",
       "      <th>num_posts</th>\n",
       "      <th>num_followings</th>\n",
       "      <th>is_private</th>\n",
       "      <th>is_joined_recently</th>\n",
       "      <th>num_followers_float</th>\n",
       "      <th>following_follower_ratio</th>\n",
       "      <th>engagement_rate</th>\n",
       "    </tr>\n",
       "  </thead>\n",
       "  <tbody>\n",
       "    <tr>\n",
       "      <th>0</th>\n",
       "      <td>0.0</td>\n",
       "      <td>12.0</td>\n",
       "      <td>0</td>\n",
       "      <td>1</td>\n",
       "      <td>1.0</td>\n",
       "      <td>6.000000</td>\n",
       "      <td>0.073413</td>\n",
       "    </tr>\n",
       "    <tr>\n",
       "      <th>1</th>\n",
       "      <td>5.0</td>\n",
       "      <td>1.0</td>\n",
       "      <td>0</td>\n",
       "      <td>0</td>\n",
       "      <td>62.0</td>\n",
       "      <td>0.015873</td>\n",
       "      <td>0.073413</td>\n",
       "    </tr>\n",
       "    <tr>\n",
       "      <th>2</th>\n",
       "      <td>1.0</td>\n",
       "      <td>78.0</td>\n",
       "      <td>0</td>\n",
       "      <td>0</td>\n",
       "      <td>132.0</td>\n",
       "      <td>0.586466</td>\n",
       "      <td>0.073413</td>\n",
       "    </tr>\n",
       "    <tr>\n",
       "      <th>3</th>\n",
       "      <td>3.0</td>\n",
       "      <td>138.0</td>\n",
       "      <td>0</td>\n",
       "      <td>0</td>\n",
       "      <td>798.0</td>\n",
       "      <td>0.172716</td>\n",
       "      <td>0.073413</td>\n",
       "    </tr>\n",
       "    <tr>\n",
       "      <th>4</th>\n",
       "      <td>66.0</td>\n",
       "      <td>195.0</td>\n",
       "      <td>0</td>\n",
       "      <td>0</td>\n",
       "      <td>494.0</td>\n",
       "      <td>0.393939</td>\n",
       "      <td>0.073413</td>\n",
       "    </tr>\n",
       "  </tbody>\n",
       "</table>\n",
       "</div>"
      ],
      "text/plain": [
       "   num_posts  num_followings  is_private   is_joined_recently  \\\n",
       "0        0.0            12.0           0                    1   \n",
       "1        5.0             1.0           0                    0   \n",
       "2        1.0            78.0           0                    0   \n",
       "3        3.0           138.0           0                    0   \n",
       "4       66.0           195.0           0                    0   \n",
       "\n",
       "   num_followers_float  following_follower_ratio  engagement_rate  \n",
       "0                  1.0                  6.000000         0.073413  \n",
       "1                 62.0                  0.015873         0.073413  \n",
       "2                132.0                  0.586466         0.073413  \n",
       "3                798.0                  0.172716         0.073413  \n",
       "4                494.0                  0.393939         0.073413  "
      ]
     },
     "execution_count": 134,
     "metadata": {},
     "output_type": "execute_result"
    }
   ],
   "source": [
    "X.head()"
   ]
  },
  {
   "cell_type": "code",
   "execution_count": 135,
   "metadata": {},
   "outputs": [],
   "source": [
    "y = data.iloc[:,7]"
   ]
  },
  {
   "cell_type": "code",
   "execution_count": 136,
   "metadata": {},
   "outputs": [
    {
     "data": {
      "text/plain": [
       "0    0\n",
       "1    0\n",
       "2    1\n",
       "3    1\n",
       "4    0\n",
       "Name:  is_business, dtype: int64"
      ]
     },
     "execution_count": 136,
     "metadata": {},
     "output_type": "execute_result"
    }
   ],
   "source": [
    "y.head()"
   ]
  },
  {
   "cell_type": "code",
   "execution_count": 137,
   "metadata": {},
   "outputs": [
    {
     "data": {
      "text/plain": [
       "(198, 7)"
      ]
     },
     "execution_count": 137,
     "metadata": {},
     "output_type": "execute_result"
    }
   ],
   "source": [
    "X.shape"
   ]
  },
  {
   "cell_type": "code",
   "execution_count": 138,
   "metadata": {},
   "outputs": [
    {
     "data": {
      "text/plain": [
       "(198,)"
      ]
     },
     "execution_count": 138,
     "metadata": {},
     "output_type": "execute_result"
    }
   ],
   "source": [
    "y.shape"
   ]
  },
  {
   "cell_type": "markdown",
   "metadata": {},
   "source": [
    "### train-test split"
   ]
  },
  {
   "cell_type": "code",
   "execution_count": 139,
   "metadata": {},
   "outputs": [],
   "source": [
    "X_train, X_test, y_train, y_test = train_test_split(X, y, random_state=4)"
   ]
  },
  {
   "cell_type": "code",
   "execution_count": 140,
   "metadata": {},
   "outputs": [
    {
     "data": {
      "text/plain": [
       "((148, 7), (50, 7), (148,), (50,))"
      ]
     },
     "execution_count": 140,
     "metadata": {},
     "output_type": "execute_result"
    }
   ],
   "source": [
    "X_train.shape, X_test.shape, y_train.shape, y_test.shape"
   ]
  },
  {
   "cell_type": "markdown",
   "metadata": {},
   "source": [
    "### logistic regression"
   ]
  },
  {
   "cell_type": "code",
   "execution_count": 162,
   "metadata": {},
   "outputs": [],
   "source": [
    "model_logistic = LogisticRegression()"
   ]
  },
  {
   "cell_type": "code",
   "execution_count": 163,
   "metadata": {},
   "outputs": [
    {
     "name": "stdout",
     "output_type": "stream",
     "text": [
      "<class 'pandas.core.frame.DataFrame'>\n",
      "Int64Index: 148 entries, 84 to 122\n",
      "Data columns (total 7 columns):\n",
      "num_posts                   148 non-null float64\n",
      "num_followings              148 non-null float64\n",
      "is_private                  148 non-null int64\n",
      " is_joined_recently         148 non-null int64\n",
      "num_followers_float         148 non-null float64\n",
      "following_follower_ratio    148 non-null float64\n",
      "engagement_rate             148 non-null float64\n",
      "dtypes: float64(5), int64(2)\n",
      "memory usage: 9.2 KB\n"
     ]
    }
   ],
   "source": [
    "X_train.info()"
   ]
  },
  {
   "cell_type": "code",
   "execution_count": 164,
   "metadata": {},
   "outputs": [
    {
     "data": {
      "text/plain": [
       "LogisticRegression(C=1.0, class_weight=None, dual=False, fit_intercept=True,\n",
       "          intercept_scaling=1, max_iter=100, multi_class='ovr', n_jobs=1,\n",
       "          penalty='l2', random_state=None, solver='liblinear', tol=0.0001,\n",
       "          verbose=0, warm_start=False)"
      ]
     },
     "execution_count": 164,
     "metadata": {},
     "output_type": "execute_result"
    }
   ],
   "source": [
    "model_logistic.fit(X_train, y_train)"
   ]
  },
  {
   "cell_type": "code",
   "execution_count": 165,
   "metadata": {},
   "outputs": [],
   "source": [
    "y_pred_logistic = model_logistic.predict_proba(X_test)[:,1]"
   ]
  },
  {
   "cell_type": "code",
   "execution_count": 166,
   "metadata": {},
   "outputs": [
    {
     "data": {
      "text/plain": [
       "array([6.96094457e-01, 4.54189277e-01, 4.40000393e-01, 5.52480951e-01,\n",
       "       4.69812145e-01, 1.74747133e-04, 2.86844067e-09, 1.81344321e-01,\n",
       "       5.39320895e-06, 2.08498243e-03, 4.67325623e-01, 2.96686416e-01,\n",
       "       2.73588675e-03, 1.43594154e-01, 9.93153058e-01, 3.33997244e-01,\n",
       "       3.14728801e-04, 5.79533467e-01, 4.59536536e-10, 1.16254764e-01,\n",
       "       3.69078194e-01, 4.22430044e-05, 7.83949455e-01, 8.79079885e-02,\n",
       "       8.64255048e-01, 2.58238987e-02, 9.99306488e-01, 5.67203657e-01,\n",
       "       1.41080268e-01, 2.85509086e-04, 1.75891894e-01, 4.67680214e-01,\n",
       "       2.59697994e-01, 4.38948894e-01, 3.34167828e-02, 2.40116661e-01,\n",
       "       2.55904771e-01, 3.79031997e-05, 7.82683267e-03, 2.94193789e-04,\n",
       "       4.84836070e-01, 2.81317473e-03, 7.37411218e-06, 1.59843806e-02,\n",
       "       4.72650209e-01, 1.48384100e-01, 5.10440554e-01, 9.88095186e-01,\n",
       "       7.07690913e-01, 5.22323834e-01])"
      ]
     },
     "execution_count": 166,
     "metadata": {},
     "output_type": "execute_result"
    }
   ],
   "source": [
    "y_pred_logistic"
   ]
  },
  {
   "cell_type": "code",
   "execution_count": 167,
   "metadata": {},
   "outputs": [
    {
     "data": {
      "text/html": [
       "<div>\n",
       "<style scoped>\n",
       "    .dataframe tbody tr th:only-of-type {\n",
       "        vertical-align: middle;\n",
       "    }\n",
       "\n",
       "    .dataframe tbody tr th {\n",
       "        vertical-align: top;\n",
       "    }\n",
       "\n",
       "    .dataframe thead th {\n",
       "        text-align: right;\n",
       "    }\n",
       "</style>\n",
       "<table border=\"1\" class=\"dataframe\">\n",
       "  <thead>\n",
       "    <tr style=\"text-align: right;\">\n",
       "      <th></th>\n",
       "      <th>actual</th>\n",
       "      <th>prediction</th>\n",
       "    </tr>\n",
       "  </thead>\n",
       "  <tbody>\n",
       "    <tr>\n",
       "      <th>144</th>\n",
       "      <td>0</td>\n",
       "      <td>4.541893e-01</td>\n",
       "    </tr>\n",
       "    <tr>\n",
       "      <th>34</th>\n",
       "      <td>0</td>\n",
       "      <td>4.400004e-01</td>\n",
       "    </tr>\n",
       "    <tr>\n",
       "      <th>1</th>\n",
       "      <td>0</td>\n",
       "      <td>4.698121e-01</td>\n",
       "    </tr>\n",
       "    <tr>\n",
       "      <th>69</th>\n",
       "      <td>0</td>\n",
       "      <td>1.747471e-04</td>\n",
       "    </tr>\n",
       "    <tr>\n",
       "      <th>154</th>\n",
       "      <td>0</td>\n",
       "      <td>2.868441e-09</td>\n",
       "    </tr>\n",
       "    <tr>\n",
       "      <th>130</th>\n",
       "      <td>0</td>\n",
       "      <td>1.813443e-01</td>\n",
       "    </tr>\n",
       "    <tr>\n",
       "      <th>48</th>\n",
       "      <td>0</td>\n",
       "      <td>5.393209e-06</td>\n",
       "    </tr>\n",
       "    <tr>\n",
       "      <th>184</th>\n",
       "      <td>0</td>\n",
       "      <td>2.084982e-03</td>\n",
       "    </tr>\n",
       "    <tr>\n",
       "      <th>188</th>\n",
       "      <td>0</td>\n",
       "      <td>4.673256e-01</td>\n",
       "    </tr>\n",
       "    <tr>\n",
       "      <th>101</th>\n",
       "      <td>0</td>\n",
       "      <td>2.735887e-03</td>\n",
       "    </tr>\n",
       "    <tr>\n",
       "      <th>61</th>\n",
       "      <td>0</td>\n",
       "      <td>1.435942e-01</td>\n",
       "    </tr>\n",
       "    <tr>\n",
       "      <th>93</th>\n",
       "      <td>0</td>\n",
       "      <td>9.931531e-01</td>\n",
       "    </tr>\n",
       "    <tr>\n",
       "      <th>82</th>\n",
       "      <td>0</td>\n",
       "      <td>3.147288e-04</td>\n",
       "    </tr>\n",
       "    <tr>\n",
       "      <th>71</th>\n",
       "      <td>0</td>\n",
       "      <td>4.595365e-10</td>\n",
       "    </tr>\n",
       "    <tr>\n",
       "      <th>89</th>\n",
       "      <td>0</td>\n",
       "      <td>3.690782e-01</td>\n",
       "    </tr>\n",
       "    <tr>\n",
       "      <th>83</th>\n",
       "      <td>0</td>\n",
       "      <td>4.224300e-05</td>\n",
       "    </tr>\n",
       "    <tr>\n",
       "      <th>116</th>\n",
       "      <td>0</td>\n",
       "      <td>7.839495e-01</td>\n",
       "    </tr>\n",
       "    <tr>\n",
       "      <th>33</th>\n",
       "      <td>0</td>\n",
       "      <td>8.790799e-02</td>\n",
       "    </tr>\n",
       "    <tr>\n",
       "      <th>111</th>\n",
       "      <td>0</td>\n",
       "      <td>2.582390e-02</td>\n",
       "    </tr>\n",
       "    <tr>\n",
       "      <th>6</th>\n",
       "      <td>0</td>\n",
       "      <td>9.993065e-01</td>\n",
       "    </tr>\n",
       "    <tr>\n",
       "      <th>197</th>\n",
       "      <td>0</td>\n",
       "      <td>1.410803e-01</td>\n",
       "    </tr>\n",
       "    <tr>\n",
       "      <th>186</th>\n",
       "      <td>0</td>\n",
       "      <td>2.855091e-04</td>\n",
       "    </tr>\n",
       "    <tr>\n",
       "      <th>155</th>\n",
       "      <td>0</td>\n",
       "      <td>4.676802e-01</td>\n",
       "    </tr>\n",
       "    <tr>\n",
       "      <th>179</th>\n",
       "      <td>0</td>\n",
       "      <td>2.596980e-01</td>\n",
       "    </tr>\n",
       "    <tr>\n",
       "      <th>190</th>\n",
       "      <td>0</td>\n",
       "      <td>4.389489e-01</td>\n",
       "    </tr>\n",
       "    <tr>\n",
       "      <th>118</th>\n",
       "      <td>0</td>\n",
       "      <td>3.341678e-02</td>\n",
       "    </tr>\n",
       "    <tr>\n",
       "      <th>99</th>\n",
       "      <td>0</td>\n",
       "      <td>2.401167e-01</td>\n",
       "    </tr>\n",
       "    <tr>\n",
       "      <th>112</th>\n",
       "      <td>0</td>\n",
       "      <td>2.559048e-01</td>\n",
       "    </tr>\n",
       "    <tr>\n",
       "      <th>102</th>\n",
       "      <td>0</td>\n",
       "      <td>3.790320e-05</td>\n",
       "    </tr>\n",
       "    <tr>\n",
       "      <th>159</th>\n",
       "      <td>0</td>\n",
       "      <td>7.826833e-03</td>\n",
       "    </tr>\n",
       "    <tr>\n",
       "      <th>26</th>\n",
       "      <td>0</td>\n",
       "      <td>2.941938e-04</td>\n",
       "    </tr>\n",
       "    <tr>\n",
       "      <th>80</th>\n",
       "      <td>0</td>\n",
       "      <td>4.848361e-01</td>\n",
       "    </tr>\n",
       "    <tr>\n",
       "      <th>180</th>\n",
       "      <td>0</td>\n",
       "      <td>2.813175e-03</td>\n",
       "    </tr>\n",
       "    <tr>\n",
       "      <th>121</th>\n",
       "      <td>0</td>\n",
       "      <td>7.374112e-06</td>\n",
       "    </tr>\n",
       "    <tr>\n",
       "      <th>105</th>\n",
       "      <td>0</td>\n",
       "      <td>1.598438e-02</td>\n",
       "    </tr>\n",
       "    <tr>\n",
       "      <th>45</th>\n",
       "      <td>0</td>\n",
       "      <td>4.726502e-01</td>\n",
       "    </tr>\n",
       "    <tr>\n",
       "      <th>47</th>\n",
       "      <td>0</td>\n",
       "      <td>1.483841e-01</td>\n",
       "    </tr>\n",
       "    <tr>\n",
       "      <th>123</th>\n",
       "      <td>0</td>\n",
       "      <td>7.076909e-01</td>\n",
       "    </tr>\n",
       "  </tbody>\n",
       "</table>\n",
       "</div>"
      ],
      "text/plain": [
       "     actual    prediction\n",
       "144       0  4.541893e-01\n",
       "34        0  4.400004e-01\n",
       "1         0  4.698121e-01\n",
       "69        0  1.747471e-04\n",
       "154       0  2.868441e-09\n",
       "130       0  1.813443e-01\n",
       "48        0  5.393209e-06\n",
       "184       0  2.084982e-03\n",
       "188       0  4.673256e-01\n",
       "101       0  2.735887e-03\n",
       "61        0  1.435942e-01\n",
       "93        0  9.931531e-01\n",
       "82        0  3.147288e-04\n",
       "71        0  4.595365e-10\n",
       "89        0  3.690782e-01\n",
       "83        0  4.224300e-05\n",
       "116       0  7.839495e-01\n",
       "33        0  8.790799e-02\n",
       "111       0  2.582390e-02\n",
       "6         0  9.993065e-01\n",
       "197       0  1.410803e-01\n",
       "186       0  2.855091e-04\n",
       "155       0  4.676802e-01\n",
       "179       0  2.596980e-01\n",
       "190       0  4.389489e-01\n",
       "118       0  3.341678e-02\n",
       "99        0  2.401167e-01\n",
       "112       0  2.559048e-01\n",
       "102       0  3.790320e-05\n",
       "159       0  7.826833e-03\n",
       "26        0  2.941938e-04\n",
       "80        0  4.848361e-01\n",
       "180       0  2.813175e-03\n",
       "121       0  7.374112e-06\n",
       "105       0  1.598438e-02\n",
       "45        0  4.726502e-01\n",
       "47        0  1.483841e-01\n",
       "123       0  7.076909e-01"
      ]
     },
     "execution_count": 167,
     "metadata": {},
     "output_type": "execute_result"
    }
   ],
   "source": [
    "y_test_pred = pd.DataFrame({'actual':y_test,'prediction':y_pred_logistic})\n",
    "\n",
    "# 'actual' == 0 means the account is actually not a business account, but y_pred high means \n",
    "# they are predicted to have high probability to be a business account\n",
    "y_test_pred[y_test_pred['actual']== 0]"
   ]
  },
  {
   "cell_type": "code",
   "execution_count": 125,
   "metadata": {},
   "outputs": [
    {
     "ename": "NameError",
     "evalue": "name 'y_test' is not defined",
     "output_type": "error",
     "traceback": [
      "\u001b[0;31m---------------------------------------------------------------------------\u001b[0m",
      "\u001b[0;31mNameError\u001b[0m                                 Traceback (most recent call last)",
      "\u001b[0;32m<ipython-input-125-6df813e3bea0>\u001b[0m in \u001b[0;36m<module>\u001b[0;34m()\u001b[0m\n\u001b[0;32m----> 1\u001b[0;31m \u001b[0mlog_loss_logistic\u001b[0m \u001b[0;34m=\u001b[0m \u001b[0mlog_loss\u001b[0m\u001b[0;34m(\u001b[0m\u001b[0my_test\u001b[0m\u001b[0;34m,\u001b[0m \u001b[0my_pred_logistic\u001b[0m\u001b[0;34m)\u001b[0m\u001b[0;34m\u001b[0m\u001b[0m\n\u001b[0m\u001b[1;32m      2\u001b[0m \u001b[0mlog_loss_logistic\u001b[0m\u001b[0;34m\u001b[0m\u001b[0m\n",
      "\u001b[0;31mNameError\u001b[0m: name 'y_test' is not defined"
     ]
    }
   ],
   "source": [
    "log_loss_logistic = log_loss(y_test, y_pred_logistic)\n",
    "log_loss_logistic"
   ]
  },
  {
   "cell_type": "code",
   "execution_count": 171,
   "metadata": {},
   "outputs": [
    {
     "data": {
      "text/plain": [
       "0.4284354518417016"
      ]
     },
     "execution_count": 171,
     "metadata": {},
     "output_type": "execute_result"
    }
   ],
   "source": [
    "cv_logloss = -cross_val_score(model_logistic, X, y, scoring = 'neg_log_loss', cv = 10).mean()\n",
    "cv_logloss"
   ]
  },
  {
   "cell_type": "markdown",
   "metadata": {},
   "source": [
    "### random forest"
   ]
  },
  {
   "cell_type": "code",
   "execution_count": 172,
   "metadata": {},
   "outputs": [],
   "source": [
    "rf = RandomForestClassifier(n_estimators=100,\n",
    "                            n_jobs=-1,\n",
    "                            random_state=1)"
   ]
  },
  {
   "cell_type": "code",
   "execution_count": 173,
   "metadata": {},
   "outputs": [
    {
     "data": {
      "text/plain": [
       "RandomForestClassifier(bootstrap=True, class_weight=None, criterion='gini',\n",
       "            max_depth=None, max_features='auto', max_leaf_nodes=None,\n",
       "            min_impurity_decrease=0.0, min_impurity_split=None,\n",
       "            min_samples_leaf=1, min_samples_split=2,\n",
       "            min_weight_fraction_leaf=0.0, n_estimators=100, n_jobs=-1,\n",
       "            oob_score=False, random_state=1, verbose=0, warm_start=False)"
      ]
     },
     "execution_count": 173,
     "metadata": {},
     "output_type": "execute_result"
    }
   ],
   "source": [
    "rf.fit(X_train, y_train)"
   ]
  },
  {
   "cell_type": "code",
   "execution_count": 184,
   "metadata": {},
   "outputs": [
    {
     "data": {
      "text/plain": [
       "array([0.59      , 0.43      , 0.41      , 0.53      , 0.34      ,\n",
       "       0.0425    , 0.        , 0.09      , 0.01      , 0.01      ,\n",
       "       0.5       , 0.41      , 0.        , 0.52      , 0.58      ,\n",
       "       0.5       , 0.        , 0.5       , 0.        , 0.43333333,\n",
       "       0.75      , 0.0325    , 0.57      , 0.1       , 0.55      ,\n",
       "       0.        , 0.45      , 0.6       , 0.18      , 0.        ,\n",
       "       0.13      , 0.54      , 0.21      , 0.45      , 0.04      ,\n",
       "       0.        , 0.39      , 0.        , 0.01      , 0.01      ,\n",
       "       0.55      , 0.02      , 0.01      , 0.        , 0.85      ,\n",
       "       0.08      , 0.68      , 0.34      , 0.49      , 0.51      ])"
      ]
     },
     "execution_count": 184,
     "metadata": {},
     "output_type": "execute_result"
    }
   ],
   "source": [
    "y_pred_rf = rf.predict_proba(X_test)[:, 1]\n",
    "y_pred_rf"
   ]
  },
  {
   "cell_type": "code",
   "execution_count": 175,
   "metadata": {},
   "outputs": [
    {
     "data": {
      "text/html": [
       "<div>\n",
       "<style scoped>\n",
       "    .dataframe tbody tr th:only-of-type {\n",
       "        vertical-align: middle;\n",
       "    }\n",
       "\n",
       "    .dataframe tbody tr th {\n",
       "        vertical-align: top;\n",
       "    }\n",
       "\n",
       "    .dataframe thead th {\n",
       "        text-align: right;\n",
       "    }\n",
       "</style>\n",
       "<table border=\"1\" class=\"dataframe\">\n",
       "  <thead>\n",
       "    <tr style=\"text-align: right;\">\n",
       "      <th></th>\n",
       "      <th>actual</th>\n",
       "      <th>prediction</th>\n",
       "    </tr>\n",
       "  </thead>\n",
       "  <tbody>\n",
       "    <tr>\n",
       "      <th>144</th>\n",
       "      <td>0</td>\n",
       "      <td>0.4300</td>\n",
       "    </tr>\n",
       "    <tr>\n",
       "      <th>34</th>\n",
       "      <td>0</td>\n",
       "      <td>0.4100</td>\n",
       "    </tr>\n",
       "    <tr>\n",
       "      <th>1</th>\n",
       "      <td>0</td>\n",
       "      <td>0.3400</td>\n",
       "    </tr>\n",
       "    <tr>\n",
       "      <th>69</th>\n",
       "      <td>0</td>\n",
       "      <td>0.0425</td>\n",
       "    </tr>\n",
       "    <tr>\n",
       "      <th>154</th>\n",
       "      <td>0</td>\n",
       "      <td>0.0000</td>\n",
       "    </tr>\n",
       "    <tr>\n",
       "      <th>130</th>\n",
       "      <td>0</td>\n",
       "      <td>0.0900</td>\n",
       "    </tr>\n",
       "    <tr>\n",
       "      <th>48</th>\n",
       "      <td>0</td>\n",
       "      <td>0.0100</td>\n",
       "    </tr>\n",
       "    <tr>\n",
       "      <th>184</th>\n",
       "      <td>0</td>\n",
       "      <td>0.0100</td>\n",
       "    </tr>\n",
       "    <tr>\n",
       "      <th>188</th>\n",
       "      <td>0</td>\n",
       "      <td>0.5000</td>\n",
       "    </tr>\n",
       "    <tr>\n",
       "      <th>101</th>\n",
       "      <td>0</td>\n",
       "      <td>0.0000</td>\n",
       "    </tr>\n",
       "    <tr>\n",
       "      <th>61</th>\n",
       "      <td>0</td>\n",
       "      <td>0.5200</td>\n",
       "    </tr>\n",
       "    <tr>\n",
       "      <th>93</th>\n",
       "      <td>0</td>\n",
       "      <td>0.5800</td>\n",
       "    </tr>\n",
       "    <tr>\n",
       "      <th>82</th>\n",
       "      <td>0</td>\n",
       "      <td>0.0000</td>\n",
       "    </tr>\n",
       "    <tr>\n",
       "      <th>71</th>\n",
       "      <td>0</td>\n",
       "      <td>0.0000</td>\n",
       "    </tr>\n",
       "    <tr>\n",
       "      <th>89</th>\n",
       "      <td>0</td>\n",
       "      <td>0.7500</td>\n",
       "    </tr>\n",
       "    <tr>\n",
       "      <th>83</th>\n",
       "      <td>0</td>\n",
       "      <td>0.0325</td>\n",
       "    </tr>\n",
       "    <tr>\n",
       "      <th>116</th>\n",
       "      <td>0</td>\n",
       "      <td>0.5700</td>\n",
       "    </tr>\n",
       "    <tr>\n",
       "      <th>33</th>\n",
       "      <td>0</td>\n",
       "      <td>0.1000</td>\n",
       "    </tr>\n",
       "    <tr>\n",
       "      <th>111</th>\n",
       "      <td>0</td>\n",
       "      <td>0.0000</td>\n",
       "    </tr>\n",
       "    <tr>\n",
       "      <th>6</th>\n",
       "      <td>0</td>\n",
       "      <td>0.4500</td>\n",
       "    </tr>\n",
       "    <tr>\n",
       "      <th>197</th>\n",
       "      <td>0</td>\n",
       "      <td>0.1800</td>\n",
       "    </tr>\n",
       "    <tr>\n",
       "      <th>186</th>\n",
       "      <td>0</td>\n",
       "      <td>0.0000</td>\n",
       "    </tr>\n",
       "    <tr>\n",
       "      <th>155</th>\n",
       "      <td>0</td>\n",
       "      <td>0.5400</td>\n",
       "    </tr>\n",
       "    <tr>\n",
       "      <th>179</th>\n",
       "      <td>0</td>\n",
       "      <td>0.2100</td>\n",
       "    </tr>\n",
       "    <tr>\n",
       "      <th>190</th>\n",
       "      <td>0</td>\n",
       "      <td>0.4500</td>\n",
       "    </tr>\n",
       "    <tr>\n",
       "      <th>118</th>\n",
       "      <td>0</td>\n",
       "      <td>0.0400</td>\n",
       "    </tr>\n",
       "    <tr>\n",
       "      <th>99</th>\n",
       "      <td>0</td>\n",
       "      <td>0.0000</td>\n",
       "    </tr>\n",
       "    <tr>\n",
       "      <th>112</th>\n",
       "      <td>0</td>\n",
       "      <td>0.3900</td>\n",
       "    </tr>\n",
       "    <tr>\n",
       "      <th>102</th>\n",
       "      <td>0</td>\n",
       "      <td>0.0000</td>\n",
       "    </tr>\n",
       "    <tr>\n",
       "      <th>159</th>\n",
       "      <td>0</td>\n",
       "      <td>0.0100</td>\n",
       "    </tr>\n",
       "    <tr>\n",
       "      <th>26</th>\n",
       "      <td>0</td>\n",
       "      <td>0.0100</td>\n",
       "    </tr>\n",
       "    <tr>\n",
       "      <th>80</th>\n",
       "      <td>0</td>\n",
       "      <td>0.5500</td>\n",
       "    </tr>\n",
       "    <tr>\n",
       "      <th>180</th>\n",
       "      <td>0</td>\n",
       "      <td>0.0200</td>\n",
       "    </tr>\n",
       "    <tr>\n",
       "      <th>121</th>\n",
       "      <td>0</td>\n",
       "      <td>0.0100</td>\n",
       "    </tr>\n",
       "    <tr>\n",
       "      <th>105</th>\n",
       "      <td>0</td>\n",
       "      <td>0.0000</td>\n",
       "    </tr>\n",
       "    <tr>\n",
       "      <th>45</th>\n",
       "      <td>0</td>\n",
       "      <td>0.8500</td>\n",
       "    </tr>\n",
       "    <tr>\n",
       "      <th>47</th>\n",
       "      <td>0</td>\n",
       "      <td>0.0800</td>\n",
       "    </tr>\n",
       "    <tr>\n",
       "      <th>123</th>\n",
       "      <td>0</td>\n",
       "      <td>0.4900</td>\n",
       "    </tr>\n",
       "  </tbody>\n",
       "</table>\n",
       "</div>"
      ],
      "text/plain": [
       "     actual  prediction\n",
       "144       0      0.4300\n",
       "34        0      0.4100\n",
       "1         0      0.3400\n",
       "69        0      0.0425\n",
       "154       0      0.0000\n",
       "130       0      0.0900\n",
       "48        0      0.0100\n",
       "184       0      0.0100\n",
       "188       0      0.5000\n",
       "101       0      0.0000\n",
       "61        0      0.5200\n",
       "93        0      0.5800\n",
       "82        0      0.0000\n",
       "71        0      0.0000\n",
       "89        0      0.7500\n",
       "83        0      0.0325\n",
       "116       0      0.5700\n",
       "33        0      0.1000\n",
       "111       0      0.0000\n",
       "6         0      0.4500\n",
       "197       0      0.1800\n",
       "186       0      0.0000\n",
       "155       0      0.5400\n",
       "179       0      0.2100\n",
       "190       0      0.4500\n",
       "118       0      0.0400\n",
       "99        0      0.0000\n",
       "112       0      0.3900\n",
       "102       0      0.0000\n",
       "159       0      0.0100\n",
       "26        0      0.0100\n",
       "80        0      0.5500\n",
       "180       0      0.0200\n",
       "121       0      0.0100\n",
       "105       0      0.0000\n",
       "45        0      0.8500\n",
       "47        0      0.0800\n",
       "123       0      0.4900"
      ]
     },
     "execution_count": 175,
     "metadata": {},
     "output_type": "execute_result"
    }
   ],
   "source": [
    "y_test_pred = pd.DataFrame({'actual':y_test,'prediction':y_pred_rf})\n",
    "\n",
    "y_test_pred[y_test_pred['actual']== 0]"
   ]
  },
  {
   "cell_type": "code",
   "execution_count": 176,
   "metadata": {},
   "outputs": [],
   "source": [
    "cv_logloss_rf1 = -cross_val_score(rf, X, y, cv = 10, scoring = 'neg_log_loss').mean()\n",
    "cv_logloss_rf1"
   ]
  },
  {
   "cell_type": "markdown",
   "metadata": {},
   "source": [
    "### Best random forest"
   ]
  },
  {
   "cell_type": "code",
   "execution_count": 53,
   "metadata": {},
   "outputs": [
    {
     "name": "stdout",
     "output_type": "stream",
     "text": [
      "Fitting 3 folds for each of 648 candidates, totalling 1944 fits\n"
     ]
    },
    {
     "name": "stderr",
     "output_type": "stream",
     "text": [
      "[Parallel(n_jobs=-1)]: Done  42 tasks      | elapsed:    4.9s\n",
      "[Parallel(n_jobs=-1)]: Done 192 tasks      | elapsed:   22.2s\n",
      "[Parallel(n_jobs=-1)]: Done 442 tasks      | elapsed:   47.7s\n",
      "[Parallel(n_jobs=-1)]: Done 792 tasks      | elapsed:  1.6min\n",
      "[Parallel(n_jobs=-1)]: Done 1242 tasks      | elapsed:  2.4min\n",
      "[Parallel(n_jobs=-1)]: Done 1792 tasks      | elapsed:  3.4min\n"
     ]
    },
    {
     "name": "stdout",
     "output_type": "stream",
     "text": [
      "best parameters: {'bootstrap': True, 'max_depth': 3, 'max_features': 'sqrt', 'min_samples_leaf': 4, 'min_samples_split': 2, 'n_estimators': 40, 'random_state': 359}\n"
     ]
    },
    {
     "name": "stderr",
     "output_type": "stream",
     "text": [
      "[Parallel(n_jobs=-1)]: Done 1944 out of 1944 | elapsed:  3.8min finished\n"
     ]
    }
   ],
   "source": [
    "random_forest_grid = {'max_depth': [3, 4, None],\n",
    "                      'max_features': ['sqrt', 'log2', None],\n",
    "                      'min_samples_split': [2, 4],\n",
    "                      'min_samples_leaf': [1, 2, 4],\n",
    "                      'bootstrap': [True, False],\n",
    "                      'n_estimators': [40, 80, 100, 120, 140, 160],\n",
    "                      'random_state': [359]}\n",
    "\n",
    "rf_gridsearch = GridSearchCV(RandomForestClassifier(),\n",
    "                             random_forest_grid,\n",
    "                             n_jobs=-1,\n",
    "                             verbose=True,\n",
    "                             scoring='neg_log_loss')\n",
    "rf_gridsearch.fit(X_train, y_train)\n",
    "\n",
    "print(\"best parameters:\", rf_gridsearch.best_params_)\n",
    "\n",
    "best_rf_model = rf_gridsearch.best_estimator_"
   ]
  },
  {
   "cell_type": "code",
   "execution_count": 54,
   "metadata": {},
   "outputs": [
    {
     "data": {
      "text/plain": [
       "RandomForestClassifier(bootstrap=True, class_weight=None, criterion='gini',\n",
       "            max_depth=3, max_features='sqrt', max_leaf_nodes=None,\n",
       "            min_impurity_decrease=0.0, min_impurity_split=None,\n",
       "            min_samples_leaf=4, min_samples_split=2,\n",
       "            min_weight_fraction_leaf=0.0, n_estimators=40, n_jobs=1,\n",
       "            oob_score=False, random_state=359, verbose=0, warm_start=False)"
      ]
     },
     "execution_count": 54,
     "metadata": {},
     "output_type": "execute_result"
    }
   ],
   "source": [
    "best_rf_model.fit(X_train, y_train)"
   ]
  },
  {
   "cell_type": "code",
   "execution_count": 55,
   "metadata": {},
   "outputs": [],
   "source": [
    "y_pred_best = best_rf_model.predict_proba(X_test)[:, 1]\n"
   ]
  },
  {
   "cell_type": "code",
   "execution_count": 56,
   "metadata": {},
   "outputs": [
    {
     "data": {
      "text/plain": [
       "array([0.47187833, 0.49979167, 0.37392593, 0.52440776, 0.28655991,\n",
       "       0.0541315 , 0.01193708, 0.37956057, 0.02092221, 0.05182128,\n",
       "       0.56137211, 0.44967899, 0.02092221, 0.4523006 , 0.50386591,\n",
       "       0.47518634, 0.02092221, 0.47629751, 0.01193708, 0.13132179,\n",
       "       0.38944773, 0.04960988, 0.5254149 , 0.20645599, 0.5413468 ,\n",
       "       0.02390517, 0.42829354, 0.47316896, 0.17982953, 0.01836685,\n",
       "       0.13657042, 0.36703194, 0.17742256, 0.42991132, 0.13343674,\n",
       "       0.10575357, 0.31390845, 0.02092221, 0.05691437, 0.05182128,\n",
       "       0.47083351, 0.03594673, 0.02092221, 0.01765517, 0.55878589,\n",
       "       0.13693387, 0.48250716, 0.44549482, 0.37240927, 0.50864914])"
      ]
     },
     "execution_count": 56,
     "metadata": {},
     "output_type": "execute_result"
    }
   ],
   "source": [
    "y_pred_best"
   ]
  },
  {
   "cell_type": "code",
   "execution_count": 60,
   "metadata": {},
   "outputs": [
    {
     "data": {
      "text/html": [
       "<div>\n",
       "<style scoped>\n",
       "    .dataframe tbody tr th:only-of-type {\n",
       "        vertical-align: middle;\n",
       "    }\n",
       "\n",
       "    .dataframe tbody tr th {\n",
       "        vertical-align: top;\n",
       "    }\n",
       "\n",
       "    .dataframe thead th {\n",
       "        text-align: right;\n",
       "    }\n",
       "</style>\n",
       "<table border=\"1\" class=\"dataframe\">\n",
       "  <thead>\n",
       "    <tr style=\"text-align: right;\">\n",
       "      <th></th>\n",
       "      <th>actual</th>\n",
       "      <th>prediction</th>\n",
       "    </tr>\n",
       "  </thead>\n",
       "  <tbody>\n",
       "    <tr>\n",
       "      <th>144</th>\n",
       "      <td>0</td>\n",
       "      <td>0.499792</td>\n",
       "    </tr>\n",
       "    <tr>\n",
       "      <th>34</th>\n",
       "      <td>0</td>\n",
       "      <td>0.373926</td>\n",
       "    </tr>\n",
       "    <tr>\n",
       "      <th>1</th>\n",
       "      <td>0</td>\n",
       "      <td>0.286560</td>\n",
       "    </tr>\n",
       "    <tr>\n",
       "      <th>69</th>\n",
       "      <td>0</td>\n",
       "      <td>0.054131</td>\n",
       "    </tr>\n",
       "    <tr>\n",
       "      <th>154</th>\n",
       "      <td>0</td>\n",
       "      <td>0.011937</td>\n",
       "    </tr>\n",
       "    <tr>\n",
       "      <th>130</th>\n",
       "      <td>0</td>\n",
       "      <td>0.379561</td>\n",
       "    </tr>\n",
       "    <tr>\n",
       "      <th>48</th>\n",
       "      <td>0</td>\n",
       "      <td>0.020922</td>\n",
       "    </tr>\n",
       "    <tr>\n",
       "      <th>184</th>\n",
       "      <td>0</td>\n",
       "      <td>0.051821</td>\n",
       "    </tr>\n",
       "    <tr>\n",
       "      <th>188</th>\n",
       "      <td>0</td>\n",
       "      <td>0.561372</td>\n",
       "    </tr>\n",
       "    <tr>\n",
       "      <th>101</th>\n",
       "      <td>0</td>\n",
       "      <td>0.020922</td>\n",
       "    </tr>\n",
       "    <tr>\n",
       "      <th>61</th>\n",
       "      <td>0</td>\n",
       "      <td>0.452301</td>\n",
       "    </tr>\n",
       "    <tr>\n",
       "      <th>93</th>\n",
       "      <td>0</td>\n",
       "      <td>0.503866</td>\n",
       "    </tr>\n",
       "    <tr>\n",
       "      <th>82</th>\n",
       "      <td>0</td>\n",
       "      <td>0.020922</td>\n",
       "    </tr>\n",
       "    <tr>\n",
       "      <th>71</th>\n",
       "      <td>0</td>\n",
       "      <td>0.011937</td>\n",
       "    </tr>\n",
       "    <tr>\n",
       "      <th>89</th>\n",
       "      <td>0</td>\n",
       "      <td>0.389448</td>\n",
       "    </tr>\n",
       "    <tr>\n",
       "      <th>83</th>\n",
       "      <td>0</td>\n",
       "      <td>0.049610</td>\n",
       "    </tr>\n",
       "    <tr>\n",
       "      <th>116</th>\n",
       "      <td>0</td>\n",
       "      <td>0.525415</td>\n",
       "    </tr>\n",
       "    <tr>\n",
       "      <th>33</th>\n",
       "      <td>0</td>\n",
       "      <td>0.206456</td>\n",
       "    </tr>\n",
       "    <tr>\n",
       "      <th>111</th>\n",
       "      <td>0</td>\n",
       "      <td>0.023905</td>\n",
       "    </tr>\n",
       "    <tr>\n",
       "      <th>6</th>\n",
       "      <td>0</td>\n",
       "      <td>0.428294</td>\n",
       "    </tr>\n",
       "    <tr>\n",
       "      <th>197</th>\n",
       "      <td>0</td>\n",
       "      <td>0.179830</td>\n",
       "    </tr>\n",
       "    <tr>\n",
       "      <th>186</th>\n",
       "      <td>0</td>\n",
       "      <td>0.018367</td>\n",
       "    </tr>\n",
       "    <tr>\n",
       "      <th>155</th>\n",
       "      <td>0</td>\n",
       "      <td>0.367032</td>\n",
       "    </tr>\n",
       "    <tr>\n",
       "      <th>179</th>\n",
       "      <td>0</td>\n",
       "      <td>0.177423</td>\n",
       "    </tr>\n",
       "    <tr>\n",
       "      <th>190</th>\n",
       "      <td>0</td>\n",
       "      <td>0.429911</td>\n",
       "    </tr>\n",
       "    <tr>\n",
       "      <th>118</th>\n",
       "      <td>0</td>\n",
       "      <td>0.133437</td>\n",
       "    </tr>\n",
       "    <tr>\n",
       "      <th>99</th>\n",
       "      <td>0</td>\n",
       "      <td>0.105754</td>\n",
       "    </tr>\n",
       "    <tr>\n",
       "      <th>112</th>\n",
       "      <td>0</td>\n",
       "      <td>0.313908</td>\n",
       "    </tr>\n",
       "    <tr>\n",
       "      <th>102</th>\n",
       "      <td>0</td>\n",
       "      <td>0.020922</td>\n",
       "    </tr>\n",
       "    <tr>\n",
       "      <th>159</th>\n",
       "      <td>0</td>\n",
       "      <td>0.056914</td>\n",
       "    </tr>\n",
       "    <tr>\n",
       "      <th>26</th>\n",
       "      <td>0</td>\n",
       "      <td>0.051821</td>\n",
       "    </tr>\n",
       "    <tr>\n",
       "      <th>80</th>\n",
       "      <td>0</td>\n",
       "      <td>0.470834</td>\n",
       "    </tr>\n",
       "    <tr>\n",
       "      <th>180</th>\n",
       "      <td>0</td>\n",
       "      <td>0.035947</td>\n",
       "    </tr>\n",
       "    <tr>\n",
       "      <th>121</th>\n",
       "      <td>0</td>\n",
       "      <td>0.020922</td>\n",
       "    </tr>\n",
       "    <tr>\n",
       "      <th>105</th>\n",
       "      <td>0</td>\n",
       "      <td>0.017655</td>\n",
       "    </tr>\n",
       "    <tr>\n",
       "      <th>45</th>\n",
       "      <td>0</td>\n",
       "      <td>0.558786</td>\n",
       "    </tr>\n",
       "    <tr>\n",
       "      <th>47</th>\n",
       "      <td>0</td>\n",
       "      <td>0.136934</td>\n",
       "    </tr>\n",
       "    <tr>\n",
       "      <th>123</th>\n",
       "      <td>0</td>\n",
       "      <td>0.372409</td>\n",
       "    </tr>\n",
       "  </tbody>\n",
       "</table>\n",
       "</div>"
      ],
      "text/plain": [
       "     actual  prediction\n",
       "144       0    0.499792\n",
       "34        0    0.373926\n",
       "1         0    0.286560\n",
       "69        0    0.054131\n",
       "154       0    0.011937\n",
       "130       0    0.379561\n",
       "48        0    0.020922\n",
       "184       0    0.051821\n",
       "188       0    0.561372\n",
       "101       0    0.020922\n",
       "61        0    0.452301\n",
       "93        0    0.503866\n",
       "82        0    0.020922\n",
       "71        0    0.011937\n",
       "89        0    0.389448\n",
       "83        0    0.049610\n",
       "116       0    0.525415\n",
       "33        0    0.206456\n",
       "111       0    0.023905\n",
       "6         0    0.428294\n",
       "197       0    0.179830\n",
       "186       0    0.018367\n",
       "155       0    0.367032\n",
       "179       0    0.177423\n",
       "190       0    0.429911\n",
       "118       0    0.133437\n",
       "99        0    0.105754\n",
       "112       0    0.313908\n",
       "102       0    0.020922\n",
       "159       0    0.056914\n",
       "26        0    0.051821\n",
       "80        0    0.470834\n",
       "180       0    0.035947\n",
       "121       0    0.020922\n",
       "105       0    0.017655\n",
       "45        0    0.558786\n",
       "47        0    0.136934\n",
       "123       0    0.372409"
      ]
     },
     "execution_count": 60,
     "metadata": {},
     "output_type": "execute_result"
    }
   ],
   "source": [
    "y_test_pred = pd.DataFrame({'actual':y_test,'prediction':y_pred_best})\n",
    "y_test_pred[y_test_pred['actual']== 0]"
   ]
  },
  {
   "cell_type": "code",
   "execution_count": 57,
   "metadata": {},
   "outputs": [],
   "source": [
    "cv_logloss_rf2 = -cross_val_score(best_rf_model, X, y, cv = 10, scoring = 'neg_log_loss').mean()\n",
    "cv_logloss_rf2"
   ]
  },
  {
   "cell_type": "code",
   "execution_count": 59,
   "metadata": {},
   "outputs": [
    {
     "data": {
      "text/plain": [
       "<matplotlib.axes._subplots.AxesSubplot at 0x11598bba8>"
      ]
     },
     "execution_count": 59,
     "metadata": {},
     "output_type": "execute_result"
    },
    {
     "data": {
      "image/png": "[encoded data removed]",
      "text/plain": [
       "<Figure size 432x288 with 1 Axes>"
      ]
     },
     "metadata": {},
     "output_type": "display_data"
    }
   ],
   "source": [
    "feat_scores = pd.DataFrame({'Fraction of Samples Affected' : rf.feature_importances_},\n",
    "                           index=X.columns)\n",
    "feat_scores = feat_scores.sort_values(by='Fraction of Samples Affected')\n",
    "feat_scores.plot(kind='barh')"
   ]
  },
  {
   "cell_type": "code",
   "execution_count": 68,
   "metadata": {
    "scrolled": true
   },
   "outputs": [
    {
     "data": {
      "text/plain": [
       "(array([16.,  1.,  2.,  3.,  1.,  1.,  5.,  2.,  4.,  3.]),\n",
       " array([0.01193708, 0.06688058, 0.12182409, 0.17676759, 0.23171109,\n",
       "        0.2866546 , 0.3415981 , 0.3965416 , 0.45148511, 0.50642861,\n",
       "        0.56137211]),\n",
       " <a list of 10 Patch objects>)"
      ]
     },
     "execution_count": 68,
     "metadata": {},
     "output_type": "execute_result"
    },
    {
     "data": {
      "image/png": "[encoded data removed]",
      "text/plain": [
       "<Figure size 432x288 with 1 Axes>"
      ]
     },
     "metadata": {},
     "output_type": "display_data"
    }
   ],
   "source": [
    "plt.hist(y_test_pred[y_test_pred['actual']== 0]['prediction'], bins = 10)"
   ]
  },
  {
   "cell_type": "markdown",
   "metadata": {},
   "source": [
    "### ROC "
   ]
  },
  {
   "cell_type": "code",
   "execution_count": 178,
   "metadata": {
    "scrolled": true
   },
   "outputs": [
    {
     "data": {
      "text/plain": [
       "array([0.59      , 0.43      , 0.41      , 0.53      , 0.34      ,\n",
       "       0.0425    , 0.        , 0.09      , 0.01      , 0.01      ,\n",
       "       0.5       , 0.41      , 0.        , 0.52      , 0.58      ,\n",
       "       0.5       , 0.        , 0.5       , 0.        , 0.43333333,\n",
       "       0.75      , 0.0325    , 0.57      , 0.1       , 0.55      ,\n",
       "       0.        , 0.45      , 0.6       , 0.18      , 0.        ,\n",
       "       0.13      , 0.54      , 0.21      , 0.45      , 0.04      ,\n",
       "       0.        , 0.39      , 0.        , 0.01      , 0.01      ,\n",
       "       0.55      , 0.02      , 0.01      , 0.        , 0.85      ,\n",
       "       0.08      , 0.68      , 0.34      , 0.49      , 0.51      ])"
      ]
     },
     "execution_count": 178,
     "metadata": {},
     "output_type": "execute_result"
    }
   ],
   "source": [
    "y_pred_rf"
   ]
  },
  {
   "cell_type": "code",
   "execution_count": 179,
   "metadata": {},
   "outputs": [
    {
     "data": {
      "text/plain": [
       "0.7949561403508772"
      ]
     },
     "execution_count": 179,
     "metadata": {},
     "output_type": "execute_result"
    }
   ],
   "source": [
    "roc_auc_score(y_test, y_pred_rf)"
   ]
  },
  {
   "cell_type": "code",
   "execution_count": 180,
   "metadata": {},
   "outputs": [],
   "source": [
    "fpr, tpr, thresholds = roc_curve(y_test, y_pred_rf)"
   ]
  },
  {
   "cell_type": "code",
   "execution_count": 182,
   "metadata": {},
   "outputs": [
    {
     "data": {
      "text/plain": [
       "<matplotlib.legend.Legend at 0x1a376dd9e8>"
      ]
     },
     "execution_count": 182,
     "metadata": {},
     "output_type": "execute_result"
    },
    {
     "data": {
      "image/png": "[encoded data removed]",
      "text/plain": [
       "<Figure size 432x288 with 1 Axes>"
      ]
     },
     "metadata": {},
     "output_type": "display_data"
    }
   ],
   "source": [
    "plt.plot(fpr, tpr, label='ROC curve (area = %0.2f)' % roc_auc_score(y_test, y_pred_rf))\n",
    "plt.plot([0, 1], [0, 1], color='darkorange', linestyle='--')\n",
    "plt.xlabel('False Positive Rate')\n",
    "plt.ylabel('True Positive Rate')\n",
    "plt.title('Receiver operating characteristic')\n",
    "plt.legend(loc=\"lower right\")"
   ]
  },
  {
   "cell_type": "code",
   "execution_count": 89,
   "metadata": {},
   "outputs": [],
   "source": [
    "from src.DataPreparation import fc, ffc"
   ]
  },
  {
   "cell_type": "code",
   "execution_count": 2,
   "metadata": {},
   "outputs": [
    {
     "data": {
      "text/plain": [
       "1456"
      ]
     },
     "execution_count": 2,
     "metadata": {},
     "output_type": "execute_result"
    }
   ],
   "source": [
    "fc.count_documents({})"
   ]
  },
  {
   "cell_type": "code",
   "execution_count": 67,
   "metadata": {},
   "outputs": [],
   "source": [
    "users_data = list(fc.find())"
   ]
  },
  {
   "cell_type": "code",
   "execution_count": 68,
   "metadata": {},
   "outputs": [],
   "source": [
    "user_data_nested = users_data[5]"
   ]
  },
  {
   "cell_type": "code",
   "execution_count": 114,
   "metadata": {},
   "outputs": [
    {
     "data": {
      "text/plain": [
       "{'_id': ObjectId('5bfc88f3baead13dc62256a9'),\n",
       " 'url': 'https://www.instagram.com/wisnuhdyat33/',\n",
       " 'bundle_variant': 'base',\n",
       " 'config': {'csrf_token': 'fDcjrRvCtFooD23xol5qBzr6moL3aY5i',\n",
       "  'viewer': None,\n",
       "  'viewerId': None},\n",
       " 'country_code': 'US',\n",
       " 'deployment_stage': 'c2',\n",
       " 'entry_data': {'ProfilePage': [{'logging_page_id': 'profilePage_7171260484',\n",
       "    'show_suggested_profiles': False,\n",
       "    'graphql': {'user': {'biography': 'PERSIB BANDUNG⚽\\n🏘️Bogor, Indonesia🇮🇩',\n",
       "      'blocked_by_viewer': False,\n",
       "      'country_block': False,\n",
       "      'external_url': 'http://gmail.com/',\n",
       "      'external_url_linkshimmed': 'https://l.instagram.com/?u=http%3A%2F%2Fgmail.com%2F&e=ATONBAZKMy3sILUTApKhqPOOtq07OLEU6DPat66uj2SO9Mds2fERfzePFpgyXE2Lp8lKCb32',\n",
       "      'edge_followed_by': {'count': 516},\n",
       "      'followed_by_viewer': False,\n",
       "      'edge_follow': {'count': 258},\n",
       "      'follows_viewer': False,\n",
       "      'full_name': 'WisnuHidayat',\n",
       "      'has_channel': False,\n",
       "      'has_blocked_viewer': False,\n",
       "      'highlight_reel_count': 0,\n",
       "      'has_requested_viewer': False,\n",
       "      'id': '7171260484',\n",
       "      'is_business_account': True,\n",
       "      'is_joined_recently': False,\n",
       "      'business_category_name': 'Creators & Celebrities',\n",
       "      'business_email': 'wishnu825@gmail.com',\n",
       "      'business_phone_number': '+6289638283556',\n",
       "      'business_address_json': '{\"street_address\": \"\", \"zip_code\": \"\", \"city_name\": \"\", \"region_name\": \"\", \"country_code\": \"\"}',\n",
       "      'is_private': False,\n",
       "      'is_verified': False,\n",
       "      'edge_mutual_followed_by': {'count': 0, 'edges': []},\n",
       "      'profile_pic_url': 'https://scontent-sjc3-1.cdninstagram.com/vp/0a7428bf9adf875bc3a08f20ad93871c/5CA360CF/t51.2885-19/s150x150/44252377_277647009558605_6162163302408388608_n.jpg',\n",
       "      'profile_pic_url_hd': 'https://scontent-sjc3-1.cdninstagram.com/vp/5a7add66375eb41432d51313e4823b4c/5C8D963F/t51.2885-19/s320x320/44252377_277647009558605_6162163302408388608_n.jpg',\n",
       "      'requested_by_viewer': False,\n",
       "      'username': 'wisnuhdyat33',\n",
       "      'connected_fb_page': None,\n",
       "      'edge_felix_video_timeline': {'count': 0,\n",
       "       'page_info': {'has_next_page': False, 'end_cursor': None},\n",
       "       'edges': []},\n",
       "      'edge_owner_to_timeline_media': {'count': 5,\n",
       "       'page_info': {'has_next_page': False, 'end_cursor': None},\n",
       "       'edges': [{'node': {'__typename': 'GraphVideo',\n",
       "          'id': '1918952270767070411',\n",
       "          'edge_media_to_caption': {'edges': [{'node': {'text': 'TODAY IS PERSIB DAY 💙 \\nBedelll mang💃😂 #maungbandung #bobotoh #chant #vikingbogor #persibclub'}}]},\n",
       "          'shortcode': 'BqhfOxYABzL',\n",
       "          'edge_media_to_comment': {'count': 0},\n",
       "          'comments_disabled': False,\n",
       "          'taken_at_timestamp': 1542976983,\n",
       "          'dimensions': {'height': 640, 'width': 640},\n",
       "          'display_url': 'https://scontent-sjc3-1.cdninstagram.com/vp/63f1213426ad9399c8aa74b0b3d1b15e/5C0ABE33/t51.2885-15/e35/43334593_365886184169020_4220963850079845442_n.jpg',\n",
       "          'edge_liked_by': {'count': 17},\n",
       "          'edge_media_preview_like': {'count': 17},\n",
       "          'location': None,\n",
       "          'gating_info': None,\n",
       "          'media_preview': 'ACoqwZExyKhrQIz/AI/4VTdCO1Zxd9Dsq07e8thG5P1oGUP0pQuAGPTNDbScimZ267PRjG5NNqTucikwKoza6miDmmSxlxx1FNZWQ7h+dPim3cNwe1c+2qPVupe5PRsasYkTpjH+c1DtVM56gfgfcfhVtpAmV9s0GEMOee4oUrb7ESpqW1uZf1qUZBg5ByD0/wAKQSqP4f1p3yqSCMjp7io9lbepxu6d4281o7fea1V5oc/Mv4irNLXKnbVHpyipKzM0As6hvp7/AENaYFVrkDaD3yKlhORVSd0mZQXK5LfbUZNCD8w59R6j/GlEHHB4+lSA/MRUlTzPYrlV79z/2Q==',\n",
       "          'owner': {'id': '7171260484', 'username': 'wisnuhdyat33'},\n",
       "          'thumbnail_src': 'https://scontent-sjc3-1.cdninstagram.com/vp/63f1213426ad9399c8aa74b0b3d1b15e/5C0ABE33/t51.2885-15/e35/43334593_365886184169020_4220963850079845442_n.jpg',\n",
       "          'thumbnail_resources': [{'src': 'https://scontent-sjc3-1.cdninstagram.com/vp/0e890d751e4763c62effc76c0523283c/5C0AAF71/t51.2885-15/e35/s150x150/43334593_365886184169020_4220963850079845442_n.jpg',\n",
       "            'config_width': 150,\n",
       "            'config_height': 150},\n",
       "           {'src': 'https://scontent-sjc3-1.cdninstagram.com/vp/7bec3623738f6564d5f6a64d12b0d20c/5C0AB37B/t51.2885-15/e35/s240x240/43334593_365886184169020_4220963850079845442_n.jpg',\n",
       "            'config_width': 240,\n",
       "            'config_height': 240},\n",
       "           {'src': 'https://scontent-sjc3-1.cdninstagram.com/vp/94959d835ae8024469debfc99f4ee656/5C0A6EC1/t51.2885-15/e35/s320x320/43334593_365886184169020_4220963850079845442_n.jpg',\n",
       "            'config_width': 320,\n",
       "            'config_height': 320},\n",
       "           {'src': 'https://scontent-sjc3-1.cdninstagram.com/vp/52de13bfd9a4b08a1c1b298314ce0840/5C0A6D5B/t51.2885-15/e35/s480x480/43334593_365886184169020_4220963850079845442_n.jpg',\n",
       "            'config_width': 480,\n",
       "            'config_height': 480},\n",
       "           {'src': 'https://scontent-sjc3-1.cdninstagram.com/vp/63f1213426ad9399c8aa74b0b3d1b15e/5C0ABE33/t51.2885-15/e35/43334593_365886184169020_4220963850079845442_n.jpg',\n",
       "            'config_width': 640,\n",
       "            'config_height': 640}],\n",
       "          'is_video': True,\n",
       "          'video_view_count': 45}},\n",
       "        {'node': {'__typename': 'GraphImage',\n",
       "          'id': '1910004488408837496',\n",
       "          'edge_media_to_caption': {'edges': [{'node': {'text': 'Bahagia ga harus tentang pacar😊'}}]},\n",
       "          'shortcode': 'BqBsvZrAq14',\n",
       "          'edge_media_to_comment': {'count': 4},\n",
       "          'comments_disabled': False,\n",
       "          'taken_at_timestamp': 1541910299,\n",
       "          'dimensions': {'height': 1080, 'width': 1080},\n",
       "          'display_url': 'https://scontent-sjc3-1.cdninstagram.com/vp/fc8114fcfd515d08121733d5bad48ff3/5C93F83A/t51.2885-15/e35/42861122_267086670658431_902680829723520111_n.jpg',\n",
       "          'edge_liked_by': {'count': 43},\n",
       "          'edge_media_preview_like': {'count': 43},\n",
       "          'location': None,\n",
       "          'gating_info': None,\n",
       "          'media_preview': 'ACoq5uiilpDHqM1ZntHhUM3RuRTo7QHafMjG/wBT0Poff8q0L7T2hj3hi6jrnt7j1FS7302LTVtdzBIpKcaSqJDFFJUkabj7UCNHS41djuGSMHoCMc5q3fXASMwg4EmT04GMcD0B9RVK1ULIBjOeOM5/+vUl7Ks3ygcqevtj/Gp6l9LGVSUpGDg0lUSJU0fA+tQ1MvQUCRPmnhcqW6bf17Y+tRCndiKRZBMOhqGppOgqGmQz/9k=',\n",
       "          'owner': {'id': '7171260484', 'username': 'wisnuhdyat33'},\n",
       "          'thumbnail_src': 'https://scontent-sjc3-1.cdninstagram.com/vp/8b08881a85fa9d255cdab832d8d1fd75/5C90D249/t51.2885-15/sh0.08/e35/s640x640/42861122_267086670658431_902680829723520111_n.jpg',\n",
       "          'thumbnail_resources': [{'src': 'https://scontent-sjc3-1.cdninstagram.com/vp/fdf23b8e535b181f1394ed668efe3ca6/5C9467A8/t51.2885-15/e35/s150x150/42861122_267086670658431_902680829723520111_n.jpg',\n",
       "            'config_width': 150,\n",
       "            'config_height': 150},\n",
       "           {'src': 'https://scontent-sjc3-1.cdninstagram.com/vp/16493d18b2dd8b5ef8356f384551d886/5C93C01D/t51.2885-15/e35/s240x240/42861122_267086670658431_902680829723520111_n.jpg',\n",
       "            'config_width': 240,\n",
       "            'config_height': 240},\n",
       "           {'src': 'https://scontent-sjc3-1.cdninstagram.com/vp/14b6639ff6640ab97fa281f30604d401/5C8C37A5/t51.2885-15/e35/s320x320/42861122_267086670658431_902680829723520111_n.jpg',\n",
       "            'config_width': 320,\n",
       "            'config_height': 320},\n",
       "           {'src': 'https://scontent-sjc3-1.cdninstagram.com/vp/eec07b0ecaf88e9a82091b19e6a6fb68/5C9320F9/t51.2885-15/e35/s480x480/42861122_267086670658431_902680829723520111_n.jpg',\n",
       "            'config_width': 480,\n",
       "            'config_height': 480},\n",
       "           {'src': 'https://scontent-sjc3-1.cdninstagram.com/vp/8b08881a85fa9d255cdab832d8d1fd75/5C90D249/t51.2885-15/sh0.08/e35/s640x640/42861122_267086670658431_902680829723520111_n.jpg',\n",
       "            'config_width': 640,\n",
       "            'config_height': 640}],\n",
       "          'is_video': False,\n",
       "          'accessibility_caption': None}},\n",
       "        {'node': {'__typename': 'GraphImage',\n",
       "          'id': '1909817383418094093',\n",
       "          'edge_media_to_caption': {'edges': [{'node': {'text': 'RENUNGKANLAH..\\nWaktu terus berjalan.\\nKita sibuk merisaukan jodoh, sedangkan kematian semakin mendekat. \\nMemantaskan diri untuk bertemu dengannya, sedangkan kita gak punya bekal apa² untuk bertemu dengannya😔😔😔'}}]},\n",
       "          'shortcode': 'BqBCMqkgGIN',\n",
       "          'edge_media_to_comment': {'count': 0},\n",
       "          'comments_disabled': False,\n",
       "          'taken_at_timestamp': 1541887995,\n",
       "          'dimensions': {'height': 1080, 'width': 1080},\n",
       "          'display_url': 'https://scontent-sjc3-1.cdninstagram.com/vp/b0f37b33497a1d8c3802c28d364a7b71/5CAB34DC/t51.2885-15/e35/44226349_291061641741894_3460138320189581170_n.jpg',\n",
       "          'edge_liked_by': {'count': 28},\n",
       "          'edge_media_preview_like': {'count': 28},\n",
       "          'location': None,\n",
       "          'gating_info': None,\n",
       "          'media_preview': 'ACoq6PNGaqic07zqAJJndVyg3kdvbvj3rLm1T+BRsfvu6j6CtHzq5q/YSTM3bOOevH/16QF+G/kU/Mdw9DW4rBgD6jNcfbsQwU5bJx7/AIV1CXMQUDcOAOtAzPDGnbqr7qXfWHOxEktysI3N+HvWNLMJ5CUBGeTmi/l3vtHRf596ggO1/wAK2WquwRYimaH51AJHr0/zir41SMjJHPf/ADiseebfwOmah3Uwepu7h70B6jpTXMIyZW3yMfc1HTu7U010jEpKK3ABik3YD//Z',\n",
       "          'owner': {'id': '7171260484', 'username': 'wisnuhdyat33'},\n",
       "          'thumbnail_src': 'https://scontent-sjc3-1.cdninstagram.com/vp/ecf7c8f1d6017b76397e14b673b6b1d2/5C968239/t51.2885-15/sh0.08/e35/s640x640/44226349_291061641741894_3460138320189581170_n.jpg',\n",
       "          'thumbnail_resources': [{'src': 'https://scontent-sjc3-1.cdninstagram.com/vp/84bd934a370bde403d116e41cd23b631/5C9BD19E/t51.2885-15/e35/s150x150/44226349_291061641741894_3460138320189581170_n.jpg',\n",
       "            'config_width': 150,\n",
       "            'config_height': 150},\n",
       "           {'src': 'https://scontent-sjc3-1.cdninstagram.com/vp/307f8a8d0223d54014475a683ac1441c/5C95C0D4/t51.2885-15/e35/s240x240/44226349_291061641741894_3460138320189581170_n.jpg',\n",
       "            'config_width': 240,\n",
       "            'config_height': 240},\n",
       "           {'src': 'https://scontent-sjc3-1.cdninstagram.com/vp/9e15d348f4bf2ea0361008c738e710ff/5C97B76E/t51.2885-15/e35/s320x320/44226349_291061641741894_3460138320189581170_n.jpg',\n",
       "            'config_width': 320,\n",
       "            'config_height': 320},\n",
       "           {'src': 'https://scontent-sjc3-1.cdninstagram.com/vp/adea15c9c7a60ea55567163ab626df69/5C8B8D34/t51.2885-15/e35/s480x480/44226349_291061641741894_3460138320189581170_n.jpg',\n",
       "            'config_width': 480,\n",
       "            'config_height': 480},\n",
       "           {'src': 'https://scontent-sjc3-1.cdninstagram.com/vp/ecf7c8f1d6017b76397e14b673b6b1d2/5C968239/t51.2885-15/sh0.08/e35/s640x640/44226349_291061641741894_3460138320189581170_n.jpg',\n",
       "            'config_width': 640,\n",
       "            'config_height': 640}],\n",
       "          'is_video': False,\n",
       "          'accessibility_caption': None}},\n",
       "        {'node': {'__typename': 'GraphImage',\n",
       "          'id': '1906614213435309780',\n",
       "          'edge_media_to_caption': {'edges': [{'node': {'text': 'Wik wik wik wik ah ah ah ah😂'}}]},\n",
       "          'shortcode': 'Bp1p4aDhb7U',\n",
       "          'edge_media_to_comment': {'count': 2},\n",
       "          'comments_disabled': False,\n",
       "          'taken_at_timestamp': 1541506147,\n",
       "          'dimensions': {'height': 1080, 'width': 1080},\n",
       "          'display_url': 'https://scontent-sjc3-1.cdninstagram.com/vp/11befaeeae61fb423c0dbe503bc53da6/5CA67996/t51.2885-15/e35/44729388_464242047439504_2196723744709449961_n.jpg',\n",
       "          'edge_liked_by': {'count': 29},\n",
       "          'edge_media_preview_like': {'count': 29},\n",
       "          'location': None,\n",
       "          'gating_info': None,\n",
       "          'media_preview': 'ACoqtAd6Rjgc9KC3bk/QVE5Zv9kfrQBSl1AL9xdw9TkD8Kmt7oXGeMMvUf1FOAY4BxgDketRQwrGSw6nj6VNymralllzx2NOpoNLmqJLGKjanms68mKjaDjNAD0bexC/w9TTJXe3I3D5G6evv/k1XtLlrd89VONw/r9aXUJjJMRn5U4H9T+NK3Ud7qxahmWToeR2qxgVioTE49sfrWxmmImNY9994fStlqyNR6j6UCKYpXHSg0r9vpQIj71so52jjsKyE61tr0FAz//Z',\n",
       "          'owner': {'id': '7171260484', 'username': 'wisnuhdyat33'},\n",
       "          'thumbnail_src': 'https://scontent-sjc3-1.cdninstagram.com/vp/27ca710eb016f9f4323a3f79cdd10106/5C916473/t51.2885-15/sh0.08/e35/s640x640/44729388_464242047439504_2196723744709449961_n.jpg',\n",
       "          'thumbnail_resources': [{'src': 'https://scontent-sjc3-1.cdninstagram.com/vp/93dde3fd1fcb7beab22f7cf837aa5e94/5CAD29D4/t51.2885-15/e35/s150x150/44729388_464242047439504_2196723744709449961_n.jpg',\n",
       "            'config_width': 150,\n",
       "            'config_height': 150},\n",
       "           {'src': 'https://scontent-sjc3-1.cdninstagram.com/vp/e4fce6c4a696992863be567699cb78bd/5C983A9E/t51.2885-15/e35/s240x240/44729388_464242047439504_2196723744709449961_n.jpg',\n",
       "            'config_width': 240,\n",
       "            'config_height': 240},\n",
       "           {'src': 'https://scontent-sjc3-1.cdninstagram.com/vp/ae3e3afa23b69cec263b61af580fb096/5CABCF24/t51.2885-15/e35/s320x320/44729388_464242047439504_2196723744709449961_n.jpg',\n",
       "            'config_width': 320,\n",
       "            'config_height': 320},\n",
       "           {'src': 'https://scontent-sjc3-1.cdninstagram.com/vp/d32f824969b276b46405848ba2495dc8/5CAFCB7E/t51.2885-15/e35/s480x480/44729388_464242047439504_2196723744709449961_n.jpg',\n",
       "            'config_width': 480,\n",
       "            'config_height': 480},\n",
       "           {'src': 'https://scontent-sjc3-1.cdninstagram.com/vp/27ca710eb016f9f4323a3f79cdd10106/5C916473/t51.2885-15/sh0.08/e35/s640x640/44729388_464242047439504_2196723744709449961_n.jpg',\n",
       "            'config_width': 640,\n",
       "            'config_height': 640}],\n",
       "          'is_video': False,\n",
       "          'accessibility_caption': None}},\n",
       "        {'node': {'__typename': 'GraphImage',\n",
       "          'id': '1906411217006987144',\n",
       "          'edge_media_to_caption': {'edges': [{'node': {'text': 'Jnganlupaberdoa🤗'}}]},\n",
       "          'shortcode': 'Bp07ua5hYeI',\n",
       "          'edge_media_to_comment': {'count': 0},\n",
       "          'comments_disabled': False,\n",
       "          'taken_at_timestamp': 1541481948,\n",
       "          'dimensions': {'height': 1080, 'width': 1080},\n",
       "          'display_url': 'https://scontent-sjc3-1.cdninstagram.com/vp/eee182b6ab3bfc5f2a4e3d4ca95dfd2d/5C8D50C9/t51.2885-15/e35/43915091_312573282909542_1418998426040518148_n.jpg',\n",
       "          'edge_liked_by': {'count': 32},\n",
       "          'edge_media_preview_like': {'count': 32},\n",
       "          'location': {'id': '399201265',\n",
       "           'has_public_page': True,\n",
       "           'name': 'West Java',\n",
       "           'slug': 'west-java'},\n",
       "          'gating_info': None,\n",
       "          'media_preview': 'ACoqhth8pqxjNVrc/KamdsDgZpADzJH94gURnzBkHI7EdPpVBVy+Wxyep5x6fhWkse0DacZGSB0z3P40rlW6kgSn4qNUI7nr6mpqoky4OhqV3Kjj9aih71WvGO4L2pASgmX5gOF7+/p+FW5pmidMj5XH48f0rPs7gwvtP3WPPt7/AOe1S3kxml46LwPr0ot1HfSxfT97yDkVL5fvWdYuVcoff8xWrzTEZcKsPmIwD0z3qpeff/Cty46Csi87UgKANTtwQexquKnU9PoaYiW3z5oI6ZH/AOqt7NZdgBgf59a1KAP/2Q==',\n",
       "          'owner': {'id': '7171260484', 'username': 'wisnuhdyat33'},\n",
       "          'thumbnail_src': 'https://scontent-sjc3-1.cdninstagram.com/vp/ec4d53e195f6c4510d5a7dd6c3e29903/5C8D032C/t51.2885-15/sh0.08/e35/s640x640/43915091_312573282909542_1418998426040518148_n.jpg',\n",
       "          'thumbnail_resources': [{'src': 'https://scontent-sjc3-1.cdninstagram.com/vp/54d9065b350e3037a939c17288aac8a3/5C8C9B8B/t51.2885-15/e35/s150x150/43915091_312573282909542_1418998426040518148_n.jpg',\n",
       "            'config_width': 150,\n",
       "            'config_height': 150},\n",
       "           {'src': 'https://scontent-sjc3-1.cdninstagram.com/vp/1faa3f3b9da7e8e1250641fa0e4c9571/5CB236C1/t51.2885-15/e35/s240x240/43915091_312573282909542_1418998426040518148_n.jpg',\n",
       "            'config_width': 240,\n",
       "            'config_height': 240},\n",
       "           {'src': 'https://scontent-sjc3-1.cdninstagram.com/vp/53f45f068f6927f89ef514c830eafca5/5C95177B/t51.2885-15/e35/s320x320/43915091_312573282909542_1418998426040518148_n.jpg',\n",
       "            'config_width': 320,\n",
       "            'config_height': 320},\n",
       "           {'src': 'https://scontent-sjc3-1.cdninstagram.com/vp/1318331e26b3bcd1cf631248cfd9aed5/5CA70B21/t51.2885-15/e35/s480x480/43915091_312573282909542_1418998426040518148_n.jpg',\n",
       "            'config_width': 480,\n",
       "            'config_height': 480},\n",
       "           {'src': 'https://scontent-sjc3-1.cdninstagram.com/vp/ec4d53e195f6c4510d5a7dd6c3e29903/5C8D032C/t51.2885-15/sh0.08/e35/s640x640/43915091_312573282909542_1418998426040518148_n.jpg',\n",
       "            'config_width': 640,\n",
       "            'config_height': 640}],\n",
       "          'is_video': False,\n",
       "          'accessibility_caption': None}}]},\n",
       "      'edge_saved_media': {'count': 0,\n",
       "       'page_info': {'has_next_page': False, 'end_cursor': None},\n",
       "       'edges': []},\n",
       "      'edge_media_collections': {'count': 0,\n",
       "       'page_info': {'has_next_page': False, 'end_cursor': None},\n",
       "       'edges': []}}},\n",
       "    'felix_onboarding_video_resources': {'mp4': '/static/videos/felix-onboarding/onboardingVideo.mp4/9d16838ca7f9.mp4',\n",
       "     'poster': '/static/images/felix-onboarding/onboardingVideoPoster.png/8fdba7cf2120.png'}}]},\n",
       " 'gatekeepers': {'seo': True,\n",
       "  'seoht': True,\n",
       "  'phone_qp': True,\n",
       "  'nt': True,\n",
       "  'rp': True},\n",
       " 'hostname': 'www.instagram.com',\n",
       " 'knobs': {'acct:ntb': 0, 'cb': 0, 'captcha': 0, 'fr': 0},\n",
       " 'language_code': 'en',\n",
       " 'locale': 'en_US',\n",
       " 'mid_pct': 33.12684,\n",
       " 'nonce': 'k6zuN5Ukb/Ede8P85aP0ug==',\n",
       " 'platform': 'web',\n",
       " 'probably_has_app': False,\n",
       " 'qe': {'early_flush': {'g': '', 'p': {}},\n",
       "  'form_navigation_dialog': {'g': '', 'p': {}},\n",
       "  'cred_man': {'g': '', 'p': {}},\n",
       "  'fsu_count': {'g': '', 'p': {}},\n",
       "  'iab': {'g': '', 'p': {}},\n",
       "  'app_upsell_li': {'g': '', 'p': {}},\n",
       "  'app_upsell': {'g': '', 'p': {}},\n",
       "  'shfb': {'g': '', 'p': {}},\n",
       "  'lsc': {'g': '', 'p': {}},\n",
       "  'profile_header_name': {'g': '', 'p': {}},\n",
       "  'bc3l': {'g': '', 'p': {}},\n",
       "  'direct_conversation_reporting': {'g': '', 'p': {}},\n",
       "  'general_reporting': {'g': '', 'p': {}},\n",
       "  'reporting': {'g': '', 'p': {}},\n",
       "  'acc_recovery_link': {'g': '', 'p': {}},\n",
       "  'notif': {'g': '', 'p': {}},\n",
       "  'fb_unlink': {'g': '', 'p': {}},\n",
       "  'mobile_stories_doodling': {'g': '', 'p': {}},\n",
       "  'show_copy_link': {'g': '', 'p': {}},\n",
       "  'p_edit': {'g': '', 'p': {}},\n",
       "  '404_as_react': {'g': '', 'p': {}},\n",
       "  'acc_recovery': {'g': '', 'p': {}},\n",
       "  'collections': {'g': '', 'p': {}},\n",
       "  'comment_ta': {'g': '', 'p': {}},\n",
       "  'su': {'g': '', 'p': {}},\n",
       "  'ebd_ul': {'g': '', 'p': {}},\n",
       "  'ebdsim_li': {'g': '', 'p': {}},\n",
       "  'ebdsim_lo': {'g': '', 'p': {}},\n",
       "  'empty_feed': {'g': '', 'p': {}},\n",
       "  'bundles': {'g': '', 'p': {}},\n",
       "  'appsell': {'g': '', 'p': {}},\n",
       "  'heart_tab': {'g': '', 'p': {}},\n",
       "  'imgopt': {'g': '', 'p': {}},\n",
       "  'follow_button': {'g': '', 'p': {}},\n",
       "  'log_cont': {'g': 'control_intent_1', 'p': {'has_contextual': 'false'}},\n",
       "  'msisdn': {'g': '', 'p': {}},\n",
       "  'onetaplogin': {'g': '', 'p': {}},\n",
       "  'login_poe': {'g': '', 'p': {}},\n",
       "  'profile_tabs': {'g': '', 'p': {}},\n",
       "  'push_notifications': {'g': '', 'p': {}},\n",
       "  'reg': {'g': '', 'p': {}},\n",
       "  'em_sig': {'g': 'test_w_dialog',\n",
       "   'p': {'has_multi_step_email_suggestion': 'true',\n",
       "    'has_signup_email_suggestion': 'false'}},\n",
       "  'multireg_iter': {'g': 'control_11_29',\n",
       "   'p': {'has_prioritized_phone': 'false'}},\n",
       "  'reg_vp': {'g': '', 'p': {}},\n",
       "  'report_media': {'g': '', 'p': {}},\n",
       "  'report_profile': {'g': '', 'p': {}},\n",
       "  'sidecar_swipe': {'g': '', 'p': {}},\n",
       "  'su_universe': {'g': 'test_login_autocomplete',\n",
       "   'p': {'use_autocomplete_signup': 'true'}},\n",
       "  'stale': {'g': '', 'p': {}},\n",
       "  'lo_stories': {'g': 'test_highlights',\n",
       "   'p': {'contextual_login_highlights': 'true'}},\n",
       "  'stories': {'g': '', 'p': {}},\n",
       "  'tp_pblshr': {'g': '', 'p': {}},\n",
       "  'video': {'g': '', 'p': {}},\n",
       "  'felix': {'g': '', 'p': {}},\n",
       "  'felix_clear_fb_cookie': {'g': '', 'p': {}},\n",
       "  'felix_creation_duration_limits': {'g': '', 'p': {}},\n",
       "  'felix_creation_enabled': {'g': '', 'p': {}},\n",
       "  'felix_creation_fb_crossposting': {'g': '', 'p': {}},\n",
       "  'felix_creation_fb_crossposting_v2': {'g': '', 'p': {}},\n",
       "  'felix_creation_validation': {'g': '', 'p': {}},\n",
       "  'felix_creation_video_upload': {'g': '', 'p': {}},\n",
       "  'felix_early_onboarding': {'g': '', 'p': {}},\n",
       "  'unfollow_confirm': {'g': '', 'p': {}},\n",
       "  'profile_enhance_li': {'g': '', 'p': {}},\n",
       "  'profile_enhance_lo': {'g': '', 'p': {}},\n",
       "  'comment_enhance': {'g': '', 'p': {}},\n",
       "  'mweb_topical_explore': {'g': '', 'p': {}},\n",
       "  'web_nametag': {'g': '', 'p': {}},\n",
       "  'follow_all_fb': {'g': '', 'p': {}},\n",
       "  'lite_direct_upsell': {'g': '', 'p': {}},\n",
       "  'web_loggedout_noop': {'g': 'control', 'p': {'profile_page': 'false'}},\n",
       "  'a2hs_heuristic_uc': {'g': '', 'p': {}},\n",
       "  'a2hs_heuristic_non_uc': {'g': '', 'p': {}},\n",
       "  'web_hashtag': {'g': '', 'p': {}},\n",
       "  'web_hashtag_logged_out': {'g': '', 'p': {}},\n",
       "  'header_scroll': {'g': '', 'p': {}},\n",
       "  'rout': {'g': '', 'p': {}},\n",
       "  'web_lo_follow': {'g': '', 'p': {}},\n",
       "  'web_share': {'g': '', 'p': {}},\n",
       "  'lite_rating': {'g': '', 'p': {}},\n",
       "  'web_embeds_share': {'g': '', 'p': {}},\n",
       "  'web_share_lo': {'g': '', 'p': {}},\n",
       "  'web_embeds_logged_out': {'g': 'test_comment_input',\n",
       "   'p': {'show_comment_input': 'true'}},\n",
       "  'web_datasaver_mode': {'g': '', 'p': {}},\n",
       "  'lite_datasaver_mode': {'g': '', 'p': {}},\n",
       "  'lite_video_upload': {'g': '', 'p': {}},\n",
       "  'ig_aat': {'g': '', 'p': {}},\n",
       "  'post_options': {'g': '', 'p': {}},\n",
       "  'igtv_public_viewing': {'g': '', 'p': {}},\n",
       "  'caching': {'g': '', 'p': {}},\n",
       "  'feed_video_user_tag': {'g': '', 'p': {}},\n",
       "  'feed_video_user_tag_logged_out': {'g': '', 'p': {}},\n",
       "  'nux': {'g': '', 'p': {}},\n",
       "  'hpi': {'g': '', 'p': {}}},\n",
       " 'rhx_gis': 'd2ce1f8401d0dc0290c14b304d401268',\n",
       " 'rollout_hash': '0bdf39cea5a9',\n",
       " 'server_checks': {},\n",
       " 'supports_es6': True,\n",
       " 'zero_data': {}}"
      ]
     },
     "execution_count": 114,
     "metadata": {},
     "output_type": "execute_result"
    }
   ],
   "source": [
    "user_data_nested"
   ]
  },
  {
   "cell_type": "code",
   "execution_count": 118,
   "metadata": {},
   "outputs": [],
   "source": [
    "def flatten_user_data(user_data_nested):\n",
    "    \"\"\"Return a flat dictionary of user data.\"\"\"\n",
    "    udn = user_data_nested\n",
    "    ud = {}\n",
    "    ud['url'] = udn['url']\n",
    "    if ('entry_data' in udn\n",
    "        and 'ProfilePage' in udn['entry_data']\n",
    "        and type(udn['entry_data']['ProfilePage']) == list\n",
    "        and len(udn['entry_data']['ProfilePage']) > 0\n",
    "        and 'graphql' in udn['entry_data']['ProfilePage'][0]\n",
    "        and 'user' in udn['entry_data']['ProfilePage'][0]['graphql']\n",
    "       ):\n",
    "        gql = udn['entry_data']['ProfilePage'][0]['graphql']['user']\n",
    "        ud['bio'] = gql['biography']\n",
    "        ud['followed_by'] = gql['edge_followed_by']['count']\n",
    "        ud['follows'] = gql['edge_follow']['count']\n",
    "        ud['num_posts'] = gql['edge_owner_to_timeline_media']['count']\n",
    "        ud['id'] = gql['id']\n",
    "        ud['is_joined_recently'] = gql['is_joined_recently']\n",
    "        ud['is_private'] = gql['is_private']\n",
    "        ud['is_business_account'] = gql['is_business_account']\n",
    "        \n",
    "        \n",
    "    return ud\n",
    "    "
   ]
  },
  {
   "cell_type": "code",
   "execution_count": 119,
   "metadata": {},
   "outputs": [
    {
     "data": {
      "text/plain": [
       "{'url': 'https://www.instagram.com/wisnuhdyat33/',\n",
       " 'bio': 'PERSIB BANDUNG⚽\\n🏘️Bogor, Indonesia🇮🇩',\n",
       " 'followed_by': 516,\n",
       " 'follows': 258,\n",
       " 'num_posts': 5,\n",
       " 'id': '7171260484',\n",
       " 'is_joined_recently': False,\n",
       " 'is_private': False,\n",
       " 'is_business_account': True}"
      ]
     },
     "execution_count": 119,
     "metadata": {},
     "output_type": "execute_result"
    }
   ],
   "source": [
    "flatten_user_data(user_data_nested)"
   ]
  },
  {
   "cell_type": "code",
   "execution_count": null,
   "metadata": {},
   "outputs": [],
   "source": []
  },
  {
   "cell_type": "code",
   "execution_count": 120,
   "metadata": {},
   "outputs": [],
   "source": [
    "def update_ffc():    \n",
    "    for user in fc.find():\n",
    "        if user['url'].endswith('/'):\n",
    "            ffc.delete_many({'url': user['url']})\n",
    "            user['url'] = user['url'][:-1]\n",
    "        flat_user = flatten_user_data(user)\n",
    "        ffc.delete_many({'url': flat_user['url']})\n",
    "        ffc.insert_one(flat_user)"
   ]
  },
  {
   "cell_type": "code",
   "execution_count": 121,
   "metadata": {},
   "outputs": [],
   "source": [
    "update_ffc()"
   ]
  },
  {
   "cell_type": "code",
   "execution_count": 122,
   "metadata": {},
   "outputs": [
    {
     "data": {
      "text/html": [
       "<div>\n",
       "<style scoped>\n",
       "    .dataframe tbody tr th:only-of-type {\n",
       "        vertical-align: middle;\n",
       "    }\n",
       "\n",
       "    .dataframe tbody tr th {\n",
       "        vertical-align: top;\n",
       "    }\n",
       "\n",
       "    .dataframe thead th {\n",
       "        text-align: right;\n",
       "    }\n",
       "</style>\n",
       "<table border=\"1\" class=\"dataframe\">\n",
       "  <thead>\n",
       "    <tr style=\"text-align: right;\">\n",
       "      <th></th>\n",
       "      <th>_id</th>\n",
       "      <th>bio</th>\n",
       "      <th>followed_by</th>\n",
       "      <th>follows</th>\n",
       "      <th>id</th>\n",
       "      <th>is_business_account</th>\n",
       "      <th>is_joined_recently</th>\n",
       "      <th>is_private</th>\n",
       "      <th>num_posts</th>\n",
       "      <th>url</th>\n",
       "    </tr>\n",
       "  </thead>\n",
       "  <tbody>\n",
       "    <tr>\n",
       "      <th>0</th>\n",
       "      <td>5c09710bbaead106a8cd66ab</td>\n",
       "      <td></td>\n",
       "      <td>63.0</td>\n",
       "      <td>76.0</td>\n",
       "      <td>8882294111</td>\n",
       "      <td>False</td>\n",
       "      <td>False</td>\n",
       "      <td>False</td>\n",
       "      <td>2.0</td>\n",
       "      <td>https://www.instagram.com/lirlando</td>\n",
       "    </tr>\n",
       "    <tr>\n",
       "      <th>1</th>\n",
       "      <td>5c09710bbaead106a8cd66ad</td>\n",
       "      <td>Haters make me famous😻\\n@irvan740 ❤</td>\n",
       "      <td>870.0</td>\n",
       "      <td>136.0</td>\n",
       "      <td>7422647242</td>\n",
       "      <td>True</td>\n",
       "      <td>False</td>\n",
       "      <td>False</td>\n",
       "      <td>3.0</td>\n",
       "      <td>https://www.instagram.com/ndah.endah.3701</td>\n",
       "    </tr>\n",
       "    <tr>\n",
       "      <th>2</th>\n",
       "      <td>5c09710bbaead106a8cd66c3</td>\n",
       "      <td>Viaggia... a modo tuo! #Mazzone #Travel</td>\n",
       "      <td>2100.0</td>\n",
       "      <td>700.0</td>\n",
       "      <td>4091271053</td>\n",
       "      <td>True</td>\n",
       "      <td>False</td>\n",
       "      <td>False</td>\n",
       "      <td>180.0</td>\n",
       "      <td>https://www.instagram.com/mazzoneviaggi</td>\n",
       "    </tr>\n",
       "    <tr>\n",
       "      <th>3</th>\n",
       "      <td>5c09710bbaead106a8cd66c4</td>\n",
       "      <td></td>\n",
       "      <td>14.0</td>\n",
       "      <td>48.0</td>\n",
       "      <td>9418121438</td>\n",
       "      <td>False</td>\n",
       "      <td>True</td>\n",
       "      <td>False</td>\n",
       "      <td>0.0</td>\n",
       "      <td>https://www.instagram.com/chrismainahperre</td>\n",
       "    </tr>\n",
       "    <tr>\n",
       "      <th>4</th>\n",
       "      <td>5c09710bbaead106a8cd66d0</td>\n",
       "      <td>NaN</td>\n",
       "      <td>NaN</td>\n",
       "      <td>NaN</td>\n",
       "      <td>NaN</td>\n",
       "      <td>NaN</td>\n",
       "      <td>NaN</td>\n",
       "      <td>NaN</td>\n",
       "      <td>NaN</td>\n",
       "      <td>https://www.instagram.com/lass.chuletitasss.papa</td>\n",
       "    </tr>\n",
       "  </tbody>\n",
       "</table>\n",
       "</div>"
      ],
      "text/plain": [
       "                        _id                                      bio  \\\n",
       "0  5c09710bbaead106a8cd66ab                                            \n",
       "1  5c09710bbaead106a8cd66ad      Haters make me famous😻\\n@irvan740 ❤   \n",
       "2  5c09710bbaead106a8cd66c3  Viaggia... a modo tuo! #Mazzone #Travel   \n",
       "3  5c09710bbaead106a8cd66c4                                            \n",
       "4  5c09710bbaead106a8cd66d0                                      NaN   \n",
       "\n",
       "   followed_by  follows          id is_business_account is_joined_recently  \\\n",
       "0         63.0     76.0  8882294111               False              False   \n",
       "1        870.0    136.0  7422647242                True              False   \n",
       "2       2100.0    700.0  4091271053                True              False   \n",
       "3         14.0     48.0  9418121438               False               True   \n",
       "4          NaN      NaN         NaN                 NaN                NaN   \n",
       "\n",
       "  is_private  num_posts                                               url  \n",
       "0      False        2.0                https://www.instagram.com/lirlando  \n",
       "1      False        3.0         https://www.instagram.com/ndah.endah.3701  \n",
       "2      False      180.0           https://www.instagram.com/mazzoneviaggi  \n",
       "3      False        0.0        https://www.instagram.com/chrismainahperre  \n",
       "4        NaN        NaN  https://www.instagram.com/lass.chuletitasss.papa  "
      ]
     },
     "execution_count": 122,
     "metadata": {},
     "output_type": "execute_result"
    }
   ],
   "source": [
    "df = pd.DataFrame(list(ffc.find()))\n",
    "df.head()"
   ]
  },
  {
   "cell_type": "code",
   "execution_count": 123,
   "metadata": {},
   "outputs": [
    {
     "data": {
      "text/plain": [
       "(1270, 10)"
      ]
     },
     "execution_count": 123,
     "metadata": {},
     "output_type": "execute_result"
    }
   ],
   "source": [
    "df.shape"
   ]
  },
  {
   "cell_type": "code",
   "execution_count": null,
   "metadata": {},
   "outputs": [],
   "source": []
  },
  {
   "cell_type": "code",
   "execution_count": null,
   "metadata": {},
   "outputs": [],
   "source": []
  },
  {
   "cell_type": "code",
   "execution_count": 109,
   "metadata": {},
   "outputs": [],
   "source": [
    "from collections import Counter\n",
    "bio_counts = Counter(df['bio'])\n"
   ]
  },
  {
   "cell_type": "code",
   "execution_count": null,
   "metadata": {},
   "outputs": [],
   "source": []
  },
  {
   "cell_type": "code",
   "execution_count": 112,
   "metadata": {},
   "outputs": [
    {
     "data": {
      "text/plain": [
       "[('', 521),\n",
       " (nan, 75),\n",
       " ('Haters make me famous😻\\n@irvan740 ❤', 1),\n",
       " ('Viaggia... a modo tuo! #Mazzone #Travel', 1),\n",
       " ('@kha10lid_n', 1)]"
      ]
     },
     "execution_count": 112,
     "metadata": {},
     "output_type": "execute_result"
    }
   ],
   "source": [
    "bio_counts.most_common(n=5)"
   ]
  },
  {
   "cell_type": "code",
   "execution_count": 113,
   "metadata": {},
   "outputs": [
    {
     "data": {
      "text/html": [
       "<div>\n",
       "<style scoped>\n",
       "    .dataframe tbody tr th:only-of-type {\n",
       "        vertical-align: middle;\n",
       "    }\n",
       "\n",
       "    .dataframe tbody tr th {\n",
       "        vertical-align: top;\n",
       "    }\n",
       "\n",
       "    .dataframe thead th {\n",
       "        text-align: right;\n",
       "    }\n",
       "</style>\n",
       "<table border=\"1\" class=\"dataframe\">\n",
       "  <thead>\n",
       "    <tr style=\"text-align: right;\">\n",
       "      <th></th>\n",
       "      <th>_id</th>\n",
       "      <th>bio</th>\n",
       "      <th>followed_by</th>\n",
       "      <th>follows</th>\n",
       "      <th>id</th>\n",
       "      <th>url</th>\n",
       "    </tr>\n",
       "  </thead>\n",
       "  <tbody>\n",
       "    <tr>\n",
       "      <th>0</th>\n",
       "      <td>5c096e9ebaead106a8cd60fa</td>\n",
       "      <td></td>\n",
       "      <td>63.0</td>\n",
       "      <td>76.0</td>\n",
       "      <td>8882294111</td>\n",
       "      <td>https://www.instagram.com/lirlando</td>\n",
       "    </tr>\n",
       "    <tr>\n",
       "      <th>3</th>\n",
       "      <td>5c096e9fbaead106a8cd6113</td>\n",
       "      <td></td>\n",
       "      <td>14.0</td>\n",
       "      <td>48.0</td>\n",
       "      <td>9418121438</td>\n",
       "      <td>https://www.instagram.com/chrismainahperre</td>\n",
       "    </tr>\n",
       "    <tr>\n",
       "      <th>10</th>\n",
       "      <td>5c096ea0baead106a8cd6179</td>\n",
       "      <td></td>\n",
       "      <td>0.0</td>\n",
       "      <td>8.0</td>\n",
       "      <td>4854633336</td>\n",
       "      <td>https://www.instagram.com/lem0ns33</td>\n",
       "    </tr>\n",
       "    <tr>\n",
       "      <th>13</th>\n",
       "      <td>5c096ea0baead106a8cd619b</td>\n",
       "      <td></td>\n",
       "      <td>42.0</td>\n",
       "      <td>52.0</td>\n",
       "      <td>9418832835</td>\n",
       "      <td>https://www.instagram.com/ng_fashionteam</td>\n",
       "    </tr>\n",
       "    <tr>\n",
       "      <th>14</th>\n",
       "      <td>5c096ea0baead106a8cd61a9</td>\n",
       "      <td></td>\n",
       "      <td>4726.0</td>\n",
       "      <td>227.0</td>\n",
       "      <td>5385360031</td>\n",
       "      <td>https://www.instagram.com/shyrose_cut</td>\n",
       "    </tr>\n",
       "    <tr>\n",
       "      <th>16</th>\n",
       "      <td>5c096ea0baead106a8cd61c3</td>\n",
       "      <td></td>\n",
       "      <td>3.0</td>\n",
       "      <td>27.0</td>\n",
       "      <td>9371188278</td>\n",
       "      <td>https://www.instagram.com/fujima_sacv</td>\n",
       "    </tr>\n",
       "    <tr>\n",
       "      <th>18</th>\n",
       "      <td>5c096ea0baead106a8cd61c5</td>\n",
       "      <td></td>\n",
       "      <td>31.0</td>\n",
       "      <td>313.0</td>\n",
       "      <td>9383339496</td>\n",
       "      <td>https://www.instagram.com/youssef.milan.1293</td>\n",
       "    </tr>\n",
       "    <tr>\n",
       "      <th>19</th>\n",
       "      <td>5c096ea0baead106a8cd61c6</td>\n",
       "      <td></td>\n",
       "      <td>56.0</td>\n",
       "      <td>430.0</td>\n",
       "      <td>9264036297</td>\n",
       "      <td>https://www.instagram.com/emuaehi7</td>\n",
       "    </tr>\n",
       "    <tr>\n",
       "      <th>20</th>\n",
       "      <td>5c096ea0baead106a8cd61c7</td>\n",
       "      <td></td>\n",
       "      <td>5.0</td>\n",
       "      <td>566.0</td>\n",
       "      <td>9290995463</td>\n",
       "      <td>https://www.instagram.com/demirturk_sarp</td>\n",
       "    </tr>\n",
       "    <tr>\n",
       "      <th>21</th>\n",
       "      <td>5c096ea0baead106a8cd61c8</td>\n",
       "      <td></td>\n",
       "      <td>14.0</td>\n",
       "      <td>8.0</td>\n",
       "      <td>9307361373</td>\n",
       "      <td>https://www.instagram.com/je.an7602</td>\n",
       "    </tr>\n",
       "  </tbody>\n",
       "</table>\n",
       "</div>"
      ],
      "text/plain": [
       "                         _id bio  followed_by  follows          id  \\\n",
       "0   5c096e9ebaead106a8cd60fa             63.0     76.0  8882294111   \n",
       "3   5c096e9fbaead106a8cd6113             14.0     48.0  9418121438   \n",
       "10  5c096ea0baead106a8cd6179              0.0      8.0  4854633336   \n",
       "13  5c096ea0baead106a8cd619b             42.0     52.0  9418832835   \n",
       "14  5c096ea0baead106a8cd61a9           4726.0    227.0  5385360031   \n",
       "16  5c096ea0baead106a8cd61c3              3.0     27.0  9371188278   \n",
       "18  5c096ea0baead106a8cd61c5             31.0    313.0  9383339496   \n",
       "19  5c096ea0baead106a8cd61c6             56.0    430.0  9264036297   \n",
       "20  5c096ea0baead106a8cd61c7              5.0    566.0  9290995463   \n",
       "21  5c096ea0baead106a8cd61c8             14.0      8.0  9307361373   \n",
       "\n",
       "                                             url  \n",
       "0             https://www.instagram.com/lirlando  \n",
       "3     https://www.instagram.com/chrismainahperre  \n",
       "10            https://www.instagram.com/lem0ns33  \n",
       "13      https://www.instagram.com/ng_fashionteam  \n",
       "14         https://www.instagram.com/shyrose_cut  \n",
       "16         https://www.instagram.com/fujima_sacv  \n",
       "18  https://www.instagram.com/youssef.milan.1293  \n",
       "19            https://www.instagram.com/emuaehi7  \n",
       "20      https://www.instagram.com/demirturk_sarp  \n",
       "21           https://www.instagram.com/je.an7602  "
      ]
     },
     "execution_count": 113,
     "metadata": {},
     "output_type": "execute_result"
    }
   ],
   "source": [
    "df[df['bio'] == \"\"].head(10)"
   ]
  },
  {
   "cell_type": "code",
   "execution_count": 111,
   "metadata": {},
   "outputs": [
    {
     "data": {
      "text/plain": [
       "(1270, 6)"
      ]
     },
     "execution_count": 111,
     "metadata": {},
     "output_type": "execute_result"
    }
   ],
   "source": [
    "df.shape"
   ]
  },
  {
   "cell_type": "code",
   "execution_count": null,
   "metadata": {},
   "outputs": [],
   "source": []
  },
  {
   "cell_type": "code",
   "execution_count": null,
   "metadata": {},
   "outputs": [],
   "source": []
  },
  {
   "cell_type": "code",
   "execution_count": null,
   "metadata": {},
   "outputs": [],
   "source": []
  },
  {
   "cell_type": "code",
   "execution_count": null,
   "metadata": {},
   "outputs": [],
   "source": []
  },
  {
   "cell_type": "code",
   "execution_count": null,
   "metadata": {},
   "outputs": [],
   "source": []
  },
  {
   "cell_type": "code",
   "execution_count": null,
   "metadata": {},
   "outputs": [],
   "source": []
  },
  {
   "cell_type": "code",
   "execution_count": null,
   "metadata": {},
   "outputs": [],
   "source": []
  },
  {
   "cell_type": "code",
   "execution_count": null,
   "metadata": {},
   "outputs": [],
   "source": []
  },
  {
   "cell_type": "code",
   "execution_count": null,
   "metadata": {},
   "outputs": [],
   "source": []
  }
 ],
 "metadata": {
  "kernelspec": {
   "display_name": "Python 3",
   "language": "python",
   "name": "python3"
  },
  "language_info": {
   "codemirror_mode": {
    "name": "ipython",
    "version": 3
   },
   "file_extension": ".py",
   "mimetype": "text/x-python",
   "name": "python",
   "nbconvert_exporter": "python",
   "pygments_lexer": "ipython3",
   "version": "3.6.5"
  }
 },
 "nbformat": 4,
 "nbformat_minor": 2
}
