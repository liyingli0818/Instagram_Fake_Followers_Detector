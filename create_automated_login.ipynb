{
 "cells": [
  {
   "cell_type": "code",
   "execution_count": 1,
   "metadata": {},
   "outputs": [],
   "source": [
    "from urllib.request import urlopen as uReq\n",
    "import pandas as pd\n",
    "import requests\n",
    "import json\n",
    "import yaml\n",
    "import time\n",
    "import random\n",
    "import bs4\n",
    "from bs4 import BeautifulSoup \n",
    "from sklearn.ensemble import RandomForestRegressor, RandomForestClassifier"
   ]
  },
  {
   "cell_type": "code",
   "execution_count": 2,
   "metadata": {},
   "outputs": [],
   "source": [
    "from selenium.webdriver import Chrome, Firefox\n",
    "from sklearn.model_selection import cross_val_score, train_test_split, GridSearchCV"
   ]
  },
  {
   "cell_type": "code",
   "execution_count": 3,
   "metadata": {},
   "outputs": [],
   "source": [
    "url = 'http://instagram.com/instagram'"
   ]
  },
  {
   "cell_type": "code",
   "execution_count": 4,
   "metadata": {},
   "outputs": [],
   "source": [
    "browser = Chrome()"
   ]
  },
  {
   "cell_type": "code",
   "execution_count": 5,
   "metadata": {},
   "outputs": [],
   "source": [
    "def load_login_info(filename='/Users/liliying/.secrets/instagram.yaml'):\n",
    "    with open(filename) as f:\n",
    "        login_info = yaml.load(f)\n",
    "    username = login_info['username']\n",
    "    password = login_info['password']\n",
    "    return username, password"
   ]
  },
  {
   "cell_type": "code",
   "execution_count": 6,
   "metadata": {},
   "outputs": [],
   "source": [
    "username, password = load_login_info()"
   ]
  },
  {
   "cell_type": "code",
   "execution_count": 7,
   "metadata": {},
   "outputs": [],
   "source": [
    "browser.get (url)"
   ]
  },
  {
   "cell_type": "code",
   "execution_count": 8,
   "metadata": {},
   "outputs": [],
   "source": [
    "browser.find_element_by_css_selector(\"a.tdiEy\").click()"
   ]
  },
  {
   "cell_type": "code",
   "execution_count": 9,
   "metadata": {},
   "outputs": [],
   "source": [
    "browser.find_element_by_name('username').send_keys(username)"
   ]
  },
  {
   "cell_type": "code",
   "execution_count": 10,
   "metadata": {},
   "outputs": [],
   "source": [
    "browser.find_element_by_name('password').send_keys(password)"
   ]
  },
  {
   "cell_type": "code",
   "execution_count": 11,
   "metadata": {},
   "outputs": [],
   "source": [
    "browser.find_element_by_class_name('bkEs3').click()"
   ]
  },
  {
   "cell_type": "code",
   "execution_count": 12,
   "metadata": {},
   "outputs": [
    {
     "data": {
      "text/plain": [
       "'http://instagram.com/instagram'"
      ]
     },
     "execution_count": 12,
     "metadata": {},
     "output_type": "execute_result"
    }
   ],
   "source": [
    "url"
   ]
  },
  {
   "cell_type": "code",
   "execution_count": 13,
   "metadata": {},
   "outputs": [],
   "source": [
    "def site_login(url):\n",
    "    browser.get (url)\n",
    "    browser.find_element_by_css_selector(\"a.tdiEy\").click()\n",
    "    username, password = load_login_info()\n",
    "    time.sleep(2)\n",
    "    browser.find_element_by_name('username').send_keys(username)\n",
    "    browser.find_element_by_name('password').send_keys(password)\n",
    "    browser.find_element_by_class_name('bkEs3').click()"
   ]
  },
  {
   "cell_type": "code",
   "execution_count": 24,
   "metadata": {},
   "outputs": [],
   "source": [
    "site_login(url)"
   ]
  },
  {
   "cell_type": "code",
   "execution_count": 15,
   "metadata": {},
   "outputs": [],
   "source": [
    "from src.DataPreparation import *"
   ]
  },
  {
   "cell_type": "code",
   "execution_count": 16,
   "metadata": {},
   "outputs": [],
   "source": [
    "browser = Chrome()"
   ]
  },
  {
   "cell_type": "code",
   "execution_count": 17,
   "metadata": {},
   "outputs": [],
   "source": [
    "url = 'http://instagram.com/instagram'"
   ]
  },
  {
   "cell_type": "code",
   "execution_count": 26,
   "metadata": {},
   "outputs": [],
   "source": [
    "browser.get(url)"
   ]
  },
  {
   "cell_type": "code",
   "execution_count": 27,
   "metadata": {},
   "outputs": [],
   "source": [
    "sel = \"a.FPmhX\""
   ]
  },
  {
   "cell_type": "code",
   "execution_count": 29,
   "metadata": {},
   "outputs": [
    {
     "ename": "NoSuchElementException",
     "evalue": "Message: no such element: Unable to locate element: {\"method\":\"css selector\",\"selector\":\"a._81NM2\"}\n  (Session info: chrome=70.0.3538.110)\n  (Driver info: chromedriver=2.42.591059 (a3d9684d10d61aa0c45f6723b327283be1ebaad8),platform=Mac OS X 10.14.1 x86_64)\n",
     "output_type": "error",
     "traceback": [
      "\u001b[0;31m--------------------------------------------------------------------------\u001b[0m",
      "\u001b[0;31mNoSuchElementException\u001b[0m                   Traceback (most recent call last)",
      "\u001b[0;32m<ipython-input-29-e88ecf95f586>\u001b[0m in \u001b[0;36m<module>\u001b[0;34m()\u001b[0m\n\u001b[0;32m----> 1\u001b[0;31m \u001b[0mbrowser\u001b[0m\u001b[0;34m.\u001b[0m\u001b[0mfind_element_by_css_selector\u001b[0m\u001b[0;34m(\u001b[0m\u001b[0;34m'a._81NM2'\u001b[0m\u001b[0;34m)\u001b[0m\u001b[0;34m.\u001b[0m\u001b[0mclick\u001b[0m\u001b[0;34m(\u001b[0m\u001b[0;34m)\u001b[0m\u001b[0;34m\u001b[0m\u001b[0m\n\u001b[0m",
      "\u001b[0;32m/anaconda3/lib/python3.6/site-packages/selenium/webdriver/remote/webdriver.py\u001b[0m in \u001b[0;36mfind_element_by_css_selector\u001b[0;34m(self, css_selector)\u001b[0m\n\u001b[1;32m    596\u001b[0m             \u001b[0melement\u001b[0m \u001b[0;34m=\u001b[0m \u001b[0mdriver\u001b[0m\u001b[0;34m.\u001b[0m\u001b[0mfind_element_by_css_selector\u001b[0m\u001b[0;34m(\u001b[0m\u001b[0;34m'#foo'\u001b[0m\u001b[0;34m)\u001b[0m\u001b[0;34m\u001b[0m\u001b[0m\n\u001b[1;32m    597\u001b[0m         \"\"\"\n\u001b[0;32m--> 598\u001b[0;31m         \u001b[0;32mreturn\u001b[0m \u001b[0mself\u001b[0m\u001b[0;34m.\u001b[0m\u001b[0mfind_element\u001b[0m\u001b[0;34m(\u001b[0m\u001b[0mby\u001b[0m\u001b[0;34m=\u001b[0m\u001b[0mBy\u001b[0m\u001b[0;34m.\u001b[0m\u001b[0mCSS_SELECTOR\u001b[0m\u001b[0;34m,\u001b[0m \u001b[0mvalue\u001b[0m\u001b[0;34m=\u001b[0m\u001b[0mcss_selector\u001b[0m\u001b[0;34m)\u001b[0m\u001b[0;34m\u001b[0m\u001b[0m\n\u001b[0m\u001b[1;32m    599\u001b[0m \u001b[0;34m\u001b[0m\u001b[0m\n\u001b[1;32m    600\u001b[0m     \u001b[0;32mdef\u001b[0m \u001b[0mfind_elements_by_css_selector\u001b[0m\u001b[0;34m(\u001b[0m\u001b[0mself\u001b[0m\u001b[0;34m,\u001b[0m \u001b[0mcss_selector\u001b[0m\u001b[0;34m)\u001b[0m\u001b[0;34m:\u001b[0m\u001b[0;34m\u001b[0m\u001b[0m\n",
      "\u001b[0;32m/anaconda3/lib/python3.6/site-packages/selenium/webdriver/remote/webdriver.py\u001b[0m in \u001b[0;36mfind_element\u001b[0;34m(self, by, value)\u001b[0m\n\u001b[1;32m    976\u001b[0m         return self.execute(Command.FIND_ELEMENT, {\n\u001b[1;32m    977\u001b[0m             \u001b[0;34m'using'\u001b[0m\u001b[0;34m:\u001b[0m \u001b[0mby\u001b[0m\u001b[0;34m,\u001b[0m\u001b[0;34m\u001b[0m\u001b[0m\n\u001b[0;32m--> 978\u001b[0;31m             'value': value})['value']\n\u001b[0m\u001b[1;32m    979\u001b[0m \u001b[0;34m\u001b[0m\u001b[0m\n\u001b[1;32m    980\u001b[0m     \u001b[0;32mdef\u001b[0m \u001b[0mfind_elements\u001b[0m\u001b[0;34m(\u001b[0m\u001b[0mself\u001b[0m\u001b[0;34m,\u001b[0m \u001b[0mby\u001b[0m\u001b[0;34m=\u001b[0m\u001b[0mBy\u001b[0m\u001b[0;34m.\u001b[0m\u001b[0mID\u001b[0m\u001b[0;34m,\u001b[0m \u001b[0mvalue\u001b[0m\u001b[0;34m=\u001b[0m\u001b[0;32mNone\u001b[0m\u001b[0;34m)\u001b[0m\u001b[0;34m:\u001b[0m\u001b[0;34m\u001b[0m\u001b[0m\n",
      "\u001b[0;32m/anaconda3/lib/python3.6/site-packages/selenium/webdriver/remote/webdriver.py\u001b[0m in \u001b[0;36mexecute\u001b[0;34m(self, driver_command, params)\u001b[0m\n\u001b[1;32m    319\u001b[0m         \u001b[0mresponse\u001b[0m \u001b[0;34m=\u001b[0m \u001b[0mself\u001b[0m\u001b[0;34m.\u001b[0m\u001b[0mcommand_executor\u001b[0m\u001b[0;34m.\u001b[0m\u001b[0mexecute\u001b[0m\u001b[0;34m(\u001b[0m\u001b[0mdriver_command\u001b[0m\u001b[0;34m,\u001b[0m \u001b[0mparams\u001b[0m\u001b[0;34m)\u001b[0m\u001b[0;34m\u001b[0m\u001b[0m\n\u001b[1;32m    320\u001b[0m         \u001b[0;32mif\u001b[0m \u001b[0mresponse\u001b[0m\u001b[0;34m:\u001b[0m\u001b[0;34m\u001b[0m\u001b[0m\n\u001b[0;32m--> 321\u001b[0;31m             \u001b[0mself\u001b[0m\u001b[0;34m.\u001b[0m\u001b[0merror_handler\u001b[0m\u001b[0;34m.\u001b[0m\u001b[0mcheck_response\u001b[0m\u001b[0;34m(\u001b[0m\u001b[0mresponse\u001b[0m\u001b[0;34m)\u001b[0m\u001b[0;34m\u001b[0m\u001b[0m\n\u001b[0m\u001b[1;32m    322\u001b[0m             response['value'] = self._unwrap_value(\n\u001b[1;32m    323\u001b[0m                 response.get('value', None))\n",
      "\u001b[0;32m/anaconda3/lib/python3.6/site-packages/selenium/webdriver/remote/errorhandler.py\u001b[0m in \u001b[0;36mcheck_response\u001b[0;34m(self, response)\u001b[0m\n\u001b[1;32m    240\u001b[0m                 \u001b[0malert_text\u001b[0m \u001b[0;34m=\u001b[0m \u001b[0mvalue\u001b[0m\u001b[0;34m[\u001b[0m\u001b[0;34m'alert'\u001b[0m\u001b[0;34m]\u001b[0m\u001b[0;34m.\u001b[0m\u001b[0mget\u001b[0m\u001b[0;34m(\u001b[0m\u001b[0;34m'text'\u001b[0m\u001b[0;34m)\u001b[0m\u001b[0;34m\u001b[0m\u001b[0m\n\u001b[1;32m    241\u001b[0m             \u001b[0;32mraise\u001b[0m \u001b[0mexception_class\u001b[0m\u001b[0;34m(\u001b[0m\u001b[0mmessage\u001b[0m\u001b[0;34m,\u001b[0m \u001b[0mscreen\u001b[0m\u001b[0;34m,\u001b[0m \u001b[0mstacktrace\u001b[0m\u001b[0;34m,\u001b[0m \u001b[0malert_text\u001b[0m\u001b[0;34m)\u001b[0m\u001b[0;34m\u001b[0m\u001b[0m\n\u001b[0;32m--> 242\u001b[0;31m         \u001b[0;32mraise\u001b[0m \u001b[0mexception_class\u001b[0m\u001b[0;34m(\u001b[0m\u001b[0mmessage\u001b[0m\u001b[0;34m,\u001b[0m \u001b[0mscreen\u001b[0m\u001b[0;34m,\u001b[0m \u001b[0mstacktrace\u001b[0m\u001b[0;34m)\u001b[0m\u001b[0;34m\u001b[0m\u001b[0m\n\u001b[0m\u001b[1;32m    243\u001b[0m \u001b[0;34m\u001b[0m\u001b[0m\n\u001b[1;32m    244\u001b[0m     \u001b[0;32mdef\u001b[0m \u001b[0m_value_or_default\u001b[0m\u001b[0;34m(\u001b[0m\u001b[0mself\u001b[0m\u001b[0;34m,\u001b[0m \u001b[0mobj\u001b[0m\u001b[0;34m,\u001b[0m \u001b[0mkey\u001b[0m\u001b[0;34m,\u001b[0m \u001b[0mdefault\u001b[0m\u001b[0;34m)\u001b[0m\u001b[0;34m:\u001b[0m\u001b[0;34m\u001b[0m\u001b[0m\n",
      "\u001b[0;31mNoSuchElementException\u001b[0m: Message: no such element: Unable to locate element: {\"method\":\"css selector\",\"selector\":\"a._81NM2\"}\n  (Session info: chrome=70.0.3538.110)\n  (Driver info: chromedriver=2.42.591059 (a3d9684d10d61aa0c45f6723b327283be1ebaad8),platform=Mac OS X 10.14.1 x86_64)\n"
     ]
    }
   ],
   "source": [
    "browser.find_element_by_css_selector('a._81NM2').click()"
   ]
  },
  {
   "cell_type": "code",
   "execution_count": 30,
   "metadata": {},
   "outputs": [],
   "source": [
    "followers = browser.find_elements_by_css_selector(sel)"
   ]
  },
  {
   "cell_type": "code",
   "execution_count": 31,
   "metadata": {},
   "outputs": [],
   "source": [
    "last_follower = followers[-1]"
   ]
  },
  {
   "cell_type": "code",
   "execution_count": 32,
   "metadata": {},
   "outputs": [
    {
     "data": {
      "text/plain": [
       "{'x': 453, 'y': 537}"
      ]
     },
     "execution_count": 32,
     "metadata": {},
     "output_type": "execute_result"
    }
   ],
   "source": [
    "last_follower.location_once_scrolled_into_view"
   ]
  },
  {
   "cell_type": "code",
   "execution_count": 33,
   "metadata": {},
   "outputs": [],
   "source": [
    "scroll_to_last_follower(browser=browser)"
   ]
  },
  {
   "cell_type": "code",
   "execution_count": 34,
   "metadata": {},
   "outputs": [
    {
     "data": {
      "text/plain": [
       "12"
      ]
     },
     "execution_count": 34,
     "metadata": {},
     "output_type": "execute_result"
    }
   ],
   "source": [
    "len(followers)"
   ]
  },
  {
   "cell_type": "code",
   "execution_count": 35,
   "metadata": {},
   "outputs": [],
   "source": [
    "sel = \"li.wo9IH\""
   ]
  },
  {
   "cell_type": "code",
   "execution_count": 36,
   "metadata": {},
   "outputs": [],
   "source": [
    "followers = browser.find_elements_by_css_selector(sel)"
   ]
  },
  {
   "cell_type": "code",
   "execution_count": 37,
   "metadata": {},
   "outputs": [],
   "source": [
    "follower_urls = [get_follower_url(follower) for follower in followers]"
   ]
  },
  {
   "cell_type": "code",
   "execution_count": 38,
   "metadata": {},
   "outputs": [
    {
     "data": {
      "text/plain": [
       "36"
      ]
     },
     "execution_count": 38,
     "metadata": {},
     "output_type": "execute_result"
    }
   ],
   "source": [
    "len(follower_urls)"
   ]
  },
  {
   "cell_type": "code",
   "execution_count": 39,
   "metadata": {},
   "outputs": [
    {
     "name": "stdout",
     "output_type": "stream",
     "text": [
      "('@fatma662__', '@fatma662__ • Instagram photos and videos', '1', '10', '16')\n",
      "('harshad21_p', 'HARSHAD PACHORE ', '1', '147', '127')\n",
      "('artistadelmalviaje', 'Alma ', '13', '229', '26')\n",
      "('kidssography', 'Nadja & Aron ', '12', '207', '101')\n",
      "('khalifa093', 'khalifa070604 ', '8', '280', '239')\n",
      "('__harsh__2217', 'हर्ष चव्हाण 👑 ', '18', '412', '120')\n",
      "('zakiyastar_562', 'ayesha meraj ', '6', '116', '13')\n",
      "('27_tommo', 'Tommo ', '72', '1635', '478')\n",
      "('berk.tosun68', 'berk Tosun ', '1', '7689', '7194')\n",
      "('lossecretosdekira', 'E S T H E R ', '51', '1657', '1289')\n",
      "('rhettbutler8', 'Rhett ', '2', '2454', '147')\n",
      "('khalid__tech', 'مستر خالد ', '681', '4257', '936')\n",
      "('len.ok01_', '👑ℳᎽℋᎯℒℰᏉᎽℂℋᏦᎯ 👑 ', '8', '1198', '327')\n",
      "('uyundjibran_', 'Uyun ', '0', '1495', '341')\n",
      "('maddkal__', 'Ahmad Haikal ', '1', '302', '449')\n",
      "('jhonortiztorres', 'J H O N  O R T I Z ', '32', '551', '208')\n",
      "('samir_officiall_100', '❌Samir_officiall_100❌ 🌀 ', '7', '855', '549')\n",
      "('melisabeltran05', '🄼🄴🄻🄸🅂🄰 ☾ ', '29', '378', '620')\n",
      "('chemhiestry', 'Emmale. ', '269', '1328', '184')\n",
      "('janinerottlender', '🌸Janine Rottlender 🌸 ', '117', '1261', '452')\n",
      "('quiwanqui', 'Qui Wan ', '0', '0', '10')\n",
      "('ketellyn.pereira', 'Ketellyn Pereira ', '0', '2', '1')\n",
      "('ulgen.maria', 'Maria ÜLGEN ', '1', '7', '4')\n",
      "('az.izbek8989', 'Azizbek ', '0', '0', '5')\n",
      "('lenaagafonova79voloshina_kr', 'lenaagafonova79 ', '0', '0', '2')\n",
      "('iso6982', 'мс исо ', '17', '7', '46')\n",
      "('melekozdemir947', 'Melek ÖZDEMİR ', '1', '11', '5')\n",
      "('bezpon9tie', '🅿🆁🅸🆅🅰🆃🅴 ', '9', '7026', '19')\n",
      "('tbasarir21', 'Tuna Başarır ', '3', '197', '84')\n",
      "('busraalp2464', 'Büşra Alp ', '1', '9', '4')\n",
      "('mete.berra', 'Berra METE ', '1', '10', '4')\n",
      "('hamideafsar3054', 'Hamide AFŞAR ', '1', '11', '5')\n",
      "('@santiago11237', '@santiago11237 • Instagram photos and videos', '5', '8', '39')\n",
      "('mian.rahman.7549', 'Mian Rehman ', '0', '2', '11')\n",
      "('asdfdsg34', 'aslfhdsjfs ', '0', '0', '3')\n",
      "('ollie__bowman', 'Ollie Bowman ', '0', '29', '70')\n"
     ]
    }
   ],
   "source": [
    "for url in follower_urls:\n",
    "    print(get_info(url))"
   ]
  },
  {
   "cell_type": "code",
   "execution_count": 40,
   "metadata": {},
   "outputs": [
    {
     "name": "stdout",
     "output_type": "stream",
     "text": [
      "(False, False, True, '')\n",
      "(True, False, True, '#HacͥҜeͣrͫ_ȺហᎠƓȺⱮƐའ\\n#Error_401©\\n#Love_Hสckiภg𓆪_ƤlคץรGames\\n#Oบr♛_Weสקoภ#ᴷᵃˡⁱᴸⁱⁿᵘˣ 🖕\\n#ʟᴀᴘɪ_is_❤️\\n#code_is_Oบr \\U0001f9e0\\n¹Understand & ९wish ∂є¢\\n#No_comments')\n",
      "(False, False, False, 'Me iré y no sabré volver.\\nOld soul.')\n",
      "(False, True, False, 'Childhood-friendly photography')\n",
      "(False, False, False, 'Wa:082291653832')\n",
      "(False, True, False, '#Marathi_mulga....💪\\n#Jay_shivray....😍🙏\\n#sciencestudent 😅\\n#mumbaikar😎\\n#MH75👿\\n#x_pvbian💥\\n#02_02_2002🎂🍻')\n",
      "(True, False, False, 'Be original let the world copy you 😄')\n",
      "(False, True, False, '👽Tommaso Ayrton Vandoni\\n📍Italo🇮🇹Brasiliano🇧🇷\\n🏡Bellinzago-Rio de Janeiro🏝\\n🛠Areonautic Worker F-35✈️ \\n🏎💨Kart Driver🏎💨\\n🥇M.O.S Champion🥇 \\n🏆Category 100cc🏆')\n",
      "(True, False, False, 'Aksaray akcakent       <●●●>\\nİstanbul Güngören \\n                    \\nGalatasaray ❤💛                             <●●●>    ♤♡♧♢\\n❌Unf yapma Program var❌')\n",
      "(False, True, False, 'Me gusta capturar y disfrutar de cada momento📸\\n📍Barcelona\\nSesiones por 📩\\nSecretosdekirafotografia@gmail.com')\n",
      "(False, False, False, '23 y.o.')\n",
      "(False, True, False, 'حساب منوع ومقاطع تعجبك\\n\\u200f🇸🇦🇸🇦🇸🇦🇸🇦\\nدع القيادة وتمتع بالرحلة')\n",
      "(False, True, False, '')\n",
      "(False, True, False, 'Hospitality Employee\\nEst.1995\\n#chelseafc')\n",
      "(False, False, False, '13,\\nNot so cool,\\nNot gaming for awhile,\\nThis weekend something...')\n",
      "(False, True, False, '🇨🇴COLOMBIA🇨🇴\\n🇨🇱CHILE🇨🇱\\nTRAVEL 🌎🏝️🗽🗼\\nPILOT🌎✈')\n",
      "(False, False, False, '🇷🇸🇷🇸🇷🇸🇷🇸🇷🇸🇷🇸🇷🇸🇷🇸🇷🇸\\n▪омиљени репер:Цапитал бра и Луциано ▪\\n▪My Favourite Team▪\\n   Manchester United \\n▪други канал @capital_braaaaa__')\n",
      "(False, False, False, 'Be the best person you can be in life 🍃')\n",
      "(False, False, False, 'Live less out of habit. \\nAnd more out of intent. \\n🍃♈♀️🇵🇭')\n",
      "(False, True, False, '• 23 •cgn • Inspo🖤\\n🦄 @lissydressage')\n",
      "(False, False, True, '')\n",
      "(False, False, True, '')\n",
      "(False, False, True, '')\n",
      "(False, False, True, '')\n",
      "(False, False, True, '')\n",
      "(False, False, True, '')\n",
      "(False, False, True, '💎باما همچون اثر انگشت خود خاص باشيد💎\\nسامانه پیامک۲۱۴۴۷۶۷۰۵۷\\nتلفن:٠٩٣٨١٠٠٦٢٨١ /۴۴۷۴۴۹۲۰-۰۲۱\\n❇ تبلیغات نداریم❇\\nکانال تلگرام ما')\n",
      "(False, False, False, '幸運\\nお金\\n幸せ')\n",
      "error\n",
      "(False, False, True, '')\n",
      "(False, False, True, 'I just write out what I feel personal account : tamera_k Poet,artist,mua. Feel free to repost.')\n",
      "(False, False, True, '')\n",
      "(True, False, True, '@oasislacarlota @niko.lunetti @youtuber1147')\n",
      "(False, False, True, '')\n",
      "(False, False, True, '')\n",
      "(False, False, True, '')\n"
     ]
    }
   ],
   "source": [
    "for url in follower_urls:\n",
    "    try:\n",
    "        print(get_new_features(url))\n",
    "    except:\n",
    "        print('error')"
   ]
  },
  {
   "cell_type": "code",
   "execution_count": 44,
   "metadata": {},
   "outputs": [
    {
     "name": "stdout",
     "output_type": "stream",
     "text": [
      "/Users/liliying/Galvanize/instagram_fake_followers_detector/src\n"
     ]
    }
   ],
   "source": [
    "cd src"
   ]
  },
  {
   "cell_type": "code",
   "execution_count": 73,
   "metadata": {},
   "outputs": [],
   "source": [
    "from src.get_proba import *"
   ]
  },
  {
   "cell_type": "code",
   "execution_count": 46,
   "metadata": {},
   "outputs": [],
   "source": [
    "user_name = follower_urls[0][27:-1]"
   ]
  },
  {
   "cell_type": "code",
   "execution_count": 47,
   "metadata": {},
   "outputs": [],
   "source": [
    "data = pd.read_csv('../data_cleaned.csv')"
   ]
  },
  {
   "cell_type": "code",
   "execution_count": 48,
   "metadata": {},
   "outputs": [],
   "source": [
    "X = data.iloc[:, [3,5,6,7,8,10,11]]"
   ]
  },
  {
   "cell_type": "code",
   "execution_count": 49,
   "metadata": {},
   "outputs": [],
   "source": [
    "y = data['label']"
   ]
  },
  {
   "cell_type": "code",
   "execution_count": 50,
   "metadata": {},
   "outputs": [],
   "source": [
    "rf = RandomForestClassifier(n_estimators=100,\n",
    "                            n_jobs=-1,\n",
    "                            random_state=1)"
   ]
  },
  {
   "cell_type": "code",
   "execution_count": 51,
   "metadata": {},
   "outputs": [],
   "source": [
    "X_train, X_test, y_train, y_test = train_test_split(X, y, random_state=4)"
   ]
  },
  {
   "cell_type": "code",
   "execution_count": 52,
   "metadata": {},
   "outputs": [
    {
     "data": {
      "text/plain": [
       "RandomForestClassifier(bootstrap=True, class_weight=None, criterion='gini',\n",
       "            max_depth=None, max_features='auto', max_leaf_nodes=None,\n",
       "            min_impurity_decrease=0.0, min_impurity_split=None,\n",
       "            min_samples_leaf=1, min_samples_split=2,\n",
       "            min_weight_fraction_leaf=0.0, n_estimators=100, n_jobs=-1,\n",
       "            oob_score=False, random_state=1, verbose=0, warm_start=False)"
      ]
     },
     "execution_count": 52,
     "metadata": {},
     "output_type": "execute_result"
    }
   ],
   "source": [
    "rf.fit(X_train, y_train)"
   ]
  },
  {
   "cell_type": "code",
   "execution_count": 53,
   "metadata": {},
   "outputs": [
    {
     "data": {
      "text/plain": [
       "['https://www.instagram.com/fatma662__/',\n",
       " 'https://www.instagram.com/harshad21_p/',\n",
       " 'https://www.instagram.com/artistadelmalviaje/',\n",
       " 'https://www.instagram.com/kidssography/',\n",
       " 'https://www.instagram.com/khalifa093/',\n",
       " 'https://www.instagram.com/__harsh__2217/',\n",
       " 'https://www.instagram.com/zakiyastar_562/',\n",
       " 'https://www.instagram.com/27_tommo/',\n",
       " 'https://www.instagram.com/berk.tosun68/',\n",
       " 'https://www.instagram.com/lossecretosdekira/',\n",
       " 'https://www.instagram.com/rhettbutler8/',\n",
       " 'https://www.instagram.com/khalid__tech/',\n",
       " 'https://www.instagram.com/len.ok01_/',\n",
       " 'https://www.instagram.com/uyundjibran_/',\n",
       " 'https://www.instagram.com/maddkal__/',\n",
       " 'https://www.instagram.com/jhonortiztorres/',\n",
       " 'https://www.instagram.com/samir_officiall_100/',\n",
       " 'https://www.instagram.com/melisabeltran05/',\n",
       " 'https://www.instagram.com/chemhiestry/',\n",
       " 'https://www.instagram.com/janinerottlender/',\n",
       " 'https://www.instagram.com/quiwanqui/',\n",
       " 'https://www.instagram.com/ketellyn.pereira/',\n",
       " 'https://www.instagram.com/ulgen.maria/',\n",
       " 'https://www.instagram.com/az.izbek8989/',\n",
       " 'https://www.instagram.com/lenaagafonova79voloshina_kr/',\n",
       " 'https://www.instagram.com/iso6982/',\n",
       " 'https://www.instagram.com/melekozdemir947/',\n",
       " 'https://www.instagram.com/bezpon9tie/',\n",
       " 'https://www.instagram.com/tbasarir21/',\n",
       " 'https://www.instagram.com/busraalp2464/',\n",
       " 'https://www.instagram.com/mete.berra/',\n",
       " 'https://www.instagram.com/hamideafsar3054/',\n",
       " 'https://www.instagram.com/santiago11237/',\n",
       " 'https://www.instagram.com/mian.rahman.7549/',\n",
       " 'https://www.instagram.com/asdfdsg34/',\n",
       " 'https://www.instagram.com/ollie__bowman/']"
      ]
     },
     "execution_count": 53,
     "metadata": {},
     "output_type": "execute_result"
    }
   ],
   "source": [
    "follower_urls"
   ]
  },
  {
   "cell_type": "code",
   "execution_count": 72,
   "metadata": {},
   "outputs": [
    {
     "data": {
      "text/plain": [
       "'tbasarir21'"
      ]
     },
     "execution_count": 72,
     "metadata": {},
     "output_type": "execute_result"
    }
   ],
   "source": [
    "follower_urls[-8][26:-1]"
   ]
  },
  {
   "cell_type": "code",
   "execution_count": 83,
   "metadata": {},
   "outputs": [
    {
     "data": {
      "text/html": [
       "<div>\n",
       "<style scoped>\n",
       "    .dataframe tbody tr th:only-of-type {\n",
       "        vertical-align: middle;\n",
       "    }\n",
       "\n",
       "    .dataframe tbody tr th {\n",
       "        vertical-align: top;\n",
       "    }\n",
       "\n",
       "    .dataframe thead th {\n",
       "        text-align: right;\n",
       "    }\n",
       "</style>\n",
       "<table border=\"1\" class=\"dataframe\">\n",
       "  <thead>\n",
       "    <tr style=\"text-align: right;\">\n",
       "      <th></th>\n",
       "      <th>0</th>\n",
       "      <th>1</th>\n",
       "      <th>2</th>\n",
       "      <th>3</th>\n",
       "      <th>4</th>\n",
       "      <th>5</th>\n",
       "      <th>6</th>\n",
       "      <th>7</th>\n",
       "      <th>num_followers_float</th>\n",
       "      <th>following_follower_ratio</th>\n",
       "      <th>prob_fake</th>\n",
       "    </tr>\n",
       "  </thead>\n",
       "  <tbody>\n",
       "    <tr>\n",
       "      <th>0</th>\n",
       "      <td>harshad21_p</td>\n",
       "      <td>HARSHAD PACHORE</td>\n",
       "      <td>1</td>\n",
       "      <td>173</td>\n",
       "      <td>127</td>\n",
       "      <td>1</td>\n",
       "      <td>0</td>\n",
       "      <td>1</td>\n",
       "      <td>173.0</td>\n",
       "      <td>0.729885</td>\n",
       "      <td>0.0</td>\n",
       "    </tr>\n",
       "  </tbody>\n",
       "</table>\n",
       "</div>"
      ],
      "text/plain": [
       "             0                 1  2    3    4  5  6  7  num_followers_float  \\\n",
       "0  harshad21_p  HARSHAD PACHORE   1  173  127  1  0  1                173.0   \n",
       "\n",
       "   following_follower_ratio  prob_fake  \n",
       "0                  0.729885        0.0  "
      ]
     },
     "execution_count": 83,
     "metadata": {},
     "output_type": "execute_result"
    }
   ],
   "source": [
    "get_proba(follower_urls[1][26:-1], model=rf)"
   ]
  },
  {
   "cell_type": "code",
   "execution_count": 81,
   "metadata": {
    "scrolled": true
   },
   "outputs": [
    {
     "name": "stdout",
     "output_type": "stream",
     "text": [
      "error\n",
      "\n",
      "             0                 1  2    3    4  5  6  7  num_followers_float  \\\n",
      "0  harshad21_p  HARSHAD PACHORE   1  173  127  1  0  1                173.0   \n",
      "\n",
      "   following_follower_ratio  prob_fake  \n",
      "0                  0.729885        0.0  \n",
      "                    0      1   2    3   4  5  6  7  num_followers_float  \\\n",
      "0  artistadelmalviaje  Alma   13  229  26  0  0  0                229.0   \n",
      "\n",
      "   following_follower_ratio  prob_fake  \n",
      "0                  0.113043       0.08  \n"
     ]
    }
   ],
   "source": [
    "for i in range(3):\n",
    "    user_name = follower_urls[i][26:-1]\n",
    "    try:\n",
    "        prob_fake = get_proba(user_name, model = rf)\n",
    "        print(prob_fake)\n",
    "    except:\n",
    "        print('error' + '\\n')"
   ]
  },
  {
   "cell_type": "code",
   "execution_count": null,
   "metadata": {},
   "outputs": [],
   "source": []
  },
  {
   "cell_type": "code",
   "execution_count": null,
   "metadata": {},
   "outputs": [],
   "source": []
  },
  {
   "cell_type": "code",
   "execution_count": null,
   "metadata": {},
   "outputs": [],
   "source": []
  },
  {
   "cell_type": "code",
   "execution_count": null,
   "metadata": {},
   "outputs": [],
   "source": []
  }
 ],
 "metadata": {
  "kernelspec": {
   "display_name": "Python 3",
   "language": "python",
   "name": "python3"
  },
  "language_info": {
   "codemirror_mode": {
    "name": "ipython",
    "version": 3
   },
   "file_extension": ".py",
   "mimetype": "text/x-python",
   "name": "python",
   "nbconvert_exporter": "python",
   "pygments_lexer": "ipython3",
   "version": "3.6.5"
  }
 },
 "nbformat": 4,
 "nbformat_minor": 2
}
