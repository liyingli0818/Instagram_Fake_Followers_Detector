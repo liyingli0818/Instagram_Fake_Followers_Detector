{
 "cells": [
  {
   "cell_type": "code",
   "execution_count": 1,
   "metadata": {},
   "outputs": [],
   "source": [
    "from urllib.request import urlopen as uReq\n",
    "import pandas as pd\n",
    "import requests\n",
    "import json\n",
    "import yaml\n",
    "import time\n",
    "import random\n",
    "import bs4\n",
    "from bs4 import BeautifulSoup "
   ]
  },
  {
   "cell_type": "code",
   "execution_count": 2,
   "metadata": {},
   "outputs": [],
   "source": [
    "from selenium.webdriver import Chrome, Firefox"
   ]
  },
  {
   "cell_type": "code",
   "execution_count": 3,
   "metadata": {},
   "outputs": [],
   "source": [
    "url = 'http://instagram.com/instagram'"
   ]
  },
  {
   "cell_type": "code",
   "execution_count": 4,
   "metadata": {},
   "outputs": [],
   "source": [
    "browser = Chrome()"
   ]
  },
  {
   "cell_type": "code",
   "execution_count": 5,
   "metadata": {},
   "outputs": [],
   "source": [
    "def load_login_info(filename='/Users/liliying/.secrets/instagram.yaml'):\n",
    "    with open(filename) as f:\n",
    "        login_info = yaml.load(f)\n",
    "    username = login_info['username']\n",
    "    password = login_info['password']\n",
    "    return username, password"
   ]
  },
  {
   "cell_type": "code",
   "execution_count": 6,
   "metadata": {},
   "outputs": [],
   "source": [
    "username, password = load_login_info()"
   ]
  },
  {
   "cell_type": "code",
   "execution_count": 7,
   "metadata": {},
   "outputs": [],
   "source": [
    "browser.get (url)"
   ]
  },
  {
   "cell_type": "code",
   "execution_count": 58,
   "metadata": {},
   "outputs": [],
   "source": [
    "browser.find_element_by_css_selector(\"a.tdiEy\").click()"
   ]
  },
  {
   "cell_type": "code",
   "execution_count": 59,
   "metadata": {},
   "outputs": [],
   "source": [
    "browser.find_element_by_name('username').send_keys(username)"
   ]
  },
  {
   "cell_type": "code",
   "execution_count": 60,
   "metadata": {},
   "outputs": [],
   "source": [
    "browser.find_element_by_name('password').send_keys(password)"
   ]
  },
  {
   "cell_type": "code",
   "execution_count": 61,
   "metadata": {},
   "outputs": [],
   "source": [
    "browser.find_element_by_class_name('bkEs3').click()"
   ]
  },
  {
   "cell_type": "code",
   "execution_count": 55,
   "metadata": {},
   "outputs": [
    {
     "data": {
      "text/plain": [
       "'http://instagram.com/instagram'"
      ]
     },
     "execution_count": 55,
     "metadata": {},
     "output_type": "execute_result"
    }
   ],
   "source": [
    "url"
   ]
  },
  {
   "cell_type": "code",
   "execution_count": 8,
   "metadata": {},
   "outputs": [],
   "source": [
    "def site_login(url):\n",
    "    browser.get (url)\n",
    "    browser.find_element_by_css_selector(\"a.tdiEy\").click()\n",
    "    username, password = load_login_info()\n",
    "    time.sleep(2)\n",
    "    browser.find_element_by_name('username').send_keys(username)\n",
    "    browser.find_element_by_name('password').send_keys(password)\n",
    "    browser.find_element_by_class_name('bkEs3').click()"
   ]
  },
  {
   "cell_type": "code",
   "execution_count": 35,
   "metadata": {},
   "outputs": [],
   "source": [
    "site_login(url)"
   ]
  },
  {
   "cell_type": "code",
   "execution_count": 30,
   "metadata": {},
   "outputs": [],
   "source": [
    "from src.DataPreparation import *"
   ]
  },
  {
   "cell_type": "code",
   "execution_count": 33,
   "metadata": {},
   "outputs": [],
   "source": [
    "browser = Chrome()"
   ]
  },
  {
   "cell_type": "code",
   "execution_count": 18,
   "metadata": {},
   "outputs": [],
   "source": [
    "url = 'http://instagram.com/instagram'"
   ]
  },
  {
   "cell_type": "code",
   "execution_count": 37,
   "metadata": {},
   "outputs": [],
   "source": [
    "browser.get(url)"
   ]
  },
  {
   "cell_type": "code",
   "execution_count": 38,
   "metadata": {},
   "outputs": [],
   "source": [
    "sel = \"a.FPmhX\""
   ]
  },
  {
   "cell_type": "code",
   "execution_count": 44,
   "metadata": {},
   "outputs": [],
   "source": [
    "browser.find_element_by_css_selector('a._81NM2').click()"
   ]
  },
  {
   "cell_type": "code",
   "execution_count": 45,
   "metadata": {},
   "outputs": [],
   "source": [
    "followers = browser.find_elements_by_css_selector(sel)"
   ]
  },
  {
   "cell_type": "code",
   "execution_count": 47,
   "metadata": {},
   "outputs": [],
   "source": [
    "last_follower = followers[-1]"
   ]
  },
  {
   "cell_type": "code",
   "execution_count": 48,
   "metadata": {},
   "outputs": [
    {
     "data": {
      "text/plain": [
       "{'x': 245, 'y': 537}"
      ]
     },
     "execution_count": 48,
     "metadata": {},
     "output_type": "execute_result"
    }
   ],
   "source": [
    "last_follower.location_once_scrolled_into_view"
   ]
  },
  {
   "cell_type": "code",
   "execution_count": 49,
   "metadata": {},
   "outputs": [],
   "source": [
    "scroll_to_last_follower(browser=browser)"
   ]
  },
  {
   "cell_type": "code",
   "execution_count": 50,
   "metadata": {},
   "outputs": [
    {
     "data": {
      "text/plain": [
       "12"
      ]
     },
     "execution_count": 50,
     "metadata": {},
     "output_type": "execute_result"
    }
   ],
   "source": [
    "len(followers)"
   ]
  },
  {
   "cell_type": "code",
   "execution_count": 51,
   "metadata": {},
   "outputs": [],
   "source": [
    "sel = \"li.wo9IH\""
   ]
  },
  {
   "cell_type": "code",
   "execution_count": 52,
   "metadata": {},
   "outputs": [],
   "source": [
    "followers = browser.find_elements_by_css_selector(sel)"
   ]
  },
  {
   "cell_type": "code",
   "execution_count": 53,
   "metadata": {},
   "outputs": [],
   "source": [
    "follower_urls = [get_follower_url(follower) for follower in followers]"
   ]
  },
  {
   "cell_type": "code",
   "execution_count": 57,
   "metadata": {},
   "outputs": [
    {
     "data": {
      "text/plain": [
       "36"
      ]
     },
     "execution_count": 57,
     "metadata": {},
     "output_type": "execute_result"
    }
   ],
   "source": [
    "len(follower_urls)"
   ]
  },
  {
   "cell_type": "code",
   "execution_count": 58,
   "metadata": {},
   "outputs": [
    {
     "name": "stdout",
     "output_type": "stream",
     "text": [
      "('lwasvani', 'Lavin wasvani ', '16', '182', '161')\n",
      "('senseimagic', 'Kerv ', '136', '1418', '1077')\n",
      "('an.usha195', 'Anusha ', '0', '0', '1')\n",
      "('sevingil3050', 'Ayse SEVİNGİL ', '1', '8', '5')\n",
      "('qsjksq', 'sqdqdw ', '0', '0', '4')\n",
      "('senioritopaolo', 'Paolo Zulueta ', '0', '0', '6')\n",
      "('nurdinaad', 'Nurdin Aad ', '1', '24', '51')\n",
      "('i_am_legend0896', 'I_Am_Legend ', '1', '177', '16')\n",
      "('cuteboychinku', 'Cuteboy Chinku ', '2', '130', '39')\n",
      "('ajmalfayis_007', 'Ajmal Fayis ', '4', '170', '162')\n",
      "('w_onderlust_kid__', 'Rinju B Mathew ', '14', '786', '228')\n",
      "('sohailk_08z', '👊It is sohail.... 👊 ', '61', '1210', '150')\n",
      "('srirohana12', 'Sri rohana ', '7', '955', '449')\n",
      "('warrioradventurer', 'WARRIOR ADVENTURER ', '25', '151', '140')\n",
      "('@__.tik955', '@__.tik955 • Instagram photos and videos', '12', '1274', '198')\n",
      "('linaa125_', 'Naa. ', '5', '386', '402')\n",
      "('mon_emon07', 'Sulaemanmuhamad ', '18', '474', '275')\n",
      "('_yalcin_memis_21_', 'Yalçın Memiş ', '27', '3967', '6356')\n",
      "('ana_marija_zubak', 'Ana Marija Zubak ', '22', '881', '2910')\n",
      "('merzylina_99', 'Mia_Merzylina ', '63', '1985', '513')\n",
      "('dinnysafira', 'Dinny safira ', '14', '379', '194')\n",
      "('valenciazai', 'Zaira ', '275', '168', '29')\n",
      "('rizkyaditiya00', 'Rizky Aditiya ', '3', '357', '211')\n",
      "('davodousky1', '✖♠✖Davodousky✖♠✖ ', '27', '1101', '150')\n",
      "('aristov7', 'Vyacheslav Aristov ', '141', '8922', '101')\n",
      "('malika.usmanova14', 'Malika ', '1', '0', '2')\n",
      "('jyothiswaroopkodur', 'Jyothi Swaroop Kodur ', '3', '184', '484')\n",
      "('riyadi_gtrs', 'riyadi ', '53', '204', '1067')\n",
      "('_.y_a_m_i._', '❤yaмυ❤ ', '192', '1078', '156')\n",
      "('affrizaland04', 'affrizal ananda ', '14', '630', '193')\n",
      "('yesrosario', 'Yesenia Rosario ', '699', '3368', '674')\n",
      "('jaygunner0701', 'jayden nuez ', '0', '1', '7')\n",
      "('@bexeygang', '@bexeygang • Instagram photos and videos', '1', '48', '31')\n",
      "('calicali6058', 'Cali Cali ', '0', '74', '14')\n",
      "('angelthefilmdirector', 'Angel Arevalo ', '415', '38.9k', '310')\n",
      "('ak3710075', 'Arbaz khan ', '0', '0', '5')\n"
     ]
    }
   ],
   "source": [
    "for url in follower_urls:\n",
    "    print(get_info(url))"
   ]
  },
  {
   "cell_type": "code",
   "execution_count": 61,
   "metadata": {},
   "outputs": [
    {
     "name": "stdout",
     "output_type": "stream",
     "text": [
      "(True, False, False, '')\n",
      "(True, False, False, '🔹Instructor Aikido Kajukenbo🥋🥇\\n🔹Coaching💪🏼🏋🏽\\u200d♂️\\n🔹Magician\\U0001f9d9\\u200d♂️\\n🔹Voluntario🌏🏥\\n🔹Tattoos💉\\n🔹Rock & Reggae🤘🏼💚\\n🔹Engineer 💻\\n🔹Dog Lovers 🐕\\n🔹Travel Lover🎒✈️')\n",
      "error\n",
      "(False, False, True, '@beizz_ 💘 skg💓')\n",
      "(False, False, True, '')\n",
      "(False, False, True, '')\n",
      "(False, False, True, '')\n",
      "(False, True, True, 'Всегда говори никогда')\n",
      "(False, False, False, '#follow_me🔝\\n#mom_got_a_tiger_on_12_dec🐯\\n#Liker👍\\n#Dancer \\n#Bilaspurian\\n#followers_keep_following🙏🔛\\n#photo_editor📷\\n...................')\n",
      "(False, False, False, '#KL 57😎\\n#kozhikkodan😍\\n#wish me on March 14✌\\n#single')\n",
      "(False, True, False, '.Mar13🎂.\\nBiology sci📖\\n.\\n.\\n. @marshmellomusic\\n.@charlieputh\\n.@theweeknd\\n.\\n.#oneplus6 man😎\\n.\\n.DQ_die_Heart\\n.\\n.Very_ strong_ desire_ to_ travel 🤓')\n",
      "(False, True, False, 'Pune🏁\\n👑SOHAIL KHAN👑\\n. \\nHeaters keep_____distance\\n. \\nTiktok:@ sohailk_08z\\nMy day 15dec🎂🎂\\nGmail for business\\nSk6776998@gmail.com\\n#brand \\n@team.08z')\n",
      "(False, False, False, 'Nci💦\\nFlbck?dm')\n",
      "(False, False, False, 'Komunitas Wisata,Touring,Offroad&Kegiatan Alam lainnya. Mari bergabung dapatkan momen indah terbaik anda bersama fotoudara kami. #warrioradventurer')\n",
      "(False, False, False, 'Улыбка матери и добрый взгяд отца,дороже всего на свете...🌹')\n",
      "(False, False, False, \"I have a lot of mistakes,stayaway,avoid and don't approach me if you can't accept as it is.\\n13y.o🌉\\nAllah is always in my life:)\\n📍purwodadi,IND\")\n",
      "error\n",
      "(False, True, False, '✌Yalço_de_tanırlar✌\\n👉Ses pırre icraat tınee👈\\n😂Fazla neşe pır xweşe😂\\n💀Kürdüm Götün Varsa Yargıla 💀\\n💗 Diyarbakır💖\\n🚫UNF yapma program var⚠')\n",
      "(False, False, False, \"My Bday 30.11\\nI'm 13 years old\\nM&M I love you \\nMy life are M&M❤\\n#mygirls NH,MŠ,KB,TB,LP Love you\\nLove my 0.8k love you guys\")\n",
      "(True, False, False, '🍭Bandung , indonesia \\nmanagement 📕🎓')\n",
      "(False, False, False, '14 y.o🐳')\n",
      "(True, False, False, 'Zai 💓❤💖\\nÉl Creàdor De Los Cielos❤➕\\nEMI💂\\nSEDENA💂❤\\n19 Años🙎\\nCD🇲🇽\\nEl REY ya Viene😘➕\\nFotografía📷♥')\n",
      "(False, False, False, 'Menyatu dengan alam dengan perantara Tuhan🚶\\nKebumen-DIY🏃')\n",
      "(False, False, False, 'No estamos listos para vivir.\\n📍CDMX 👺')\n",
      "(False, False, False, '')\n",
      "(False, False, True, '')\n",
      "(False, False, False, '😂 haha still single..... \\n    Foodie food lover\\n    Future hotlier😅')\n",
      "(False, False, False, 'XIl Ototronik\\nCalon pasukan TNI AU\\nSmk tkmp kebumen\\nFb Ahmad R\\nFb Argo Fingerstyle')\n",
      "(True, False, False, '')\n",
      "error\n",
      "(False, True, False, '😇-HIJA DE PAPÁ DIOS\\n🏋🏻\\u200d♀️-BIKINI FITNESS \\n🏌🏻\\u200d♀️-PLAY GOLF\\n📚-LIC. ADM. TURÍSTICA HOTELERA\\n👸🏻-MADRE FELIZ\\n💼-SPONSOR: @nutronrd \\n👻-rosario_yes')\n",
      "(False, False, True, '')\n",
      "(False, False, False, '')\n",
      "(False, False, False, '')\n",
      "(False, True, False, 'God 🙌🏼\\nFamily 💯\\nFilmmaker 🎥\\nFollow us @finaldayfilms')\n",
      "(False, False, True, '')\n"
     ]
    }
   ],
   "source": [
    "for url in follower_urls:\n",
    "    try:\n",
    "        print(get_new_features(url))\n",
    "    except:\n",
    "        print('error')"
   ]
  },
  {
   "cell_type": "code",
   "execution_count": null,
   "metadata": {},
   "outputs": [],
   "source": []
  },
  {
   "cell_type": "code",
   "execution_count": null,
   "metadata": {},
   "outputs": [],
   "source": []
  }
 ],
 "metadata": {
  "kernelspec": {
   "display_name": "Python 3",
   "language": "python",
   "name": "python3"
  },
  "language_info": {
   "codemirror_mode": {
    "name": "ipython",
    "version": 3
   },
   "file_extension": ".py",
   "mimetype": "text/x-python",
   "name": "python",
   "nbconvert_exporter": "python",
   "pygments_lexer": "ipython3",
   "version": "3.6.5"
  }
 },
 "nbformat": 4,
 "nbformat_minor": 2
}
