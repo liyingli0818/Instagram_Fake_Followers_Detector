{
 "cells": [
  {
   "cell_type": "code",
   "execution_count": 1,
   "metadata": {},
   "outputs": [],
   "source": [
    "import pandas as pd\n",
    "import matplotlib.pyplot as plt\n",
    "%matplotlib inline"
   ]
  },
  {
   "cell_type": "code",
   "execution_count": 2,
   "metadata": {},
   "outputs": [],
   "source": [
    "data = pd.read_csv('users_data.csv')"
   ]
  },
  {
   "cell_type": "code",
   "execution_count": 3,
   "metadata": {},
   "outputs": [
    {
     "data": {
      "text/html": [
       "<div>\n",
       "<style scoped>\n",
       "    .dataframe tbody tr th:only-of-type {\n",
       "        vertical-align: middle;\n",
       "    }\n",
       "\n",
       "    .dataframe tbody tr th {\n",
       "        vertical-align: top;\n",
       "    }\n",
       "\n",
       "    .dataframe thead th {\n",
       "        text-align: right;\n",
       "    }\n",
       "</style>\n",
       "<table border=\"1\" class=\"dataframe\">\n",
       "  <thead>\n",
       "    <tr style=\"text-align: right;\">\n",
       "      <th></th>\n",
       "      <th>user_name</th>\n",
       "      <th>full_name</th>\n",
       "      <th>num_posts</th>\n",
       "      <th>num_followed_by</th>\n",
       "      <th>num_following_by</th>\n",
       "    </tr>\n",
       "  </thead>\n",
       "  <tbody>\n",
       "    <tr>\n",
       "      <th>0</th>\n",
       "      <td>lilylii818</td>\n",
       "      <td>Liying (Lily) Li</td>\n",
       "      <td>99</td>\n",
       "      <td>130</td>\n",
       "      <td>117</td>\n",
       "    </tr>\n",
       "    <tr>\n",
       "      <th>1</th>\n",
       "      <td>victorissleepless</td>\n",
       "      <td>Victor Wang</td>\n",
       "      <td>20</td>\n",
       "      <td>67</td>\n",
       "      <td>94</td>\n",
       "    </tr>\n",
       "    <tr>\n",
       "      <th>2</th>\n",
       "      <td>shengtanghuanye018</td>\n",
       "      <td>shengtanf</td>\n",
       "      <td>0</td>\n",
       "      <td>282</td>\n",
       "      <td>6131</td>\n",
       "    </tr>\n",
       "    <tr>\n",
       "      <th>3</th>\n",
       "      <td>jenliuuuu</td>\n",
       "      <td>@jenliuuuu • Instagram photos and videos</td>\n",
       "      <td>119</td>\n",
       "      <td>150</td>\n",
       "      <td>212</td>\n",
       "    </tr>\n",
       "    <tr>\n",
       "      <th>4</th>\n",
       "      <td>mirandakerr</td>\n",
       "      <td>Miranda</td>\n",
       "      <td>2144</td>\n",
       "      <td>11804863</td>\n",
       "      <td>3855</td>\n",
       "    </tr>\n",
       "    <tr>\n",
       "      <th>5</th>\n",
       "      <td>amiuzd</td>\n",
       "      <td>Elsa Wang 王曼茹</td>\n",
       "      <td>32</td>\n",
       "      <td>390</td>\n",
       "      <td>276</td>\n",
       "    </tr>\n",
       "    <tr>\n",
       "      <th>6</th>\n",
       "      <td>cosstores</td>\n",
       "      <td>COS</td>\n",
       "      <td>1009</td>\n",
       "      <td>1471220</td>\n",
       "      <td>90</td>\n",
       "    </tr>\n",
       "    <tr>\n",
       "      <th>7</th>\n",
       "      <td>cottonball_xx</td>\n",
       "      <td>졸귀탱</td>\n",
       "      <td>448</td>\n",
       "      <td>8616</td>\n",
       "      <td>402</td>\n",
       "    </tr>\n",
       "    <tr>\n",
       "      <th>8</th>\n",
       "      <td>everlane</td>\n",
       "      <td>Everlane</td>\n",
       "      <td>2055</td>\n",
       "      <td>612629</td>\n",
       "      <td>682</td>\n",
       "    </tr>\n",
       "    <tr>\n",
       "      <th>9</th>\n",
       "      <td>yixin__jiang</td>\n",
       "      <td>Yixin Jiang</td>\n",
       "      <td>0</td>\n",
       "      <td>78</td>\n",
       "      <td>72</td>\n",
       "    </tr>\n",
       "  </tbody>\n",
       "</table>\n",
       "</div>"
      ],
      "text/plain": [
       "            user_name                                 full_name   num_posts  \\\n",
       "0          lilylii818                          Liying (Lily) Li          99   \n",
       "1   victorissleepless                               Victor Wang          20   \n",
       "2  shengtanghuanye018                                 shengtanf           0   \n",
       "3           jenliuuuu  @jenliuuuu • Instagram photos and videos         119   \n",
       "4         mirandakerr                                   Miranda        2144   \n",
       "5              amiuzd                             Elsa Wang 王曼茹          32   \n",
       "6           cosstores                                       COS        1009   \n",
       "7       cottonball_xx                                       졸귀탱         448   \n",
       "8            everlane                                  Everlane        2055   \n",
       "9        yixin__jiang                               Yixin Jiang           0   \n",
       "\n",
       "    num_followed_by   num_following_by  \n",
       "0               130                117  \n",
       "1                67                 94  \n",
       "2               282               6131  \n",
       "3               150                212  \n",
       "4          11804863               3855  \n",
       "5               390                276  \n",
       "6           1471220                 90  \n",
       "7              8616                402  \n",
       "8            612629                682  \n",
       "9                78                 72  "
      ]
     },
     "execution_count": 3,
     "metadata": {},
     "output_type": "execute_result"
    }
   ],
   "source": [
    "data"
   ]
  },
  {
   "cell_type": "code",
   "execution_count": 4,
   "metadata": {},
   "outputs": [
    {
     "data": {
      "text/plain": [
       "pandas.core.frame.DataFrame"
      ]
     },
     "execution_count": 4,
     "metadata": {},
     "output_type": "execute_result"
    }
   ],
   "source": [
    "type(data)"
   ]
  },
  {
   "cell_type": "code",
   "execution_count": 6,
   "metadata": {},
   "outputs": [
    {
     "data": {
      "text/plain": [
       "0      99\n",
       "1      20\n",
       "2       0\n",
       "3     119\n",
       "4    2144\n",
       "5      32\n",
       "6    1009\n",
       "7     448\n",
       "8    2055\n",
       "9       0\n",
       "Name:  num_posts, dtype: int64"
      ]
     },
     "execution_count": 6,
     "metadata": {},
     "output_type": "execute_result"
    }
   ],
   "source": [
    "data.iloc[:,2]"
   ]
  },
  {
   "cell_type": "code",
   "execution_count": 7,
   "metadata": {},
   "outputs": [
    {
     "data": {
      "text/plain": [
       "0         130\n",
       "1          67\n",
       "2         282\n",
       "3         150\n",
       "4    11804863\n",
       "5         390\n",
       "6     1471220\n",
       "7        8616\n",
       "8      612629\n",
       "9          78\n",
       "Name:  num_followed_by, dtype: int64"
      ]
     },
     "execution_count": 7,
     "metadata": {},
     "output_type": "execute_result"
    }
   ],
   "source": [
    "data.iloc[:,3]"
   ]
  },
  {
   "cell_type": "code",
   "execution_count": 8,
   "metadata": {},
   "outputs": [
    {
     "data": {
      "text/plain": [
       "Text(0,0.5,'num_followed_by')"
      ]
     },
     "execution_count": 8,
     "metadata": {},
     "output_type": "execute_result"
    },
    {
     "data": {
      "image/png": "[encoded data removed]",
      "text/plain": [
       "<Figure size 432x288 with 1 Axes>"
      ]
     },
     "metadata": {},
     "output_type": "display_data"
    }
   ],
   "source": [
    "plt.scatter(data.iloc[:,2], data.iloc[:,3])\n",
    "plt.xlabel(\"num_posts\")\n",
    "plt.ylabel(\"num_followed_by\")"
   ]
  },
  {
   "cell_type": "code",
   "execution_count": 12,
   "metadata": {},
   "outputs": [
    {
     "data": {
      "image/png": "[encoded data removed]",
      "text/plain": [
       "<Figure size 540x540 with 12 Axes>"
      ]
     },
     "metadata": {},
     "output_type": "display_data"
    }
   ],
   "source": [
    "import seaborn as sns\n",
    "sns.set(style=\"ticks\")\n",
    "\n",
    "_ = sns.pairplot(data)"
   ]
  },
  {
   "cell_type": "code",
   "execution_count": 16,
   "metadata": {},
   "outputs": [
    {
     "data": {
      "image/png": "[encoded data removed]",
      "text/plain": [
       "<Figure size 672.75x540 with 12 Axes>"
      ]
     },
     "metadata": {},
     "output_type": "display_data"
    }
   ],
   "source": [
    "g = sns.pairplot(data, hue=\"user_name\")"
   ]
  },
  {
   "cell_type": "code",
   "execution_count": 18,
   "metadata": {},
   "outputs": [],
   "source": [
    "data['target'] = [0,0,1,0,0,0,0,0,0,0]"
   ]
  },
  {
   "cell_type": "code",
   "execution_count": 19,
   "metadata": {},
   "outputs": [
    {
     "data": {
      "text/html": [
       "<div>\n",
       "<style scoped>\n",
       "    .dataframe tbody tr th:only-of-type {\n",
       "        vertical-align: middle;\n",
       "    }\n",
       "\n",
       "    .dataframe tbody tr th {\n",
       "        vertical-align: top;\n",
       "    }\n",
       "\n",
       "    .dataframe thead th {\n",
       "        text-align: right;\n",
       "    }\n",
       "</style>\n",
       "<table border=\"1\" class=\"dataframe\">\n",
       "  <thead>\n",
       "    <tr style=\"text-align: right;\">\n",
       "      <th></th>\n",
       "      <th>user_name</th>\n",
       "      <th>full_name</th>\n",
       "      <th>num_posts</th>\n",
       "      <th>num_followed_by</th>\n",
       "      <th>num_following_by</th>\n",
       "      <th>target</th>\n",
       "    </tr>\n",
       "  </thead>\n",
       "  <tbody>\n",
       "    <tr>\n",
       "      <th>0</th>\n",
       "      <td>lilylii818</td>\n",
       "      <td>Liying (Lily) Li</td>\n",
       "      <td>99</td>\n",
       "      <td>130</td>\n",
       "      <td>117</td>\n",
       "      <td>0</td>\n",
       "    </tr>\n",
       "    <tr>\n",
       "      <th>1</th>\n",
       "      <td>victorissleepless</td>\n",
       "      <td>Victor Wang</td>\n",
       "      <td>20</td>\n",
       "      <td>67</td>\n",
       "      <td>94</td>\n",
       "      <td>0</td>\n",
       "    </tr>\n",
       "    <tr>\n",
       "      <th>2</th>\n",
       "      <td>shengtanghuanye018</td>\n",
       "      <td>shengtanf</td>\n",
       "      <td>0</td>\n",
       "      <td>282</td>\n",
       "      <td>6131</td>\n",
       "      <td>1</td>\n",
       "    </tr>\n",
       "    <tr>\n",
       "      <th>3</th>\n",
       "      <td>jenliuuuu</td>\n",
       "      <td>@jenliuuuu • Instagram photos and videos</td>\n",
       "      <td>119</td>\n",
       "      <td>150</td>\n",
       "      <td>212</td>\n",
       "      <td>0</td>\n",
       "    </tr>\n",
       "    <tr>\n",
       "      <th>4</th>\n",
       "      <td>mirandakerr</td>\n",
       "      <td>Miranda</td>\n",
       "      <td>2144</td>\n",
       "      <td>11804863</td>\n",
       "      <td>3855</td>\n",
       "      <td>0</td>\n",
       "    </tr>\n",
       "    <tr>\n",
       "      <th>5</th>\n",
       "      <td>amiuzd</td>\n",
       "      <td>Elsa Wang 王曼茹</td>\n",
       "      <td>32</td>\n",
       "      <td>390</td>\n",
       "      <td>276</td>\n",
       "      <td>0</td>\n",
       "    </tr>\n",
       "    <tr>\n",
       "      <th>6</th>\n",
       "      <td>cosstores</td>\n",
       "      <td>COS</td>\n",
       "      <td>1009</td>\n",
       "      <td>1471220</td>\n",
       "      <td>90</td>\n",
       "      <td>0</td>\n",
       "    </tr>\n",
       "    <tr>\n",
       "      <th>7</th>\n",
       "      <td>cottonball_xx</td>\n",
       "      <td>졸귀탱</td>\n",
       "      <td>448</td>\n",
       "      <td>8616</td>\n",
       "      <td>402</td>\n",
       "      <td>0</td>\n",
       "    </tr>\n",
       "    <tr>\n",
       "      <th>8</th>\n",
       "      <td>everlane</td>\n",
       "      <td>Everlane</td>\n",
       "      <td>2055</td>\n",
       "      <td>612629</td>\n",
       "      <td>682</td>\n",
       "      <td>0</td>\n",
       "    </tr>\n",
       "    <tr>\n",
       "      <th>9</th>\n",
       "      <td>yixin__jiang</td>\n",
       "      <td>Yixin Jiang</td>\n",
       "      <td>0</td>\n",
       "      <td>78</td>\n",
       "      <td>72</td>\n",
       "      <td>0</td>\n",
       "    </tr>\n",
       "  </tbody>\n",
       "</table>\n",
       "</div>"
      ],
      "text/plain": [
       "            user_name                                 full_name   num_posts  \\\n",
       "0          lilylii818                          Liying (Lily) Li          99   \n",
       "1   victorissleepless                               Victor Wang          20   \n",
       "2  shengtanghuanye018                                 shengtanf           0   \n",
       "3           jenliuuuu  @jenliuuuu • Instagram photos and videos         119   \n",
       "4         mirandakerr                                   Miranda        2144   \n",
       "5              amiuzd                             Elsa Wang 王曼茹          32   \n",
       "6           cosstores                                       COS        1009   \n",
       "7       cottonball_xx                                       졸귀탱         448   \n",
       "8            everlane                                  Everlane        2055   \n",
       "9        yixin__jiang                               Yixin Jiang           0   \n",
       "\n",
       "    num_followed_by   num_following_by  target  \n",
       "0               130                117       0  \n",
       "1                67                 94       0  \n",
       "2               282               6131       1  \n",
       "3               150                212       0  \n",
       "4          11804863               3855       0  \n",
       "5               390                276       0  \n",
       "6           1471220                 90       0  \n",
       "7              8616                402       0  \n",
       "8            612629                682       0  \n",
       "9                78                 72       0  "
      ]
     },
     "execution_count": 19,
     "metadata": {},
     "output_type": "execute_result"
    }
   ],
   "source": [
    "data"
   ]
  },
  {
   "cell_type": "code",
   "execution_count": null,
   "metadata": {},
   "outputs": [],
   "source": []
  }
 ],
 "metadata": {
  "kernelspec": {
   "display_name": "Python 3",
   "language": "python",
   "name": "python3"
  },
  "language_info": {
   "codemirror_mode": {
    "name": "ipython",
    "version": 3
   },
   "file_extension": ".py",
   "mimetype": "text/x-python",
   "name": "python",
   "nbconvert_exporter": "python",
   "pygments_lexer": "ipython3",
   "version": "3.6.5"
  }
 },
 "nbformat": 4,
 "nbformat_minor": 2
}
