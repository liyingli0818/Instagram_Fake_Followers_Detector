{
 "cells": [
  {
   "cell_type": "code",
   "execution_count": 5,
   "metadata": {},
   "outputs": [],
   "source": [
    "from urllib.request import urlopen as uReq\n",
    "import pandas as pd\n",
    "import requests\n",
    "import json\n",
    "import time\n",
    "import random\n",
    "import bs4\n",
    "from bs4 import BeautifulSoup "
   ]
  },
  {
   "cell_type": "code",
   "execution_count": 195,
   "metadata": {},
   "outputs": [],
   "source": [
    "from selenium.webdriver import Chrome, Firefox"
   ]
  },
  {
   "cell_type": "code",
   "execution_count": 196,
   "metadata": {},
   "outputs": [],
   "source": [
    "browser = Chrome()"
   ]
  },
  {
   "cell_type": "code",
   "execution_count": 3,
   "metadata": {},
   "outputs": [],
   "source": [
    "browser.get('https://www.instagram.com/instagram/')"
   ]
  },
  {
   "cell_type": "code",
   "execution_count": 4,
   "metadata": {},
   "outputs": [],
   "source": [
    "html = browser.page_source"
   ]
  },
  {
   "cell_type": "code",
   "execution_count": 6,
   "metadata": {},
   "outputs": [],
   "source": [
    "soup = BeautifulSoup(html, \"html.parser\")"
   ]
  },
  {
   "cell_type": "code",
   "execution_count": 8,
   "metadata": {},
   "outputs": [],
   "source": [
    "sel = \"li.wo9IH\""
   ]
  },
  {
   "cell_type": "code",
   "execution_count": 9,
   "metadata": {},
   "outputs": [],
   "source": [
    "followers = soup.select(sel)"
   ]
  },
  {
   "cell_type": "code",
   "execution_count": 10,
   "metadata": {},
   "outputs": [
    {
     "data": {
      "text/plain": [
       "144"
      ]
     },
     "execution_count": 10,
     "metadata": {},
     "output_type": "execute_result"
    }
   ],
   "source": [
    "len(followers)"
   ]
  },
  {
   "cell_type": "code",
   "execution_count": 14,
   "metadata": {},
   "outputs": [],
   "source": [
    "usernames = [follower.select_one('a.FPmhX').text for follower in followers]"
   ]
  },
  {
   "cell_type": "code",
   "execution_count": 15,
   "metadata": {},
   "outputs": [
    {
     "data": {
      "text/plain": [
       "['wqwqwq12345w',\n",
       " 'berrin6734',\n",
       " 'ashraf_784_asshu',\n",
       " 'sailaja_reddy___',\n",
       " 'itssauravpandit',\n",
       " 'chefsangwan',\n",
       " 'juned__22',\n",
       " 'the_real_thug_210',\n",
       " 'molinaxd19',\n",
       " 'sidik_pratama09',\n",
       " 'muhammad.muhammad.m',\n",
       " 'rrockyroy786',\n",
       " 'tanya_khoma',\n",
       " 'mohamed_alswayah_',\n",
       " 'royal_marwadi_rj',\n",
       " '_mustafaa_36',\n",
       " 'reymon089',\n",
       " 'alsalasv',\n",
       " 'vishuking34',\n",
       " 'skyfirmament',\n",
       " 'mariagesbloom',\n",
       " 'feridecelik11',\n",
       " 'sam_200776',\n",
       " 'i_am_jaa_mathi',\n",
       " 'mhmdrswl6953',\n",
       " 'alihan0802',\n",
       " '4.mi.12',\n",
       " 'hamad_chaker',\n",
       " 'fai_sal_fk',\n",
       " 'dadagabem',\n",
       " 'v.samarceva',\n",
       " 'heersound',\n",
       " 'sachin.1379',\n",
       " 'mr_sasa_madzgalj',\n",
       " '10_tisha',\n",
       " 'furkan_bezz_07',\n",
       " 'doctor_daniels',\n",
       " 'iamshariqueali',\n",
       " 'fidahussainrizvi_01',\n",
       " 'kahinat_63_03',\n",
       " 'dlsdouglas',\n",
       " 'ipek__ozkan',\n",
       " '__oligarkh_',\n",
       " 'ozaslan9914',\n",
       " 'gopdykb',\n",
       " 'beste894yakut465',\n",
       " 'ozek3312',\n",
       " 'belorusova.vic',\n",
       " 'oblenskii',\n",
       " 'mhmn9913',\n",
       " 'nada____br',\n",
       " 'georgesyounes24',\n",
       " 'official_jdog',\n",
       " 'p1tr8ck7',\n",
       " 'krokodil1a.d',\n",
       " 'banter_tv_86',\n",
       " 'bapna_tanu',\n",
       " 'yaheliofficial',\n",
       " 'merden2837',\n",
       " 'abdullaevkozimzhon',\n",
       " 'kokdyh99',\n",
       " 'muduri0001',\n",
       " 'berrakyilmaz78',\n",
       " 'senem1913',\n",
       " 'savagegurly101',\n",
       " 'newhzone_official',\n",
       " '_likhavat',\n",
       " 'bozpolat.menekse',\n",
       " 'x_yusecan72',\n",
       " 'abellarmenta',\n",
       " 'nickiofficielka',\n",
       " 'carllos_roccha',\n",
       " 'adrianmonsalvetais',\n",
       " 'd11378',\n",
       " 'ruzgaravci20',\n",
       " 'amir.m.hoseinzadeh',\n",
       " 'an.ya6894',\n",
       " 'cariluxe',\n",
       " 's.ioq',\n",
       " 'yusufsonmez04',\n",
       " 'tvlvl__xx',\n",
       " 'sean_884',\n",
       " 'sahilsingh3578',\n",
       " 'el_locolocoo',\n",
       " 'mike_tyson77',\n",
       " 'andajb',\n",
       " 'taw0509',\n",
       " 'pelaoz_27',\n",
       " 'guvenc.nihal',\n",
       " 'arkan9397',\n",
       " 'meltemsen77',\n",
       " 'malikhaiderofficial',\n",
       " 'braunmarc14',\n",
       " 'er.ahmet.00',\n",
       " 'nadiya_955',\n",
       " 'kadry_el_deep',\n",
       " 'celalettin6087',\n",
       " 'monifabian6',\n",
       " 'franciscocosta804',\n",
       " 'emrecanyilmaz334',\n",
       " 'r_mendoncaa',\n",
       " 'dillonjohn__',\n",
       " 'k.malukhina',\n",
       " 'indrasan45',\n",
       " 'shineko801',\n",
       " 'gl100981',\n",
       " 'dalbo2015',\n",
       " 'pashchenko_bogda_f_ck._bitc0',\n",
       " 'kozh212325',\n",
       " '_supayan_',\n",
       " 'zf_zi',\n",
       " 'phila_music',\n",
       " 'gabrielyramalho',\n",
       " 'savelyev_ph',\n",
       " 'sumer8264',\n",
       " 'luis_garcia_troyita14',\n",
       " 'jaethompson_',\n",
       " 'hadiadejumo',\n",
       " 'ural5027',\n",
       " '3x10l',\n",
       " 'xaggj',\n",
       " 'dirtydx47',\n",
       " 'ninabozhyk',\n",
       " 'ysngms53',\n",
       " 'sabandemirtas267',\n",
       " 'akina_family',\n",
       " 'sarkomer_',\n",
       " 'andreadecarli02',\n",
       " 'o.m.e.r.1453',\n",
       " 'carolrowan86',\n",
       " 'noelitoflow',\n",
       " 'carlosmedinav77',\n",
       " 'real_blackbox',\n",
       " 'milamilat',\n",
       " 'martafernandezclaramunt',\n",
       " 'annazbigniew',\n",
       " 'l.am.kamina',\n",
       " 'simakowichdmitry',\n",
       " 'hmoda.y7',\n",
       " 'infinite_soul___',\n",
       " 'mohamed_fathy050',\n",
       " 'serenashlala',\n",
       " 'joaky_kon_k_mc',\n",
       " '28.x']"
      ]
     },
     "execution_count": 15,
     "metadata": {},
     "output_type": "execute_result"
    }
   ],
   "source": [
    "usernames"
   ]
  },
  {
   "cell_type": "code",
   "execution_count": 39,
   "metadata": {},
   "outputs": [],
   "source": [
    "urls = ['https://www.instagram.com/' + username for username in usernames]"
   ]
  },
  {
   "cell_type": "code",
   "execution_count": 289,
   "metadata": {},
   "outputs": [
    {
     "data": {
      "text/plain": [
       "144"
      ]
     },
     "execution_count": 289,
     "metadata": {},
     "output_type": "execute_result"
    }
   ],
   "source": [
    "len(urls)"
   ]
  },
  {
   "cell_type": "code",
   "execution_count": null,
   "metadata": {},
   "outputs": [],
   "source": [
    "time.sleep(5)"
   ]
  },
  {
   "cell_type": "code",
   "execution_count": null,
   "metadata": {},
   "outputs": [],
   "source": []
  },
  {
   "cell_type": "code",
   "execution_count": null,
   "metadata": {},
   "outputs": [],
   "source": []
  },
  {
   "cell_type": "code",
   "execution_count": null,
   "metadata": {},
   "outputs": [],
   "source": []
  },
  {
   "cell_type": "code",
   "execution_count": null,
   "metadata": {},
   "outputs": [],
   "source": []
  },
  {
   "cell_type": "code",
   "execution_count": 43,
   "metadata": {},
   "outputs": [],
   "source": [
    "filename = \"users_data.csv\"\n",
    "\n",
    "f = open(filename, \"w\")\n",
    "\n",
    "headers = \"user_name, full_name, num_posts, num_followed_by, num_following_by\\n\""
   ]
  },
  {
   "cell_type": "code",
   "execution_count": 309,
   "metadata": {},
   "outputs": [],
   "source": [
    "url = urls[0]"
   ]
  },
  {
   "cell_type": "code",
   "execution_count": 310,
   "metadata": {},
   "outputs": [
    {
     "data": {
      "text/plain": [
       "'https://www.instagram.com/wqwqwq12345w'"
      ]
     },
     "execution_count": 310,
     "metadata": {},
     "output_type": "execute_result"
    }
   ],
   "source": [
    "url"
   ]
  },
  {
   "cell_type": "code",
   "execution_count": 149,
   "metadata": {},
   "outputs": [],
   "source": [
    "uClient = uReq(url)"
   ]
  },
  {
   "cell_type": "code",
   "execution_count": 150,
   "metadata": {},
   "outputs": [],
   "source": [
    "page_html = uClient.read()"
   ]
  },
  {
   "cell_type": "code",
   "execution_count": 151,
   "metadata": {},
   "outputs": [],
   "source": [
    "uClient.close()"
   ]
  },
  {
   "cell_type": "code",
   "execution_count": 313,
   "metadata": {},
   "outputs": [],
   "source": [
    "response = requests.get(url)\n",
    "html = response.content\n",
    "soup = BeautifulSoup(html, 'html.parser')\n",
    "sel = \"span.-nal3\"\n",
    "s = soup.select_one(sel)"
   ]
  },
  {
   "cell_type": "code",
   "execution_count": 314,
   "metadata": {},
   "outputs": [],
   "source": [
    "s"
   ]
  },
  {
   "cell_type": "code",
   "execution_count": null,
   "metadata": {},
   "outputs": [],
   "source": []
  },
  {
   "cell_type": "code",
   "execution_count": null,
   "metadata": {},
   "outputs": [],
   "source": []
  },
  {
   "cell_type": "code",
   "execution_count": null,
   "metadata": {},
   "outputs": [],
   "source": []
  },
  {
   "cell_type": "code",
   "execution_count": null,
   "metadata": {},
   "outputs": [],
   "source": []
  },
  {
   "cell_type": "code",
   "execution_count": null,
   "metadata": {},
   "outputs": [],
   "source": []
  },
  {
   "cell_type": "code",
   "execution_count": null,
   "metadata": {},
   "outputs": [],
   "source": []
  },
  {
   "cell_type": "code",
   "execution_count": null,
   "metadata": {},
   "outputs": [],
   "source": []
  },
  {
   "cell_type": "code",
   "execution_count": null,
   "metadata": {},
   "outputs": [],
   "source": []
  },
  {
   "cell_type": "code",
   "execution_count": null,
   "metadata": {},
   "outputs": [],
   "source": []
  },
  {
   "cell_type": "code",
   "execution_count": 130,
   "metadata": {},
   "outputs": [
    {
     "ename": "KeyError",
     "evalue": "'entry_data'",
     "output_type": "error",
     "traceback": [
      "\u001b[0;31m---------------------------------------------------------------------------\u001b[0m",
      "\u001b[0;31mKeyError\u001b[0m                                  Traceback (most recent call last)",
      "\u001b[0;32m<ipython-input-130-0626186413c6>\u001b[0m in \u001b[0;36m<module>\u001b[0;34m()\u001b[0m\n\u001b[0;32m----> 1\u001b[0;31m \u001b[0mnum_followed_by\u001b[0m \u001b[0;34m=\u001b[0m \u001b[0ms\u001b[0m\u001b[0;34m[\u001b[0m\u001b[0;34m'entry_data'\u001b[0m\u001b[0;34m]\u001b[0m\u001b[0;34m[\u001b[0m\u001b[0;34m'ProfilePage'\u001b[0m\u001b[0;34m]\u001b[0m\u001b[0;34m[\u001b[0m\u001b[0;36m0\u001b[0m\u001b[0;34m]\u001b[0m\u001b[0;34m[\u001b[0m\u001b[0;34m'graphql'\u001b[0m\u001b[0;34m]\u001b[0m\u001b[0;34m[\u001b[0m\u001b[0;34m'user'\u001b[0m\u001b[0;34m]\u001b[0m\u001b[0;34m[\u001b[0m\u001b[0;34m'edge_followed_by'\u001b[0m\u001b[0;34m]\u001b[0m\u001b[0;34m[\u001b[0m\u001b[0;34m'count'\u001b[0m\u001b[0;34m]\u001b[0m\u001b[0;34m\u001b[0m\u001b[0m\n\u001b[0m",
      "\u001b[0;32m/anaconda3/lib/python3.6/site-packages/bs4/element.py\u001b[0m in \u001b[0;36m__getitem__\u001b[0;34m(self, key)\u001b[0m\n\u001b[1;32m   1069\u001b[0m         \"\"\"tag[key] returns the value of the 'key' attribute for the tag,\n\u001b[1;32m   1070\u001b[0m         and throws an exception if it's not there.\"\"\"\n\u001b[0;32m-> 1071\u001b[0;31m         \u001b[0;32mreturn\u001b[0m \u001b[0mself\u001b[0m\u001b[0;34m.\u001b[0m\u001b[0mattrs\u001b[0m\u001b[0;34m[\u001b[0m\u001b[0mkey\u001b[0m\u001b[0;34m]\u001b[0m\u001b[0;34m\u001b[0m\u001b[0m\n\u001b[0m\u001b[1;32m   1072\u001b[0m \u001b[0;34m\u001b[0m\u001b[0m\n\u001b[1;32m   1073\u001b[0m     \u001b[0;32mdef\u001b[0m \u001b[0m__iter__\u001b[0m\u001b[0;34m(\u001b[0m\u001b[0mself\u001b[0m\u001b[0;34m)\u001b[0m\u001b[0;34m:\u001b[0m\u001b[0;34m\u001b[0m\u001b[0m\n",
      "\u001b[0;31mKeyError\u001b[0m: 'entry_data'"
     ]
    }
   ],
   "source": [
    "num_followed_by = s['entry_data']['ProfilePage'][0]['graphql']['user']['edge_followed_by']['count']"
   ]
  },
  {
   "cell_type": "code",
   "execution_count": 131,
   "metadata": {},
   "outputs": [
    {
     "data": {
      "text/plain": [
       "1"
      ]
     },
     "execution_count": 131,
     "metadata": {},
     "output_type": "execute_result"
    }
   ],
   "source": [
    "num_followed_by"
   ]
  },
  {
   "cell_type": "code",
   "execution_count": 54,
   "metadata": {},
   "outputs": [],
   "source": [
    "num_following_by = d['entry_data']['ProfilePage'][0]['graphql']['user']['edge_follow']['count']"
   ]
  },
  {
   "cell_type": "code",
   "execution_count": 55,
   "metadata": {},
   "outputs": [
    {
     "data": {
      "text/plain": [
       "12"
      ]
     },
     "execution_count": 55,
     "metadata": {},
     "output_type": "execute_result"
    }
   ],
   "source": [
    "num_following_by"
   ]
  },
  {
   "cell_type": "code",
   "execution_count": 56,
   "metadata": {},
   "outputs": [],
   "source": [
    "num_posts = d['entry_data']['ProfilePage'][0]['graphql']['user']['edge_owner_to_timeline_media']['count']"
   ]
  },
  {
   "cell_type": "code",
   "execution_count": 57,
   "metadata": {},
   "outputs": [
    {
     "data": {
      "text/plain": [
       "0"
      ]
     },
     "execution_count": 57,
     "metadata": {},
     "output_type": "execute_result"
    }
   ],
   "source": [
    "num_posts"
   ]
  },
  {
   "cell_type": "code",
   "execution_count": null,
   "metadata": {},
   "outputs": [],
   "source": []
  },
  {
   "cell_type": "code",
   "execution_count": 58,
   "metadata": {},
   "outputs": [],
   "source": [
    "user_name = page_soup.find('title').text.split('@')[1].split(' ')[0].replace(')', '')"
   ]
  },
  {
   "cell_type": "code",
   "execution_count": 59,
   "metadata": {},
   "outputs": [
    {
     "data": {
      "text/plain": [
       "'wqwqwq12345w'"
      ]
     },
     "execution_count": 59,
     "metadata": {},
     "output_type": "execute_result"
    }
   ],
   "source": [
    "user_name"
   ]
  },
  {
   "cell_type": "code",
   "execution_count": 60,
   "metadata": {},
   "outputs": [],
   "source": [
    "full_name = page_soup.find('title').text.split(' (@')[0].replace('\\n', '')"
   ]
  },
  {
   "cell_type": "code",
   "execution_count": 61,
   "metadata": {},
   "outputs": [
    {
     "data": {
      "text/plain": [
       "'1998'"
      ]
     },
     "execution_count": 61,
     "metadata": {},
     "output_type": "execute_result"
    }
   ],
   "source": [
    "full_name"
   ]
  },
  {
   "cell_type": "code",
   "execution_count": 62,
   "metadata": {},
   "outputs": [
    {
     "data": {
      "text/plain": [
       "67"
      ]
     },
     "execution_count": 62,
     "metadata": {},
     "output_type": "execute_result"
    }
   ],
   "source": [
    "f.write(headers)"
   ]
  },
  {
   "cell_type": "code",
   "execution_count": 63,
   "metadata": {},
   "outputs": [
    {
     "data": {
      "text/plain": [
       "25"
      ]
     },
     "execution_count": 63,
     "metadata": {},
     "output_type": "execute_result"
    }
   ],
   "source": [
    "f.write(user_name + ',' + full_name + ',' + str(num_posts) + ',' + str(num_followed_by) + ',' + str(num_following_by) + \"\\n\")"
   ]
  },
  {
   "cell_type": "code",
   "execution_count": null,
   "metadata": {},
   "outputs": [],
   "source": []
  },
  {
   "cell_type": "code",
   "execution_count": null,
   "metadata": {},
   "outputs": [],
   "source": []
  },
  {
   "cell_type": "code",
   "execution_count": null,
   "metadata": {},
   "outputs": [],
   "source": []
  },
  {
   "cell_type": "code",
   "execution_count": null,
   "metadata": {},
   "outputs": [],
   "source": []
  },
  {
   "cell_type": "code",
   "execution_count": null,
   "metadata": {},
   "outputs": [],
   "source": []
  },
  {
   "cell_type": "code",
   "execution_count": null,
   "metadata": {},
   "outputs": [],
   "source": [
    "f.close()"
   ]
  },
  {
   "cell_type": "code",
   "execution_count": null,
   "metadata": {},
   "outputs": [],
   "source": []
  }
 ],
 "metadata": {
  "kernelspec": {
   "display_name": "Python 3",
   "language": "python",
   "name": "python3"
  },
  "language_info": {
   "codemirror_mode": {
    "name": "ipython",
    "version": 3
   },
   "file_extension": ".py",
   "mimetype": "text/x-python",
   "name": "python",
   "nbconvert_exporter": "python",
   "pygments_lexer": "ipython3",
   "version": "3.6.5"
  }
 },
 "nbformat": 4,
 "nbformat_minor": 2
}
