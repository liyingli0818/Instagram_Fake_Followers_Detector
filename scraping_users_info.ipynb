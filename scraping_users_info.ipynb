{
 "cells": [
  {
   "cell_type": "code",
   "execution_count": 5,
   "metadata": {},
   "outputs": [],
   "source": [
    "from urllib.request import urlopen as uReq\n",
    "import pandas as pd\n",
    "import requests\n",
    "import json\n",
    "import time\n",
    "import random\n",
    "import bs4\n",
    "from bs4 import BeautifulSoup "
   ]
  },
  {
   "cell_type": "code",
   "execution_count": 646,
   "metadata": {},
   "outputs": [],
   "source": [
    "from selenium.webdriver import Chrome, Firefox"
   ]
  },
  {
   "cell_type": "code",
   "execution_count": 647,
   "metadata": {},
   "outputs": [],
   "source": [
    "browser = Chrome()"
   ]
  },
  {
   "cell_type": "code",
   "execution_count": 648,
   "metadata": {},
   "outputs": [],
   "source": [
    "browser.get('https://www.instagram.com/instagram/')"
   ]
  },
  {
   "cell_type": "code",
   "execution_count": 664,
   "metadata": {},
   "outputs": [],
   "source": [
    "html = browser.page_source"
   ]
  },
  {
   "cell_type": "code",
   "execution_count": 665,
   "metadata": {},
   "outputs": [],
   "source": [
    "soup = BeautifulSoup(html, \"html.parser\")"
   ]
  },
  {
   "cell_type": "code",
   "execution_count": 684,
   "metadata": {},
   "outputs": [],
   "source": [
    "followers = browser.find_elements_by_css_selector('a.FPmhX')"
   ]
  },
  {
   "cell_type": "code",
   "execution_count": 685,
   "metadata": {},
   "outputs": [
    {
     "data": {
      "text/plain": [
       "108"
      ]
     },
     "execution_count": 685,
     "metadata": {},
     "output_type": "execute_result"
    }
   ],
   "source": [
    "len(followers)"
   ]
  },
  {
   "cell_type": "code",
   "execution_count": 686,
   "metadata": {},
   "outputs": [],
   "source": [
    "last_follower = followers[-1]"
   ]
  },
  {
   "cell_type": "code",
   "execution_count": 687,
   "metadata": {},
   "outputs": [
    {
     "data": {
      "text/plain": [
       "{'x': 250, 'y': 537}"
      ]
     },
     "execution_count": 687,
     "metadata": {},
     "output_type": "execute_result"
    }
   ],
   "source": [
    "last_follower.location_once_scrolled_into_view"
   ]
  },
  {
   "cell_type": "code",
   "execution_count": 657,
   "metadata": {},
   "outputs": [],
   "source": [
    "sel = \"li.wo9IH\""
   ]
  },
  {
   "cell_type": "code",
   "execution_count": 695,
   "metadata": {},
   "outputs": [],
   "source": [
    "def scroll_to_last_follower(browser=browser, sel=\"li.wo9IH\"):\n",
    "    followers = browser.find_elements_by_css_selector(sel)\n",
    "    len(followers)\n",
    "    last_follower = followers[-1]\n",
    "    last_follower.location_once_scrolled_into_view"
   ]
  },
  {
   "cell_type": "code",
   "execution_count": 714,
   "metadata": {},
   "outputs": [],
   "source": [
    "def get_followers(browser=browser, sel=\"li.wo9IH\", n=5, wait_time=5):\n",
    "    for i in range(n):\n",
    "        scroll_to_last_follower()\n",
    "        time.sleep(wait_time)\n",
    "    followers = browser.find_elements_by_css_selector(sel)\n",
    "    follower_urls = [get_follower_url(follower) for follower in followers]\n",
    "    return follower_urls"
   ]
  },
  {
   "cell_type": "code",
   "execution_count": 709,
   "metadata": {},
   "outputs": [],
   "source": [
    "def get_follower_url(follower):\n",
    "    link = follower.find_element_by_css_selector('a.FPmhX')\n",
    "    return link.get_attribute('href')"
   ]
  },
  {
   "cell_type": "code",
   "execution_count": 696,
   "metadata": {},
   "outputs": [],
   "source": [
    "for i in range(5):\n",
    "    scroll_to_last_follower()\n",
    "    time.sleep(5)"
   ]
  },
  {
   "cell_type": "code",
   "execution_count": 698,
   "metadata": {},
   "outputs": [],
   "source": [
    "followers = get_followers()"
   ]
  },
  {
   "cell_type": "code",
   "execution_count": 710,
   "metadata": {},
   "outputs": [],
   "source": [
    "follower = followers[0]"
   ]
  },
  {
   "cell_type": "code",
   "execution_count": 715,
   "metadata": {},
   "outputs": [],
   "source": [
    "follower_urls = get_followers(n=0)"
   ]
  },
  {
   "cell_type": "code",
   "execution_count": 716,
   "metadata": {},
   "outputs": [
    {
     "data": {
      "text/plain": [
       "['https://www.instagram.com/soymuyfalsa/',\n",
       " 'https://www.instagram.com/lirlando/',\n",
       " 'https://www.instagram.com/andrea_bordon_/',\n",
       " 'https://www.instagram.com/ndah.endah.3701/',\n",
       " 'https://www.instagram.com/jolsuperstar_tz/',\n",
       " 'https://www.instagram.com/wisnuhdyat33/',\n",
       " 'https://www.instagram.com/adiukulelo87/',\n",
       " 'https://www.instagram.com/edupdv04/',\n",
       " 'https://www.instagram.com/segaid98/',\n",
       " 'https://www.instagram.com/reza.aliakber/',\n",
       " 'https://www.instagram.com/dairo_p10/',\n",
       " 'https://www.instagram.com/zj.2_/',\n",
       " 'https://www.instagram.com/djgiulilocatti/',\n",
       " 'https://www.instagram.com/fabiiojr/',\n",
       " 'https://www.instagram.com/kbenitok/',\n",
       " 'https://www.instagram.com/yuliagarciafer/',\n",
       " 'https://www.instagram.com/firsov1996/',\n",
       " 'https://www.instagram.com/fmsoft.co.za/',\n",
       " 'https://www.instagram.com/francy_lanzetta/',\n",
       " 'https://www.instagram.com/sambelnya_pisah/',\n",
       " 'https://www.instagram.com/miguelrill98/',\n",
       " 'https://www.instagram.com/graf_kherson/',\n",
       " 'https://www.instagram.com/gineuse/',\n",
       " 'https://www.instagram.com/brisbris/',\n",
       " 'https://www.instagram.com/adiosplastico/',\n",
       " 'https://www.instagram.com/mazzoneviaggi/',\n",
       " 'https://www.instagram.com/chrismainahperre/',\n",
       " 'https://www.instagram.com/nisanur4266/',\n",
       " 'https://www.instagram.com/ojo_olaiya_wahab/',\n",
       " 'https://www.instagram.com/ph.page_ferro/',\n",
       " 'https://www.instagram.com/nadia.lehmann.18/',\n",
       " 'https://www.instagram.com/ls_abdul/',\n",
       " 'https://www.instagram.com/evren6964/',\n",
       " 'https://www.instagram.com/birkan968ozmuk13/',\n",
       " 'https://www.instagram.com/king_g265/',\n",
       " 'https://www.instagram.com/deyan.klv/',\n",
       " 'https://www.instagram.com/danie_jr_201/',\n",
       " 'https://www.instagram.com/luisfellipe50/',\n",
       " 'https://www.instagram.com/lass.chuletitasss.papa/',\n",
       " 'https://www.instagram.com/mariade6443/',\n",
       " 'https://www.instagram.com/annika_spammmsssss/',\n",
       " 'https://www.instagram.com/ridzuan312_/',\n",
       " 'https://www.instagram.com/sagi9999/',\n",
       " 'https://www.instagram.com/malele84/',\n",
       " 'https://www.instagram.com/realcarlos1/',\n",
       " 'https://www.instagram.com/bombazarprecinho/',\n",
       " 'https://www.instagram.com/aysen3355/',\n",
       " 'https://www.instagram.com/hamade_allazkane21/',\n",
       " 'https://www.instagram.com/nature_amazing._/',\n",
       " 'https://www.instagram.com/oldsoul1231/',\n",
       " 'https://www.instagram.com/gayeakbas5/',\n",
       " 'https://www.instagram.com/_stres_s/',\n",
       " 'https://www.instagram.com/darielisflorentino/',\n",
       " 'https://www.instagram.com/patrykw0/',\n",
       " 'https://www.instagram.com/aydindemirel834/',\n",
       " 'https://www.instagram.com/gorgeousdovecameron/',\n",
       " 'https://www.instagram.com/simayyazici213/',\n",
       " 'https://www.instagram.com/ev_genii8724/',\n",
       " 'https://www.instagram.com/jin_cs_kalifa12/',\n",
       " 'https://www.instagram.com/khalid_malkk/',\n",
       " 'https://www.instagram.com/monie_babyyyy/',\n",
       " 'https://www.instagram.com/mhmmdzakiit/',\n",
       " 'https://www.instagram.com/dominik__biro/',\n",
       " 'https://www.instagram.com/amandaruqaiyaanthika/',\n",
       " 'https://www.instagram.com/valeriaaristizabal4/',\n",
       " 'https://www.instagram.com/melikazzz47/',\n",
       " 'https://www.instagram.com/karlataynara31/',\n",
       " 'https://www.instagram.com/michellallencar/',\n",
       " 'https://www.instagram.com/milliemacdougall/',\n",
       " 'https://www.instagram.com/imaamdamanik17_/',\n",
       " 'https://www.instagram.com/diieta_21/',\n",
       " 'https://www.instagram.com/calimagluz/',\n",
       " 'https://www.instagram.com/dermawan2271/',\n",
       " 'https://www.instagram.com/tolgabulut9038/',\n",
       " 'https://www.instagram.com/kulac1908/',\n",
       " 'https://www.instagram.com/ttsbarber/',\n",
       " 'https://www.instagram.com/yougotnojamsnct/',\n",
       " 'https://www.instagram.com/affio_leon/',\n",
       " 'https://www.instagram.com/sandeeparya72/',\n",
       " 'https://www.instagram.com/iam_yimmy/',\n",
       " 'https://www.instagram.com/matteo_san1691/',\n",
       " 'https://www.instagram.com/_____a___d___a_____/',\n",
       " 'https://www.instagram.com/windaaseptianii/',\n",
       " 'https://www.instagram.com/jennylynbuising/',\n",
       " 'https://www.instagram.com/bahceci1190/',\n",
       " 'https://www.instagram.com/aline_pereira_pvd/',\n",
       " 'https://www.instagram.com/donyatalbkemal/',\n",
       " 'https://www.instagram.com/haanderson08/',\n",
       " 'https://www.instagram.com/lojaludioutlet/',\n",
       " 'https://www.instagram.com/panacheandrei/',\n",
       " 'https://www.instagram.com/brandeez_alia_nizam/',\n",
       " 'https://www.instagram.com/ayoubahnach/',\n",
       " 'https://www.instagram.com/nico.ok09/',\n",
       " 'https://www.instagram.com/artha_aqiqah/',\n",
       " 'https://www.instagram.com/sasan_dastvar/',\n",
       " 'https://www.instagram.com/tim___5k/',\n",
       " 'https://www.instagram.com/saputra__david/',\n",
       " 'https://www.instagram.com/rozhy__musl__manakan/',\n",
       " 'https://www.instagram.com/hayrullah2989/',\n",
       " 'https://www.instagram.com/pardeep_kasana_2300/',\n",
       " 'https://www.instagram.com/maseratiii1/',\n",
       " 'https://www.instagram.com/bethlizae555/',\n",
       " 'https://www.instagram.com/devrim8025/',\n",
       " 'https://www.instagram.com/mihribanyildiz45/',\n",
       " 'https://www.instagram.com/zekiye_aslanalp/',\n",
       " 'https://www.instagram.com/saddam_lraq_is_blind/',\n",
       " 'https://www.instagram.com/flaviaargentooo/',\n",
       " 'https://www.instagram.com/yougeshpremi/',\n",
       " 'https://www.instagram.com/palomino.isidro/',\n",
       " 'https://www.instagram.com/lil_stark10/',\n",
       " 'https://www.instagram.com/mahamoodpv/',\n",
       " 'https://www.instagram.com/junnu_02jd/',\n",
       " 'https://www.instagram.com/vilbun_dsouza_captures/',\n",
       " 'https://www.instagram.com/ablaysarre/',\n",
       " 'https://www.instagram.com/tomatosoupbooks/',\n",
       " 'https://www.instagram.com/dani_setiadi9087/',\n",
       " 'https://www.instagram.com/vrainthorn/',\n",
       " 'https://www.instagram.com/bs88888m/',\n",
       " 'https://www.instagram.com/sameh_lubbad_1/',\n",
       " 'https://www.instagram.com/davood7267/',\n",
       " 'https://www.instagram.com/william_martins_244/',\n",
       " 'https://www.instagram.com/srikandi_cantik_/',\n",
       " 'https://www.instagram.com/tony_agliano/',\n",
       " 'https://www.instagram.com/merhametsiz.aysen/',\n",
       " 'https://www.instagram.com/akcayir5001/',\n",
       " 'https://www.instagram.com/alsyreem/',\n",
       " 'https://www.instagram.com/vndecidedb/',\n",
       " 'https://www.instagram.com/marysilva8114/',\n",
       " 'https://www.instagram.com/lem0ns33/',\n",
       " 'https://www.instagram.com/esinbulut9113/',\n",
       " 'https://www.instagram.com/terapigunu/',\n",
       " 'https://www.instagram.com/rayafiani/',\n",
       " 'https://www.instagram.com/augustine_miaw/',\n",
       " 'https://www.instagram.com/senemozer6/',\n",
       " 'https://www.instagram.com/jjkillergame/',\n",
       " 'https://www.instagram.com/callie_156778/',\n",
       " 'https://www.instagram.com/93h.m/',\n",
       " 'https://www.instagram.com/nacar808/',\n",
       " 'https://www.instagram.com/cesar_sebass/',\n",
       " 'https://www.instagram.com/boulfaale48/',\n",
       " 'https://www.instagram.com/bdi2i617/',\n",
       " 'https://www.instagram.com/avsar2407/',\n",
       " 'https://www.instagram.com/des_galleryfashion/',\n",
       " 'https://www.instagram.com/irvanekosaputra/',\n",
       " 'https://www.instagram.com/salome_2704/',\n",
       " 'https://www.instagram.com/kristinamanasia/',\n",
       " 'https://www.instagram.com/a_imee324/',\n",
       " 'https://www.instagram.com/jumarni_1203/',\n",
       " 'https://www.instagram.com/mrs.sibrikov/',\n",
       " 'https://www.instagram.com/elvirat_0404/',\n",
       " 'https://www.instagram.com/failsjuku/',\n",
       " 'https://www.instagram.com/normandlacoste1959/',\n",
       " 'https://www.instagram.com/venkey_2000/',\n",
       " 'https://www.instagram.com/rostikgerst.76/',\n",
       " 'https://www.instagram.com/elenanapolskay/',\n",
       " 'https://www.instagram.com/felipeoliveira/',\n",
       " 'https://www.instagram.com/minecrafterman420/',\n",
       " 'https://www.instagram.com/kocabiyik_bilge/',\n",
       " 'https://www.instagram.com/zakariaittaleb/',\n",
       " 'https://www.instagram.com/oscarhoraciogonzalez4199/',\n",
       " 'https://www.instagram.com/ivanco.sotiroski10/',\n",
       " 'https://www.instagram.com/frmn_tuarita03/',\n",
       " 'https://www.instagram.com/ng_fashionteam/',\n",
       " 'https://www.instagram.com/j.gormus/',\n",
       " 'https://www.instagram.com/star_aquel/',\n",
       " 'https://www.instagram.com/maia.jazmin.mendoza/',\n",
       " 'https://www.instagram.com/betsy.miceli/',\n",
       " 'https://www.instagram.com/marisela89512/',\n",
       " 'https://www.instagram.com/mood.cristao/',\n",
       " 'https://www.instagram.com/clxtch.memes/',\n",
       " 'https://www.instagram.com/davontejohns76/',\n",
       " 'https://www.instagram.com/iklhnmlfc.90/',\n",
       " 'https://www.instagram.com/__im_amit__/',\n",
       " 'https://www.instagram.com/skylar_aaesthetic/',\n",
       " 'https://www.instagram.com/andoboce/',\n",
       " 'https://www.instagram.com/cullamandu59_96/',\n",
       " 'https://www.instagram.com/shyrose_cut/',\n",
       " 'https://www.instagram.com/nurdan.akdemir/',\n",
       " 'https://www.instagram.com/slavik_sorokin7733/',\n",
       " 'https://www.instagram.com/mr.nikhil.malik/',\n",
       " 'https://www.instagram.com/tufan95_/',\n",
       " 'https://www.instagram.com/skreeeph_/',\n",
       " 'https://www.instagram.com/hawin_grams/',\n",
       " 'https://www.instagram.com/bout_hein_a/',\n",
       " 'https://www.instagram.com/abusaliim.aladawi/',\n",
       " 'https://www.instagram.com/izabelasoares_1/',\n",
       " 'https://www.instagram.com/manuel.ottoboni/',\n",
       " 'https://www.instagram.com/atalay_icbay/',\n",
       " 'https://www.instagram.com/ninaroma26/',\n",
       " 'https://www.instagram.com/guevaraanderson78/',\n",
       " 'https://www.instagram.com/roycom4/',\n",
       " 'https://www.instagram.com/_.anshuman/',\n",
       " 'https://www.instagram.com/zeroday_band/',\n",
       " 'https://www.instagram.com/nicolasoliveira.21/',\n",
       " 'https://www.instagram.com/zachpearsonphoto/',\n",
       " 'https://www.instagram.com/dobedo_40_/',\n",
       " 'https://www.instagram.com/batiksabang/',\n",
       " 'https://www.instagram.com/figeraj/',\n",
       " 'https://www.instagram.com/ozlemkaplan38/',\n",
       " 'https://www.instagram.com/janah1253/',\n",
       " 'https://www.instagram.com/luciapiovaroli98/',\n",
       " 'https://www.instagram.com/apnarratives/',\n",
       " 'https://www.instagram.com/fujima_sacv/',\n",
       " 'https://www.instagram.com/evren3713/',\n",
       " 'https://www.instagram.com/youssef.milan.1293/',\n",
       " 'https://www.instagram.com/emuaehi7/',\n",
       " 'https://www.instagram.com/demirturk_sarp/',\n",
       " 'https://www.instagram.com/je.an7602/',\n",
       " 'https://www.instagram.com/doone.taylor/',\n",
       " 'https://www.instagram.com/muhd.aminnnnnnn_/',\n",
       " 'https://www.instagram.com/kridamartialarts/',\n",
       " 'https://www.instagram.com/sabrinanw_/',\n",
       " 'https://www.instagram.com/ltmymy1302/',\n",
       " 'https://www.instagram.com/riskalestari08/',\n",
       " 'https://www.instagram.com/innarodionova2017algeriet2010/',\n",
       " 'https://www.instagram.com/rickcarr1972/',\n",
       " 'https://www.instagram.com/emilce6631/',\n",
       " 'https://www.instagram.com/hzlo1/',\n",
       " 'https://www.instagram.com/rizkyyfriskiandi11/',\n",
       " 'https://www.instagram.com/timileyinaj/',\n",
       " 'https://www.instagram.com/luxielo/',\n",
       " 'https://www.instagram.com/mercanozturk5580/',\n",
       " 'https://www.instagram.com/mourabaiano2018/',\n",
       " 'https://www.instagram.com/veronicamikueedjang/',\n",
       " 'https://www.instagram.com/brayden4073/',\n",
       " 'https://www.instagram.com/misterjohnson42/',\n",
       " 'https://www.instagram.com/aliosmanduman51/',\n",
       " 'https://www.instagram.com/seray2471/',\n",
       " 'https://www.instagram.com/gabrielbrito824/',\n",
       " 'https://www.instagram.com/yoki_putra_ridwan/',\n",
       " 'https://www.instagram.com/laureeeeentia/',\n",
       " 'https://www.instagram.com/yooosiaaa/',\n",
       " 'https://www.instagram.com/omargramz/',\n",
       " 'https://www.instagram.com/chrystopherulises/',\n",
       " 'https://www.instagram.com/habibekaya3837/',\n",
       " 'https://www.instagram.com/serifealtun6965/',\n",
       " 'https://www.instagram.com/damlatunc300/',\n",
       " 'https://www.instagram.com/yukselmis413/',\n",
       " 'https://www.instagram.com/kajal.kale.3139/',\n",
       " 'https://www.instagram.com/m_a_ecelino/']"
      ]
     },
     "execution_count": 716,
     "metadata": {},
     "output_type": "execute_result"
    }
   ],
   "source": [
    "follower_urls"
   ]
  },
  {
   "cell_type": "code",
   "execution_count": 729,
   "metadata": {},
   "outputs": [
    {
     "data": {
      "text/plain": [
       "240"
      ]
     },
     "execution_count": 729,
     "metadata": {},
     "output_type": "execute_result"
    }
   ],
   "source": [
    "len(follower_urls)"
   ]
  },
  {
   "cell_type": "code",
   "execution_count": 796,
   "metadata": {},
   "outputs": [
    {
     "data": {
      "text/plain": [
       "('djgiulilocatti', 'Giuli Locatti Mascareño 🇮🇹 ', '67', '4808', '4881')"
      ]
     },
     "execution_count": 796,
     "metadata": {},
     "output_type": "execute_result"
    }
   ],
   "source": [
    "get_info(follower_urls[12])"
   ]
  },
  {
   "cell_type": "code",
   "execution_count": null,
   "metadata": {},
   "outputs": [],
   "source": []
  },
  {
   "cell_type": "code",
   "execution_count": null,
   "metadata": {},
   "outputs": [],
   "source": []
  },
  {
   "cell_type": "code",
   "execution_count": 718,
   "metadata": {},
   "outputs": [],
   "source": [
    "from pymongo import MongoClient\n",
    "\n",
    "mc = MongoClient()\n",
    "\n",
    "db = mc['IFFD']\n",
    "\n",
    "fc = db['followers'] #followers collection\n",
    "\n",
    "def add_url_to_fc(url):\n",
    "    if fc.count_documents({'url': url}) > 0:\n",
    "        return False\n",
    "    fc.insert_one({'url': url})\n",
    "    return True"
   ]
  },
  {
   "cell_type": "code",
   "execution_count": 735,
   "metadata": {
    "scrolled": true
   },
   "outputs": [
    {
     "name": "stderr",
     "output_type": "stream",
     "text": [
      "[autoreload of DataPreparation failed: Traceback (most recent call last):\n",
      "  File \"/anaconda3/lib/python3.6/site-packages/IPython/extensions/autoreload.py\", line 245, in check\n",
      "    superreload(m, reload, self.old_objects)\n",
      "  File \"/anaconda3/lib/python3.6/site-packages/IPython/extensions/autoreload.py\", line 368, in superreload\n",
      "    module = reload(module)\n",
      "  File \"/anaconda3/lib/python3.6/imp.py\", line 315, in reload\n",
      "    return importlib.reload(module)\n",
      "  File \"/anaconda3/lib/python3.6/importlib/__init__.py\", line 166, in reload\n",
      "    _bootstrap._exec(spec, module)\n",
      "  File \"<frozen importlib._bootstrap>\", line 618, in _exec\n",
      "  File \"<frozen importlib._bootstrap_external>\", line 678, in exec_module\n",
      "  File \"<frozen importlib._bootstrap>\", line 219, in _call_with_frames_removed\n",
      "  File \"/Users/liliying/Galvanize/instagram_fake_followers_detector/DataPreparation.py\", line 47, in <module>\n",
      "    def scroll_to_last_follower(browser=browser, sel=\"li.wo9IH\"):\n",
      "NameError: name 'browser' is not defined\n",
      "]\n"
     ]
    },
    {
     "data": {
      "text/plain": [
       "240"
      ]
     },
     "execution_count": 735,
     "metadata": {},
     "output_type": "execute_result"
    }
   ],
   "source": [
    "for url in follower_urls:\n",
    "    add_url_to_fc(url)\n",
    "\n",
    "fc.count_documents({})"
   ]
  },
  {
   "cell_type": "code",
   "execution_count": 784,
   "metadata": {},
   "outputs": [
    {
     "data": {
      "text/plain": [
       "['https://www.instagram.com/soymuyfalsa/',\n",
       " 'https://www.instagram.com/lirlando/',\n",
       " 'https://www.instagram.com/andrea_bordon_/',\n",
       " 'https://www.instagram.com/ndah.endah.3701/',\n",
       " 'https://www.instagram.com/jolsuperstar_tz/',\n",
       " 'https://www.instagram.com/wisnuhdyat33/',\n",
       " 'https://www.instagram.com/adiukulelo87/',\n",
       " 'https://www.instagram.com/edupdv04/',\n",
       " 'https://www.instagram.com/segaid98/',\n",
       " 'https://www.instagram.com/reza.aliakber/',\n",
       " 'https://www.instagram.com/dairo_p10/',\n",
       " 'https://www.instagram.com/zj.2_/',\n",
       " 'https://www.instagram.com/djgiulilocatti/',\n",
       " 'https://www.instagram.com/fabiiojr/',\n",
       " 'https://www.instagram.com/kbenitok/',\n",
       " 'https://www.instagram.com/yuliagarciafer/',\n",
       " 'https://www.instagram.com/firsov1996/',\n",
       " 'https://www.instagram.com/fmsoft.co.za/',\n",
       " 'https://www.instagram.com/francy_lanzetta/',\n",
       " 'https://www.instagram.com/sambelnya_pisah/',\n",
       " 'https://www.instagram.com/miguelrill98/',\n",
       " 'https://www.instagram.com/graf_kherson/',\n",
       " 'https://www.instagram.com/gineuse/',\n",
       " 'https://www.instagram.com/brisbris/',\n",
       " 'https://www.instagram.com/adiosplastico/',\n",
       " 'https://www.instagram.com/mazzoneviaggi/',\n",
       " 'https://www.instagram.com/chrismainahperre/',\n",
       " 'https://www.instagram.com/nisanur4266/',\n",
       " 'https://www.instagram.com/ojo_olaiya_wahab/',\n",
       " 'https://www.instagram.com/ph.page_ferro/',\n",
       " 'https://www.instagram.com/nadia.lehmann.18/',\n",
       " 'https://www.instagram.com/ls_abdul/',\n",
       " 'https://www.instagram.com/evren6964/',\n",
       " 'https://www.instagram.com/birkan968ozmuk13/',\n",
       " 'https://www.instagram.com/king_g265/',\n",
       " 'https://www.instagram.com/deyan.klv/',\n",
       " 'https://www.instagram.com/danie_jr_201/',\n",
       " 'https://www.instagram.com/luisfellipe50/',\n",
       " 'https://www.instagram.com/lass.chuletitasss.papa/',\n",
       " 'https://www.instagram.com/mariade6443/',\n",
       " 'https://www.instagram.com/annika_spammmsssss/',\n",
       " 'https://www.instagram.com/ridzuan312_/',\n",
       " 'https://www.instagram.com/sagi9999/',\n",
       " 'https://www.instagram.com/malele84/',\n",
       " 'https://www.instagram.com/realcarlos1/',\n",
       " 'https://www.instagram.com/bombazarprecinho/',\n",
       " 'https://www.instagram.com/aysen3355/',\n",
       " 'https://www.instagram.com/hamade_allazkane21/',\n",
       " 'https://www.instagram.com/nature_amazing._/',\n",
       " 'https://www.instagram.com/oldsoul1231/',\n",
       " 'https://www.instagram.com/gayeakbas5/',\n",
       " 'https://www.instagram.com/_stres_s/',\n",
       " 'https://www.instagram.com/darielisflorentino/',\n",
       " 'https://www.instagram.com/patrykw0/',\n",
       " 'https://www.instagram.com/aydindemirel834/',\n",
       " 'https://www.instagram.com/gorgeousdovecameron/',\n",
       " 'https://www.instagram.com/simayyazici213/',\n",
       " 'https://www.instagram.com/ev_genii8724/',\n",
       " 'https://www.instagram.com/jin_cs_kalifa12/',\n",
       " 'https://www.instagram.com/khalid_malkk/',\n",
       " 'https://www.instagram.com/monie_babyyyy/',\n",
       " 'https://www.instagram.com/mhmmdzakiit/',\n",
       " 'https://www.instagram.com/dominik__biro/',\n",
       " 'https://www.instagram.com/amandaruqaiyaanthika/',\n",
       " 'https://www.instagram.com/valeriaaristizabal4/',\n",
       " 'https://www.instagram.com/melikazzz47/',\n",
       " 'https://www.instagram.com/karlataynara31/',\n",
       " 'https://www.instagram.com/michellallencar/',\n",
       " 'https://www.instagram.com/milliemacdougall/',\n",
       " 'https://www.instagram.com/imaamdamanik17_/',\n",
       " 'https://www.instagram.com/diieta_21/',\n",
       " 'https://www.instagram.com/calimagluz/',\n",
       " 'https://www.instagram.com/dermawan2271/',\n",
       " 'https://www.instagram.com/tolgabulut9038/',\n",
       " 'https://www.instagram.com/kulac1908/',\n",
       " 'https://www.instagram.com/ttsbarber/',\n",
       " 'https://www.instagram.com/yougotnojamsnct/',\n",
       " 'https://www.instagram.com/affio_leon/',\n",
       " 'https://www.instagram.com/sandeeparya72/',\n",
       " 'https://www.instagram.com/iam_yimmy/',\n",
       " 'https://www.instagram.com/matteo_san1691/',\n",
       " 'https://www.instagram.com/_____a___d___a_____/',\n",
       " 'https://www.instagram.com/windaaseptianii/',\n",
       " 'https://www.instagram.com/jennylynbuising/',\n",
       " 'https://www.instagram.com/bahceci1190/',\n",
       " 'https://www.instagram.com/aline_pereira_pvd/',\n",
       " 'https://www.instagram.com/donyatalbkemal/',\n",
       " 'https://www.instagram.com/haanderson08/',\n",
       " 'https://www.instagram.com/lojaludioutlet/',\n",
       " 'https://www.instagram.com/panacheandrei/',\n",
       " 'https://www.instagram.com/brandeez_alia_nizam/',\n",
       " 'https://www.instagram.com/ayoubahnach/',\n",
       " 'https://www.instagram.com/nico.ok09/',\n",
       " 'https://www.instagram.com/artha_aqiqah/',\n",
       " 'https://www.instagram.com/sasan_dastvar/',\n",
       " 'https://www.instagram.com/tim___5k/',\n",
       " 'https://www.instagram.com/saputra__david/',\n",
       " 'https://www.instagram.com/rozhy__musl__manakan/',\n",
       " 'https://www.instagram.com/hayrullah2989/',\n",
       " 'https://www.instagram.com/pardeep_kasana_2300/',\n",
       " 'https://www.instagram.com/maseratiii1/',\n",
       " 'https://www.instagram.com/bethlizae555/',\n",
       " 'https://www.instagram.com/devrim8025/',\n",
       " 'https://www.instagram.com/mihribanyildiz45/',\n",
       " 'https://www.instagram.com/zekiye_aslanalp/',\n",
       " 'https://www.instagram.com/saddam_lraq_is_blind/',\n",
       " 'https://www.instagram.com/flaviaargentooo/',\n",
       " 'https://www.instagram.com/yougeshpremi/',\n",
       " 'https://www.instagram.com/palomino.isidro/',\n",
       " 'https://www.instagram.com/lil_stark10/',\n",
       " 'https://www.instagram.com/mahamoodpv/',\n",
       " 'https://www.instagram.com/junnu_02jd/',\n",
       " 'https://www.instagram.com/vilbun_dsouza_captures/',\n",
       " 'https://www.instagram.com/ablaysarre/',\n",
       " 'https://www.instagram.com/tomatosoupbooks/',\n",
       " 'https://www.instagram.com/dani_setiadi9087/',\n",
       " 'https://www.instagram.com/vrainthorn/',\n",
       " 'https://www.instagram.com/bs88888m/',\n",
       " 'https://www.instagram.com/sameh_lubbad_1/',\n",
       " 'https://www.instagram.com/davood7267/',\n",
       " 'https://www.instagram.com/william_martins_244/',\n",
       " 'https://www.instagram.com/srikandi_cantik_/',\n",
       " 'https://www.instagram.com/tony_agliano/',\n",
       " 'https://www.instagram.com/merhametsiz.aysen/',\n",
       " 'https://www.instagram.com/akcayir5001/',\n",
       " 'https://www.instagram.com/alsyreem/',\n",
       " 'https://www.instagram.com/vndecidedb/',\n",
       " 'https://www.instagram.com/marysilva8114/',\n",
       " 'https://www.instagram.com/lem0ns33/',\n",
       " 'https://www.instagram.com/esinbulut9113/',\n",
       " 'https://www.instagram.com/terapigunu/',\n",
       " 'https://www.instagram.com/rayafiani/',\n",
       " 'https://www.instagram.com/augustine_miaw/',\n",
       " 'https://www.instagram.com/senemozer6/',\n",
       " 'https://www.instagram.com/jjkillergame/',\n",
       " 'https://www.instagram.com/callie_156778/',\n",
       " 'https://www.instagram.com/93h.m/',\n",
       " 'https://www.instagram.com/nacar808/',\n",
       " 'https://www.instagram.com/cesar_sebass/',\n",
       " 'https://www.instagram.com/boulfaale48/',\n",
       " 'https://www.instagram.com/bdi2i617/',\n",
       " 'https://www.instagram.com/avsar2407/',\n",
       " 'https://www.instagram.com/des_galleryfashion/',\n",
       " 'https://www.instagram.com/irvanekosaputra/',\n",
       " 'https://www.instagram.com/salome_2704/',\n",
       " 'https://www.instagram.com/kristinamanasia/',\n",
       " 'https://www.instagram.com/a_imee324/',\n",
       " 'https://www.instagram.com/jumarni_1203/',\n",
       " 'https://www.instagram.com/mrs.sibrikov/',\n",
       " 'https://www.instagram.com/elvirat_0404/',\n",
       " 'https://www.instagram.com/failsjuku/',\n",
       " 'https://www.instagram.com/normandlacoste1959/',\n",
       " 'https://www.instagram.com/venkey_2000/',\n",
       " 'https://www.instagram.com/rostikgerst.76/',\n",
       " 'https://www.instagram.com/elenanapolskay/',\n",
       " 'https://www.instagram.com/felipeoliveira/',\n",
       " 'https://www.instagram.com/minecrafterman420/',\n",
       " 'https://www.instagram.com/kocabiyik_bilge/',\n",
       " 'https://www.instagram.com/zakariaittaleb/',\n",
       " 'https://www.instagram.com/oscarhoraciogonzalez4199/',\n",
       " 'https://www.instagram.com/ivanco.sotiroski10/',\n",
       " 'https://www.instagram.com/frmn_tuarita03/',\n",
       " 'https://www.instagram.com/ng_fashionteam/',\n",
       " 'https://www.instagram.com/j.gormus/',\n",
       " 'https://www.instagram.com/star_aquel/',\n",
       " 'https://www.instagram.com/maia.jazmin.mendoza/',\n",
       " 'https://www.instagram.com/betsy.miceli/',\n",
       " 'https://www.instagram.com/marisela89512/',\n",
       " 'https://www.instagram.com/mood.cristao/',\n",
       " 'https://www.instagram.com/clxtch.memes/',\n",
       " 'https://www.instagram.com/davontejohns76/',\n",
       " 'https://www.instagram.com/iklhnmlfc.90/',\n",
       " 'https://www.instagram.com/__im_amit__/',\n",
       " 'https://www.instagram.com/skylar_aaesthetic/',\n",
       " 'https://www.instagram.com/andoboce/',\n",
       " 'https://www.instagram.com/cullamandu59_96/',\n",
       " 'https://www.instagram.com/shyrose_cut/',\n",
       " 'https://www.instagram.com/nurdan.akdemir/',\n",
       " 'https://www.instagram.com/slavik_sorokin7733/',\n",
       " 'https://www.instagram.com/mr.nikhil.malik/',\n",
       " 'https://www.instagram.com/tufan95_/',\n",
       " 'https://www.instagram.com/skreeeph_/',\n",
       " 'https://www.instagram.com/hawin_grams/',\n",
       " 'https://www.instagram.com/bout_hein_a/',\n",
       " 'https://www.instagram.com/abusaliim.aladawi/',\n",
       " 'https://www.instagram.com/izabelasoares_1/',\n",
       " 'https://www.instagram.com/manuel.ottoboni/',\n",
       " 'https://www.instagram.com/atalay_icbay/',\n",
       " 'https://www.instagram.com/ninaroma26/',\n",
       " 'https://www.instagram.com/guevaraanderson78/',\n",
       " 'https://www.instagram.com/roycom4/',\n",
       " 'https://www.instagram.com/_.anshuman/',\n",
       " 'https://www.instagram.com/zeroday_band/',\n",
       " 'https://www.instagram.com/nicolasoliveira.21/',\n",
       " 'https://www.instagram.com/zachpearsonphoto/',\n",
       " 'https://www.instagram.com/dobedo_40_/',\n",
       " 'https://www.instagram.com/batiksabang/',\n",
       " 'https://www.instagram.com/figeraj/',\n",
       " 'https://www.instagram.com/ozlemkaplan38/',\n",
       " 'https://www.instagram.com/janah1253/',\n",
       " 'https://www.instagram.com/luciapiovaroli98/',\n",
       " 'https://www.instagram.com/apnarratives/',\n",
       " 'https://www.instagram.com/fujima_sacv/',\n",
       " 'https://www.instagram.com/evren3713/',\n",
       " 'https://www.instagram.com/youssef.milan.1293/',\n",
       " 'https://www.instagram.com/emuaehi7/',\n",
       " 'https://www.instagram.com/demirturk_sarp/',\n",
       " 'https://www.instagram.com/je.an7602/',\n",
       " 'https://www.instagram.com/doone.taylor/',\n",
       " 'https://www.instagram.com/muhd.aminnnnnnn_/',\n",
       " 'https://www.instagram.com/kridamartialarts/',\n",
       " 'https://www.instagram.com/sabrinanw_/',\n",
       " 'https://www.instagram.com/ltmymy1302/',\n",
       " 'https://www.instagram.com/riskalestari08/',\n",
       " 'https://www.instagram.com/innarodionova2017algeriet2010/',\n",
       " 'https://www.instagram.com/rickcarr1972/',\n",
       " 'https://www.instagram.com/emilce6631/',\n",
       " 'https://www.instagram.com/hzlo1/',\n",
       " 'https://www.instagram.com/rizkyyfriskiandi11/',\n",
       " 'https://www.instagram.com/timileyinaj/',\n",
       " 'https://www.instagram.com/luxielo/',\n",
       " 'https://www.instagram.com/mercanozturk5580/',\n",
       " 'https://www.instagram.com/mourabaiano2018/',\n",
       " 'https://www.instagram.com/veronicamikueedjang/',\n",
       " 'https://www.instagram.com/brayden4073/',\n",
       " 'https://www.instagram.com/misterjohnson42/',\n",
       " 'https://www.instagram.com/aliosmanduman51/',\n",
       " 'https://www.instagram.com/seray2471/',\n",
       " 'https://www.instagram.com/gabrielbrito824/',\n",
       " 'https://www.instagram.com/yoki_putra_ridwan/',\n",
       " 'https://www.instagram.com/laureeeeentia/',\n",
       " 'https://www.instagram.com/yooosiaaa/',\n",
       " 'https://www.instagram.com/omargramz/',\n",
       " 'https://www.instagram.com/chrystopherulises/',\n",
       " 'https://www.instagram.com/habibekaya3837/',\n",
       " 'https://www.instagram.com/serifealtun6965/',\n",
       " 'https://www.instagram.com/damlatunc300/',\n",
       " 'https://www.instagram.com/yukselmis413/',\n",
       " 'https://www.instagram.com/kajal.kale.3139/',\n",
       " 'https://www.instagram.com/m_a_ecelino/']"
      ]
     },
     "execution_count": 784,
     "metadata": {},
     "output_type": "execute_result"
    }
   ],
   "source": [
    "follower_urls"
   ]
  },
  {
   "cell_type": "code",
   "execution_count": 738,
   "metadata": {},
   "outputs": [],
   "source": [
    "browser = Chrome()"
   ]
  },
  {
   "cell_type": "code",
   "execution_count": 758,
   "metadata": {},
   "outputs": [],
   "source": [
    "from DataPreparation import *"
   ]
  },
  {
   "cell_type": "code",
   "execution_count": 742,
   "metadata": {},
   "outputs": [],
   "source": [
    "url = follower_urls[0]"
   ]
  },
  {
   "cell_type": "code",
   "execution_count": 743,
   "metadata": {},
   "outputs": [
    {
     "data": {
      "text/plain": [
       "'https://www.instagram.com/soymuyfalsa/'"
      ]
     },
     "execution_count": 743,
     "metadata": {},
     "output_type": "execute_result"
    }
   ],
   "source": [
    "url"
   ]
  },
  {
   "cell_type": "code",
   "execution_count": 759,
   "metadata": {},
   "outputs": [
    {
     "data": {
      "text/plain": [
       "('soymuyfalsa', 'Soy Muy Falsa💄 ', '5', '74', '0')"
      ]
     },
     "execution_count": 759,
     "metadata": {},
     "output_type": "execute_result"
    }
   ],
   "source": [
    "get_info(url)"
   ]
  },
  {
   "cell_type": "code",
   "execution_count": 800,
   "metadata": {},
   "outputs": [
    {
     "data": {
      "text/plain": [
       "('adiukulelo87', '𝓐𝓭𝓲 𝓤𝓴𝓾𝓵𝓮𝓵𝓸 ', '27', '9438', '6989')"
      ]
     },
     "execution_count": 800,
     "metadata": {},
     "output_type": "execute_result"
    }
   ],
   "source": [
    "get_info(follower_urls[6])"
   ]
  },
  {
   "cell_type": "code",
   "execution_count": 768,
   "metadata": {},
   "outputs": [
    {
     "data": {
      "text/plain": [
       "240"
      ]
     },
     "execution_count": 768,
     "metadata": {},
     "output_type": "execute_result"
    }
   ],
   "source": [
    "len(follower_urls)"
   ]
  },
  {
   "cell_type": "code",
   "execution_count": 804,
   "metadata": {},
   "outputs": [
    {
     "data": {
      "text/plain": [
       "67"
      ]
     },
     "execution_count": 804,
     "metadata": {},
     "output_type": "execute_result"
    }
   ],
   "source": [
    "filename = \"users_data.csv\"\n",
    "f = open(filename, \"w\")\n",
    "headers = \"user_name, full_name, num_posts, num_followed_by, num_following_by\\n\"\n",
    "f.write(headers)"
   ]
  },
  {
   "cell_type": "code",
   "execution_count": 805,
   "metadata": {},
   "outputs": [],
   "source": [
    "for i in range(240):\n",
    "    try:\n",
    "        user_name, full_name, num_posts, num_followers, num_followings = get_info(follower_urls[i])\n",
    "        f.write(user_name + ',' + full_name + ',' + str(num_posts) + ',' + str(num_followers) + ',' + str(num_followings) + \"\\n\")\n",
    "    except:\n",
    "        f.write('Error' + \"\\n\")"
   ]
  },
  {
   "cell_type": "code",
   "execution_count": 806,
   "metadata": {},
   "outputs": [],
   "source": [
    "f.close()"
   ]
  },
  {
   "cell_type": "code",
   "execution_count": 780,
   "metadata": {},
   "outputs": [
    {
     "data": {
      "text/plain": [
       "'https://www.instagram.com/lass.chuletitasss.papa/'"
      ]
     },
     "execution_count": 780,
     "metadata": {},
     "output_type": "execute_result"
    }
   ],
   "source": [
    "follower_urls[38]"
   ]
  },
  {
   "cell_type": "code",
   "execution_count": 746,
   "metadata": {},
   "outputs": [],
   "source": [
    "from DataPreparation import write_info"
   ]
  },
  {
   "cell_type": "code",
   "execution_count": null,
   "metadata": {},
   "outputs": [],
   "source": []
  },
  {
   "cell_type": "code",
   "execution_count": null,
   "metadata": {},
   "outputs": [],
   "source": []
  },
  {
   "cell_type": "code",
   "execution_count": 490,
   "metadata": {},
   "outputs": [],
   "source": [
    "filename = \"users_data.csv\"\n",
    "\n",
    "f = open(filename, \"w\")\n",
    "\n",
    "headers = \"user_name, full_name, num_posts, num_followed_by, num_following_by\\n\""
   ]
  },
  {
   "cell_type": "code",
   "execution_count": 491,
   "metadata": {},
   "outputs": [
    {
     "data": {
      "text/plain": [
       "67"
      ]
     },
     "execution_count": 491,
     "metadata": {},
     "output_type": "execute_result"
    }
   ],
   "source": [
    "f.write(headers)"
   ]
  },
  {
   "cell_type": "code",
   "execution_count": 531,
   "metadata": {},
   "outputs": [],
   "source": [
    "url = urls[2]"
   ]
  },
  {
   "cell_type": "code",
   "execution_count": 532,
   "metadata": {},
   "outputs": [
    {
     "data": {
      "text/plain": [
       "'https://www.instagram.com/ashraf_784_asshu'"
      ]
     },
     "execution_count": 532,
     "metadata": {},
     "output_type": "execute_result"
    }
   ],
   "source": [
    "url"
   ]
  },
  {
   "cell_type": "code",
   "execution_count": 537,
   "metadata": {},
   "outputs": [
    {
     "data": {
      "text/plain": [
       "[<meta content=\"528 Followers, 388 Following, 45 Posts - See Instagram photos and videos from Ashraf Ansari (@ashraf_784_asshu)\" name=\"description\"/>]"
      ]
     },
     "execution_count": 537,
     "metadata": {},
     "output_type": "execute_result"
    }
   ],
   "source": [
    "s"
   ]
  },
  {
   "cell_type": "code",
   "execution_count": 538,
   "metadata": {},
   "outputs": [
    {
     "data": {
      "text/plain": [
       "['528',\n",
       " 'Followers,',\n",
       " '388',\n",
       " 'Following,',\n",
       " '45',\n",
       " 'Posts',\n",
       " '-',\n",
       " 'See',\n",
       " 'Instagram',\n",
       " 'photos',\n",
       " 'and',\n",
       " 'videos',\n",
       " 'from',\n",
       " 'Ashraf',\n",
       " 'Ansari',\n",
       " '(@ashraf_784_asshu)']"
      ]
     },
     "execution_count": 538,
     "metadata": {},
     "output_type": "execute_result"
    }
   ],
   "source": [
    "s[0][\"content\"].split()"
   ]
  },
  {
   "cell_type": "code",
   "execution_count": 539,
   "metadata": {},
   "outputs": [],
   "source": [
    "num_followers = s[0][\"content\"].split()[0]"
   ]
  },
  {
   "cell_type": "code",
   "execution_count": 540,
   "metadata": {},
   "outputs": [
    {
     "data": {
      "text/plain": [
       "'528'"
      ]
     },
     "execution_count": 540,
     "metadata": {},
     "output_type": "execute_result"
    }
   ],
   "source": [
    "num_followers"
   ]
  },
  {
   "cell_type": "code",
   "execution_count": 541,
   "metadata": {},
   "outputs": [],
   "source": [
    "num_followings = s[0][\"content\"].split()[2]"
   ]
  },
  {
   "cell_type": "code",
   "execution_count": 542,
   "metadata": {},
   "outputs": [
    {
     "data": {
      "text/plain": [
       "'388'"
      ]
     },
     "execution_count": 542,
     "metadata": {},
     "output_type": "execute_result"
    }
   ],
   "source": [
    "num_followings"
   ]
  },
  {
   "cell_type": "code",
   "execution_count": 543,
   "metadata": {},
   "outputs": [],
   "source": [
    "num_posts = s[0][\"content\"].split()[4]"
   ]
  },
  {
   "cell_type": "code",
   "execution_count": 544,
   "metadata": {},
   "outputs": [
    {
     "data": {
      "text/plain": [
       "'45'"
      ]
     },
     "execution_count": 544,
     "metadata": {},
     "output_type": "execute_result"
    }
   ],
   "source": [
    "num_posts"
   ]
  },
  {
   "cell_type": "code",
   "execution_count": 545,
   "metadata": {},
   "outputs": [],
   "source": [
    "user_name = s[0][\"content\"].split()[-1].replace(\"(@\", \"\").replace(\")\", \"\")"
   ]
  },
  {
   "cell_type": "code",
   "execution_count": 546,
   "metadata": {},
   "outputs": [
    {
     "data": {
      "text/plain": [
       "'ashraf_784_asshu'"
      ]
     },
     "execution_count": 546,
     "metadata": {},
     "output_type": "execute_result"
    }
   ],
   "source": [
    "user_name"
   ]
  },
  {
   "cell_type": "code",
   "execution_count": 547,
   "metadata": {},
   "outputs": [],
   "source": [
    "full_name = soup.find(\"title\").text.split(\"(@\")[0].replace(\"\\n\", \"\")"
   ]
  },
  {
   "cell_type": "code",
   "execution_count": 548,
   "metadata": {},
   "outputs": [
    {
     "data": {
      "text/plain": [
       "'Ashraf Ansari '"
      ]
     },
     "execution_count": 548,
     "metadata": {},
     "output_type": "execute_result"
    }
   ],
   "source": [
    "full_name"
   ]
  },
  {
   "cell_type": "code",
   "execution_count": 549,
   "metadata": {},
   "outputs": [
    {
     "data": {
      "text/plain": [
       "43"
      ]
     },
     "execution_count": 549,
     "metadata": {},
     "output_type": "execute_result"
    }
   ],
   "source": [
    "f.write(user_name + ',' + full_name + ',' + str(num_posts) + ',' + str(num_followers) + ',' + str(num_followings) + \"\\n\")"
   ]
  },
  {
   "cell_type": "code",
   "execution_count": null,
   "metadata": {},
   "outputs": [],
   "source": []
  },
  {
   "cell_type": "code",
   "execution_count": null,
   "metadata": {},
   "outputs": [],
   "source": []
  },
  {
   "cell_type": "code",
   "execution_count": null,
   "metadata": {},
   "outputs": [],
   "source": []
  },
  {
   "cell_type": "code",
   "execution_count": null,
   "metadata": {},
   "outputs": [],
   "source": []
  },
  {
   "cell_type": "code",
   "execution_count": null,
   "metadata": {},
   "outputs": [],
   "source": []
  },
  {
   "cell_type": "code",
   "execution_count": 550,
   "metadata": {},
   "outputs": [],
   "source": [
    "f.close()"
   ]
  },
  {
   "cell_type": "code",
   "execution_count": null,
   "metadata": {},
   "outputs": [],
   "source": []
  },
  {
   "cell_type": "code",
   "execution_count": 560,
   "metadata": {},
   "outputs": [],
   "source": [
    "from DataPreparation import *"
   ]
  },
  {
   "cell_type": "code",
   "execution_count": 567,
   "metadata": {},
   "outputs": [
    {
     "data": {
      "text/plain": [
       "67"
      ]
     },
     "execution_count": 567,
     "metadata": {},
     "output_type": "execute_result"
    }
   ],
   "source": [
    "filename = \"users_data.csv\"\n",
    "f = open(filename, \"w\")\n",
    "headers = \"user_name, full_name, num_posts, num_followed_by, num_following_by\\n\"\n",
    "f.write(headers)"
   ]
  },
  {
   "cell_type": "code",
   "execution_count": 632,
   "metadata": {},
   "outputs": [],
   "source": [
    "urls = pd.read_csv('data/urls_data.csv', header=None)"
   ]
  },
  {
   "cell_type": "code",
   "execution_count": 644,
   "metadata": {},
   "outputs": [
    {
     "data": {
      "text/plain": [
       "'https://www.instagram.com/ozaslan9914'"
      ]
     },
     "execution_count": 644,
     "metadata": {},
     "output_type": "execute_result"
    }
   ],
   "source": [
    "urls.values[43][0]"
   ]
  },
  {
   "cell_type": "code",
   "execution_count": 636,
   "metadata": {},
   "outputs": [
    {
     "data": {
      "text/plain": [
       "'https://www.instagram.com/ashraf_784_asshu'"
      ]
     },
     "execution_count": 636,
     "metadata": {},
     "output_type": "execute_result"
    }
   ],
   "source": [
    "urls.values[2][0]"
   ]
  },
  {
   "cell_type": "code",
   "execution_count": 638,
   "metadata": {},
   "outputs": [
    {
     "name": "stdout",
     "output_type": "stream",
     "text": [
      "wqwqwq12345w 1998  0 1 12\n",
      "berrin6734 Berrin POLAT  1 8 5\n",
      "ashraf_784_asshu Ashraf Ansari  45 529 389\n",
      "sailaja_reddy___ sailu  3 182 39\n",
      "itssauravpandit saurav pandat  27 188 18\n",
      "chefsangwan kushaal sangwan  39 325 98\n",
      "juned__22 juned  20 1,553 92\n",
      "the_real_thug_210 himanshu solanki  66 1,413 396\n",
      "molinaxd19 Juan Molina  3 156 18\n",
      "sidik_pratama09 M S N🔥  7 755 344\n",
      "muhammad.muhammad.m Muhammad  5 472 47\n",
      "rrockyroy786 Rocky  106 224 150\n",
      "tanya_khoma Tanya  35 1,001 205\n",
      "mohamed_alswayah_ ٌMôhámęd Ałšwãÿãh  36 350 1,055\n",
      "royal_marwadi_rj Rj Rathi  168 1,244 501\n",
      "_mustafaa_36 mustafa doğan  19 725 196\n",
      "reymon089 ℜeymoη Lυceηa 🍕✌  12 380 297\n",
      "alsalasv ☆ ♥ Ale Salas ♥ ☆  84 939 1,036\n",
      "vishuking34 Vishu King  1 22 64\n",
      "skyfirmament sky  23 465 4,365\n",
      "mariagesbloom The Bloom Studio  12 21 64\n",
      "feridecelik11 Feride ÇELİK  1 9 90\n",
      "sam_200776 Sam_2007  10 244 23\n",
      "i_am_jaa_mathi jaa  1 200 32\n",
      "mhmdrswl6953 محمد رسول  126 198 1,866\n",
      "alihan0802 Alihan🤘🤙  2 379 148\n",
      "4.mi.12 A M I R  6 467 86\n",
      "hamad_chaker 🌎ELHAMAD🌎  296 2,019 621\n",
      "fai_sal_fk فیصل  55 1,402 61\n",
      "dadagabem Gratia Marino de' Robertis  526 4,193 194\n",
      "v.samarceva Виктория Самарцева  0 0 1\n",
      "heersound heer sound kd  10 135 708\n",
      "sachin.1379 Sachin Dhurve  2 104 416\n",
      "mr_sasa_madzgalj Sasa Madzgalj  47 1,007 440\n",
      "10_tisha Тиша 🐱🐈  21 541 250\n",
      "furkan_bezz_07 👑_مُحمّد فُرقان_👑  26 5,527 982\n",
      "doctor_daniels Осипов Даниэль  36 189 597\n",
      "iamshariqueali 𝕾𝖍𝖆𝖗𝖎𝖖𝖚𝖊 𝕬𝖑𝖎  18 7,520 380\n",
      "fidahussainrizvi_01 abid rizvi 🔵  156 3,003 6,907\n",
      "kahinat_63_03 ʬʬ-ķặfặṁ ḏịsặ ḇệặutịfuḻ-ʬʬ  28 443 255\n",
      "dlsdouglas Douglas Echenique  700 16.9k 199\n",
      "ipek__ozkan İpek Özkan 🦋  25 9,116 93\n",
      "@__oligarkh @__oligarkh • Instagram photos and videos 318 121 153\n"
     ]
    },
    {
     "ename": "HTTPError",
     "evalue": "HTTP Error 404: Not Found",
     "output_type": "error",
     "traceback": [
      "\u001b[0;31m---------------------------------------------------------------------------\u001b[0m",
      "\u001b[0;31mHTTPError\u001b[0m                                 Traceback (most recent call last)",
      "\u001b[0;32m<ipython-input-638-f1a3fce7056f>\u001b[0m in \u001b[0;36m<module>\u001b[0;34m()\u001b[0m\n\u001b[1;32m      1\u001b[0m \u001b[0;32mfor\u001b[0m \u001b[0mi\u001b[0m \u001b[0;32min\u001b[0m \u001b[0mrange\u001b[0m\u001b[0;34m(\u001b[0m\u001b[0mlen\u001b[0m\u001b[0;34m(\u001b[0m\u001b[0murls\u001b[0m\u001b[0;34m)\u001b[0m\u001b[0;34m)\u001b[0m\u001b[0;34m:\u001b[0m\u001b[0;34m\u001b[0m\u001b[0m\n\u001b[0;32m----> 2\u001b[0;31m     \u001b[0muser_name\u001b[0m\u001b[0;34m,\u001b[0m \u001b[0mfull_name\u001b[0m\u001b[0;34m,\u001b[0m \u001b[0mnum_posts\u001b[0m\u001b[0;34m,\u001b[0m \u001b[0mnum_followers\u001b[0m\u001b[0;34m,\u001b[0m \u001b[0mnum_followings\u001b[0m \u001b[0;34m=\u001b[0m \u001b[0mget_info\u001b[0m\u001b[0;34m(\u001b[0m\u001b[0murls\u001b[0m\u001b[0;34m.\u001b[0m\u001b[0mvalues\u001b[0m\u001b[0;34m[\u001b[0m\u001b[0mi\u001b[0m\u001b[0;34m]\u001b[0m\u001b[0;34m[\u001b[0m\u001b[0;36m0\u001b[0m\u001b[0;34m]\u001b[0m\u001b[0;34m)\u001b[0m\u001b[0;34m\u001b[0m\u001b[0m\n\u001b[0m\u001b[1;32m      3\u001b[0m     \u001b[0mprint\u001b[0m\u001b[0;34m(\u001b[0m\u001b[0muser_name\u001b[0m\u001b[0;34m,\u001b[0m \u001b[0mfull_name\u001b[0m\u001b[0;34m,\u001b[0m \u001b[0mnum_posts\u001b[0m\u001b[0;34m,\u001b[0m \u001b[0mnum_followers\u001b[0m\u001b[0;34m,\u001b[0m \u001b[0mnum_followings\u001b[0m\u001b[0;34m)\u001b[0m\u001b[0;34m\u001b[0m\u001b[0m\n\u001b[1;32m      4\u001b[0m     \u001b[0;31m#f.write(user_name + ',' + full_name + ',' + str(num_posts) + ',' + str(num_followers) + ',' + str(num_followings) + \"\\n\")\u001b[0m\u001b[0;34m\u001b[0m\u001b[0;34m\u001b[0m\u001b[0m\n\u001b[1;32m      5\u001b[0m \u001b[0;34m\u001b[0m\u001b[0m\n",
      "\u001b[0;32m~/Galvanize/instagram_fake_followers_detector/DataPreparation.py\u001b[0m in \u001b[0;36mget_info\u001b[0;34m(url)\u001b[0m\n\u001b[1;32m     13\u001b[0m \u001b[0;34m\u001b[0m\u001b[0m\n\u001b[1;32m     14\u001b[0m \u001b[0;32mdef\u001b[0m \u001b[0mget_info\u001b[0m\u001b[0;34m(\u001b[0m\u001b[0murl\u001b[0m\u001b[0;34m)\u001b[0m\u001b[0;34m:\u001b[0m\u001b[0;34m\u001b[0m\u001b[0m\n\u001b[0;32m---> 15\u001b[0;31m     \u001b[0muClient\u001b[0m \u001b[0;34m=\u001b[0m \u001b[0muReq\u001b[0m\u001b[0;34m(\u001b[0m\u001b[0murl\u001b[0m\u001b[0;34m)\u001b[0m\u001b[0;34m\u001b[0m\u001b[0m\n\u001b[0m\u001b[1;32m     16\u001b[0m     \u001b[0mpage_html\u001b[0m \u001b[0;34m=\u001b[0m \u001b[0muClient\u001b[0m\u001b[0;34m.\u001b[0m\u001b[0mread\u001b[0m\u001b[0;34m(\u001b[0m\u001b[0;34m)\u001b[0m\u001b[0;34m\u001b[0m\u001b[0m\n\u001b[1;32m     17\u001b[0m     \u001b[0muClient\u001b[0m\u001b[0;34m.\u001b[0m\u001b[0mclose\u001b[0m\u001b[0;34m(\u001b[0m\u001b[0;34m)\u001b[0m\u001b[0;34m\u001b[0m\u001b[0m\n",
      "\u001b[0;32m/anaconda3/lib/python3.6/urllib/request.py\u001b[0m in \u001b[0;36murlopen\u001b[0;34m(url, data, timeout, cafile, capath, cadefault, context)\u001b[0m\n\u001b[1;32m    221\u001b[0m     \u001b[0;32melse\u001b[0m\u001b[0;34m:\u001b[0m\u001b[0;34m\u001b[0m\u001b[0m\n\u001b[1;32m    222\u001b[0m         \u001b[0mopener\u001b[0m \u001b[0;34m=\u001b[0m \u001b[0m_opener\u001b[0m\u001b[0;34m\u001b[0m\u001b[0m\n\u001b[0;32m--> 223\u001b[0;31m     \u001b[0;32mreturn\u001b[0m \u001b[0mopener\u001b[0m\u001b[0;34m.\u001b[0m\u001b[0mopen\u001b[0m\u001b[0;34m(\u001b[0m\u001b[0murl\u001b[0m\u001b[0;34m,\u001b[0m \u001b[0mdata\u001b[0m\u001b[0;34m,\u001b[0m \u001b[0mtimeout\u001b[0m\u001b[0;34m)\u001b[0m\u001b[0;34m\u001b[0m\u001b[0m\n\u001b[0m\u001b[1;32m    224\u001b[0m \u001b[0;34m\u001b[0m\u001b[0m\n\u001b[1;32m    225\u001b[0m \u001b[0;32mdef\u001b[0m \u001b[0minstall_opener\u001b[0m\u001b[0;34m(\u001b[0m\u001b[0mopener\u001b[0m\u001b[0;34m)\u001b[0m\u001b[0;34m:\u001b[0m\u001b[0;34m\u001b[0m\u001b[0m\n",
      "\u001b[0;32m/anaconda3/lib/python3.6/urllib/request.py\u001b[0m in \u001b[0;36mopen\u001b[0;34m(self, fullurl, data, timeout)\u001b[0m\n\u001b[1;32m    530\u001b[0m         \u001b[0;32mfor\u001b[0m \u001b[0mprocessor\u001b[0m \u001b[0;32min\u001b[0m \u001b[0mself\u001b[0m\u001b[0;34m.\u001b[0m\u001b[0mprocess_response\u001b[0m\u001b[0;34m.\u001b[0m\u001b[0mget\u001b[0m\u001b[0;34m(\u001b[0m\u001b[0mprotocol\u001b[0m\u001b[0;34m,\u001b[0m \u001b[0;34m[\u001b[0m\u001b[0;34m]\u001b[0m\u001b[0;34m)\u001b[0m\u001b[0;34m:\u001b[0m\u001b[0;34m\u001b[0m\u001b[0m\n\u001b[1;32m    531\u001b[0m             \u001b[0mmeth\u001b[0m \u001b[0;34m=\u001b[0m \u001b[0mgetattr\u001b[0m\u001b[0;34m(\u001b[0m\u001b[0mprocessor\u001b[0m\u001b[0;34m,\u001b[0m \u001b[0mmeth_name\u001b[0m\u001b[0;34m)\u001b[0m\u001b[0;34m\u001b[0m\u001b[0m\n\u001b[0;32m--> 532\u001b[0;31m             \u001b[0mresponse\u001b[0m \u001b[0;34m=\u001b[0m \u001b[0mmeth\u001b[0m\u001b[0;34m(\u001b[0m\u001b[0mreq\u001b[0m\u001b[0;34m,\u001b[0m \u001b[0mresponse\u001b[0m\u001b[0;34m)\u001b[0m\u001b[0;34m\u001b[0m\u001b[0m\n\u001b[0m\u001b[1;32m    533\u001b[0m \u001b[0;34m\u001b[0m\u001b[0m\n\u001b[1;32m    534\u001b[0m         \u001b[0;32mreturn\u001b[0m \u001b[0mresponse\u001b[0m\u001b[0;34m\u001b[0m\u001b[0m\n",
      "\u001b[0;32m/anaconda3/lib/python3.6/urllib/request.py\u001b[0m in \u001b[0;36mhttp_response\u001b[0;34m(self, request, response)\u001b[0m\n\u001b[1;32m    640\u001b[0m         \u001b[0;32mif\u001b[0m \u001b[0;32mnot\u001b[0m \u001b[0;34m(\u001b[0m\u001b[0;36m200\u001b[0m \u001b[0;34m<=\u001b[0m \u001b[0mcode\u001b[0m \u001b[0;34m<\u001b[0m \u001b[0;36m300\u001b[0m\u001b[0;34m)\u001b[0m\u001b[0;34m:\u001b[0m\u001b[0;34m\u001b[0m\u001b[0m\n\u001b[1;32m    641\u001b[0m             response = self.parent.error(\n\u001b[0;32m--> 642\u001b[0;31m                 'http', request, response, code, msg, hdrs)\n\u001b[0m\u001b[1;32m    643\u001b[0m \u001b[0;34m\u001b[0m\u001b[0m\n\u001b[1;32m    644\u001b[0m         \u001b[0;32mreturn\u001b[0m \u001b[0mresponse\u001b[0m\u001b[0;34m\u001b[0m\u001b[0m\n",
      "\u001b[0;32m/anaconda3/lib/python3.6/urllib/request.py\u001b[0m in \u001b[0;36merror\u001b[0;34m(self, proto, *args)\u001b[0m\n\u001b[1;32m    562\u001b[0m             \u001b[0mhttp_err\u001b[0m \u001b[0;34m=\u001b[0m \u001b[0;36m0\u001b[0m\u001b[0;34m\u001b[0m\u001b[0m\n\u001b[1;32m    563\u001b[0m         \u001b[0margs\u001b[0m \u001b[0;34m=\u001b[0m \u001b[0;34m(\u001b[0m\u001b[0mdict\u001b[0m\u001b[0;34m,\u001b[0m \u001b[0mproto\u001b[0m\u001b[0;34m,\u001b[0m \u001b[0mmeth_name\u001b[0m\u001b[0;34m)\u001b[0m \u001b[0;34m+\u001b[0m \u001b[0margs\u001b[0m\u001b[0;34m\u001b[0m\u001b[0m\n\u001b[0;32m--> 564\u001b[0;31m         \u001b[0mresult\u001b[0m \u001b[0;34m=\u001b[0m \u001b[0mself\u001b[0m\u001b[0;34m.\u001b[0m\u001b[0m_call_chain\u001b[0m\u001b[0;34m(\u001b[0m\u001b[0;34m*\u001b[0m\u001b[0margs\u001b[0m\u001b[0;34m)\u001b[0m\u001b[0;34m\u001b[0m\u001b[0m\n\u001b[0m\u001b[1;32m    565\u001b[0m         \u001b[0;32mif\u001b[0m \u001b[0mresult\u001b[0m\u001b[0;34m:\u001b[0m\u001b[0;34m\u001b[0m\u001b[0m\n\u001b[1;32m    566\u001b[0m             \u001b[0;32mreturn\u001b[0m \u001b[0mresult\u001b[0m\u001b[0;34m\u001b[0m\u001b[0m\n",
      "\u001b[0;32m/anaconda3/lib/python3.6/urllib/request.py\u001b[0m in \u001b[0;36m_call_chain\u001b[0;34m(self, chain, kind, meth_name, *args)\u001b[0m\n\u001b[1;32m    502\u001b[0m         \u001b[0;32mfor\u001b[0m \u001b[0mhandler\u001b[0m \u001b[0;32min\u001b[0m \u001b[0mhandlers\u001b[0m\u001b[0;34m:\u001b[0m\u001b[0;34m\u001b[0m\u001b[0m\n\u001b[1;32m    503\u001b[0m             \u001b[0mfunc\u001b[0m \u001b[0;34m=\u001b[0m \u001b[0mgetattr\u001b[0m\u001b[0;34m(\u001b[0m\u001b[0mhandler\u001b[0m\u001b[0;34m,\u001b[0m \u001b[0mmeth_name\u001b[0m\u001b[0;34m)\u001b[0m\u001b[0;34m\u001b[0m\u001b[0m\n\u001b[0;32m--> 504\u001b[0;31m             \u001b[0mresult\u001b[0m \u001b[0;34m=\u001b[0m \u001b[0mfunc\u001b[0m\u001b[0;34m(\u001b[0m\u001b[0;34m*\u001b[0m\u001b[0margs\u001b[0m\u001b[0;34m)\u001b[0m\u001b[0;34m\u001b[0m\u001b[0m\n\u001b[0m\u001b[1;32m    505\u001b[0m             \u001b[0;32mif\u001b[0m \u001b[0mresult\u001b[0m \u001b[0;32mis\u001b[0m \u001b[0;32mnot\u001b[0m \u001b[0;32mNone\u001b[0m\u001b[0;34m:\u001b[0m\u001b[0;34m\u001b[0m\u001b[0m\n\u001b[1;32m    506\u001b[0m                 \u001b[0;32mreturn\u001b[0m \u001b[0mresult\u001b[0m\u001b[0;34m\u001b[0m\u001b[0m\n",
      "\u001b[0;32m/anaconda3/lib/python3.6/urllib/request.py\u001b[0m in \u001b[0;36mhttp_error_302\u001b[0;34m(self, req, fp, code, msg, headers)\u001b[0m\n\u001b[1;32m    754\u001b[0m         \u001b[0mfp\u001b[0m\u001b[0;34m.\u001b[0m\u001b[0mclose\u001b[0m\u001b[0;34m(\u001b[0m\u001b[0;34m)\u001b[0m\u001b[0;34m\u001b[0m\u001b[0m\n\u001b[1;32m    755\u001b[0m \u001b[0;34m\u001b[0m\u001b[0m\n\u001b[0;32m--> 756\u001b[0;31m         \u001b[0;32mreturn\u001b[0m \u001b[0mself\u001b[0m\u001b[0;34m.\u001b[0m\u001b[0mparent\u001b[0m\u001b[0;34m.\u001b[0m\u001b[0mopen\u001b[0m\u001b[0;34m(\u001b[0m\u001b[0mnew\u001b[0m\u001b[0;34m,\u001b[0m \u001b[0mtimeout\u001b[0m\u001b[0;34m=\u001b[0m\u001b[0mreq\u001b[0m\u001b[0;34m.\u001b[0m\u001b[0mtimeout\u001b[0m\u001b[0;34m)\u001b[0m\u001b[0;34m\u001b[0m\u001b[0m\n\u001b[0m\u001b[1;32m    757\u001b[0m \u001b[0;34m\u001b[0m\u001b[0m\n\u001b[1;32m    758\u001b[0m     \u001b[0mhttp_error_301\u001b[0m \u001b[0;34m=\u001b[0m \u001b[0mhttp_error_303\u001b[0m \u001b[0;34m=\u001b[0m \u001b[0mhttp_error_307\u001b[0m \u001b[0;34m=\u001b[0m \u001b[0mhttp_error_302\u001b[0m\u001b[0;34m\u001b[0m\u001b[0m\n",
      "\u001b[0;32m/anaconda3/lib/python3.6/urllib/request.py\u001b[0m in \u001b[0;36mopen\u001b[0;34m(self, fullurl, data, timeout)\u001b[0m\n\u001b[1;32m    530\u001b[0m         \u001b[0;32mfor\u001b[0m \u001b[0mprocessor\u001b[0m \u001b[0;32min\u001b[0m \u001b[0mself\u001b[0m\u001b[0;34m.\u001b[0m\u001b[0mprocess_response\u001b[0m\u001b[0;34m.\u001b[0m\u001b[0mget\u001b[0m\u001b[0;34m(\u001b[0m\u001b[0mprotocol\u001b[0m\u001b[0;34m,\u001b[0m \u001b[0;34m[\u001b[0m\u001b[0;34m]\u001b[0m\u001b[0;34m)\u001b[0m\u001b[0;34m:\u001b[0m\u001b[0;34m\u001b[0m\u001b[0m\n\u001b[1;32m    531\u001b[0m             \u001b[0mmeth\u001b[0m \u001b[0;34m=\u001b[0m \u001b[0mgetattr\u001b[0m\u001b[0;34m(\u001b[0m\u001b[0mprocessor\u001b[0m\u001b[0;34m,\u001b[0m \u001b[0mmeth_name\u001b[0m\u001b[0;34m)\u001b[0m\u001b[0;34m\u001b[0m\u001b[0m\n\u001b[0;32m--> 532\u001b[0;31m             \u001b[0mresponse\u001b[0m \u001b[0;34m=\u001b[0m \u001b[0mmeth\u001b[0m\u001b[0;34m(\u001b[0m\u001b[0mreq\u001b[0m\u001b[0;34m,\u001b[0m \u001b[0mresponse\u001b[0m\u001b[0;34m)\u001b[0m\u001b[0;34m\u001b[0m\u001b[0m\n\u001b[0m\u001b[1;32m    533\u001b[0m \u001b[0;34m\u001b[0m\u001b[0m\n\u001b[1;32m    534\u001b[0m         \u001b[0;32mreturn\u001b[0m \u001b[0mresponse\u001b[0m\u001b[0;34m\u001b[0m\u001b[0m\n",
      "\u001b[0;32m/anaconda3/lib/python3.6/urllib/request.py\u001b[0m in \u001b[0;36mhttp_response\u001b[0;34m(self, request, response)\u001b[0m\n\u001b[1;32m    640\u001b[0m         \u001b[0;32mif\u001b[0m \u001b[0;32mnot\u001b[0m \u001b[0;34m(\u001b[0m\u001b[0;36m200\u001b[0m \u001b[0;34m<=\u001b[0m \u001b[0mcode\u001b[0m \u001b[0;34m<\u001b[0m \u001b[0;36m300\u001b[0m\u001b[0;34m)\u001b[0m\u001b[0;34m:\u001b[0m\u001b[0;34m\u001b[0m\u001b[0m\n\u001b[1;32m    641\u001b[0m             response = self.parent.error(\n\u001b[0;32m--> 642\u001b[0;31m                 'http', request, response, code, msg, hdrs)\n\u001b[0m\u001b[1;32m    643\u001b[0m \u001b[0;34m\u001b[0m\u001b[0m\n\u001b[1;32m    644\u001b[0m         \u001b[0;32mreturn\u001b[0m \u001b[0mresponse\u001b[0m\u001b[0;34m\u001b[0m\u001b[0m\n",
      "\u001b[0;32m/anaconda3/lib/python3.6/urllib/request.py\u001b[0m in \u001b[0;36merror\u001b[0;34m(self, proto, *args)\u001b[0m\n\u001b[1;32m    568\u001b[0m         \u001b[0;32mif\u001b[0m \u001b[0mhttp_err\u001b[0m\u001b[0;34m:\u001b[0m\u001b[0;34m\u001b[0m\u001b[0m\n\u001b[1;32m    569\u001b[0m             \u001b[0margs\u001b[0m \u001b[0;34m=\u001b[0m \u001b[0;34m(\u001b[0m\u001b[0mdict\u001b[0m\u001b[0;34m,\u001b[0m \u001b[0;34m'default'\u001b[0m\u001b[0;34m,\u001b[0m \u001b[0;34m'http_error_default'\u001b[0m\u001b[0;34m)\u001b[0m \u001b[0;34m+\u001b[0m \u001b[0morig_args\u001b[0m\u001b[0;34m\u001b[0m\u001b[0m\n\u001b[0;32m--> 570\u001b[0;31m             \u001b[0;32mreturn\u001b[0m \u001b[0mself\u001b[0m\u001b[0;34m.\u001b[0m\u001b[0m_call_chain\u001b[0m\u001b[0;34m(\u001b[0m\u001b[0;34m*\u001b[0m\u001b[0margs\u001b[0m\u001b[0;34m)\u001b[0m\u001b[0;34m\u001b[0m\u001b[0m\n\u001b[0m\u001b[1;32m    571\u001b[0m \u001b[0;34m\u001b[0m\u001b[0m\n\u001b[1;32m    572\u001b[0m \u001b[0;31m# XXX probably also want an abstract factory that knows when it makes\u001b[0m\u001b[0;34m\u001b[0m\u001b[0;34m\u001b[0m\u001b[0m\n",
      "\u001b[0;32m/anaconda3/lib/python3.6/urllib/request.py\u001b[0m in \u001b[0;36m_call_chain\u001b[0;34m(self, chain, kind, meth_name, *args)\u001b[0m\n\u001b[1;32m    502\u001b[0m         \u001b[0;32mfor\u001b[0m \u001b[0mhandler\u001b[0m \u001b[0;32min\u001b[0m \u001b[0mhandlers\u001b[0m\u001b[0;34m:\u001b[0m\u001b[0;34m\u001b[0m\u001b[0m\n\u001b[1;32m    503\u001b[0m             \u001b[0mfunc\u001b[0m \u001b[0;34m=\u001b[0m \u001b[0mgetattr\u001b[0m\u001b[0;34m(\u001b[0m\u001b[0mhandler\u001b[0m\u001b[0;34m,\u001b[0m \u001b[0mmeth_name\u001b[0m\u001b[0;34m)\u001b[0m\u001b[0;34m\u001b[0m\u001b[0m\n\u001b[0;32m--> 504\u001b[0;31m             \u001b[0mresult\u001b[0m \u001b[0;34m=\u001b[0m \u001b[0mfunc\u001b[0m\u001b[0;34m(\u001b[0m\u001b[0;34m*\u001b[0m\u001b[0margs\u001b[0m\u001b[0;34m)\u001b[0m\u001b[0;34m\u001b[0m\u001b[0m\n\u001b[0m\u001b[1;32m    505\u001b[0m             \u001b[0;32mif\u001b[0m \u001b[0mresult\u001b[0m \u001b[0;32mis\u001b[0m \u001b[0;32mnot\u001b[0m \u001b[0;32mNone\u001b[0m\u001b[0;34m:\u001b[0m\u001b[0;34m\u001b[0m\u001b[0m\n\u001b[1;32m    506\u001b[0m                 \u001b[0;32mreturn\u001b[0m \u001b[0mresult\u001b[0m\u001b[0;34m\u001b[0m\u001b[0m\n",
      "\u001b[0;32m/anaconda3/lib/python3.6/urllib/request.py\u001b[0m in \u001b[0;36mhttp_error_default\u001b[0;34m(self, req, fp, code, msg, hdrs)\u001b[0m\n\u001b[1;32m    648\u001b[0m \u001b[0;32mclass\u001b[0m \u001b[0mHTTPDefaultErrorHandler\u001b[0m\u001b[0;34m(\u001b[0m\u001b[0mBaseHandler\u001b[0m\u001b[0;34m)\u001b[0m\u001b[0;34m:\u001b[0m\u001b[0;34m\u001b[0m\u001b[0m\n\u001b[1;32m    649\u001b[0m     \u001b[0;32mdef\u001b[0m \u001b[0mhttp_error_default\u001b[0m\u001b[0;34m(\u001b[0m\u001b[0mself\u001b[0m\u001b[0;34m,\u001b[0m \u001b[0mreq\u001b[0m\u001b[0;34m,\u001b[0m \u001b[0mfp\u001b[0m\u001b[0;34m,\u001b[0m \u001b[0mcode\u001b[0m\u001b[0;34m,\u001b[0m \u001b[0mmsg\u001b[0m\u001b[0;34m,\u001b[0m \u001b[0mhdrs\u001b[0m\u001b[0;34m)\u001b[0m\u001b[0;34m:\u001b[0m\u001b[0;34m\u001b[0m\u001b[0m\n\u001b[0;32m--> 650\u001b[0;31m         \u001b[0;32mraise\u001b[0m \u001b[0mHTTPError\u001b[0m\u001b[0;34m(\u001b[0m\u001b[0mreq\u001b[0m\u001b[0;34m.\u001b[0m\u001b[0mfull_url\u001b[0m\u001b[0;34m,\u001b[0m \u001b[0mcode\u001b[0m\u001b[0;34m,\u001b[0m \u001b[0mmsg\u001b[0m\u001b[0;34m,\u001b[0m \u001b[0mhdrs\u001b[0m\u001b[0;34m,\u001b[0m \u001b[0mfp\u001b[0m\u001b[0;34m)\u001b[0m\u001b[0;34m\u001b[0m\u001b[0m\n\u001b[0m\u001b[1;32m    651\u001b[0m \u001b[0;34m\u001b[0m\u001b[0m\n\u001b[1;32m    652\u001b[0m \u001b[0;32mclass\u001b[0m \u001b[0mHTTPRedirectHandler\u001b[0m\u001b[0;34m(\u001b[0m\u001b[0mBaseHandler\u001b[0m\u001b[0;34m)\u001b[0m\u001b[0;34m:\u001b[0m\u001b[0;34m\u001b[0m\u001b[0m\n",
      "\u001b[0;31mHTTPError\u001b[0m: HTTP Error 404: Not Found"
     ]
    }
   ],
   "source": [
    "for i in range(len(urls)):\n",
    "    user_name, full_name, num_posts, num_followers, num_followings = get_info(urls.values[i][0])\n",
    "    print(user_name, full_name, num_posts, num_followers, num_followings)\n",
    "    #f.write(user_name + ',' + full_name + ',' + str(num_posts) + ',' + str(num_followers) + ',' + str(num_followings) + \"\\n\")\n",
    "   "
   ]
  },
  {
   "cell_type": "code",
   "execution_count": 566,
   "metadata": {},
   "outputs": [],
   "source": [
    "f.close()"
   ]
  },
  {
   "cell_type": "code",
   "execution_count": null,
   "metadata": {},
   "outputs": [],
   "source": []
  },
  {
   "cell_type": "code",
   "execution_count": null,
   "metadata": {},
   "outputs": [],
   "source": []
  },
  {
   "cell_type": "code",
   "execution_count": null,
   "metadata": {},
   "outputs": [],
   "source": [
    "foo.yaml\n"
   ]
  },
  {
   "cell_type": "code",
   "execution_count": null,
   "metadata": {},
   "outputs": [],
   "source": []
  }
 ],
 "metadata": {
  "kernelspec": {
   "display_name": "Python 3",
   "language": "python",
   "name": "python3"
  },
  "language_info": {
   "codemirror_mode": {
    "name": "ipython",
    "version": 3
   },
   "file_extension": ".py",
   "mimetype": "text/x-python",
   "name": "python",
   "nbconvert_exporter": "python",
   "pygments_lexer": "ipython3",
   "version": "3.6.5"
  }
 },
 "nbformat": 4,
 "nbformat_minor": 2
}
