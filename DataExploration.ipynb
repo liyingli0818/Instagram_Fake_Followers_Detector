{
 "cells": [
  {
   "cell_type": "code",
   "execution_count": 329,
   "metadata": {},
   "outputs": [],
   "source": [
    "from urllib.request import urlopen as uReq\n",
    "import pandas as pd\n",
    "import requests\n",
    "import json\n",
    "import time\n",
    "import random\n",
    "import bs4\n",
    "from bs4 import BeautifulSoup as soup"
   ]
  },
  {
   "cell_type": "code",
   "execution_count": 354,
   "metadata": {},
   "outputs": [],
   "source": [
    "url = 'https://www.instagram.com/lilylii818/'"
   ]
  },
  {
   "cell_type": "code",
   "execution_count": 355,
   "metadata": {},
   "outputs": [],
   "source": [
    "uClient = uReq(url)"
   ]
  },
  {
   "cell_type": "code",
   "execution_count": 356,
   "metadata": {},
   "outputs": [],
   "source": [
    "page_html = uClient.read()"
   ]
  },
  {
   "cell_type": "code",
   "execution_count": 357,
   "metadata": {},
   "outputs": [],
   "source": [
    "uClient.close()"
   ]
  },
  {
   "cell_type": "code",
   "execution_count": 358,
   "metadata": {},
   "outputs": [],
   "source": [
    "page_soup = soup(page_html, \"html.parser\")"
   ]
  },
  {
   "cell_type": "code",
   "execution_count": 359,
   "metadata": {},
   "outputs": [],
   "source": [
    "s = page_soup.find_all('script')[3].text[21:-1]"
   ]
  },
  {
   "cell_type": "code",
   "execution_count": 360,
   "metadata": {},
   "outputs": [],
   "source": [
    "json_acceptable_string = s.replace('\"', \"'\").replace(\"'\", \"\\\"\")\n",
    "d = json.loads(json_acceptable_string)"
   ]
  },
  {
   "cell_type": "code",
   "execution_count": 361,
   "metadata": {},
   "outputs": [
    {
     "data": {
      "text/plain": [
       "{'config': {'csrf_token': 'HRscFru9XY9aT1e4PEy47BYzwDmYh6ax',\n",
       "  'viewer': None,\n",
       "  'viewerId': None},\n",
       " 'supports_es6': False,\n",
       " 'country_code': 'US',\n",
       " 'language_code': 'en',\n",
       " 'locale': 'en_US',\n",
       " 'entry_data': {'ProfilePage': [{'logging_page_id': 'profilePage_14994148',\n",
       "    'show_suggested_profiles': False,\n",
       "    'graphql': {'user': {'biography': '#Mindset ⠀⠀⠀⠀⠀⠀⠀⠀⠀⠀⠀⠀⠀⠀⠀⠀⠀⠀⠀⠀⠀⠀⠀⠀⠀⠀⠀⠀⠀⠀ ⠀⠀⠀⠀⠀⠀⠀⠀⠀⠀⠀⠀⠀⠀⠀⠀⠀⠀⠀⠀⠀⠀⠀⠀⠀⠀⠀⠀⠀⠀⠀⠀⠀⠀⠀⠀⠀ ⠀⠀⠀⠀⠀⠀⠀⠀⠀⠀⠀⠀⠀ ⠀⠀⠀⠀⠀⠀⠀⠀⠀⠀⠀⠀⠀⠀ ⠀⠀⠀⠀⠀⠀⠀⠀⠀⠀⠀⠀⠀ ⠀⠀⠀⠀⠀ ⠀⠀⠀⠀⠀⠀⠀⠀⠀ ⠀⠀ ⠀⠀',\n",
       "      'blocked_by_viewer': False,\n",
       "      'country_block': False,\n",
       "      'external_url': None,\n",
       "      'external_url_linkshimmed': None,\n",
       "      'edge_followed_by': {'count': 131},\n",
       "      'followed_by_viewer': False,\n",
       "      'edge_follow': {'count': 117},\n",
       "      'follows_viewer': False,\n",
       "      'full_name': 'Liying (Lily) Li',\n",
       "      'has_channel': False,\n",
       "      'has_blocked_viewer': False,\n",
       "      'highlight_reel_count': 0,\n",
       "      'has_requested_viewer': False,\n",
       "      'id': '14994148',\n",
       "      'is_business_account': False,\n",
       "      'is_joined_recently': False,\n",
       "      'business_category_name': None,\n",
       "      'business_email': None,\n",
       "      'business_phone_number': None,\n",
       "      'business_address_json': None,\n",
       "      'is_private': True,\n",
       "      'is_verified': False,\n",
       "      'edge_mutual_followed_by': {'count': 0, 'edges': []},\n",
       "      'profile_pic_url': 'https://scontent-sea1-1.cdninstagram.com/vp/7fd154514cb586c775aab78966b6171d/5C6D2667/t51.2885-19/s150x150/21147861_175356199676496_9025824290225782784_a.jpg',\n",
       "      'profile_pic_url_hd': 'https://scontent-sea1-1.cdninstagram.com/vp/43f72820459705f7a80188b734ee9a7f/5C73B097/t51.2885-19/s320x320/21147861_175356199676496_9025824290225782784_a.jpg',\n",
       "      'requested_by_viewer': False,\n",
       "      'username': 'lilylii818',\n",
       "      'connected_fb_page': None,\n",
       "      'edge_felix_video_timeline': {'count': 0,\n",
       "       'page_info': {'has_next_page': False, 'end_cursor': None},\n",
       "       'edges': []},\n",
       "      'edge_owner_to_timeline_media': {'count': 99,\n",
       "       'page_info': {'has_next_page': False, 'end_cursor': None},\n",
       "       'edges': []},\n",
       "      'edge_saved_media': {'count': 0,\n",
       "       'page_info': {'has_next_page': False, 'end_cursor': None},\n",
       "       'edges': []},\n",
       "      'edge_media_collections': {'count': 0,\n",
       "       'page_info': {'has_next_page': False, 'end_cursor': None},\n",
       "       'edges': []}}},\n",
       "    'felix_onboarding_video_resources': {'mp4': '/static/videos/felix-onboarding/onboardingVideo.mp4/9d16838ca7f9.mp4',\n",
       "     'poster': '/static/images/felix-onboarding/onboardingVideoPoster.png/8fdba7cf2120.png'}}]},\n",
       " 'gatekeepers': {'sf': True,\n",
       "  'ld': True,\n",
       "  'seo': True,\n",
       "  'seoht': True,\n",
       "  'saa': True,\n",
       "  'phone_qp': True,\n",
       "  'nt': True,\n",
       "  'rp': True},\n",
       " 'knobs': {'acct:ntb': 0, 'cb': 0, 'captcha': 0, 'fr': 0},\n",
       " 'qe': {'early_flush': {'g': '', 'p': {}},\n",
       "  'form_navigation_dialog': {'g': '', 'p': {}},\n",
       "  'cred_man': {'g': '', 'p': {}},\n",
       "  'fsu_count': {'g': '', 'p': {}},\n",
       "  'iab': {'g': '', 'p': {}},\n",
       "  'app_upsell_li': {'g': '', 'p': {}},\n",
       "  'app_upsell': {'g': '', 'p': {}},\n",
       "  'shfb': {'g': '', 'p': {}},\n",
       "  'lsc': {'g': '', 'p': {}},\n",
       "  'profile_header_name': {'g': '', 'p': {}},\n",
       "  'bc3l': {'g': '', 'p': {}},\n",
       "  'direct_conversation_reporting': {'g': '', 'p': {}},\n",
       "  'general_reporting': {'g': '', 'p': {}},\n",
       "  'reporting': {'g': '', 'p': {}},\n",
       "  'acc_recovery_link': {'g': '', 'p': {}},\n",
       "  'notif': {'g': '', 'p': {}},\n",
       "  'fb_unlink': {'g': 'test', 'p': {'has_new_flow': 'true'}},\n",
       "  'mobile_stories_doodling': {'g': '', 'p': {}},\n",
       "  'show_copy_link': {'g': '', 'p': {}},\n",
       "  'p_edit': {'g': '', 'p': {}},\n",
       "  '404_as_react': {'g': '', 'p': {}},\n",
       "  'acc_recovery': {'g': '', 'p': {}},\n",
       "  'collections': {'g': '', 'p': {}},\n",
       "  'comment_ta': {'g': '', 'p': {}},\n",
       "  'su': {'g': '', 'p': {}},\n",
       "  'disc_ppl': {'g': '', 'p': {}},\n",
       "  'ebd_ul': {'g': '', 'p': {}},\n",
       "  'ebdsim_li': {'g': '', 'p': {}},\n",
       "  'ebdsim_lo': {'g': '', 'p': {}},\n",
       "  'empty_feed': {'g': '', 'p': {}},\n",
       "  'bundles': {'g': '', 'p': {}},\n",
       "  'exit_story_creation': {'g': '', 'p': {}},\n",
       "  'appsell': {'g': '', 'p': {}},\n",
       "  'heart_tab': {'g': '', 'p': {}},\n",
       "  'imgopt': {'g': '', 'p': {}},\n",
       "  'follow_button': {'g': '', 'p': {}},\n",
       "  'log_cont': {'g': 'control_intent_d', 'p': {'has_contextual_d': 'false'}},\n",
       "  'msisdn': {'g': '', 'p': {}},\n",
       "  'onetaplogin': {'g': 'default_opt_in',\n",
       "   'p': {'default_value': 'true',\n",
       "    'during_reg': 'true',\n",
       "    'storage_version': 'one_tap_storage_version'}},\n",
       "  'login_poe': {'g': '', 'p': {}},\n",
       "  'profile_tabs': {'g': '', 'p': {}},\n",
       "  'push_notifications': {'g': '', 'p': {}},\n",
       "  'reg': {'g': '', 'p': {}},\n",
       "  'em_sig': {'g': 'control_no_sug_d',\n",
       "   'p': {'has_multi_step_email_suggestion': 'false',\n",
       "    'has_signup_email_suggestion': 'false'}},\n",
       "  'multireg_iter': {'g': '', 'p': {}},\n",
       "  'reg_vp': {'g': '', 'p': {}},\n",
       "  'report_media': {'g': '', 'p': {}},\n",
       "  'report_profile': {'g': '', 'p': {}},\n",
       "  'sidecar_swipe': {'g': '', 'p': {}},\n",
       "  'su_universe': {'g': '', 'p': {}},\n",
       "  'stale': {'g': '', 'p': {}},\n",
       "  'lo_stories': {'g': 'control_profile', 'p': {'contextual_login': 'false'}},\n",
       "  'stories': {'g': '', 'p': {}},\n",
       "  'tp_pblshr': {'g': '', 'p': {}},\n",
       "  'video': {'g': '', 'p': {}},\n",
       "  'gdpr_row_tos': {'g': 'test_05_01', 'p': {'tos_version': 'row'}},\n",
       "  'felix': {'g': '', 'p': {}},\n",
       "  'felix_clear_fb_cookie': {'g': '', 'p': {}},\n",
       "  'felix_creation_duration_limits': {'g': '', 'p': {}},\n",
       "  'felix_creation_enabled': {'g': '', 'p': {}},\n",
       "  'felix_creation_fb_crossposting': {'g': '', 'p': {}},\n",
       "  'felix_creation_fb_crossposting_v2': {'g': '', 'p': {}},\n",
       "  'felix_creation_validation': {'g': '', 'p': {}},\n",
       "  'felix_creation_video_upload': {'g': '', 'p': {}},\n",
       "  'felix_early_onboarding': {'g': '', 'p': {}},\n",
       "  'unfollow_confirm': {'g': '', 'p': {}},\n",
       "  'profile_enhance_li': {'g': '', 'p': {}},\n",
       "  'profile_enhance_lo': {'g': '', 'p': {}},\n",
       "  'comment_enhance': {'g': '', 'p': {}},\n",
       "  'mweb_topical_explore': {'g': '', 'p': {}},\n",
       "  'web_nametag': {'g': '', 'p': {}},\n",
       "  'follow_all_fb': {'g': '', 'p': {}},\n",
       "  'lite_direct_upsell': {'g': '', 'p': {}},\n",
       "  'web_loggedout_noop': {'g': '', 'p': {}},\n",
       "  'a2hs_heuristic_uc': {'g': '', 'p': {}},\n",
       "  'a2hs_heuristic_non_uc': {'g': '', 'p': {}},\n",
       "  'web_hashtag': {'g': '', 'p': {}},\n",
       "  'web_hashtag_logged_out': {'g': '', 'p': {}},\n",
       "  'header_scroll': {'g': '', 'p': {}},\n",
       "  'rout': {'g': '', 'p': {}},\n",
       "  'websr': {'g': '', 'p': {}},\n",
       "  'web_lo_follow': {'g': '', 'p': {}},\n",
       "  'web_share': {'g': '', 'p': {}},\n",
       "  'lite_rating': {'g': '', 'p': {}},\n",
       "  'web_embeds_share': {'g': '', 'p': {}},\n",
       "  'web_share_lo': {'g': '', 'p': {}},\n",
       "  'web_embeds_logged_out': {'g': '', 'p': {}},\n",
       "  'web_datasaver_mode': {'g': '', 'p': {}},\n",
       "  'lite_datasaver_mode': {'g': '', 'p': {}},\n",
       "  'lite_video_upload': {'g': '', 'p': {}},\n",
       "  'ig_aat': {'g': '', 'p': {}},\n",
       "  'post_options': {'g': '', 'p': {}},\n",
       "  'igtv_public_viewing': {'g': '', 'p': {}},\n",
       "  'lite_feed_video_user_tag': {'g': '', 'p': {}},\n",
       "  'caching': {'g': '', 'p': {}},\n",
       "  'feed_video_user_tag': {'g': '', 'p': {}},\n",
       "  'feed_video_user_tag_logged_out': {'g': '', 'p': {}}},\n",
       " 'hostname': 'www.instagram.com',\n",
       " 'deployment_stage': 'c2',\n",
       " 'platform': 'web',\n",
       " 'rhx_gis': '63cb628fba29b4fdc837565c8107afd6',\n",
       " 'nonce': 'ZHkVWELRTwAQzWpj2lOtjA==',\n",
       " 'mid_pct': 91.90826,\n",
       " 'server_checks': {},\n",
       " 'zero_data': {},\n",
       " 'rollout_hash': 'a6abd1200036',\n",
       " 'bundle_variant': 'base',\n",
       " 'probably_has_app': False}"
      ]
     },
     "execution_count": 361,
     "metadata": {},
     "output_type": "execute_result"
    }
   ],
   "source": [
    "d"
   ]
  },
  {
   "cell_type": "code",
   "execution_count": 337,
   "metadata": {},
   "outputs": [],
   "source": [
    "num_followed_by = d['entry_data']['ProfilePage'][0]['graphql']['user']['edge_followed_by']['count']"
   ]
  },
  {
   "cell_type": "code",
   "execution_count": 338,
   "metadata": {},
   "outputs": [
    {
     "data": {
      "text/plain": [
       "1246"
      ]
     },
     "execution_count": 338,
     "metadata": {},
     "output_type": "execute_result"
    }
   ],
   "source": [
    "num_followed_by"
   ]
  },
  {
   "cell_type": "code",
   "execution_count": 339,
   "metadata": {},
   "outputs": [],
   "source": [
    "num_following_by = d['entry_data']['ProfilePage'][0]['graphql']['user']['edge_follow']['count']"
   ]
  },
  {
   "cell_type": "code",
   "execution_count": 340,
   "metadata": {},
   "outputs": [
    {
     "data": {
      "text/plain": [
       "5350"
      ]
     },
     "execution_count": 340,
     "metadata": {},
     "output_type": "execute_result"
    }
   ],
   "source": [
    "num_following_by"
   ]
  },
  {
   "cell_type": "code",
   "execution_count": 341,
   "metadata": {},
   "outputs": [],
   "source": [
    "num_posts = d['entry_data']['ProfilePage'][0]['graphql']['user']['edge_owner_to_timeline_media']['count']"
   ]
  },
  {
   "cell_type": "code",
   "execution_count": 342,
   "metadata": {},
   "outputs": [
    {
     "data": {
      "text/plain": [
       "56"
      ]
     },
     "execution_count": 342,
     "metadata": {},
     "output_type": "execute_result"
    }
   ],
   "source": [
    "num_posts"
   ]
  },
  {
   "cell_type": "code",
   "execution_count": null,
   "metadata": {},
   "outputs": [],
   "source": []
  },
  {
   "cell_type": "code",
   "execution_count": 343,
   "metadata": {},
   "outputs": [],
   "source": [
    "user_name = page_soup.find('title').text.split('@')[1].split(' ')[0].replace(')', '')"
   ]
  },
  {
   "cell_type": "code",
   "execution_count": 344,
   "metadata": {},
   "outputs": [
    {
     "data": {
      "text/plain": [
       "'fkhome19'"
      ]
     },
     "execution_count": 344,
     "metadata": {},
     "output_type": "execute_result"
    }
   ],
   "source": [
    "user_name"
   ]
  },
  {
   "cell_type": "code",
   "execution_count": 345,
   "metadata": {},
   "outputs": [],
   "source": [
    "full_name = page_soup.find('title').text.split(' (@')[0].replace('\\n', '')"
   ]
  },
  {
   "cell_type": "code",
   "execution_count": 346,
   "metadata": {},
   "outputs": [
    {
     "data": {
      "text/plain": [
       "'复刻之家'"
      ]
     },
     "execution_count": 346,
     "metadata": {},
     "output_type": "execute_result"
    }
   ],
   "source": [
    "full_name"
   ]
  },
  {
   "cell_type": "code",
   "execution_count": 347,
   "metadata": {},
   "outputs": [],
   "source": [
    "filename = \"users_data.csv\""
   ]
  },
  {
   "cell_type": "code",
   "execution_count": 348,
   "metadata": {},
   "outputs": [],
   "source": [
    "f = open(filename, \"w\")"
   ]
  },
  {
   "cell_type": "code",
   "execution_count": 349,
   "metadata": {},
   "outputs": [],
   "source": [
    "headers = \"user_name, full_name, num_posts, num_followed_by, num_following_by\\n\""
   ]
  },
  {
   "cell_type": "code",
   "execution_count": 350,
   "metadata": {},
   "outputs": [
    {
     "data": {
      "text/plain": [
       "67"
      ]
     },
     "execution_count": 350,
     "metadata": {},
     "output_type": "execute_result"
    }
   ],
   "source": [
    "f.write(headers)"
   ]
  },
  {
   "cell_type": "code",
   "execution_count": 351,
   "metadata": {},
   "outputs": [
    {
     "data": {
      "text/plain": [
       "27"
      ]
     },
     "execution_count": 351,
     "metadata": {},
     "output_type": "execute_result"
    }
   ],
   "source": [
    "f.write(user_name + ',' + full_name + ',' + str(num_posts) + ',' + str(num_followed_by) + ',' + str(num_following_by) + \"\\n\")"
   ]
  },
  {
   "cell_type": "code",
   "execution_count": 352,
   "metadata": {},
   "outputs": [],
   "source": [
    "f.close()"
   ]
  },
  {
   "cell_type": "code",
   "execution_count": null,
   "metadata": {},
   "outputs": [],
   "source": []
  },
  {
   "cell_type": "code",
   "execution_count": null,
   "metadata": {},
   "outputs": [],
   "source": []
  },
  {
   "cell_type": "code",
   "execution_count": null,
   "metadata": {},
   "outputs": [],
   "source": []
  },
  {
   "cell_type": "code",
   "execution_count": null,
   "metadata": {},
   "outputs": [],
   "source": []
  }
 ],
 "metadata": {
  "kernelspec": {
   "display_name": "Python 3",
   "language": "python",
   "name": "python3"
  },
  "language_info": {
   "codemirror_mode": {
    "name": "ipython",
    "version": 3
   },
   "file_extension": ".py",
   "mimetype": "text/x-python",
   "name": "python",
   "nbconvert_exporter": "python",
   "pygments_lexer": "ipython3",
   "version": "3.6.5"
  }
 },
 "nbformat": 4,
 "nbformat_minor": 2
}
