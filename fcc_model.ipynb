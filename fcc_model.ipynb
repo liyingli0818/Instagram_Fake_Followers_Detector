{
 "cells": [
  {
   "cell_type": "code",
   "execution_count": 1,
   "metadata": {},
   "outputs": [],
   "source": [
    "import pandas as pd\n",
    "import numpy as np\n",
    "import matplotlib.pyplot as plt\n",
    "%matplotlib inline\n",
    "from sklearn.metrics import roc_auc_score, roc_curve\n",
    "from sklearn.model_selection import cross_val_score, train_test_split, GridSearchCV\n",
    "from sklearn.linear_model import LogisticRegression, LinearRegression\n",
    "from sklearn.tree import DecisionTreeRegressor, DecisionTreeClassifier\n",
    "from sklearn.ensemble import RandomForestRegressor, RandomForestClassifier\n",
    "from sklearn.metrics import log_loss, make_scorer"
   ]
  },
  {
   "cell_type": "code",
   "execution_count": 2,
   "metadata": {},
   "outputs": [],
   "source": [
    "from src.DataPreparation import fc, ffc"
   ]
  },
  {
   "cell_type": "code",
   "execution_count": 3,
   "metadata": {},
   "outputs": [
    {
     "data": {
      "text/plain": [
       "1270"
      ]
     },
     "execution_count": 3,
     "metadata": {},
     "output_type": "execute_result"
    }
   ],
   "source": [
    "ffc.count_documents({})"
   ]
  },
  {
   "cell_type": "code",
   "execution_count": 4,
   "metadata": {},
   "outputs": [
    {
     "data": {
      "text/plain": [
       "{'_id': ObjectId('5c0d9d35baead16c7b79ba61'),\n",
       " 'url': 'https://www.instagram.com/rozhy__musl__manakan',\n",
       " 'bio': 'په يجى فه رمى رؤژى نوى🕋\\n•___/\\\\___الله🕋❤️الله__/\\\\_____•\\nته نهائاما نجمان خزمه ت كردنى زياتره به ئاينى بيرؤزى  ئيسلام🕋🕋\\nسوباستان ده كين يارمتى مان كه ن',\n",
       " 'followed_by': 1402,\n",
       " 'follows': 3589,\n",
       " 'num_posts': 10,\n",
       " 'id': '2005449908',\n",
       " 'is_joined_recently': False,\n",
       " 'is_private': False,\n",
       " 'is_business_account': True,\n",
       " 'likes_last_post': 49,\n",
       " 'avg_likes_five_recent_posts': 56.666666666666664}"
      ]
     },
     "execution_count": 4,
     "metadata": {},
     "output_type": "execute_result"
    }
   ],
   "source": [
    "ffc.find()[8]"
   ]
  },
  {
   "cell_type": "code",
   "execution_count": 5,
   "metadata": {},
   "outputs": [],
   "source": [
    "df = pd.DataFrame(list(ffc.find()))"
   ]
  },
  {
   "cell_type": "code",
   "execution_count": 6,
   "metadata": {},
   "outputs": [
    {
     "data": {
      "text/plain": [
       "(1270, 12)"
      ]
     },
     "execution_count": 6,
     "metadata": {},
     "output_type": "execute_result"
    }
   ],
   "source": [
    "df.shape"
   ]
  },
  {
   "cell_type": "code",
   "execution_count": 7,
   "metadata": {},
   "outputs": [],
   "source": [
    "df['likes_last_post'].fillna(0, inplace = True)"
   ]
  },
  {
   "cell_type": "code",
   "execution_count": 8,
   "metadata": {},
   "outputs": [],
   "source": [
    "df['avg_likes_five_recent_posts'].fillna(0,inplace=True)"
   ]
  },
  {
   "cell_type": "code",
   "execution_count": 9,
   "metadata": {},
   "outputs": [
    {
     "data": {
      "text/plain": [
       "(1270, 12)"
      ]
     },
     "execution_count": 9,
     "metadata": {},
     "output_type": "execute_result"
    }
   ],
   "source": [
    "df.shape"
   ]
  },
  {
   "cell_type": "code",
   "execution_count": 10,
   "metadata": {},
   "outputs": [],
   "source": [
    "df_dropped = df.dropna()"
   ]
  },
  {
   "cell_type": "code",
   "execution_count": 11,
   "metadata": {
    "scrolled": true
   },
   "outputs": [
    {
     "data": {
      "text/plain": [
       "(1195, 12)"
      ]
     },
     "execution_count": 11,
     "metadata": {},
     "output_type": "execute_result"
    }
   ],
   "source": [
    "df_dropped.shape"
   ]
  },
  {
   "cell_type": "code",
   "execution_count": 12,
   "metadata": {},
   "outputs": [
    {
     "data": {
      "text/html": [
       "<div>\n",
       "<style scoped>\n",
       "    .dataframe tbody tr th:only-of-type {\n",
       "        vertical-align: middle;\n",
       "    }\n",
       "\n",
       "    .dataframe tbody tr th {\n",
       "        vertical-align: top;\n",
       "    }\n",
       "\n",
       "    .dataframe thead th {\n",
       "        text-align: right;\n",
       "    }\n",
       "</style>\n",
       "<table border=\"1\" class=\"dataframe\">\n",
       "  <thead>\n",
       "    <tr style=\"text-align: right;\">\n",
       "      <th></th>\n",
       "      <th>_id</th>\n",
       "      <th>avg_likes_five_recent_posts</th>\n",
       "      <th>bio</th>\n",
       "      <th>followed_by</th>\n",
       "      <th>follows</th>\n",
       "      <th>id</th>\n",
       "      <th>is_business_account</th>\n",
       "      <th>is_joined_recently</th>\n",
       "      <th>is_private</th>\n",
       "      <th>likes_last_post</th>\n",
       "      <th>num_posts</th>\n",
       "      <th>url</th>\n",
       "    </tr>\n",
       "  </thead>\n",
       "  <tbody>\n",
       "    <tr>\n",
       "      <th>0</th>\n",
       "      <td>5c0d9d34baead16c7b79ba01</td>\n",
       "      <td>9.000000</td>\n",
       "      <td></td>\n",
       "      <td>63.0</td>\n",
       "      <td>76.0</td>\n",
       "      <td>8882294111</td>\n",
       "      <td>False</td>\n",
       "      <td>False</td>\n",
       "      <td>False</td>\n",
       "      <td>10.0</td>\n",
       "      <td>2.0</td>\n",
       "      <td>https://www.instagram.com/lirlando</td>\n",
       "    </tr>\n",
       "    <tr>\n",
       "      <th>1</th>\n",
       "      <td>5c0d9d34baead16c7b79ba03</td>\n",
       "      <td>128.333333</td>\n",
       "      <td>Haters make me famous😻\\n@irvan740 ❤</td>\n",
       "      <td>870.0</td>\n",
       "      <td>136.0</td>\n",
       "      <td>7422647242</td>\n",
       "      <td>True</td>\n",
       "      <td>False</td>\n",
       "      <td>False</td>\n",
       "      <td>156.0</td>\n",
       "      <td>3.0</td>\n",
       "      <td>https://www.instagram.com/ndah.endah.3701</td>\n",
       "    </tr>\n",
       "    <tr>\n",
       "      <th>2</th>\n",
       "      <td>5c0d9d34baead16c7b79ba19</td>\n",
       "      <td>56.833333</td>\n",
       "      <td>Viaggia... a modo tuo! #Mazzone #Travel</td>\n",
       "      <td>2100.0</td>\n",
       "      <td>700.0</td>\n",
       "      <td>4091271053</td>\n",
       "      <td>True</td>\n",
       "      <td>False</td>\n",
       "      <td>False</td>\n",
       "      <td>26.0</td>\n",
       "      <td>180.0</td>\n",
       "      <td>https://www.instagram.com/mazzoneviaggi</td>\n",
       "    </tr>\n",
       "    <tr>\n",
       "      <th>3</th>\n",
       "      <td>5c0d9d34baead16c7b79ba1a</td>\n",
       "      <td>0.000000</td>\n",
       "      <td></td>\n",
       "      <td>14.0</td>\n",
       "      <td>48.0</td>\n",
       "      <td>9418121438</td>\n",
       "      <td>False</td>\n",
       "      <td>True</td>\n",
       "      <td>False</td>\n",
       "      <td>0.0</td>\n",
       "      <td>0.0</td>\n",
       "      <td>https://www.instagram.com/chrismainahperre</td>\n",
       "    </tr>\n",
       "    <tr>\n",
       "      <th>6</th>\n",
       "      <td>5c0d9d35baead16c7b79ba3b</td>\n",
       "      <td>0.000000</td>\n",
       "      <td>@kha10lid_n</td>\n",
       "      <td>306.0</td>\n",
       "      <td>441.0</td>\n",
       "      <td>7311336467</td>\n",
       "      <td>False</td>\n",
       "      <td>False</td>\n",
       "      <td>True</td>\n",
       "      <td>0.0</td>\n",
       "      <td>21.0</td>\n",
       "      <td>https://www.instagram.com/khalid_malkk</td>\n",
       "    </tr>\n",
       "  </tbody>\n",
       "</table>\n",
       "</div>"
      ],
      "text/plain": [
       "                        _id  avg_likes_five_recent_posts  \\\n",
       "0  5c0d9d34baead16c7b79ba01                     9.000000   \n",
       "1  5c0d9d34baead16c7b79ba03                   128.333333   \n",
       "2  5c0d9d34baead16c7b79ba19                    56.833333   \n",
       "3  5c0d9d34baead16c7b79ba1a                     0.000000   \n",
       "6  5c0d9d35baead16c7b79ba3b                     0.000000   \n",
       "\n",
       "                                       bio  followed_by  follows          id  \\\n",
       "0                                                  63.0     76.0  8882294111   \n",
       "1      Haters make me famous😻\\n@irvan740 ❤        870.0    136.0  7422647242   \n",
       "2  Viaggia... a modo tuo! #Mazzone #Travel       2100.0    700.0  4091271053   \n",
       "3                                                  14.0     48.0  9418121438   \n",
       "6                              @kha10lid_n        306.0    441.0  7311336467   \n",
       "\n",
       "  is_business_account is_joined_recently is_private  likes_last_post  \\\n",
       "0               False              False      False             10.0   \n",
       "1                True              False      False            156.0   \n",
       "2                True              False      False             26.0   \n",
       "3               False               True      False              0.0   \n",
       "6               False              False       True              0.0   \n",
       "\n",
       "   num_posts                                         url  \n",
       "0        2.0          https://www.instagram.com/lirlando  \n",
       "1        3.0   https://www.instagram.com/ndah.endah.3701  \n",
       "2      180.0     https://www.instagram.com/mazzoneviaggi  \n",
       "3        0.0  https://www.instagram.com/chrismainahperre  \n",
       "6       21.0      https://www.instagram.com/khalid_malkk  "
      ]
     },
     "execution_count": 12,
     "metadata": {},
     "output_type": "execute_result"
    }
   ],
   "source": [
    "df_dropped.head()"
   ]
  },
  {
   "cell_type": "code",
   "execution_count": 13,
   "metadata": {},
   "outputs": [
    {
     "data": {
      "text/plain": [
       "(array([1.076e+03, 6.800e+01, 2.100e+01, 1.000e+01, 9.000e+00, 3.000e+00,\n",
       "        1.000e+00, 2.000e+00, 2.000e+00, 3.000e+00]),\n",
       " array([   0.        ,  253.38333333,  506.76666667,  760.15      ,\n",
       "        1013.53333333, 1266.91666667, 1520.3       , 1773.68333333,\n",
       "        2027.06666667, 2280.45      , 2533.83333333]),\n",
       " <a list of 10 Patch objects>)"
      ]
     },
     "execution_count": 13,
     "metadata": {},
     "output_type": "execute_result"
    },
    {
     "data": {
      "image/png": "[encoded data removed]",
      "text/plain": [
       "<Figure size 432x288 with 1 Axes>"
      ]
     },
     "metadata": {},
     "output_type": "display_data"
    }
   ],
   "source": [
    "plt.hist(df_dropped['avg_likes_five_recent_posts'])"
   ]
  },
  {
   "cell_type": "code",
   "execution_count": 14,
   "metadata": {},
   "outputs": [
    {
     "name": "stderr",
     "output_type": "stream",
     "text": [
      "/anaconda3/lib/python3.6/site-packages/ipykernel_launcher.py:1: SettingWithCopyWarning: \n",
      "A value is trying to be set on a copy of a slice from a DataFrame.\n",
      "Try using .loc[row_indexer,col_indexer] = value instead\n",
      "\n",
      "See the caveats in the documentation: http://pandas.pydata.org/pandas-docs/stable/indexing.html#indexing-view-versus-copy\n",
      "  \"\"\"Entry point for launching an IPython kernel.\n",
      "/anaconda3/lib/python3.6/site-packages/ipykernel_launcher.py:2: SettingWithCopyWarning: \n",
      "A value is trying to be set on a copy of a slice from a DataFrame.\n",
      "Try using .loc[row_indexer,col_indexer] = value instead\n",
      "\n",
      "See the caveats in the documentation: http://pandas.pydata.org/pandas-docs/stable/indexing.html#indexing-view-versus-copy\n",
      "  \n",
      "/anaconda3/lib/python3.6/site-packages/ipykernel_launcher.py:3: SettingWithCopyWarning: \n",
      "A value is trying to be set on a copy of a slice from a DataFrame.\n",
      "Try using .loc[row_indexer,col_indexer] = value instead\n",
      "\n",
      "See the caveats in the documentation: http://pandas.pydata.org/pandas-docs/stable/indexing.html#indexing-view-versus-copy\n",
      "  This is separate from the ipykernel package so we can avoid doing imports until\n"
     ]
    }
   ],
   "source": [
    "df_dropped['is_business_account'] = df_dropped['is_business_account'].astype(int)\n",
    "df_dropped['is_joined_recently'] = df_dropped['is_joined_recently'].astype(int)\n",
    "df_dropped['is_private'] = df_dropped['is_private'].astype(int)"
   ]
  },
  {
   "cell_type": "code",
   "execution_count": 15,
   "metadata": {},
   "outputs": [
    {
     "data": {
      "text/html": [
       "<div>\n",
       "<style scoped>\n",
       "    .dataframe tbody tr th:only-of-type {\n",
       "        vertical-align: middle;\n",
       "    }\n",
       "\n",
       "    .dataframe tbody tr th {\n",
       "        vertical-align: top;\n",
       "    }\n",
       "\n",
       "    .dataframe thead th {\n",
       "        text-align: right;\n",
       "    }\n",
       "</style>\n",
       "<table border=\"1\" class=\"dataframe\">\n",
       "  <thead>\n",
       "    <tr style=\"text-align: right;\">\n",
       "      <th></th>\n",
       "      <th>_id</th>\n",
       "      <th>avg_likes_five_recent_posts</th>\n",
       "      <th>bio</th>\n",
       "      <th>followed_by</th>\n",
       "      <th>follows</th>\n",
       "      <th>id</th>\n",
       "      <th>is_business_account</th>\n",
       "      <th>is_joined_recently</th>\n",
       "      <th>is_private</th>\n",
       "      <th>likes_last_post</th>\n",
       "      <th>num_posts</th>\n",
       "      <th>url</th>\n",
       "    </tr>\n",
       "  </thead>\n",
       "  <tbody>\n",
       "    <tr>\n",
       "      <th>0</th>\n",
       "      <td>5c0d9d34baead16c7b79ba01</td>\n",
       "      <td>9.000000</td>\n",
       "      <td></td>\n",
       "      <td>63.0</td>\n",
       "      <td>76.0</td>\n",
       "      <td>8882294111</td>\n",
       "      <td>0</td>\n",
       "      <td>0</td>\n",
       "      <td>0</td>\n",
       "      <td>10.0</td>\n",
       "      <td>2.0</td>\n",
       "      <td>https://www.instagram.com/lirlando</td>\n",
       "    </tr>\n",
       "    <tr>\n",
       "      <th>1</th>\n",
       "      <td>5c0d9d34baead16c7b79ba03</td>\n",
       "      <td>128.333333</td>\n",
       "      <td>Haters make me famous😻\\n@irvan740 ❤</td>\n",
       "      <td>870.0</td>\n",
       "      <td>136.0</td>\n",
       "      <td>7422647242</td>\n",
       "      <td>1</td>\n",
       "      <td>0</td>\n",
       "      <td>0</td>\n",
       "      <td>156.0</td>\n",
       "      <td>3.0</td>\n",
       "      <td>https://www.instagram.com/ndah.endah.3701</td>\n",
       "    </tr>\n",
       "    <tr>\n",
       "      <th>2</th>\n",
       "      <td>5c0d9d34baead16c7b79ba19</td>\n",
       "      <td>56.833333</td>\n",
       "      <td>Viaggia... a modo tuo! #Mazzone #Travel</td>\n",
       "      <td>2100.0</td>\n",
       "      <td>700.0</td>\n",
       "      <td>4091271053</td>\n",
       "      <td>1</td>\n",
       "      <td>0</td>\n",
       "      <td>0</td>\n",
       "      <td>26.0</td>\n",
       "      <td>180.0</td>\n",
       "      <td>https://www.instagram.com/mazzoneviaggi</td>\n",
       "    </tr>\n",
       "    <tr>\n",
       "      <th>3</th>\n",
       "      <td>5c0d9d34baead16c7b79ba1a</td>\n",
       "      <td>0.000000</td>\n",
       "      <td></td>\n",
       "      <td>14.0</td>\n",
       "      <td>48.0</td>\n",
       "      <td>9418121438</td>\n",
       "      <td>0</td>\n",
       "      <td>1</td>\n",
       "      <td>0</td>\n",
       "      <td>0.0</td>\n",
       "      <td>0.0</td>\n",
       "      <td>https://www.instagram.com/chrismainahperre</td>\n",
       "    </tr>\n",
       "    <tr>\n",
       "      <th>6</th>\n",
       "      <td>5c0d9d35baead16c7b79ba3b</td>\n",
       "      <td>0.000000</td>\n",
       "      <td>@kha10lid_n</td>\n",
       "      <td>306.0</td>\n",
       "      <td>441.0</td>\n",
       "      <td>7311336467</td>\n",
       "      <td>0</td>\n",
       "      <td>0</td>\n",
       "      <td>1</td>\n",
       "      <td>0.0</td>\n",
       "      <td>21.0</td>\n",
       "      <td>https://www.instagram.com/khalid_malkk</td>\n",
       "    </tr>\n",
       "  </tbody>\n",
       "</table>\n",
       "</div>"
      ],
      "text/plain": [
       "                        _id  avg_likes_five_recent_posts  \\\n",
       "0  5c0d9d34baead16c7b79ba01                     9.000000   \n",
       "1  5c0d9d34baead16c7b79ba03                   128.333333   \n",
       "2  5c0d9d34baead16c7b79ba19                    56.833333   \n",
       "3  5c0d9d34baead16c7b79ba1a                     0.000000   \n",
       "6  5c0d9d35baead16c7b79ba3b                     0.000000   \n",
       "\n",
       "                                       bio  followed_by  follows          id  \\\n",
       "0                                                  63.0     76.0  8882294111   \n",
       "1      Haters make me famous😻\\n@irvan740 ❤        870.0    136.0  7422647242   \n",
       "2  Viaggia... a modo tuo! #Mazzone #Travel       2100.0    700.0  4091271053   \n",
       "3                                                  14.0     48.0  9418121438   \n",
       "6                              @kha10lid_n        306.0    441.0  7311336467   \n",
       "\n",
       "   is_business_account  is_joined_recently  is_private  likes_last_post  \\\n",
       "0                    0                   0           0             10.0   \n",
       "1                    1                   0           0            156.0   \n",
       "2                    1                   0           0             26.0   \n",
       "3                    0                   1           0              0.0   \n",
       "6                    0                   0           1              0.0   \n",
       "\n",
       "   num_posts                                         url  \n",
       "0        2.0          https://www.instagram.com/lirlando  \n",
       "1        3.0   https://www.instagram.com/ndah.endah.3701  \n",
       "2      180.0     https://www.instagram.com/mazzoneviaggi  \n",
       "3        0.0  https://www.instagram.com/chrismainahperre  \n",
       "6       21.0      https://www.instagram.com/khalid_malkk  "
      ]
     },
     "execution_count": 15,
     "metadata": {},
     "output_type": "execute_result"
    }
   ],
   "source": [
    "df_dropped.head()"
   ]
  },
  {
   "cell_type": "code",
   "execution_count": 16,
   "metadata": {},
   "outputs": [
    {
     "data": {
      "text/html": [
       "<div>\n",
       "<style scoped>\n",
       "    .dataframe tbody tr th:only-of-type {\n",
       "        vertical-align: middle;\n",
       "    }\n",
       "\n",
       "    .dataframe tbody tr th {\n",
       "        vertical-align: top;\n",
       "    }\n",
       "\n",
       "    .dataframe thead th {\n",
       "        text-align: right;\n",
       "    }\n",
       "</style>\n",
       "<table border=\"1\" class=\"dataframe\">\n",
       "  <thead>\n",
       "    <tr style=\"text-align: right;\">\n",
       "      <th></th>\n",
       "      <th>_id</th>\n",
       "      <th>avg_likes_five_recent_posts</th>\n",
       "      <th>bio</th>\n",
       "      <th>followed_by</th>\n",
       "      <th>follows</th>\n",
       "      <th>id</th>\n",
       "      <th>is_business_account</th>\n",
       "      <th>is_joined_recently</th>\n",
       "      <th>is_private</th>\n",
       "      <th>likes_last_post</th>\n",
       "      <th>num_posts</th>\n",
       "      <th>url</th>\n",
       "    </tr>\n",
       "  </thead>\n",
       "  <tbody>\n",
       "    <tr>\n",
       "      <th>70</th>\n",
       "      <td>5c0d9d38baead16c7b79bb00</td>\n",
       "      <td>232.666667</td>\n",
       "      <td></td>\n",
       "      <td>7220.0</td>\n",
       "      <td>77.0</td>\n",
       "      <td>1400576780</td>\n",
       "      <td>0</td>\n",
       "      <td>0</td>\n",
       "      <td>0</td>\n",
       "      <td>226.0</td>\n",
       "      <td>345.0</td>\n",
       "      <td>https://www.instagram.com/yuliagarciafer</td>\n",
       "    </tr>\n",
       "  </tbody>\n",
       "</table>\n",
       "</div>"
      ],
      "text/plain": [
       "                         _id  avg_likes_five_recent_posts bio  followed_by  \\\n",
       "70  5c0d9d38baead16c7b79bb00                   232.666667           7220.0   \n",
       "\n",
       "    follows          id  is_business_account  is_joined_recently  is_private  \\\n",
       "70     77.0  1400576780                    0                   0           0   \n",
       "\n",
       "    likes_last_post  num_posts                                       url  \n",
       "70            226.0      345.0  https://www.instagram.com/yuliagarciafer  "
      ]
     },
     "execution_count": 16,
     "metadata": {},
     "output_type": "execute_result"
    }
   ],
   "source": [
    "df_dropped[58:59]"
   ]
  },
  {
   "cell_type": "code",
   "execution_count": 17,
   "metadata": {},
   "outputs": [
    {
     "data": {
      "text/plain": [
       "659"
      ]
     },
     "execution_count": 17,
     "metadata": {},
     "output_type": "execute_result"
    }
   ],
   "source": [
    "(df_dropped['likes_last_post'] != 0).sum() # number of users have likes on last post"
   ]
  },
  {
   "cell_type": "code",
   "execution_count": 18,
   "metadata": {},
   "outputs": [],
   "source": [
    "plt.scatter?"
   ]
  },
  {
   "cell_type": "code",
   "execution_count": 19,
   "metadata": {},
   "outputs": [
    {
     "data": {
      "text/html": [
       "<div>\n",
       "<style scoped>\n",
       "    .dataframe tbody tr th:only-of-type {\n",
       "        vertical-align: middle;\n",
       "    }\n",
       "\n",
       "    .dataframe tbody tr th {\n",
       "        vertical-align: top;\n",
       "    }\n",
       "\n",
       "    .dataframe thead th {\n",
       "        text-align: right;\n",
       "    }\n",
       "</style>\n",
       "<table border=\"1\" class=\"dataframe\">\n",
       "  <thead>\n",
       "    <tr style=\"text-align: right;\">\n",
       "      <th></th>\n",
       "      <th>avg_likes_five_recent_posts</th>\n",
       "      <th>followed_by</th>\n",
       "      <th>follows</th>\n",
       "      <th>is_business_account</th>\n",
       "      <th>is_joined_recently</th>\n",
       "      <th>is_private</th>\n",
       "      <th>likes_last_post</th>\n",
       "      <th>num_posts</th>\n",
       "    </tr>\n",
       "  </thead>\n",
       "  <tbody>\n",
       "    <tr>\n",
       "      <th>count</th>\n",
       "      <td>1195.000000</td>\n",
       "      <td>1195.000000</td>\n",
       "      <td>1195.000000</td>\n",
       "      <td>1195.00000</td>\n",
       "      <td>1195.000000</td>\n",
       "      <td>1195.000000</td>\n",
       "      <td>1195.000000</td>\n",
       "      <td>1195.000000</td>\n",
       "    </tr>\n",
       "    <tr>\n",
       "      <th>mean</th>\n",
       "      <td>90.066974</td>\n",
       "      <td>1429.941423</td>\n",
       "      <td>462.997490</td>\n",
       "      <td>0.21841</td>\n",
       "      <td>0.457741</td>\n",
       "      <td>0.124686</td>\n",
       "      <td>87.443515</td>\n",
       "      <td>51.033473</td>\n",
       "    </tr>\n",
       "    <tr>\n",
       "      <th>std</th>\n",
       "      <td>248.100021</td>\n",
       "      <td>4852.609305</td>\n",
       "      <td>954.381067</td>\n",
       "      <td>0.41334</td>\n",
       "      <td>0.498420</td>\n",
       "      <td>0.330501</td>\n",
       "      <td>374.120813</td>\n",
       "      <td>159.718703</td>\n",
       "    </tr>\n",
       "    <tr>\n",
       "      <th>min</th>\n",
       "      <td>0.000000</td>\n",
       "      <td>0.000000</td>\n",
       "      <td>0.000000</td>\n",
       "      <td>0.00000</td>\n",
       "      <td>0.000000</td>\n",
       "      <td>0.000000</td>\n",
       "      <td>0.000000</td>\n",
       "      <td>0.000000</td>\n",
       "    </tr>\n",
       "    <tr>\n",
       "      <th>25%</th>\n",
       "      <td>0.000000</td>\n",
       "      <td>8.000000</td>\n",
       "      <td>39.500000</td>\n",
       "      <td>0.00000</td>\n",
       "      <td>0.000000</td>\n",
       "      <td>0.000000</td>\n",
       "      <td>0.000000</td>\n",
       "      <td>1.000000</td>\n",
       "    </tr>\n",
       "    <tr>\n",
       "      <th>50%</th>\n",
       "      <td>2.666667</td>\n",
       "      <td>84.000000</td>\n",
       "      <td>193.000000</td>\n",
       "      <td>0.00000</td>\n",
       "      <td>0.000000</td>\n",
       "      <td>0.000000</td>\n",
       "      <td>2.000000</td>\n",
       "      <td>3.000000</td>\n",
       "    </tr>\n",
       "    <tr>\n",
       "      <th>75%</th>\n",
       "      <td>59.083333</td>\n",
       "      <td>914.500000</td>\n",
       "      <td>482.000000</td>\n",
       "      <td>0.00000</td>\n",
       "      <td>1.000000</td>\n",
       "      <td>0.000000</td>\n",
       "      <td>49.000000</td>\n",
       "      <td>25.500000</td>\n",
       "    </tr>\n",
       "    <tr>\n",
       "      <th>max</th>\n",
       "      <td>2533.833333</td>\n",
       "      <td>82542.000000</td>\n",
       "      <td>7499.000000</td>\n",
       "      <td>1.00000</td>\n",
       "      <td>1.000000</td>\n",
       "      <td>1.000000</td>\n",
       "      <td>9925.000000</td>\n",
       "      <td>2433.000000</td>\n",
       "    </tr>\n",
       "  </tbody>\n",
       "</table>\n",
       "</div>"
      ],
      "text/plain": [
       "       avg_likes_five_recent_posts   followed_by      follows  \\\n",
       "count                  1195.000000   1195.000000  1195.000000   \n",
       "mean                     90.066974   1429.941423   462.997490   \n",
       "std                     248.100021   4852.609305   954.381067   \n",
       "min                       0.000000      0.000000     0.000000   \n",
       "25%                       0.000000      8.000000    39.500000   \n",
       "50%                       2.666667     84.000000   193.000000   \n",
       "75%                      59.083333    914.500000   482.000000   \n",
       "max                    2533.833333  82542.000000  7499.000000   \n",
       "\n",
       "       is_business_account  is_joined_recently   is_private  likes_last_post  \\\n",
       "count           1195.00000         1195.000000  1195.000000      1195.000000   \n",
       "mean               0.21841            0.457741     0.124686        87.443515   \n",
       "std                0.41334            0.498420     0.330501       374.120813   \n",
       "min                0.00000            0.000000     0.000000         0.000000   \n",
       "25%                0.00000            0.000000     0.000000         0.000000   \n",
       "50%                0.00000            0.000000     0.000000         2.000000   \n",
       "75%                0.00000            1.000000     0.000000        49.000000   \n",
       "max                1.00000            1.000000     1.000000      9925.000000   \n",
       "\n",
       "         num_posts  \n",
       "count  1195.000000  \n",
       "mean     51.033473  \n",
       "std     159.718703  \n",
       "min       0.000000  \n",
       "25%       1.000000  \n",
       "50%       3.000000  \n",
       "75%      25.500000  \n",
       "max    2433.000000  "
      ]
     },
     "execution_count": 19,
     "metadata": {},
     "output_type": "execute_result"
    }
   ],
   "source": [
    "df_dropped.describe()"
   ]
  },
  {
   "cell_type": "code",
   "execution_count": 20,
   "metadata": {},
   "outputs": [
    {
     "data": {
      "text/plain": [
       "Text(0,0.5,'followed_by')"
      ]
     },
     "execution_count": 20,
     "metadata": {},
     "output_type": "execute_result"
    },
    {
     "data": {
      "image/png": "[encoded data removed]",
      "text/plain": [
       "<Figure size 432x288 with 1 Axes>"
      ]
     },
     "metadata": {},
     "output_type": "display_data"
    }
   ],
   "source": [
    "plt.scatter(x=np.linspace(0,934,934),y=sorted((df_dropped[df_dropped['is_business_account'] == 0].followed_by), reverse=True), alpha=0.3, color='grey', marker = 'o',s=50)\n",
    "plt.xlabel('Personal Accounts')\n",
    "plt.ylabel('followed_by')"
   ]
  },
  {
   "cell_type": "code",
   "execution_count": 21,
   "metadata": {},
   "outputs": [],
   "source": [
    "df_dropped_followed_by = df_dropped[df_dropped['is_business_account'] == 0]['followed_by']"
   ]
  },
  {
   "cell_type": "code",
   "execution_count": 23,
   "metadata": {},
   "outputs": [
    {
     "data": {
      "text/plain": [
       "0.0053533190578158455"
      ]
     },
     "execution_count": 23,
     "metadata": {},
     "output_type": "execute_result"
    }
   ],
   "source": [
    "df_dropped_followed_by[df_dropped_followed_by > 20000].count()/len(df_dropped_followed_by)"
   ]
  },
  {
   "cell_type": "code",
   "execution_count": 55,
   "metadata": {},
   "outputs": [
    {
     "data": {
      "text/plain": [
       "Text(0,0.5,'frequency (logarithmic scale)')"
      ]
     },
     "execution_count": 55,
     "metadata": {},
     "output_type": "execute_result"
    },
    {
     "data": {
      "image/png": "[encoded data removed]",
      "text/plain": [
       "<Figure size 432x288 with 1 Axes>"
      ]
     },
     "metadata": {},
     "output_type": "display_data"
    }
   ],
   "source": [
    "fig, ax = plt.subplots()\n",
    "ax.hist(df_dropped[df_dropped['is_business_account'] == 0].followed_by, alpha=1, color='blue')\n",
    "ax.set_xlabel(\"Personal Accounts' number of followers\")\n",
    "ax.set_yscale(\"log\")\n",
    "#plt.yticks()\n",
    "ax.set_yticks([1, 10, 100, 1000])\n",
    "ax.set_yticklabels([1, 10, 100, 1000])\n",
    "\n",
    "#ax.set_yticks(np.arange(0, 4, 1))\n",
    "\n",
    "ax.set_ylabel('frequency (logarithmic scale)')"
   ]
  },
  {
   "cell_type": "code",
   "execution_count": 24,
   "metadata": {},
   "outputs": [
    {
     "data": {
      "text/html": [
       "<div>\n",
       "<style scoped>\n",
       "    .dataframe tbody tr th:only-of-type {\n",
       "        vertical-align: middle;\n",
       "    }\n",
       "\n",
       "    .dataframe tbody tr th {\n",
       "        vertical-align: top;\n",
       "    }\n",
       "\n",
       "    .dataframe thead th {\n",
       "        text-align: right;\n",
       "    }\n",
       "</style>\n",
       "<table border=\"1\" class=\"dataframe\">\n",
       "  <thead>\n",
       "    <tr style=\"text-align: right;\">\n",
       "      <th></th>\n",
       "      <th>_id</th>\n",
       "      <th>avg_likes_five_recent_posts</th>\n",
       "      <th>bio</th>\n",
       "      <th>followed_by</th>\n",
       "      <th>follows</th>\n",
       "      <th>id</th>\n",
       "      <th>is_business_account</th>\n",
       "      <th>is_joined_recently</th>\n",
       "      <th>is_private</th>\n",
       "      <th>likes_last_post</th>\n",
       "      <th>num_posts</th>\n",
       "      <th>url</th>\n",
       "    </tr>\n",
       "  </thead>\n",
       "  <tbody>\n",
       "    <tr>\n",
       "      <th>0</th>\n",
       "      <td>5c0d9d34baead16c7b79ba01</td>\n",
       "      <td>9.000000</td>\n",
       "      <td></td>\n",
       "      <td>63.0</td>\n",
       "      <td>76.0</td>\n",
       "      <td>8882294111</td>\n",
       "      <td>0</td>\n",
       "      <td>0</td>\n",
       "      <td>0</td>\n",
       "      <td>10.0</td>\n",
       "      <td>2.0</td>\n",
       "      <td>https://www.instagram.com/lirlando</td>\n",
       "    </tr>\n",
       "    <tr>\n",
       "      <th>1</th>\n",
       "      <td>5c0d9d34baead16c7b79ba03</td>\n",
       "      <td>128.333333</td>\n",
       "      <td>Haters make me famous😻\\n@irvan740 ❤</td>\n",
       "      <td>870.0</td>\n",
       "      <td>136.0</td>\n",
       "      <td>7422647242</td>\n",
       "      <td>1</td>\n",
       "      <td>0</td>\n",
       "      <td>0</td>\n",
       "      <td>156.0</td>\n",
       "      <td>3.0</td>\n",
       "      <td>https://www.instagram.com/ndah.endah.3701</td>\n",
       "    </tr>\n",
       "    <tr>\n",
       "      <th>2</th>\n",
       "      <td>5c0d9d34baead16c7b79ba19</td>\n",
       "      <td>56.833333</td>\n",
       "      <td>Viaggia... a modo tuo! #Mazzone #Travel</td>\n",
       "      <td>2100.0</td>\n",
       "      <td>700.0</td>\n",
       "      <td>4091271053</td>\n",
       "      <td>1</td>\n",
       "      <td>0</td>\n",
       "      <td>0</td>\n",
       "      <td>26.0</td>\n",
       "      <td>180.0</td>\n",
       "      <td>https://www.instagram.com/mazzoneviaggi</td>\n",
       "    </tr>\n",
       "    <tr>\n",
       "      <th>3</th>\n",
       "      <td>5c0d9d34baead16c7b79ba1a</td>\n",
       "      <td>0.000000</td>\n",
       "      <td></td>\n",
       "      <td>14.0</td>\n",
       "      <td>48.0</td>\n",
       "      <td>9418121438</td>\n",
       "      <td>0</td>\n",
       "      <td>1</td>\n",
       "      <td>0</td>\n",
       "      <td>0.0</td>\n",
       "      <td>0.0</td>\n",
       "      <td>https://www.instagram.com/chrismainahperre</td>\n",
       "    </tr>\n",
       "    <tr>\n",
       "      <th>6</th>\n",
       "      <td>5c0d9d35baead16c7b79ba3b</td>\n",
       "      <td>0.000000</td>\n",
       "      <td>@kha10lid_n</td>\n",
       "      <td>306.0</td>\n",
       "      <td>441.0</td>\n",
       "      <td>7311336467</td>\n",
       "      <td>0</td>\n",
       "      <td>0</td>\n",
       "      <td>1</td>\n",
       "      <td>0.0</td>\n",
       "      <td>21.0</td>\n",
       "      <td>https://www.instagram.com/khalid_malkk</td>\n",
       "    </tr>\n",
       "  </tbody>\n",
       "</table>\n",
       "</div>"
      ],
      "text/plain": [
       "                        _id  avg_likes_five_recent_posts  \\\n",
       "0  5c0d9d34baead16c7b79ba01                     9.000000   \n",
       "1  5c0d9d34baead16c7b79ba03                   128.333333   \n",
       "2  5c0d9d34baead16c7b79ba19                    56.833333   \n",
       "3  5c0d9d34baead16c7b79ba1a                     0.000000   \n",
       "6  5c0d9d35baead16c7b79ba3b                     0.000000   \n",
       "\n",
       "                                       bio  followed_by  follows          id  \\\n",
       "0                                                  63.0     76.0  8882294111   \n",
       "1      Haters make me famous😻\\n@irvan740 ❤        870.0    136.0  7422647242   \n",
       "2  Viaggia... a modo tuo! #Mazzone #Travel       2100.0    700.0  4091271053   \n",
       "3                                                  14.0     48.0  9418121438   \n",
       "6                              @kha10lid_n        306.0    441.0  7311336467   \n",
       "\n",
       "   is_business_account  is_joined_recently  is_private  likes_last_post  \\\n",
       "0                    0                   0           0             10.0   \n",
       "1                    1                   0           0            156.0   \n",
       "2                    1                   0           0             26.0   \n",
       "3                    0                   1           0              0.0   \n",
       "6                    0                   0           1              0.0   \n",
       "\n",
       "   num_posts                                         url  \n",
       "0        2.0          https://www.instagram.com/lirlando  \n",
       "1        3.0   https://www.instagram.com/ndah.endah.3701  \n",
       "2      180.0     https://www.instagram.com/mazzoneviaggi  \n",
       "3        0.0  https://www.instagram.com/chrismainahperre  \n",
       "6       21.0      https://www.instagram.com/khalid_malkk  "
      ]
     },
     "execution_count": 24,
     "metadata": {},
     "output_type": "execute_result"
    }
   ],
   "source": [
    "df_dropped.head()"
   ]
  },
  {
   "cell_type": "code",
   "execution_count": 25,
   "metadata": {},
   "outputs": [],
   "source": [
    "X = df_dropped.iloc[:,[1,3,4,7,8,9,10]]"
   ]
  },
  {
   "cell_type": "code",
   "execution_count": 26,
   "metadata": {},
   "outputs": [
    {
     "data": {
      "text/plain": [
       "(1195, 7)"
      ]
     },
     "execution_count": 26,
     "metadata": {},
     "output_type": "execute_result"
    }
   ],
   "source": [
    "X.shape"
   ]
  },
  {
   "cell_type": "code",
   "execution_count": 27,
   "metadata": {},
   "outputs": [
    {
     "data": {
      "text/html": [
       "<div>\n",
       "<style scoped>\n",
       "    .dataframe tbody tr th:only-of-type {\n",
       "        vertical-align: middle;\n",
       "    }\n",
       "\n",
       "    .dataframe tbody tr th {\n",
       "        vertical-align: top;\n",
       "    }\n",
       "\n",
       "    .dataframe thead th {\n",
       "        text-align: right;\n",
       "    }\n",
       "</style>\n",
       "<table border=\"1\" class=\"dataframe\">\n",
       "  <thead>\n",
       "    <tr style=\"text-align: right;\">\n",
       "      <th></th>\n",
       "      <th>avg_likes_five_recent_posts</th>\n",
       "      <th>followed_by</th>\n",
       "      <th>follows</th>\n",
       "      <th>is_joined_recently</th>\n",
       "      <th>is_private</th>\n",
       "      <th>likes_last_post</th>\n",
       "      <th>num_posts</th>\n",
       "    </tr>\n",
       "  </thead>\n",
       "  <tbody>\n",
       "    <tr>\n",
       "      <th>0</th>\n",
       "      <td>9.000000</td>\n",
       "      <td>63.0</td>\n",
       "      <td>76.0</td>\n",
       "      <td>0</td>\n",
       "      <td>0</td>\n",
       "      <td>10.0</td>\n",
       "      <td>2.0</td>\n",
       "    </tr>\n",
       "    <tr>\n",
       "      <th>1</th>\n",
       "      <td>128.333333</td>\n",
       "      <td>870.0</td>\n",
       "      <td>136.0</td>\n",
       "      <td>0</td>\n",
       "      <td>0</td>\n",
       "      <td>156.0</td>\n",
       "      <td>3.0</td>\n",
       "    </tr>\n",
       "    <tr>\n",
       "      <th>2</th>\n",
       "      <td>56.833333</td>\n",
       "      <td>2100.0</td>\n",
       "      <td>700.0</td>\n",
       "      <td>0</td>\n",
       "      <td>0</td>\n",
       "      <td>26.0</td>\n",
       "      <td>180.0</td>\n",
       "    </tr>\n",
       "    <tr>\n",
       "      <th>3</th>\n",
       "      <td>0.000000</td>\n",
       "      <td>14.0</td>\n",
       "      <td>48.0</td>\n",
       "      <td>1</td>\n",
       "      <td>0</td>\n",
       "      <td>0.0</td>\n",
       "      <td>0.0</td>\n",
       "    </tr>\n",
       "    <tr>\n",
       "      <th>6</th>\n",
       "      <td>0.000000</td>\n",
       "      <td>306.0</td>\n",
       "      <td>441.0</td>\n",
       "      <td>0</td>\n",
       "      <td>1</td>\n",
       "      <td>0.0</td>\n",
       "      <td>21.0</td>\n",
       "    </tr>\n",
       "  </tbody>\n",
       "</table>\n",
       "</div>"
      ],
      "text/plain": [
       "   avg_likes_five_recent_posts  followed_by  follows  is_joined_recently  \\\n",
       "0                     9.000000         63.0     76.0                   0   \n",
       "1                   128.333333        870.0    136.0                   0   \n",
       "2                    56.833333       2100.0    700.0                   0   \n",
       "3                     0.000000         14.0     48.0                   1   \n",
       "6                     0.000000        306.0    441.0                   0   \n",
       "\n",
       "   is_private  likes_last_post  num_posts  \n",
       "0           0             10.0        2.0  \n",
       "1           0            156.0        3.0  \n",
       "2           0             26.0      180.0  \n",
       "3           0              0.0        0.0  \n",
       "6           1              0.0       21.0  "
      ]
     },
     "execution_count": 27,
     "metadata": {},
     "output_type": "execute_result"
    }
   ],
   "source": [
    "X.head()"
   ]
  },
  {
   "cell_type": "code",
   "execution_count": 28,
   "metadata": {},
   "outputs": [],
   "source": [
    "# _ = pd.scatter_matrix(df_dropped, alpha = 0.3, figsize=(14,12))"
   ]
  },
  {
   "cell_type": "code",
   "execution_count": 29,
   "metadata": {},
   "outputs": [],
   "source": [
    "y = df_dropped.iloc[:, 6]"
   ]
  },
  {
   "cell_type": "code",
   "execution_count": 30,
   "metadata": {},
   "outputs": [
    {
     "data": {
      "text/plain": [
       "0    0\n",
       "1    1\n",
       "2    1\n",
       "3    0\n",
       "6    0\n",
       "Name: is_business_account, dtype: int64"
      ]
     },
     "execution_count": 30,
     "metadata": {},
     "output_type": "execute_result"
    }
   ],
   "source": [
    "y.head()"
   ]
  },
  {
   "cell_type": "code",
   "execution_count": 31,
   "metadata": {},
   "outputs": [
    {
     "data": {
      "text/plain": [
       "(1195,)"
      ]
     },
     "execution_count": 31,
     "metadata": {},
     "output_type": "execute_result"
    }
   ],
   "source": [
    "y.shape"
   ]
  },
  {
   "cell_type": "code",
   "execution_count": 32,
   "metadata": {},
   "outputs": [
    {
     "data": {
      "text/plain": [
       "261"
      ]
     },
     "execution_count": 32,
     "metadata": {},
     "output_type": "execute_result"
    }
   ],
   "source": [
    "y.sum()"
   ]
  },
  {
   "cell_type": "code",
   "execution_count": 33,
   "metadata": {},
   "outputs": [],
   "source": [
    "# of business accts: 261/1195 = 0.21841"
   ]
  },
  {
   "cell_type": "markdown",
   "metadata": {},
   "source": [
    "### train-test split"
   ]
  },
  {
   "cell_type": "code",
   "execution_count": 34,
   "metadata": {},
   "outputs": [],
   "source": [
    "X_train, X_test, y_train, y_test = train_test_split(X, y, random_state=4)"
   ]
  },
  {
   "cell_type": "code",
   "execution_count": 35,
   "metadata": {},
   "outputs": [
    {
     "data": {
      "text/plain": [
       "((896, 7), (299, 7), (896,), (299,))"
      ]
     },
     "execution_count": 35,
     "metadata": {},
     "output_type": "execute_result"
    }
   ],
   "source": [
    "X_train.shape, X_test.shape, y_train.shape, y_test.shape"
   ]
  },
  {
   "cell_type": "markdown",
   "metadata": {},
   "source": [
    "### Logistic Regression"
   ]
  },
  {
   "cell_type": "code",
   "execution_count": 36,
   "metadata": {},
   "outputs": [],
   "source": [
    "model_logistic = LogisticRegression()"
   ]
  },
  {
   "cell_type": "code",
   "execution_count": 37,
   "metadata": {},
   "outputs": [
    {
     "data": {
      "text/plain": [
       "LogisticRegression(C=1.0, class_weight=None, dual=False, fit_intercept=True,\n",
       "          intercept_scaling=1, max_iter=100, multi_class='ovr', n_jobs=1,\n",
       "          penalty='l2', random_state=None, solver='liblinear', tol=0.0001,\n",
       "          verbose=0, warm_start=False)"
      ]
     },
     "execution_count": 37,
     "metadata": {},
     "output_type": "execute_result"
    }
   ],
   "source": [
    "model_logistic.fit(X_train, y_train)"
   ]
  },
  {
   "cell_type": "code",
   "execution_count": 38,
   "metadata": {},
   "outputs": [],
   "source": [
    "y_pred_logistic = model_logistic.predict_proba(X_test)[:,1]"
   ]
  },
  {
   "cell_type": "code",
   "execution_count": 39,
   "metadata": {},
   "outputs": [
    {
     "data": {
      "text/plain": [
       "0.39165977446511796"
      ]
     },
     "execution_count": 39,
     "metadata": {},
     "output_type": "execute_result"
    }
   ],
   "source": [
    "log_loss_logistic = log_loss(y_test, y_pred_logistic)\n",
    "log_loss_logistic"
   ]
  },
  {
   "cell_type": "code",
   "execution_count": 40,
   "metadata": {
    "scrolled": true
   },
   "outputs": [
    {
     "data": {
      "text/plain": [
       "0.39014862422073854"
      ]
     },
     "execution_count": 40,
     "metadata": {},
     "output_type": "execute_result"
    }
   ],
   "source": [
    "cv_logloss = -cross_val_score(model_logistic, X, y, scoring = 'neg_log_loss', cv = 10).mean()\n",
    "cv_logloss"
   ]
  },
  {
   "cell_type": "code",
   "execution_count": 55,
   "metadata": {},
   "outputs": [
    {
     "data": {
      "text/html": [
       "<div>\n",
       "<style scoped>\n",
       "    .dataframe tbody tr th:only-of-type {\n",
       "        vertical-align: middle;\n",
       "    }\n",
       "\n",
       "    .dataframe tbody tr th {\n",
       "        vertical-align: top;\n",
       "    }\n",
       "\n",
       "    .dataframe thead th {\n",
       "        text-align: right;\n",
       "    }\n",
       "</style>\n",
       "<table border=\"1\" class=\"dataframe\">\n",
       "  <thead>\n",
       "    <tr style=\"text-align: right;\">\n",
       "      <th></th>\n",
       "      <th>actual</th>\n",
       "      <th>prediction</th>\n",
       "    </tr>\n",
       "  </thead>\n",
       "  <tbody>\n",
       "    <tr>\n",
       "      <th>904</th>\n",
       "      <td>0</td>\n",
       "      <td>0.560219</td>\n",
       "    </tr>\n",
       "    <tr>\n",
       "      <th>559</th>\n",
       "      <td>0</td>\n",
       "      <td>0.782465</td>\n",
       "    </tr>\n",
       "    <tr>\n",
       "      <th>70</th>\n",
       "      <td>0</td>\n",
       "      <td>0.512070</td>\n",
       "    </tr>\n",
       "    <tr>\n",
       "      <th>458</th>\n",
       "      <td>0</td>\n",
       "      <td>0.770284</td>\n",
       "    </tr>\n",
       "    <tr>\n",
       "      <th>841</th>\n",
       "      <td>0</td>\n",
       "      <td>0.613144</td>\n",
       "    </tr>\n",
       "    <tr>\n",
       "      <th>1043</th>\n",
       "      <td>0</td>\n",
       "      <td>0.589753</td>\n",
       "    </tr>\n",
       "    <tr>\n",
       "      <th>1194</th>\n",
       "      <td>0</td>\n",
       "      <td>0.566171</td>\n",
       "    </tr>\n",
       "    <tr>\n",
       "      <th>924</th>\n",
       "      <td>0</td>\n",
       "      <td>0.925263</td>\n",
       "    </tr>\n",
       "    <tr>\n",
       "      <th>798</th>\n",
       "      <td>0</td>\n",
       "      <td>0.502042</td>\n",
       "    </tr>\n",
       "    <tr>\n",
       "      <th>171</th>\n",
       "      <td>0</td>\n",
       "      <td>0.694562</td>\n",
       "    </tr>\n",
       "    <tr>\n",
       "      <th>125</th>\n",
       "      <td>0</td>\n",
       "      <td>0.572941</td>\n",
       "    </tr>\n",
       "    <tr>\n",
       "      <th>972</th>\n",
       "      <td>0</td>\n",
       "      <td>0.770055</td>\n",
       "    </tr>\n",
       "    <tr>\n",
       "      <th>427</th>\n",
       "      <td>0</td>\n",
       "      <td>0.686353</td>\n",
       "    </tr>\n",
       "    <tr>\n",
       "      <th>789</th>\n",
       "      <td>0</td>\n",
       "      <td>0.625357</td>\n",
       "    </tr>\n",
       "  </tbody>\n",
       "</table>\n",
       "</div>"
      ],
      "text/plain": [
       "      actual  prediction\n",
       "904        0    0.560219\n",
       "559        0    0.782465\n",
       "70         0    0.512070\n",
       "458        0    0.770284\n",
       "841        0    0.613144\n",
       "1043       0    0.589753\n",
       "1194       0    0.566171\n",
       "924        0    0.925263\n",
       "798        0    0.502042\n",
       "171        0    0.694562\n",
       "125        0    0.572941\n",
       "972        0    0.770055\n",
       "427        0    0.686353\n",
       "789        0    0.625357"
      ]
     },
     "execution_count": 55,
     "metadata": {},
     "output_type": "execute_result"
    }
   ],
   "source": [
    "y_test_pred = pd.DataFrame({'actual':y_test,'prediction':y_pred_logistic})\n",
    "\n",
    "# 'actual' == 0 means the account is actually not a business account, but y_pred high means \n",
    "# they are predicted to have high probability to be a business account\n",
    "y_test_pred_filtered = y_test_pred[y_test_pred['actual']== 0]\n",
    "y_test_pred_filtered[y_test_pred_filtered['prediction'] > 0.5]"
   ]
  },
  {
   "cell_type": "code",
   "execution_count": 83,
   "metadata": {},
   "outputs": [
    {
     "data": {
      "text/plain": [
       "_id                                                     5c0d9d38baead16c7b79bb0e\n",
       "avg_likes_five_recent_posts                                              339.333\n",
       "bio                            Horse Rider🐴 Clint Pleasure, Lexus, Poker | 9y...\n",
       "followed_by                                                                 1003\n",
       "follows                                                                       27\n",
       "id                                                                    6905697585\n",
       "is_business_account                                                            0\n",
       "is_joined_recently                                                             0\n",
       "is_private                                                                     0\n",
       "likes_last_post                                                              283\n",
       "num_posts                                                                     13\n",
       "url                                   https://www.instagram.com/nadia.lehmann.18\n",
       "Name: 84, dtype: object"
      ]
     },
     "execution_count": 83,
     "metadata": {},
     "output_type": "execute_result"
    }
   ],
   "source": [
    "df_dropped.iloc[70, :]"
   ]
  },
  {
   "cell_type": "markdown",
   "metadata": {},
   "source": [
    "### First Random Forest "
   ]
  },
  {
   "cell_type": "code",
   "execution_count": 59,
   "metadata": {},
   "outputs": [],
   "source": [
    "rf = RandomForestClassifier(n_estimators=100,\n",
    "                            n_jobs=-1,\n",
    "                            random_state=1)"
   ]
  },
  {
   "cell_type": "code",
   "execution_count": 60,
   "metadata": {},
   "outputs": [
    {
     "data": {
      "text/plain": [
       "RandomForestClassifier(bootstrap=True, class_weight=None, criterion='gini',\n",
       "            max_depth=None, max_features='auto', max_leaf_nodes=None,\n",
       "            min_impurity_decrease=0.0, min_impurity_split=None,\n",
       "            min_samples_leaf=1, min_samples_split=2,\n",
       "            min_weight_fraction_leaf=0.0, n_estimators=100, n_jobs=-1,\n",
       "            oob_score=False, random_state=1, verbose=0, warm_start=False)"
      ]
     },
     "execution_count": 60,
     "metadata": {},
     "output_type": "execute_result"
    }
   ],
   "source": [
    "rf.fit(X_train, y_train)"
   ]
  },
  {
   "cell_type": "code",
   "execution_count": 61,
   "metadata": {},
   "outputs": [],
   "source": [
    "y_pred_rf = rf.predict_proba(X_test)[:, 1]"
   ]
  },
  {
   "cell_type": "code",
   "execution_count": 62,
   "metadata": {},
   "outputs": [
    {
     "data": {
      "text/plain": [
       "0.4721202096873282"
      ]
     },
     "execution_count": 62,
     "metadata": {},
     "output_type": "execute_result"
    }
   ],
   "source": [
    "log_loss_rf = log_loss(y_test, y_pred_rf)\n",
    "log_loss_rf"
   ]
  },
  {
   "cell_type": "code",
   "execution_count": 63,
   "metadata": {},
   "outputs": [
    {
     "data": {
      "text/plain": [
       "0.5102002950428333"
      ]
     },
     "execution_count": 63,
     "metadata": {},
     "output_type": "execute_result"
    }
   ],
   "source": [
    "cv_logloss_rf1 = -cross_val_score(rf, X, y, cv = 10, scoring = 'neg_log_loss').mean()\n",
    "cv_logloss_rf1"
   ]
  },
  {
   "cell_type": "code",
   "execution_count": 64,
   "metadata": {},
   "outputs": [
    {
     "data": {
      "text/html": [
       "<div>\n",
       "<style scoped>\n",
       "    .dataframe tbody tr th:only-of-type {\n",
       "        vertical-align: middle;\n",
       "    }\n",
       "\n",
       "    .dataframe tbody tr th {\n",
       "        vertical-align: top;\n",
       "    }\n",
       "\n",
       "    .dataframe thead th {\n",
       "        text-align: right;\n",
       "    }\n",
       "</style>\n",
       "<table border=\"1\" class=\"dataframe\">\n",
       "  <thead>\n",
       "    <tr style=\"text-align: right;\">\n",
       "      <th></th>\n",
       "      <th>actual</th>\n",
       "      <th>prediction</th>\n",
       "    </tr>\n",
       "  </thead>\n",
       "  <tbody>\n",
       "    <tr>\n",
       "      <th>1054</th>\n",
       "      <td>0</td>\n",
       "      <td>0.72</td>\n",
       "    </tr>\n",
       "    <tr>\n",
       "      <th>70</th>\n",
       "      <td>0</td>\n",
       "      <td>0.77</td>\n",
       "    </tr>\n",
       "    <tr>\n",
       "      <th>751</th>\n",
       "      <td>0</td>\n",
       "      <td>0.79</td>\n",
       "    </tr>\n",
       "    <tr>\n",
       "      <th>77</th>\n",
       "      <td>0</td>\n",
       "      <td>0.81</td>\n",
       "    </tr>\n",
       "    <tr>\n",
       "      <th>1091</th>\n",
       "      <td>0</td>\n",
       "      <td>0.72</td>\n",
       "    </tr>\n",
       "    <tr>\n",
       "      <th>688</th>\n",
       "      <td>0</td>\n",
       "      <td>0.86</td>\n",
       "    </tr>\n",
       "    <tr>\n",
       "      <th>1128</th>\n",
       "      <td>0</td>\n",
       "      <td>0.74</td>\n",
       "    </tr>\n",
       "    <tr>\n",
       "      <th>210</th>\n",
       "      <td>0</td>\n",
       "      <td>0.80</td>\n",
       "    </tr>\n",
       "  </tbody>\n",
       "</table>\n",
       "</div>"
      ],
      "text/plain": [
       "      actual  prediction\n",
       "1054       0        0.72\n",
       "70         0        0.77\n",
       "751        0        0.79\n",
       "77         0        0.81\n",
       "1091       0        0.72\n",
       "688        0        0.86\n",
       "1128       0        0.74\n",
       "210        0        0.80"
      ]
     },
     "execution_count": 64,
     "metadata": {},
     "output_type": "execute_result"
    }
   ],
   "source": [
    "y_test_pred1 = pd.DataFrame({'actual':y_test,'prediction':y_pred_rf})\n",
    "y_test_pred_filtered1 = y_test_pred1[y_test_pred1['actual']== 0]\n",
    "y_test_pred_filtered1[y_test_pred_filtered1['prediction'] > 0.7]"
   ]
  },
  {
   "cell_type": "code",
   "execution_count": 65,
   "metadata": {
    "scrolled": true
   },
   "outputs": [
    {
     "data": {
      "text/html": [
       "<div>\n",
       "<style scoped>\n",
       "    .dataframe tbody tr th:only-of-type {\n",
       "        vertical-align: middle;\n",
       "    }\n",
       "\n",
       "    .dataframe tbody tr th {\n",
       "        vertical-align: top;\n",
       "    }\n",
       "\n",
       "    .dataframe thead th {\n",
       "        text-align: right;\n",
       "    }\n",
       "</style>\n",
       "<table border=\"1\" class=\"dataframe\">\n",
       "  <thead>\n",
       "    <tr style=\"text-align: right;\">\n",
       "      <th></th>\n",
       "      <th>actual</th>\n",
       "      <th>prediction</th>\n",
       "    </tr>\n",
       "  </thead>\n",
       "  <tbody>\n",
       "    <tr>\n",
       "      <th>count</th>\n",
       "      <td>239.0</td>\n",
       "      <td>239.000000</td>\n",
       "    </tr>\n",
       "    <tr>\n",
       "      <th>mean</th>\n",
       "      <td>0.0</td>\n",
       "      <td>0.146820</td>\n",
       "    </tr>\n",
       "    <tr>\n",
       "      <th>std</th>\n",
       "      <td>0.0</td>\n",
       "      <td>0.226556</td>\n",
       "    </tr>\n",
       "    <tr>\n",
       "      <th>min</th>\n",
       "      <td>0.0</td>\n",
       "      <td>0.000000</td>\n",
       "    </tr>\n",
       "    <tr>\n",
       "      <th>25%</th>\n",
       "      <td>0.0</td>\n",
       "      <td>0.000000</td>\n",
       "    </tr>\n",
       "    <tr>\n",
       "      <th>50%</th>\n",
       "      <td>0.0</td>\n",
       "      <td>0.010000</td>\n",
       "    </tr>\n",
       "    <tr>\n",
       "      <th>75%</th>\n",
       "      <td>0.0</td>\n",
       "      <td>0.205000</td>\n",
       "    </tr>\n",
       "    <tr>\n",
       "      <th>max</th>\n",
       "      <td>0.0</td>\n",
       "      <td>0.860000</td>\n",
       "    </tr>\n",
       "  </tbody>\n",
       "</table>\n",
       "</div>"
      ],
      "text/plain": [
       "       actual  prediction\n",
       "count   239.0  239.000000\n",
       "mean      0.0    0.146820\n",
       "std       0.0    0.226556\n",
       "min       0.0    0.000000\n",
       "25%       0.0    0.000000\n",
       "50%       0.0    0.010000\n",
       "75%       0.0    0.205000\n",
       "max       0.0    0.860000"
      ]
     },
     "execution_count": 65,
     "metadata": {},
     "output_type": "execute_result"
    }
   ],
   "source": [
    "y_test_pred_filtered1.describe()"
   ]
  },
  {
   "cell_type": "markdown",
   "metadata": {},
   "source": [
    "### Best Random Forest"
   ]
  },
  {
   "cell_type": "code",
   "execution_count": 66,
   "metadata": {},
   "outputs": [
    {
     "name": "stdout",
     "output_type": "stream",
     "text": [
      "Fitting 3 folds for each of 648 candidates, totalling 1944 fits\n"
     ]
    },
    {
     "name": "stderr",
     "output_type": "stream",
     "text": [
      "[Parallel(n_jobs=-1)]: Done  76 tasks      | elapsed:    7.6s\n",
      "[Parallel(n_jobs=-1)]: Done 291 tasks      | elapsed:   32.7s\n",
      "[Parallel(n_jobs=-1)]: Done 541 tasks      | elapsed:  1.2min\n",
      "[Parallel(n_jobs=-1)]: Done 891 tasks      | elapsed:  2.1min\n",
      "[Parallel(n_jobs=-1)]: Done 1341 tasks      | elapsed:  3.0min\n",
      "[Parallel(n_jobs=-1)]: Done 1891 tasks      | elapsed:  4.3min\n",
      "[Parallel(n_jobs=-1)]: Done 1944 out of 1944 | elapsed:  4.4min finished\n"
     ]
    },
    {
     "name": "stdout",
     "output_type": "stream",
     "text": [
      "best parameters: {'bootstrap': False, 'max_depth': 3, 'max_features': 'sqrt', 'min_samples_leaf': 4, 'min_samples_split': 2, 'n_estimators': 120, 'random_state': 359}\n"
     ]
    }
   ],
   "source": [
    "random_forest_grid = {'max_depth': [3, 4, None],\n",
    "                      'max_features': ['sqrt', 'log2', None],\n",
    "                      'min_samples_split': [2, 4],\n",
    "                      'min_samples_leaf': [1, 2, 4],\n",
    "                      'bootstrap': [True, False],\n",
    "                      'n_estimators': [40, 80, 100, 120, 140, 160],\n",
    "                      'random_state': [359]}\n",
    "\n",
    "rf_gridsearch = GridSearchCV(RandomForestClassifier(),\n",
    "                             random_forest_grid,\n",
    "                             n_jobs=-1,\n",
    "                             verbose=True,\n",
    "                             scoring='neg_log_loss')\n",
    "rf_gridsearch.fit(X_train, y_train)\n",
    "\n",
    "print(\"best parameters:\", rf_gridsearch.best_params_)\n",
    "\n",
    "best_rf_model = rf_gridsearch.best_estimator_"
   ]
  },
  {
   "cell_type": "code",
   "execution_count": 67,
   "metadata": {},
   "outputs": [
    {
     "data": {
      "text/plain": [
       "RandomForestClassifier(bootstrap=False, class_weight=None, criterion='gini',\n",
       "            max_depth=3, max_features='sqrt', max_leaf_nodes=None,\n",
       "            min_impurity_decrease=0.0, min_impurity_split=None,\n",
       "            min_samples_leaf=4, min_samples_split=2,\n",
       "            min_weight_fraction_leaf=0.0, n_estimators=120, n_jobs=1,\n",
       "            oob_score=False, random_state=359, verbose=0, warm_start=False)"
      ]
     },
     "execution_count": 67,
     "metadata": {},
     "output_type": "execute_result"
    }
   ],
   "source": [
    "best_rf_model.fit(X_train, y_train)"
   ]
  },
  {
   "cell_type": "code",
   "execution_count": 68,
   "metadata": {},
   "outputs": [],
   "source": [
    "y_pred_best = best_rf_model.predict_proba(X_test)[:, 1]"
   ]
  },
  {
   "cell_type": "code",
   "execution_count": 81,
   "metadata": {
    "scrolled": false
   },
   "outputs": [
    {
     "data": {
      "text/html": [
       "<div>\n",
       "<style scoped>\n",
       "    .dataframe tbody tr th:only-of-type {\n",
       "        vertical-align: middle;\n",
       "    }\n",
       "\n",
       "    .dataframe tbody tr th {\n",
       "        vertical-align: top;\n",
       "    }\n",
       "\n",
       "    .dataframe thead th {\n",
       "        text-align: right;\n",
       "    }\n",
       "</style>\n",
       "<table border=\"1\" class=\"dataframe\">\n",
       "  <thead>\n",
       "    <tr style=\"text-align: right;\">\n",
       "      <th></th>\n",
       "      <th>actual</th>\n",
       "      <th>prediction</th>\n",
       "    </tr>\n",
       "  </thead>\n",
       "  <tbody>\n",
       "    <tr>\n",
       "      <th>70</th>\n",
       "      <td>0</td>\n",
       "      <td>0.611765</td>\n",
       "    </tr>\n",
       "    <tr>\n",
       "      <th>427</th>\n",
       "      <td>0</td>\n",
       "      <td>0.615264</td>\n",
       "    </tr>\n",
       "  </tbody>\n",
       "</table>\n",
       "</div>"
      ],
      "text/plain": [
       "     actual  prediction\n",
       "70        0    0.611765\n",
       "427       0    0.615264"
      ]
     },
     "execution_count": 81,
     "metadata": {},
     "output_type": "execute_result"
    }
   ],
   "source": [
    "y_test_pred2 = pd.DataFrame({'actual':y_test,'prediction':y_pred_best})\n",
    "y_test_pred_filtered2 = y_test_pred2[y_test_pred2['actual']== 0]\n",
    "y_test_pred_filtered2[y_test_pred_filtered2['prediction'] > 0.6]"
   ]
  },
  {
   "cell_type": "code",
   "execution_count": 70,
   "metadata": {},
   "outputs": [
    {
     "data": {
      "text/plain": [
       "0.3544778556082339"
      ]
     },
     "execution_count": 70,
     "metadata": {},
     "output_type": "execute_result"
    }
   ],
   "source": [
    "log_loss_rf = log_loss(y_test, y_pred_best)\n",
    "log_loss_rf"
   ]
  },
  {
   "cell_type": "code",
   "execution_count": 71,
   "metadata": {},
   "outputs": [
    {
     "data": {
      "text/plain": [
       "0.35444179581224017"
      ]
     },
     "execution_count": 71,
     "metadata": {},
     "output_type": "execute_result"
    }
   ],
   "source": [
    "cv_logloss_rf2 = -cross_val_score(best_rf_model, X, y, cv = 10, scoring = 'neg_log_loss').mean()\n",
    "cv_logloss_rf2"
   ]
  },
  {
   "cell_type": "markdown",
   "metadata": {},
   "source": [
    "### Model Evaluation"
   ]
  },
  {
   "cell_type": "code",
   "execution_count": 72,
   "metadata": {},
   "outputs": [
    {
     "data": {
      "text/plain": [
       "<matplotlib.axes._subplots.AxesSubplot at 0x1a1ec72390>"
      ]
     },
     "execution_count": 72,
     "metadata": {},
     "output_type": "execute_result"
    },
    {
     "data": {
      "image/png": "[encoded data removed]",
      "text/plain": [
       "<Figure size 432x288 with 1 Axes>"
      ]
     },
     "metadata": {},
     "output_type": "display_data"
    }
   ],
   "source": [
    "feat_scores = pd.DataFrame({'Fraction of Samples Affected' : rf.feature_importances_},\n",
    "                           index=X.columns)\n",
    "feat_scores = feat_scores.sort_values(by='Fraction of Samples Affected')\n",
    "feat_scores.plot(kind='barh', color='lightsteelblue')"
   ]
  },
  {
   "cell_type": "code",
   "execution_count": 73,
   "metadata": {},
   "outputs": [
    {
     "data": {
      "text/plain": [
       "(array([155.,  16.,  13.,   7.,   3.,   5.,  19.,  21.]),\n",
       " array([0.01410319, 0.08924828, 0.16439336, 0.23953845, 0.31468354,\n",
       "        0.38982862, 0.46497371, 0.54011879, 0.61526388]),\n",
       " <a list of 8 Patch objects>)"
      ]
     },
     "execution_count": 73,
     "metadata": {},
     "output_type": "execute_result"
    },
    {
     "data": {
      "image/png": "[encoded data removed]",
      "text/plain": [
       "<Figure size 432x288 with 1 Axes>"
      ]
     },
     "metadata": {},
     "output_type": "display_data"
    }
   ],
   "source": [
    "plt.hist(y_test_pred2[y_test_pred2['actual']== 0]['prediction'], bins = 8)"
   ]
  },
  {
   "cell_type": "code",
   "execution_count": 74,
   "metadata": {},
   "outputs": [
    {
     "data": {
      "text/plain": [
       "0.8483612273361227"
      ]
     },
     "execution_count": 74,
     "metadata": {},
     "output_type": "execute_result"
    }
   ],
   "source": [
    "roc_auc_score(y_test, y_pred_best)"
   ]
  },
  {
   "cell_type": "code",
   "execution_count": 75,
   "metadata": {},
   "outputs": [],
   "source": [
    "fpr, tpr, thresholds = roc_curve(y_test, y_pred_rf)"
   ]
  },
  {
   "cell_type": "code",
   "execution_count": 76,
   "metadata": {},
   "outputs": [
    {
     "data": {
      "text/plain": [
       "<matplotlib.legend.Legend at 0x1a1ee750f0>"
      ]
     },
     "execution_count": 76,
     "metadata": {},
     "output_type": "execute_result"
    },
    {
     "data": {
      "image/png": "[encoded data removed]",
      "text/plain": [
       "<Figure size 432x288 with 1 Axes>"
      ]
     },
     "metadata": {},
     "output_type": "display_data"
    }
   ],
   "source": [
    "plt.plot(fpr, tpr, label='ROC curve (area = %0.2f)' % roc_auc_score(y_test, y_pred_rf))\n",
    "plt.plot([0, 1], [0, 1], color='darkorange', linestyle='--')\n",
    "plt.xlabel('False Positive Rate')\n",
    "plt.ylabel('True Positive Rate')\n",
    "plt.title('Receiver operating characteristic')\n",
    "plt.legend(loc=\"lower right\")"
   ]
  },
  {
   "cell_type": "code",
   "execution_count": 77,
   "metadata": {},
   "outputs": [],
   "source": [
    "from src.DataPreparation import *"
   ]
  },
  {
   "cell_type": "code",
   "execution_count": 362,
   "metadata": {},
   "outputs": [],
   "source": [
    "url = 'https://www.instagram.com/yuliagarciafer'"
   ]
  },
  {
   "cell_type": "code",
   "execution_count": 420,
   "metadata": {},
   "outputs": [
    {
     "data": {
      "text/plain": [
       "array([0.6119541])"
      ]
     },
     "execution_count": 420,
     "metadata": {},
     "output_type": "execute_result"
    }
   ],
   "source": [
    "get_pred_one(url, best_rf_model)"
   ]
  },
  {
   "cell_type": "code",
   "execution_count": null,
   "metadata": {},
   "outputs": [],
   "source": []
  },
  {
   "cell_type": "code",
   "execution_count": null,
   "metadata": {},
   "outputs": [],
   "source": []
  },
  {
   "cell_type": "code",
   "execution_count": null,
   "metadata": {},
   "outputs": [],
   "source": []
  },
  {
   "cell_type": "code",
   "execution_count": 78,
   "metadata": {},
   "outputs": [],
   "source": [
    "import pickle"
   ]
  },
  {
   "cell_type": "code",
   "execution_count": 79,
   "metadata": {},
   "outputs": [],
   "source": [
    "# save the model to pickle\n",
    "filename = 'finalized_model.pkl'\n",
    "pickle.dump(best_rf_model, open(filename, 'wb'))"
   ]
  },
  {
   "cell_type": "code",
   "execution_count": null,
   "metadata": {},
   "outputs": [],
   "source": []
  },
  {
   "cell_type": "code",
   "execution_count": null,
   "metadata": {},
   "outputs": [],
   "source": []
  },
  {
   "cell_type": "code",
   "execution_count": null,
   "metadata": {},
   "outputs": [],
   "source": []
  },
  {
   "cell_type": "code",
   "execution_count": null,
   "metadata": {},
   "outputs": [],
   "source": []
  },
  {
   "cell_type": "code",
   "execution_count": null,
   "metadata": {},
   "outputs": [],
   "source": []
  }
 ],
 "metadata": {
  "kernelspec": {
   "display_name": "Python 3",
   "language": "python",
   "name": "python3"
  },
  "language_info": {
   "codemirror_mode": {
    "name": "ipython",
    "version": 3
   },
   "file_extension": ".py",
   "mimetype": "text/x-python",
   "name": "python",
   "nbconvert_exporter": "python",
   "pygments_lexer": "ipython3",
   "version": "3.6.5"
  }
 },
 "nbformat": 4,
 "nbformat_minor": 2
}
