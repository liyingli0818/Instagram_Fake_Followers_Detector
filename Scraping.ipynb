{
 "cells": [
  {
   "cell_type": "code",
   "execution_count": 1,
   "metadata": {},
   "outputs": [],
   "source": [
    "from urllib.request import urlopen as uReq\n",
    "import pandas as pd\n",
    "import requests\n",
    "import json\n",
    "import time\n",
    "import random\n",
    "import bs4\n",
    "from bs4 import BeautifulSoup as soup"
   ]
  },
  {
   "cell_type": "code",
   "execution_count": 2,
   "metadata": {},
   "outputs": [],
   "source": [
    "filename = \"users_data.csv\"\n",
    "\n",
    "f = open(filename, \"w\")\n",
    "\n",
    "headers = \"user_name, full_name, num_posts, num_followed_by, num_following_by\\n\""
   ]
  },
  {
   "cell_type": "code",
   "execution_count": 3,
   "metadata": {},
   "outputs": [],
   "source": [
    "url = 'https://www.instagram.com/victorissleepless/'"
   ]
  },
  {
   "cell_type": "code",
   "execution_count": 4,
   "metadata": {},
   "outputs": [],
   "source": [
    "uClient = uReq(url)"
   ]
  },
  {
   "cell_type": "code",
   "execution_count": 5,
   "metadata": {},
   "outputs": [],
   "source": [
    "page_html = uClient.read()"
   ]
  },
  {
   "cell_type": "code",
   "execution_count": 6,
   "metadata": {},
   "outputs": [],
   "source": [
    "uClient.close()"
   ]
  },
  {
   "cell_type": "code",
   "execution_count": 7,
   "metadata": {},
   "outputs": [],
   "source": [
    "page_soup = soup(page_html, \"html.parser\")"
   ]
  },
  {
   "cell_type": "code",
   "execution_count": 8,
   "metadata": {},
   "outputs": [],
   "source": [
    "s = page_soup.find_all('script')[3].text[21:-1]"
   ]
  },
  {
   "cell_type": "code",
   "execution_count": 9,
   "metadata": {},
   "outputs": [],
   "source": [
    "json_acceptable_string = s.replace('\"', \"'\").replace(\"'\", \"\\\"\")\n",
    "d = json.loads(json_acceptable_string)"
   ]
  },
  {
   "cell_type": "code",
   "execution_count": 10,
   "metadata": {},
   "outputs": [
    {
     "data": {
      "text/plain": [
       "{'config': {'csrf_token': 'wGuAL8on6FZ6UBYjPDyxz2OxvHIPHZKW',\n",
       "  'viewer': None,\n",
       "  'viewerId': None},\n",
       " 'supports_es6': False,\n",
       " 'country_code': 'US',\n",
       " 'language_code': 'en',\n",
       " 'locale': 'en_US',\n",
       " 'entry_data': {'ProfilePage': [{'logging_page_id': 'profilePage_272148039',\n",
       "    'show_suggested_profiles': False,\n",
       "    'graphql': {'user': {'biography': '',\n",
       "      'blocked_by_viewer': False,\n",
       "      'country_block': False,\n",
       "      'external_url': None,\n",
       "      'external_url_linkshimmed': None,\n",
       "      'edge_followed_by': {'count': 63},\n",
       "      'followed_by_viewer': False,\n",
       "      'edge_follow': {'count': 91},\n",
       "      'follows_viewer': False,\n",
       "      'full_name': 'Victor Wang',\n",
       "      'has_channel': False,\n",
       "      'has_blocked_viewer': False,\n",
       "      'highlight_reel_count': 0,\n",
       "      'has_requested_viewer': False,\n",
       "      'id': '272148039',\n",
       "      'is_business_account': False,\n",
       "      'is_joined_recently': False,\n",
       "      'business_category_name': None,\n",
       "      'business_email': None,\n",
       "      'business_phone_number': None,\n",
       "      'business_address_json': None,\n",
       "      'is_private': False,\n",
       "      'is_verified': False,\n",
       "      'edge_mutual_followed_by': {'count': 0, 'edges': []},\n",
       "      'profile_pic_url': 'https://instagram.fsea1-1.fna.fbcdn.net/vp/39c752a6b06f77e8fcaaf089c49665c3/5CAAF8CB/t51.2885-19/s150x150/12353814_1029108600464109_1941958960_a.jpg',\n",
       "      'profile_pic_url_hd': 'https://instagram.fsea1-1.fna.fbcdn.net/vp/862b67f5bed2a03882013e87d462eed9/5C788ED3/t51.2885-19/s320x320/12353814_1029108600464109_1941958960_a.jpg',\n",
       "      'requested_by_viewer': False,\n",
       "      'username': 'victorissleepless',\n",
       "      'connected_fb_page': None,\n",
       "      'edge_felix_video_timeline': {'count': 0,\n",
       "       'page_info': {'has_next_page': False, 'end_cursor': None},\n",
       "       'edges': []},\n",
       "      'edge_owner_to_timeline_media': {'count': 20,\n",
       "       'page_info': {'has_next_page': True,\n",
       "        'end_cursor': 'QVFCWlNiVWVKY1VZeUViUU1XdndiOTR4RUpyZUdoOGs2WFJhWGYyT3R2aUFfQWlUUk14VFB0SjF6MXVWR2RlX3R3NmVKb0EwOFZDOG9URXRFMlM4TXp1cA=='},\n",
       "       'edges': [{'node': {'__typename': 'GraphImage',\n",
       "          'id': '1866583210071225947',\n",
       "          'edge_media_to_caption': {'edges': [{'node': {'text': 'Speechless view #gasworkspark #afternoon'}}]},\n",
       "          'shortcode': 'Bnnb4o8APZb',\n",
       "          'edge_media_to_comment': {'count': 1},\n",
       "          'comments_disabled': False,\n",
       "          'taken_at_timestamp': 1536734080,\n",
       "          'dimensions': {'height': 1080, 'width': 1080},\n",
       "          'display_url': 'https://instagram.fsea1-1.fna.fbcdn.net/vp/e42d2cb3ec0b1c3423bcefbaab267984/5C939E4F/t51.2885-15/e35/40026690_276075026340141_7085258764543848886_n.jpg',\n",
       "          'edge_liked_by': {'count': 10},\n",
       "          'edge_media_preview_like': {'count': 10},\n",
       "          'location': None,\n",
       "          'gating_info': None,\n",
       "          'media_preview': 'ACoq0XJTJTIz36KD9KrSF3xnO71B4P5VpLHgYNRm3HbI/Gt00jNoy1jZmxglvU1oRQyKMsxqzFF5Y9aXOTScrglYh2ntRtb1qc57VX2se/6UhkwmQ9GB/EUvmoP4l/MVzscSkctg/p+dPNsD2DVlzeQy/eakLfG3Dk+/AH1Hesp9VmPTC59Pp71ILfb0WmlAOoqeZgCarMuN2GA6+/GMfnz9fapv7af+6tV9qdwKNieg/IUuYY7dRmohS1IycSMOhp3nsOvNVxR2qgLXnI3X9RRmP2qpRRcD/9k=',\n",
       "          'owner': {'id': '272148039', 'username': 'victorissleepless'},\n",
       "          'thumbnail_src': 'https://instagram.fsea1-1.fna.fbcdn.net/vp/bf27e056aea4bfd450543c41c9965277/5C7846AA/t51.2885-15/sh0.08/e35/s640x640/40026690_276075026340141_7085258764543848886_n.jpg',\n",
       "          'thumbnail_resources': [{'src': 'https://instagram.fsea1-1.fna.fbcdn.net/vp/ac1c01a044324a24abdeb010773851bf/5C8B130D/t51.2885-15/e35/s150x150/40026690_276075026340141_7085258764543848886_n.jpg',\n",
       "            'config_width': 150,\n",
       "            'config_height': 150},\n",
       "           {'src': 'https://instagram.fsea1-1.fna.fbcdn.net/vp/9eaedcfcd7b655edaa9e97b1dd4fcfa5/5CAAC347/t51.2885-15/e35/s240x240/40026690_276075026340141_7085258764543848886_n.jpg',\n",
       "            'config_width': 240,\n",
       "            'config_height': 240},\n",
       "           {'src': 'https://instagram.fsea1-1.fna.fbcdn.net/vp/4f8f23ce034887807f79b649ccd2d5d9/5C7712FD/t51.2885-15/e35/s320x320/40026690_276075026340141_7085258764543848886_n.jpg',\n",
       "            'config_width': 320,\n",
       "            'config_height': 320},\n",
       "           {'src': 'https://instagram.fsea1-1.fna.fbcdn.net/vp/1bf17ca9b5f8161818d71c7a4d3be87f/5CB22BA7/t51.2885-15/e35/s480x480/40026690_276075026340141_7085258764543848886_n.jpg',\n",
       "            'config_width': 480,\n",
       "            'config_height': 480},\n",
       "           {'src': 'https://instagram.fsea1-1.fna.fbcdn.net/vp/bf27e056aea4bfd450543c41c9965277/5C7846AA/t51.2885-15/sh0.08/e35/s640x640/40026690_276075026340141_7085258764543848886_n.jpg',\n",
       "            'config_width': 640,\n",
       "            'config_height': 640}],\n",
       "          'is_video': False,\n",
       "          'accessibility_caption': None}},\n",
       "        {'node': {'__typename': 'GraphImage',\n",
       "          'id': '1863701168920860061',\n",
       "          'edge_media_to_caption': {'edges': [{'node': {'text': 'The Masterpiece #seattlecentrallibrary #seattlepubliclibrary #remkoolhaas #oma'}}]},\n",
       "          'shortcode': 'BndMla9AhWd',\n",
       "          'edge_media_to_comment': {'count': 0},\n",
       "          'comments_disabled': False,\n",
       "          'taken_at_timestamp': 1536390514,\n",
       "          'dimensions': {'height': 1080, 'width': 1080},\n",
       "          'display_url': 'https://instagram.fsea1-1.fna.fbcdn.net/vp/fe70a97cabed1dee7d52cdab4b870d7b/5C723D49/t51.2885-15/e35/40495010_104428067135440_5451224289769277756_n.jpg',\n",
       "          'edge_liked_by': {'count': 24},\n",
       "          'edge_media_preview_like': {'count': 24},\n",
       "          'location': None,\n",
       "          'gating_info': None,\n",
       "          'media_preview': 'ACoqcKeKLcbnb0UAf1NWPKU+1buaTszFQbV0Rinil8ojpz+lIAe4I+vf6UcyexNmt0PFNMqA4JGRSk7VLegzycfhn3rDOoz56ge23p7Umy1qX7S4Vcq3BY5z9e1aORXPS8fjWxYDdCCeev8AOsXrqzXbQtc1l6pIwCp/CefxFawXHSoZ7VbgYft0I6iktwZzLOzDaxJA7E8VKLhxxmrNzYiDBZsA8A1X8lf76/nWu5GxXlYqAM8kfkP/AK/8qWK+njG1XIA7cEfqKglOXb6mmCoLNMatcL12t9V/wxVmLWXP3kX3wT/9esQ9KfF96kBfvtQ+0lRtKhM8ZzyfyqjvFMk+8frTKaYj/9k=',\n",
       "          'owner': {'id': '272148039', 'username': 'victorissleepless'},\n",
       "          'thumbnail_src': 'https://instagram.fsea1-1.fna.fbcdn.net/vp/f5c0d1ad0b2a05a17cbcf7a218cc703f/5CADC6AC/t51.2885-15/sh0.08/e35/s640x640/40495010_104428067135440_5451224289769277756_n.jpg',\n",
       "          'thumbnail_resources': [{'src': 'https://instagram.fsea1-1.fna.fbcdn.net/vp/793b065cee1c461e91796599ee5b7013/5C7B210B/t51.2885-15/e35/s150x150/40495010_104428067135440_5451224289769277756_n.jpg',\n",
       "            'config_width': 150,\n",
       "            'config_height': 150},\n",
       "           {'src': 'https://instagram.fsea1-1.fna.fbcdn.net/vp/a0de60bf786c3b26b05e3f7a52656778/5C8F3941/t51.2885-15/e35/s240x240/40495010_104428067135440_5451224289769277756_n.jpg',\n",
       "            'config_width': 240,\n",
       "            'config_height': 240},\n",
       "           {'src': 'https://instagram.fsea1-1.fna.fbcdn.net/vp/dc6dc1a824ab4404f9ce4202731c0410/5C8E93FB/t51.2885-15/e35/s320x320/40495010_104428067135440_5451224289769277756_n.jpg',\n",
       "            'config_width': 320,\n",
       "            'config_height': 320},\n",
       "           {'src': 'https://instagram.fsea1-1.fna.fbcdn.net/vp/87961ac41300bce30934a05c8d5d40d7/5C7FA3A1/t51.2885-15/e35/s480x480/40495010_104428067135440_5451224289769277756_n.jpg',\n",
       "            'config_width': 480,\n",
       "            'config_height': 480},\n",
       "           {'src': 'https://instagram.fsea1-1.fna.fbcdn.net/vp/f5c0d1ad0b2a05a17cbcf7a218cc703f/5CADC6AC/t51.2885-15/sh0.08/e35/s640x640/40495010_104428067135440_5451224289769277756_n.jpg',\n",
       "            'config_width': 640,\n",
       "            'config_height': 640}],\n",
       "          'is_video': False,\n",
       "          'accessibility_caption': None}},\n",
       "        {'node': {'__typename': 'GraphImage',\n",
       "          'id': '1859732853533958114',\n",
       "          'edge_media_to_caption': {'edges': [{'node': {'text': 'Cloud and IKEA #ikea #tired #sunset'}}]},\n",
       "          'shortcode': 'BnPGS1QA9_i',\n",
       "          'edge_media_to_comment': {'count': 1},\n",
       "          'comments_disabled': False,\n",
       "          'taken_at_timestamp': 1535917453,\n",
       "          'dimensions': {'height': 1080, 'width': 1080},\n",
       "          'display_url': 'https://instagram.fsea1-1.fna.fbcdn.net/vp/2bf040a67bfcb913739c8ba2bb42566f/5C8F7903/t51.2885-15/e35/39494127_598603707203754_6649607254024650752_n.jpg',\n",
       "          'edge_liked_by': {'count': 12},\n",
       "          'edge_media_preview_like': {'count': 12},\n",
       "          'location': None,\n",
       "          'gating_info': None,\n",
       "          'media_preview': 'ACoqtAUUgTPejZ71oQPAxRmmBfel2UgHZo3Cm7PejYPWmBb8r0FHkmq51KMdm/L/AOvR/aaZ+636VnzIqzLAhqQRCqR1RBxtb9KcLxP9YVb168fl0o5h2LflCjyhVP8AtFf7h/PrS/b/APpm35ilzLuHKzBKsOGOfpzUyDcOGwffn/P07UqgeaPw/pTLr5ZcDgYHA+gptAmGxCcAk/56Gp1YCMJnjp1Gfp1rMcn9acgzS5R3LwCDoSR9P6nFKCPX9R/jVM9KQUuVDTP/2Q==',\n",
       "          'owner': {'id': '272148039', 'username': 'victorissleepless'},\n",
       "          'thumbnail_src': 'https://instagram.fsea1-1.fna.fbcdn.net/vp/baab0f62b0fd5855b5fb9acd0451b314/5C7A4FE6/t51.2885-15/sh0.08/e35/s640x640/39494127_598603707203754_6649607254024650752_n.jpg',\n",
       "          'thumbnail_resources': [{'src': 'https://instagram.fsea1-1.fna.fbcdn.net/vp/2f091fc5f3cb47613881b62b6567ba3d/5C73E441/t51.2885-15/e35/s150x150/39494127_598603707203754_6649607254024650752_n.jpg',\n",
       "            'config_width': 150,\n",
       "            'config_height': 150},\n",
       "           {'src': 'https://instagram.fsea1-1.fna.fbcdn.net/vp/a0dc1de99a8d53ec5ab95ecd352219e0/5C8B060B/t51.2885-15/e35/s240x240/39494127_598603707203754_6649607254024650752_n.jpg',\n",
       "            'config_width': 240,\n",
       "            'config_height': 240},\n",
       "           {'src': 'https://instagram.fsea1-1.fna.fbcdn.net/vp/66f81b8083c380b1f7fa7420756ed11a/5CAEBEB1/t51.2885-15/e35/s320x320/39494127_598603707203754_6649607254024650752_n.jpg',\n",
       "            'config_width': 320,\n",
       "            'config_height': 320},\n",
       "           {'src': 'https://instagram.fsea1-1.fna.fbcdn.net/vp/817acf9020da5cff4db79fbe271c3ffe/5C93D2EB/t51.2885-15/e35/s480x480/39494127_598603707203754_6649607254024650752_n.jpg',\n",
       "            'config_width': 480,\n",
       "            'config_height': 480},\n",
       "           {'src': 'https://instagram.fsea1-1.fna.fbcdn.net/vp/baab0f62b0fd5855b5fb9acd0451b314/5C7A4FE6/t51.2885-15/sh0.08/e35/s640x640/39494127_598603707203754_6649607254024650752_n.jpg',\n",
       "            'config_width': 640,\n",
       "            'config_height': 640}],\n",
       "          'is_video': False,\n",
       "          'accessibility_caption': None}},\n",
       "        {'node': {'__typename': 'GraphSidecar',\n",
       "          'id': '1754663920332121855',\n",
       "          'edge_media_to_caption': {'edges': [{'node': {'text': '12 hrs at University of Washington\\n#seattle #universityofwashington #uw'}}]},\n",
       "          'shortcode': 'BhZ0Yn3lyb_',\n",
       "          'edge_media_to_comment': {'count': 10},\n",
       "          'comments_disabled': False,\n",
       "          'taken_at_timestamp': 1523392261,\n",
       "          'dimensions': {'height': 1078, 'width': 1080},\n",
       "          'display_url': 'https://instagram.fsea1-1.fna.fbcdn.net/vp/af6c4d45f49c51aa27cbc3fce76962f9/5C7F8FFD/t51.2885-15/e35/29737188_169317043775737_8136815928819056640_n.jpg',\n",
       "          'edge_liked_by': {'count': 21},\n",
       "          'edge_media_preview_like': {'count': 21},\n",
       "          'location': None,\n",
       "          'gating_info': None,\n",
       "          'media_preview': None,\n",
       "          'owner': {'id': '272148039', 'username': 'victorissleepless'},\n",
       "          'thumbnail_src': 'https://instagram.fsea1-1.fna.fbcdn.net/vp/7ba7684647df04e5a70cb97a2d09539e/5C711D5E/t51.2885-15/sh0.08/e35/c1.0.1078.1078/s640x640/29737188_169317043775737_8136815928819056640_n.jpg',\n",
       "          'thumbnail_resources': [{'src': 'https://instagram.fsea1-1.fna.fbcdn.net/vp/e4046e480a5de256c1af56800c204bb2/5C8D9454/t51.2885-15/e35/c1.0.1078.1078/s150x150/29737188_169317043775737_8136815928819056640_n.jpg',\n",
       "            'config_width': 150,\n",
       "            'config_height': 150},\n",
       "           {'src': 'https://instagram.fsea1-1.fna.fbcdn.net/vp/4b501ad4bc3a3c40d7973abc809df365/5C75DA1E/t51.2885-15/e35/c1.0.1078.1078/s240x240/29737188_169317043775737_8136815928819056640_n.jpg',\n",
       "            'config_width': 240,\n",
       "            'config_height': 240},\n",
       "           {'src': 'https://instagram.fsea1-1.fna.fbcdn.net/vp/928edffb78a3e58710dd8708e0eebd16/5C767DA4/t51.2885-15/e35/c1.0.1078.1078/s320x320/29737188_169317043775737_8136815928819056640_n.jpg',\n",
       "            'config_width': 320,\n",
       "            'config_height': 320},\n",
       "           {'src': 'https://instagram.fsea1-1.fna.fbcdn.net/vp/925253994d4e626bdf8f159d9838b766/5C8075FE/t51.2885-15/e35/c1.0.1078.1078/s480x480/29737188_169317043775737_8136815928819056640_n.jpg',\n",
       "            'config_width': 480,\n",
       "            'config_height': 480},\n",
       "           {'src': 'https://instagram.fsea1-1.fna.fbcdn.net/vp/7ba7684647df04e5a70cb97a2d09539e/5C711D5E/t51.2885-15/sh0.08/e35/c1.0.1078.1078/s640x640/29737188_169317043775737_8136815928819056640_n.jpg',\n",
       "            'config_width': 640,\n",
       "            'config_height': 640}],\n",
       "          'is_video': False,\n",
       "          'accessibility_caption': None}},\n",
       "        {'node': {'__typename': 'GraphImage',\n",
       "          'id': '1717002097659414909',\n",
       "          'edge_media_to_caption': {'edges': [{'node': {'text': 'Sunset at Santa Monica Pier. #santamonica #santamonicapier #sunset #losangeles'}}]},\n",
       "          'shortcode': 'BfUBE-Nlwl9',\n",
       "          'edge_media_to_comment': {'count': 1},\n",
       "          'comments_disabled': False,\n",
       "          'taken_at_timestamp': 1518902621,\n",
       "          'dimensions': {'height': 809, 'width': 1080},\n",
       "          'display_url': 'https://instagram.fsea1-1.fna.fbcdn.net/vp/d8addaf12ef062293449ffe338518ff1/5C90F7E2/t51.2885-15/e35/28157596_533711713668285_3028800513253572608_n.jpg',\n",
       "          'edge_liked_by': {'count': 25},\n",
       "          'edge_media_preview_like': {'count': 25},\n",
       "          'location': None,\n",
       "          'gating_info': None,\n",
       "          'media_preview': 'ACofakVWVipVKqMnoOasRyoduD98ZX3FVzofKyLyaqyywxkhmAI6jvWoJEwCOQxwCBkZ/Dtx1rlJ42kdmCg5dgDkknGemTzgf4Uc9w5R0rqxyq5UdzwD9AOv1Oc1AXx/dHtjpWtbW4ChpBhweOScD/GsWST5zwOp7e9LmuFrbkwu2H/6zT1vG9cfn/jVClouK5eS+kQEKdoJycE9fzqJrp2Ibuucfj1qtRQO5M9xI3Vj+FQ0UlIR/9k=',\n",
       "          'owner': {'id': '272148039', 'username': 'victorissleepless'},\n",
       "          'thumbnail_src': 'https://instagram.fsea1-1.fna.fbcdn.net/vp/b4c66caae2790b0585b731a1d9d17561/5C8AF4DD/t51.2885-15/sh0.08/e35/c135.0.809.809/s640x640/28157596_533711713668285_3028800513253572608_n.jpg',\n",
       "          'thumbnail_resources': [{'src': 'https://instagram.fsea1-1.fna.fbcdn.net/vp/3a71e70fe2f13aefedadc26c561c63d4/5C90EDD7/t51.2885-15/e35/c135.0.809.809/s150x150/28157596_533711713668285_3028800513253572608_n.jpg',\n",
       "            'config_width': 150,\n",
       "            'config_height': 150},\n",
       "           {'src': 'https://instagram.fsea1-1.fna.fbcdn.net/vp/bdbfe297dea63893e0963644add61f80/5C7DE09D/t51.2885-15/e35/c135.0.809.809/s240x240/28157596_533711713668285_3028800513253572608_n.jpg',\n",
       "            'config_width': 240,\n",
       "            'config_height': 240},\n",
       "           {'src': 'https://instagram.fsea1-1.fna.fbcdn.net/vp/75d2aa2945b7fdb3827803aa22010755/5C7AFA27/t51.2885-15/e35/c135.0.809.809/s320x320/28157596_533711713668285_3028800513253572608_n.jpg',\n",
       "            'config_width': 320,\n",
       "            'config_height': 320},\n",
       "           {'src': 'https://instagram.fsea1-1.fna.fbcdn.net/vp/34a84a303fe1f620845223a6b928a6bd/5C79A37D/t51.2885-15/e35/c135.0.809.809/s480x480/28157596_533711713668285_3028800513253572608_n.jpg',\n",
       "            'config_width': 480,\n",
       "            'config_height': 480},\n",
       "           {'src': 'https://instagram.fsea1-1.fna.fbcdn.net/vp/b4c66caae2790b0585b731a1d9d17561/5C8AF4DD/t51.2885-15/sh0.08/e35/c135.0.809.809/s640x640/28157596_533711713668285_3028800513253572608_n.jpg',\n",
       "            'config_width': 640,\n",
       "            'config_height': 640}],\n",
       "          'is_video': False,\n",
       "          'accessibility_caption': None}},\n",
       "        {'node': {'__typename': 'GraphImage',\n",
       "          'id': '1682527365954481842',\n",
       "          'edge_media_to_caption': {'edges': [{'node': {'text': 'Happy New Year 2018!\\n#theboard #yayoikusama #infinitymirrors #infinityroom #happynewyear2018'}}]},\n",
       "          'shortcode': 'BdZibmUly6y',\n",
       "          'edge_media_to_comment': {'count': 0},\n",
       "          'comments_disabled': False,\n",
       "          'taken_at_timestamp': 1514792913,\n",
       "          'dimensions': {'height': 1080, 'width': 1080},\n",
       "          'display_url': 'https://instagram.fsea1-1.fna.fbcdn.net/vp/7895a6245f24136b1eedb21c28ffe934/5C7F0E45/t51.2885-15/e35/26072286_2059798380931470_2977155447074586624_n.jpg',\n",
       "          'edge_liked_by': {'count': 15},\n",
       "          'edge_media_preview_like': {'count': 15},\n",
       "          'location': None,\n",
       "          'gating_info': None,\n",
       "          'media_preview': 'ACoq3MUYp9FIBmKMU+koAbikxT6KAFqBZQ52kYzzwe2M5+vqKzS0jvI5G3C8juM9P5A00tI0j+X3LAEe/p+AznsKm47GklwGQNnd2PrycDj1PHseaf5m1N3UjjHvnH86xYXYMuOdpUH8CeKcXkkjzjHl5yfdmB6euaLjsbKyZJDYBU46+2fang55Hesm4d4wxbPzFSD09OfyOK1o0wgHsP5U1qIjmgV1fA+Zxzz1I6VDBbbYwCNrjPfuRgE49BVuinYCnFbBZSSBgBcccbsdR9MfXJpv2P5mUcRsoGc5Oc56VeopWAqXVv5zIpztGcn8uPxxVscDA6Ckopgf/9k=',\n",
       "          'owner': {'id': '272148039', 'username': 'victorissleepless'},\n",
       "          'thumbnail_src': 'https://instagram.fsea1-1.fna.fbcdn.net/vp/a90df2b89ae3fdf68a4114cf04b9fb2c/5CB160FF/t51.2885-15/sh0.08/e35/s640x640/26072286_2059798380931470_2977155447074586624_n.jpg',\n",
       "          'thumbnail_resources': [{'src': 'https://instagram.fsea1-1.fna.fbcdn.net/vp/68b74fc3859b1346a118d3b8c4a3df0e/5C79CC7A/t51.2885-15/e35/s150x150/26072286_2059798380931470_2977155447074586624_n.jpg',\n",
       "            'config_width': 150,\n",
       "            'config_height': 150},\n",
       "           {'src': 'https://instagram.fsea1-1.fna.fbcdn.net/vp/9da53d7b5fd95da13badce28099af3e4/5C8E6D7C/t51.2885-15/e35/s240x240/26072286_2059798380931470_2977155447074586624_n.jpg',\n",
       "            'config_width': 240,\n",
       "            'config_height': 240},\n",
       "           {'src': 'https://instagram.fsea1-1.fna.fbcdn.net/vp/44656570fe9504b780d6d10400dce07f/5C913902/t51.2885-15/e35/s320x320/26072286_2059798380931470_2977155447074586624_n.jpg',\n",
       "            'config_width': 320,\n",
       "            'config_height': 320},\n",
       "           {'src': 'https://instagram.fsea1-1.fna.fbcdn.net/vp/55081655297c2b98d6d230151cf6f721/5C91E045/t51.2885-15/e35/s480x480/26072286_2059798380931470_2977155447074586624_n.jpg',\n",
       "            'config_width': 480,\n",
       "            'config_height': 480},\n",
       "           {'src': 'https://instagram.fsea1-1.fna.fbcdn.net/vp/a90df2b89ae3fdf68a4114cf04b9fb2c/5CB160FF/t51.2885-15/sh0.08/e35/s640x640/26072286_2059798380931470_2977155447074586624_n.jpg',\n",
       "            'config_width': 640,\n",
       "            'config_height': 640}],\n",
       "          'is_video': False,\n",
       "          'accessibility_caption': None}},\n",
       "        {'node': {'__typename': 'GraphSidecar',\n",
       "          'id': '1538984335562265116',\n",
       "          'edge_media_to_caption': {'edges': [{'node': {'text': 'Farewell#projectmplus'}}]},\n",
       "          'shortcode': 'BVbkhlsFFIc',\n",
       "          'edge_media_to_comment': {'count': 2},\n",
       "          'comments_disabled': False,\n",
       "          'taken_at_timestamp': 1497681250,\n",
       "          'dimensions': {'height': 1080, 'width': 1080},\n",
       "          'display_url': 'https://instagram.fsea1-1.fna.fbcdn.net/vp/30f4a649d9477090a41bd770039a378e/5C73B309/t51.2885-15/e35/19227145_1234331420010474_2857443103533432832_n.jpg',\n",
       "          'edge_liked_by': {'count': 19},\n",
       "          'edge_media_preview_like': {'count': 19},\n",
       "          'location': None,\n",
       "          'gating_info': None,\n",
       "          'media_preview': None,\n",
       "          'owner': {'id': '272148039', 'username': 'victorissleepless'},\n",
       "          'thumbnail_src': 'https://instagram.fsea1-1.fna.fbcdn.net/vp/9e3482d6cd3d984f331a0e54afaa1151/5CB0DFB3/t51.2885-15/sh0.08/e35/s640x640/19227145_1234331420010474_2857443103533432832_n.jpg',\n",
       "          'thumbnail_resources': [{'src': 'https://instagram.fsea1-1.fna.fbcdn.net/vp/2d198735496c9269f1c9b6c9bc68deca/5CB12036/t51.2885-15/e35/s150x150/19227145_1234331420010474_2857443103533432832_n.jpg',\n",
       "            'config_width': 150,\n",
       "            'config_height': 150},\n",
       "           {'src': 'https://instagram.fsea1-1.fna.fbcdn.net/vp/f6af8a04b350150e9a25f4469b5c9629/5C7CC530/t51.2885-15/e35/s240x240/19227145_1234331420010474_2857443103533432832_n.jpg',\n",
       "            'config_width': 240,\n",
       "            'config_height': 240},\n",
       "           {'src': 'https://instagram.fsea1-1.fna.fbcdn.net/vp/163aaf7e806a7839dda9a6d68e44a421/5C78074E/t51.2885-15/e35/s320x320/19227145_1234331420010474_2857443103533432832_n.jpg',\n",
       "            'config_width': 320,\n",
       "            'config_height': 320},\n",
       "           {'src': 'https://instagram.fsea1-1.fna.fbcdn.net/vp/2feadf4373325207eae24e89ffe793eb/5C7D9009/t51.2885-15/e35/s480x480/19227145_1234331420010474_2857443103533432832_n.jpg',\n",
       "            'config_width': 480,\n",
       "            'config_height': 480},\n",
       "           {'src': 'https://instagram.fsea1-1.fna.fbcdn.net/vp/9e3482d6cd3d984f331a0e54afaa1151/5CB0DFB3/t51.2885-15/sh0.08/e35/s640x640/19227145_1234331420010474_2857443103533432832_n.jpg',\n",
       "            'config_width': 640,\n",
       "            'config_height': 640}],\n",
       "          'is_video': False,\n",
       "          'accessibility_caption': None}},\n",
       "        {'node': {'__typename': 'GraphImage',\n",
       "          'id': '1388277895697053515',\n",
       "          'edge_media_to_caption': {'edges': [{'node': {'text': 'Lovely rainy day #homesick'}}]},\n",
       "          'shortcode': 'BNEJ2QGjLdL',\n",
       "          'edge_media_to_comment': {'count': 5},\n",
       "          'comments_disabled': False,\n",
       "          'taken_at_timestamp': 1479715643,\n",
       "          'dimensions': {'height': 1349, 'width': 1080},\n",
       "          'display_url': 'https://instagram.fsea1-1.fna.fbcdn.net/vp/8fbee4ee22fa8b5a541809f3950ff55b/5C81A69E/t51.2885-15/e35/14553143_221796428257037_3527132499022970880_n.jpg',\n",
       "          'edge_liked_by': {'count': 37},\n",
       "          'edge_media_preview_like': {'count': 37},\n",
       "          'location': None,\n",
       "          'gating_info': None,\n",
       "          'media_preview': 'ACEq53FFTtA6HBBBqJkK9aQ7DKKWpCU24UHPqT/IY/rTERYopaKAOjumeI5U8/lWXcO0xBc59On9Ku3s4ZsDPt/9eqIXeMk4Oehyc1BoQTRbDx0+uahxVlg+eQfx4ppiI5P/ANf8qdySDFFTcUUxWNhjGSCeSB1p0sqFAABwOvp6Y/z7VDeDG3HGQv8AKobnqB7D+VQy0Qu7Dk9R364qDzCBSMSaiNUiWS+afeioM0U7Bc//2Q==',\n",
       "          'owner': {'id': '272148039', 'username': 'victorissleepless'},\n",
       "          'thumbnail_src': 'https://instagram.fsea1-1.fna.fbcdn.net/vp/18f3ff4be94b4d550d694937b3b3f1fa/5C7F7E06/t51.2885-15/sh0.08/e35/c0.134.1080.1080a/s640x640/14553143_221796428257037_3527132499022970880_n.jpg',\n",
       "          'thumbnail_resources': [{'src': 'https://instagram.fsea1-1.fna.fbcdn.net/vp/1ab9d2cb41e9228a0bbe61f249a1b8e9/5CB0EDCD/t51.2885-15/e35/c0.134.1080.1080a/s150x150/14553143_221796428257037_3527132499022970880_n.jpg',\n",
       "            'config_width': 150,\n",
       "            'config_height': 150},\n",
       "           {'src': 'https://instagram.fsea1-1.fna.fbcdn.net/vp/0c7005a3998ab868845f98266158eef3/5CAD3987/t51.2885-15/e35/c0.134.1080.1080a/s240x240/14553143_221796428257037_3527132499022970880_n.jpg',\n",
       "            'config_width': 240,\n",
       "            'config_height': 240},\n",
       "           {'src': 'https://instagram.fsea1-1.fna.fbcdn.net/vp/b99c4127de061559901493e0a3b9d8f5/5C7A873D/t51.2885-15/e35/c0.134.1080.1080a/s320x320/14553143_221796428257037_3527132499022970880_n.jpg',\n",
       "            'config_width': 320,\n",
       "            'config_height': 320},\n",
       "           {'src': 'https://instagram.fsea1-1.fna.fbcdn.net/vp/c3282bf51c1b21b459ebfb553215fecc/5CACBD67/t51.2885-15/e35/c0.134.1080.1080a/s480x480/14553143_221796428257037_3527132499022970880_n.jpg',\n",
       "            'config_width': 480,\n",
       "            'config_height': 480},\n",
       "           {'src': 'https://instagram.fsea1-1.fna.fbcdn.net/vp/18f3ff4be94b4d550d694937b3b3f1fa/5C7F7E06/t51.2885-15/sh0.08/e35/c0.134.1080.1080a/s640x640/14553143_221796428257037_3527132499022970880_n.jpg',\n",
       "            'config_width': 640,\n",
       "            'config_height': 640}],\n",
       "          'is_video': False,\n",
       "          'accessibility_caption': None}},\n",
       "        {'node': {'__typename': 'GraphImage',\n",
       "          'id': '1294748000493311041',\n",
       "          'edge_media_to_caption': {'edges': [{'node': {'text': '🌙#goodnight'}}]},\n",
       "          'shortcode': 'BH33nJTDRRB',\n",
       "          'edge_media_to_comment': {'count': 6},\n",
       "          'comments_disabled': False,\n",
       "          'taken_at_timestamp': 1468566011,\n",
       "          'dimensions': {'height': 1080, 'width': 1080},\n",
       "          'display_url': 'https://instagram.fsea1-1.fna.fbcdn.net/vp/a4663cc9d7c05ca0dc0b9947c7990e2c/5C6E78E5/t51.2885-15/e35/13743341_714049925400616_846850169_n.jpg',\n",
       "          'edge_liked_by': {'count': 48},\n",
       "          'edge_media_preview_like': {'count': 48},\n",
       "          'location': None,\n",
       "          'gating_info': None,\n",
       "          'media_preview': 'ACoqyUi8xcAgN1we/wCPT6fzqsVGee/6fWtmC3EoAXnvjv7/AIVWlttp29T/AJ4rJMqxmEYOKTFW2tmXnH+fSpBan0quZCsZ+KMVdktjFye/IqLDepp3A3cosatGfmxk4/EY9RUYlww3chhznr/hWYtwVGBxjmpXu9zFl+XPbqP19azsVc3PLikPzZQAdP8A69NEyxfN94frjt/9esxLlmjIxkLglvTsKT7QYwTkMMYAIz3x/L+tTYolnZJmLJxnsf15qiQ1TzGJOVwWBGR2xTv7Tk9VH51e5JmMybAADu7nt+VRZpTSVoSPDkVKZFPbmq1FKwXJi47Cm5X0qOinYD//2Q==',\n",
       "          'owner': {'id': '272148039', 'username': 'victorissleepless'},\n",
       "          'thumbnail_src': 'https://instagram.fsea1-1.fna.fbcdn.net/vp/9bca91491b2d8b48907f122b187cbc87/5C7A1270/t51.2885-15/sh0.08/e35/s640x640/13743341_714049925400616_846850169_n.jpg',\n",
       "          'thumbnail_resources': [{'src': 'https://instagram.fsea1-1.fna.fbcdn.net/vp/a0cfd4d2a41130c023cbb95b0bce08fc/5CAE0067/t51.2885-15/e35/s150x150/13743341_714049925400616_846850169_n.jpg',\n",
       "            'config_width': 150,\n",
       "            'config_height': 150},\n",
       "           {'src': 'https://instagram.fsea1-1.fna.fbcdn.net/vp/fc5c773a40edbfceed34eea98051e941/5C7D9F3B/t51.2885-15/e35/s240x240/13743341_714049925400616_846850169_n.jpg',\n",
       "            'config_width': 240,\n",
       "            'config_height': 240},\n",
       "           {'src': 'https://instagram.fsea1-1.fna.fbcdn.net/vp/6f81f62230f597e91e0e376b6c4da67d/5C7899C1/t51.2885-15/e35/s320x320/13743341_714049925400616_846850169_n.jpg',\n",
       "            'config_width': 320,\n",
       "            'config_height': 320},\n",
       "           {'src': 'https://instagram.fsea1-1.fna.fbcdn.net/vp/fd4ed0b274489df3cbb9d0295178aca1/5C8D2A76/t51.2885-15/e35/s480x480/13743341_714049925400616_846850169_n.jpg',\n",
       "            'config_width': 480,\n",
       "            'config_height': 480},\n",
       "           {'src': 'https://instagram.fsea1-1.fna.fbcdn.net/vp/9bca91491b2d8b48907f122b187cbc87/5C7A1270/t51.2885-15/sh0.08/e35/s640x640/13743341_714049925400616_846850169_n.jpg',\n",
       "            'config_width': 640,\n",
       "            'config_height': 640}],\n",
       "          'is_video': False,\n",
       "          'accessibility_caption': None}},\n",
       "        {'node': {'__typename': 'GraphImage',\n",
       "          'id': '1228065584930849149',\n",
       "          'edge_media_to_caption': {'edges': [{'node': {'text': 'Heroes come and go, but LEGENDS are forever! #greatestofalltime #kobe20 #thankyoukobe #mambaout #lastgame'}}]},\n",
       "          'shortcode': 'BEK9ySWr4F9',\n",
       "          'edge_media_to_comment': {'count': 6},\n",
       "          'comments_disabled': False,\n",
       "          'taken_at_timestamp': 1460616847,\n",
       "          'dimensions': {'height': 720, 'width': 1080},\n",
       "          'display_url': 'https://instagram.fsea1-1.fna.fbcdn.net/vp/87ffce0311379df700be6091f903579b/5C8DAAA8/t51.2885-15/e35/12934935_528093904018990_438825701_n.jpg',\n",
       "          'edge_liked_by': {'count': 53},\n",
       "          'edge_media_preview_like': {'count': 53},\n",
       "          'location': None,\n",
       "          'gating_info': None,\n",
       "          'media_preview': 'ACocwIhxTti+lRK+2neb7UAP2L6UbF9KaHJGeKZ5p9qAJGQAGoKeZCRjimUATeQx/Gm+S55weK1IYlHT+dWFhXOe4Hqe4oAzIo18mQvgMMbc9fwqntNbf2eMA8Zz6k/pURt0Hb9TQBlbDSYrRaFPT9TUflJ6UAf/2Q==',\n",
       "          'owner': {'id': '272148039', 'username': 'victorissleepless'},\n",
       "          'thumbnail_src': 'https://instagram.fsea1-1.fna.fbcdn.net/vp/d80df32d49bd11a81492d967f6a96fd5/5CB02685/t51.2885-15/sh0.08/e35/c180.0.720.720a/s640x640/12934935_528093904018990_438825701_n.jpg',\n",
       "          'thumbnail_resources': [{'src': 'https://instagram.fsea1-1.fna.fbcdn.net/vp/47ddd177ad945c34a62686b8c7ebb2ec/5C91B9D2/t51.2885-15/e35/c180.0.720.720a/s150x150/12934935_528093904018990_438825701_n.jpg',\n",
       "            'config_width': 150,\n",
       "            'config_height': 150},\n",
       "           {'src': 'https://instagram.fsea1-1.fna.fbcdn.net/vp/69f239247b4ffd7f98473e804ec66f67/5CAF728E/t51.2885-15/e35/c180.0.720.720a/s240x240/12934935_528093904018990_438825701_n.jpg',\n",
       "            'config_width': 240,\n",
       "            'config_height': 240},\n",
       "           {'src': 'https://instagram.fsea1-1.fna.fbcdn.net/vp/6e8e6271c495bc0f74966661b2f23a70/5C780574/t51.2885-15/e35/c180.0.720.720a/s320x320/12934935_528093904018990_438825701_n.jpg',\n",
       "            'config_width': 320,\n",
       "            'config_height': 320},\n",
       "           {'src': 'https://instagram.fsea1-1.fna.fbcdn.net/vp/60e0989eb341811bb510863d61e230e6/5CAC7AC3/t51.2885-15/e35/c180.0.720.720a/s480x480/12934935_528093904018990_438825701_n.jpg',\n",
       "            'config_width': 480,\n",
       "            'config_height': 480},\n",
       "           {'src': 'https://instagram.fsea1-1.fna.fbcdn.net/vp/d80df32d49bd11a81492d967f6a96fd5/5CB02685/t51.2885-15/sh0.08/e35/c180.0.720.720a/s640x640/12934935_528093904018990_438825701_n.jpg',\n",
       "            'config_width': 640,\n",
       "            'config_height': 640}],\n",
       "          'is_video': False,\n",
       "          'accessibility_caption': None}},\n",
       "        {'node': {'__typename': 'GraphImage',\n",
       "          'id': '1218214475873616013',\n",
       "          'edge_media_to_caption': {'edges': [{'node': {'text': 'We lost A MASTER. #rip'}}]},\n",
       "          'shortcode': 'BDn95yGr4CN',\n",
       "          'edge_media_to_comment': {'count': 0},\n",
       "          'comments_disabled': False,\n",
       "          'taken_at_timestamp': 1459442503,\n",
       "          'dimensions': {'height': 640, 'width': 640},\n",
       "          'display_url': 'https://instagram.fsea1-1.fna.fbcdn.net/vp/fad47126fcce426c5bd7dffcb8537f3f/5C801AD8/t51.2885-15/e35/11243070_1581764848781460_1651129708_n.jpg',\n",
       "          'edge_liked_by': {'count': 11},\n",
       "          'edge_media_preview_like': {'count': 11},\n",
       "          'location': None,\n",
       "          'gating_info': None,\n",
       "          'media_preview': 'ACoqti5kncqx2KAenHT1PWm2DZLevFRpdeUp4B69eapwxPcEndtx6f8A1sUAdDWZdSmPp1J4pLKVlcwud2BlSf1qC4O64UHgA/1oArzJODucH644oEhxWsd0qlGcd84H8P8AnvWNjHFACueDU1qQUIA+bPOPStKOwQcv8x/T8qqXljtzJHxjqP8ACgCJWUXClOgIH59aknQOxz1B4qmrDKsvXjPv7j+tT3UhXcR1zQA4y7Mg8475/pVXOeaJHHlKMfM3Jb15po6UAdVigilFBoA52SAwzEYJQHPH9084qO7PXHIJyD7HpVm9P7xvr/SqUvKZPqf6UAMmbJUDoqgf1pwziq/erS9B9KAP/9k=',\n",
       "          'owner': {'id': '272148039', 'username': 'victorissleepless'},\n",
       "          'thumbnail_src': 'https://instagram.fsea1-1.fna.fbcdn.net/vp/fad47126fcce426c5bd7dffcb8537f3f/5C801AD8/t51.2885-15/e35/11243070_1581764848781460_1651129708_n.jpg',\n",
       "          'thumbnail_resources': [{'src': 'https://instagram.fsea1-1.fna.fbcdn.net/vp/0adffe3f7c6435ff76c7276f491dbd2b/5C708B12/t51.2885-15/e35/s150x150/11243070_1581764848781460_1651129708_n.jpg',\n",
       "            'config_width': 150,\n",
       "            'config_height': 150},\n",
       "           {'src': 'https://instagram.fsea1-1.fna.fbcdn.net/vp/394fe10050af12a1c1c62afb78e0e0cf/5C91D5AA/t51.2885-15/e35/s240x240/11243070_1581764848781460_1651129708_n.jpg',\n",
       "            'config_width': 240,\n",
       "            'config_height': 240},\n",
       "           {'src': 'https://instagram.fsea1-1.fna.fbcdn.net/vp/67dbb3bb561188373f3ae7bdcb6f06cf/5C6F3D0A/t51.2885-15/e35/s320x320/11243070_1581764848781460_1651129708_n.jpg',\n",
       "            'config_width': 320,\n",
       "            'config_height': 320},\n",
       "           {'src': 'https://instagram.fsea1-1.fna.fbcdn.net/vp/0b34a1bcb32ebb3e575fa2ecd94ad466/5C8E83E0/t51.2885-15/e35/s480x480/11243070_1581764848781460_1651129708_n.jpg',\n",
       "            'config_width': 480,\n",
       "            'config_height': 480},\n",
       "           {'src': 'https://instagram.fsea1-1.fna.fbcdn.net/vp/fad47126fcce426c5bd7dffcb8537f3f/5C801AD8/t51.2885-15/e35/11243070_1581764848781460_1651129708_n.jpg',\n",
       "            'config_width': 640,\n",
       "            'config_height': 640}],\n",
       "          'is_video': False,\n",
       "          'accessibility_caption': None}},\n",
       "        {'node': {'__typename': 'GraphImage',\n",
       "          'id': '1195328641419936283',\n",
       "          'edge_media_to_caption': {'edges': [{'node': {'text': 'I guess everyone now is watching Leo.#prayforleo#oscar#therevenant#bestactor#thefifthnominate'}}]},\n",
       "          'shortcode': 'BCWqRD1r4Ib',\n",
       "          'edge_media_to_comment': {'count': 1},\n",
       "          'comments_disabled': False,\n",
       "          'taken_at_timestamp': 1456714299,\n",
       "          'dimensions': {'height': 640, 'width': 640},\n",
       "          'display_url': 'https://instagram.fsea1-1.fna.fbcdn.net/vp/91a5f61a1a8d4db5d6aff260e571de37/5C919C99/t51.2885-15/e35/12728423_800027333435982_714212563_n.jpg',\n",
       "          'edge_liked_by': {'count': 17},\n",
       "          'edge_media_preview_like': {'count': 17},\n",
       "          'location': None,\n",
       "          'gating_info': None,\n",
       "          'media_preview': 'ACoq6SiiimSVNiMSWHzDPP4/5xTUGJhsyAVJb0OOB+Of0qdztP1pInDMwz8y4yO4B6Z+tRbU1voT0UUVZkFNkkWJS7nCqMk0rMF5YgD3qjdNbnBkbIHO0HIJ7Ej27Uh2uZsl0plkd2CEqFUHOVPUFscY5z3FR6bHKLve4LZU5YZ28gEEnvn35zTIbeRg3yoQSeXHPt+HpWzHL5QChewHBHp/KlzLuXyvsX6KahJHIwadTIILgbhtZQyNncSenpx3z+lZMqghdiMSp/hU8jnr2xj361u4zS0mrlKVjGikG3Y4KN6MCP8A9f1q4kG3kckdDVp1DKQRke9VLQ/Mw7VNrOxbd1ctqSetOooqzI//2Q==',\n",
       "          'owner': {'id': '272148039', 'username': 'victorissleepless'},\n",
       "          'thumbnail_src': 'https://instagram.fsea1-1.fna.fbcdn.net/vp/91a5f61a1a8d4db5d6aff260e571de37/5C919C99/t51.2885-15/e35/12728423_800027333435982_714212563_n.jpg',\n",
       "          'thumbnail_resources': [{'src': 'https://instagram.fsea1-1.fna.fbcdn.net/vp/a21d43c8c41da65ed7a774ca8c87f0c7/5C77541B/t51.2885-15/e35/s150x150/12728423_800027333435982_714212563_n.jpg',\n",
       "            'config_width': 150,\n",
       "            'config_height': 150},\n",
       "           {'src': 'https://instagram.fsea1-1.fna.fbcdn.net/vp/731107447bb322b64481d7bedaef52f3/5C7B2B47/t51.2885-15/e35/s240x240/12728423_800027333435982_714212563_n.jpg',\n",
       "            'config_width': 240,\n",
       "            'config_height': 240},\n",
       "           {'src': 'https://instagram.fsea1-1.fna.fbcdn.net/vp/db8eeede7841794fa5c0674e12427aaf/5C8AFEBD/t51.2885-15/e35/s320x320/12728423_800027333435982_714212563_n.jpg',\n",
       "            'config_width': 320,\n",
       "            'config_height': 320},\n",
       "           {'src': 'https://instagram.fsea1-1.fna.fbcdn.net/vp/9da5c2fe2ad4cb5aec55cf9eba6cb188/5CACBE0A/t51.2885-15/e35/s480x480/12728423_800027333435982_714212563_n.jpg',\n",
       "            'config_width': 480,\n",
       "            'config_height': 480},\n",
       "           {'src': 'https://instagram.fsea1-1.fna.fbcdn.net/vp/91a5f61a1a8d4db5d6aff260e571de37/5C919C99/t51.2885-15/e35/12728423_800027333435982_714212563_n.jpg',\n",
       "            'config_width': 640,\n",
       "            'config_height': 640}],\n",
       "          'is_video': False,\n",
       "          'accessibility_caption': None}}]},\n",
       "      'edge_saved_media': {'count': 0,\n",
       "       'page_info': {'has_next_page': False, 'end_cursor': None},\n",
       "       'edges': []},\n",
       "      'edge_media_collections': {'count': 0,\n",
       "       'page_info': {'has_next_page': False, 'end_cursor': None},\n",
       "       'edges': []}}},\n",
       "    'felix_onboarding_video_resources': {'mp4': '/static/videos/felix-onboarding/onboardingVideo.mp4/9d16838ca7f9.mp4',\n",
       "     'poster': '/static/images/felix-onboarding/onboardingVideoPoster.png/8fdba7cf2120.png'}}]},\n",
       " 'gatekeepers': {'sf': True,\n",
       "  'ld': True,\n",
       "  'seo': True,\n",
       "  'seoht': True,\n",
       "  'saa': True,\n",
       "  'phone_qp': True,\n",
       "  'nt': True,\n",
       "  'rp': True},\n",
       " 'knobs': {'acct:ntb': 0, 'cb': 0, 'captcha': 0, 'fr': 0},\n",
       " 'qe': {'early_flush': {'g': '', 'p': {}},\n",
       "  'form_navigation_dialog': {'g': '', 'p': {}},\n",
       "  'cred_man': {'g': '', 'p': {}},\n",
       "  'fsu_count': {'g': '', 'p': {}},\n",
       "  'iab': {'g': 'test', 'p': {'has_open_app_ios': 'true'}},\n",
       "  'app_upsell_li': {'g': '', 'p': {}},\n",
       "  'app_upsell': {'g': '', 'p': {}},\n",
       "  'shfb': {'g': '', 'p': {}},\n",
       "  'lsc': {'g': '', 'p': {}},\n",
       "  'profile_header_name': {'g': '', 'p': {}},\n",
       "  'bc3l': {'g': '', 'p': {}},\n",
       "  'direct_conversation_reporting': {'g': '', 'p': {}},\n",
       "  'general_reporting': {'g': '', 'p': {}},\n",
       "  'reporting': {'g': '', 'p': {}},\n",
       "  'acc_recovery_link': {'g': '', 'p': {}},\n",
       "  'notif': {'g': '', 'p': {}},\n",
       "  'fb_unlink': {'g': '', 'p': {}},\n",
       "  'mobile_stories_doodling': {'g': '', 'p': {}},\n",
       "  'show_copy_link': {'g': '', 'p': {}},\n",
       "  'p_edit': {'g': '', 'p': {}},\n",
       "  '404_as_react': {'g': '', 'p': {}},\n",
       "  'acc_recovery': {'g': '', 'p': {}},\n",
       "  'collections': {'g': '', 'p': {}},\n",
       "  'comment_ta': {'g': '', 'p': {}},\n",
       "  'su': {'g': '', 'p': {}},\n",
       "  'disc_ppl': {'g': '', 'p': {}},\n",
       "  'ebd_ul': {'g': '', 'p': {}},\n",
       "  'ebdsim_li': {'g': '', 'p': {}},\n",
       "  'ebdsim_lo': {'g': '', 'p': {}},\n",
       "  'empty_feed': {'g': '', 'p': {}},\n",
       "  'bundles': {'g': '', 'p': {}},\n",
       "  'exit_story_creation': {'g': '', 'p': {}},\n",
       "  'appsell': {'g': '', 'p': {}},\n",
       "  'heart_tab': {'g': '', 'p': {}},\n",
       "  'imgopt': {'g': '', 'p': {}},\n",
       "  'follow_button': {'g': '', 'p': {}},\n",
       "  'log_cont': {'g': 'test_intent_m', 'p': {'has_contextual_m': 'true'}},\n",
       "  'msisdn': {'g': '', 'p': {}},\n",
       "  'onetaplogin': {'g': '', 'p': {}},\n",
       "  'login_poe': {'g': '', 'p': {}},\n",
       "  'profile_tabs': {'g': '', 'p': {}},\n",
       "  'push_notifications': {'g': '', 'p': {}},\n",
       "  'reg': {'g': '', 'p': {}},\n",
       "  'em_sig': {'g': 'control_no_sug_d',\n",
       "   'p': {'has_multi_step_email_suggestion': 'false',\n",
       "    'has_signup_email_suggestion': 'false'}},\n",
       "  'multireg_iter': {'g': '', 'p': {}},\n",
       "  'reg_vp': {'g': 'control_group_1', 'p': {'hide_value_prop': 'false'}},\n",
       "  'report_media': {'g': '', 'p': {}},\n",
       "  'report_profile': {'g': '', 'p': {}},\n",
       "  'sidecar_swipe': {'g': '', 'p': {}},\n",
       "  'su_universe': {'g': '', 'p': {}},\n",
       "  'stale': {'g': '', 'p': {}},\n",
       "  'lo_stories': {'g': 'test_profile', 'p': {'contextual_login': 'true'}},\n",
       "  'stories': {'g': '', 'p': {}},\n",
       "  'tp_pblshr': {'g': '', 'p': {}},\n",
       "  'video': {'g': '', 'p': {}},\n",
       "  'gdpr_row_tos': {'g': 'test_05_01', 'p': {'tos_version': 'row'}},\n",
       "  'felix': {'g': '', 'p': {}},\n",
       "  'felix_clear_fb_cookie': {'g': '', 'p': {}},\n",
       "  'felix_creation_duration_limits': {'g': '', 'p': {}},\n",
       "  'felix_creation_enabled': {'g': '', 'p': {}},\n",
       "  'felix_creation_fb_crossposting': {'g': '', 'p': {}},\n",
       "  'felix_creation_fb_crossposting_v2': {'g': '', 'p': {}},\n",
       "  'felix_creation_validation': {'g': '', 'p': {}},\n",
       "  'felix_creation_video_upload': {'g': '', 'p': {}},\n",
       "  'felix_early_onboarding': {'g': '', 'p': {}},\n",
       "  'unfollow_confirm': {'g': '', 'p': {}},\n",
       "  'profile_enhance_li': {'g': '', 'p': {}},\n",
       "  'profile_enhance_lo': {'g': '', 'p': {}},\n",
       "  'comment_enhance': {'g': '', 'p': {}},\n",
       "  'mweb_topical_explore': {'g': '', 'p': {}},\n",
       "  'web_nametag': {'g': '', 'p': {}},\n",
       "  'follow_all_fb': {'g': '', 'p': {}},\n",
       "  'lite_direct_upsell': {'g': '', 'p': {}},\n",
       "  'web_loggedout_noop': {'g': '', 'p': {}},\n",
       "  'a2hs_heuristic_uc': {'g': '', 'p': {}},\n",
       "  'a2hs_heuristic_non_uc': {'g': '', 'p': {}},\n",
       "  'web_hashtag': {'g': '', 'p': {}},\n",
       "  'web_hashtag_logged_out': {'g': 'test_hashtag_follow_lo', 'p': {}},\n",
       "  'header_scroll': {'g': '', 'p': {}},\n",
       "  'rout': {'g': '', 'p': {}},\n",
       "  'websr': {'g': '', 'p': {}},\n",
       "  'web_lo_follow': {'g': '', 'p': {}},\n",
       "  'web_share': {'g': '', 'p': {}},\n",
       "  'lite_rating': {'g': '', 'p': {}},\n",
       "  'web_embeds_share': {'g': '', 'p': {}},\n",
       "  'web_share_lo': {'g': '', 'p': {}},\n",
       "  'web_embeds_logged_out': {'g': 'test_comment_input',\n",
       "   'p': {'show_comment_input': 'true'}},\n",
       "  'web_datasaver_mode': {'g': '', 'p': {}},\n",
       "  'lite_datasaver_mode': {'g': '', 'p': {}},\n",
       "  'lite_video_upload': {'g': '', 'p': {}},\n",
       "  'ig_aat': {'g': '', 'p': {}},\n",
       "  'post_options': {'g': '', 'p': {}},\n",
       "  'igtv_public_viewing': {'g': '', 'p': {}},\n",
       "  'lite_feed_video_user_tag': {'g': '', 'p': {}},\n",
       "  'caching': {'g': '', 'p': {}},\n",
       "  'feed_video_user_tag': {'g': '', 'p': {}},\n",
       "  'feed_video_user_tag_logged_out': {'g': '', 'p': {}}},\n",
       " 'hostname': 'www.instagram.com',\n",
       " 'deployment_stage': 'c2',\n",
       " 'platform': 'web',\n",
       " 'rhx_gis': '63cb628fba29b4fdc837565c8107afd6',\n",
       " 'nonce': 'WEYJTX63Vjy0RxDQTV9VFw==',\n",
       " 'mid_pct': 28.10109,\n",
       " 'server_checks': {},\n",
       " 'zero_data': {},\n",
       " 'rollout_hash': '80d4ae7d75e7',\n",
       " 'bundle_variant': 'base',\n",
       " 'probably_has_app': False}"
      ]
     },
     "execution_count": 10,
     "metadata": {},
     "output_type": "execute_result"
    }
   ],
   "source": [
    "d"
   ]
  },
  {
   "cell_type": "code",
   "execution_count": 11,
   "metadata": {},
   "outputs": [],
   "source": [
    "num_followed_by = d['entry_data']['ProfilePage'][0]['graphql']['user']['edge_followed_by']['count']"
   ]
  },
  {
   "cell_type": "code",
   "execution_count": 12,
   "metadata": {},
   "outputs": [
    {
     "data": {
      "text/plain": [
       "63"
      ]
     },
     "execution_count": 12,
     "metadata": {},
     "output_type": "execute_result"
    }
   ],
   "source": [
    "num_followed_by"
   ]
  },
  {
   "cell_type": "code",
   "execution_count": 13,
   "metadata": {},
   "outputs": [],
   "source": [
    "num_following_by = d['entry_data']['ProfilePage'][0]['graphql']['user']['edge_follow']['count']"
   ]
  },
  {
   "cell_type": "code",
   "execution_count": 14,
   "metadata": {},
   "outputs": [
    {
     "data": {
      "text/plain": [
       "91"
      ]
     },
     "execution_count": 14,
     "metadata": {},
     "output_type": "execute_result"
    }
   ],
   "source": [
    "num_following_by"
   ]
  },
  {
   "cell_type": "code",
   "execution_count": 15,
   "metadata": {},
   "outputs": [],
   "source": [
    "num_posts = d['entry_data']['ProfilePage'][0]['graphql']['user']['edge_owner_to_timeline_media']['count']"
   ]
  },
  {
   "cell_type": "code",
   "execution_count": 16,
   "metadata": {},
   "outputs": [
    {
     "data": {
      "text/plain": [
       "20"
      ]
     },
     "execution_count": 16,
     "metadata": {},
     "output_type": "execute_result"
    }
   ],
   "source": [
    "num_posts"
   ]
  },
  {
   "cell_type": "code",
   "execution_count": null,
   "metadata": {},
   "outputs": [],
   "source": []
  },
  {
   "cell_type": "code",
   "execution_count": 17,
   "metadata": {},
   "outputs": [],
   "source": [
    "user_name = page_soup.find('title').text.split('@')[1].split(' ')[0].replace(')', '')"
   ]
  },
  {
   "cell_type": "code",
   "execution_count": 18,
   "metadata": {},
   "outputs": [
    {
     "data": {
      "text/plain": [
       "'victorissleepless'"
      ]
     },
     "execution_count": 18,
     "metadata": {},
     "output_type": "execute_result"
    }
   ],
   "source": [
    "user_name"
   ]
  },
  {
   "cell_type": "code",
   "execution_count": 19,
   "metadata": {},
   "outputs": [],
   "source": [
    "full_name = page_soup.find('title').text.split(' (@')[0].replace('\\n', '')"
   ]
  },
  {
   "cell_type": "code",
   "execution_count": 20,
   "metadata": {},
   "outputs": [
    {
     "data": {
      "text/plain": [
       "'Victor Wang'"
      ]
     },
     "execution_count": 20,
     "metadata": {},
     "output_type": "execute_result"
    }
   ],
   "source": [
    "full_name"
   ]
  },
  {
   "cell_type": "code",
   "execution_count": 21,
   "metadata": {},
   "outputs": [
    {
     "data": {
      "text/plain": [
       "67"
      ]
     },
     "execution_count": 21,
     "metadata": {},
     "output_type": "execute_result"
    }
   ],
   "source": [
    "f.write(headers)"
   ]
  },
  {
   "cell_type": "code",
   "execution_count": 22,
   "metadata": {},
   "outputs": [
    {
     "data": {
      "text/plain": [
       "39"
      ]
     },
     "execution_count": 22,
     "metadata": {},
     "output_type": "execute_result"
    }
   ],
   "source": [
    "f.write(user_name + ',' + full_name + ',' + str(num_posts) + ',' + str(num_followed_by) + ',' + str(num_following_by) + \"\\n\")"
   ]
  },
  {
   "cell_type": "code",
   "execution_count": null,
   "metadata": {},
   "outputs": [],
   "source": []
  },
  {
   "cell_type": "code",
   "execution_count": 66,
   "metadata": {},
   "outputs": [],
   "source": [
    "import DataPreparation"
   ]
  },
  {
   "cell_type": "code",
   "execution_count": 24,
   "metadata": {},
   "outputs": [],
   "source": [
    "%run DataPreparation.py"
   ]
  },
  {
   "cell_type": "code",
   "execution_count": 37,
   "metadata": {},
   "outputs": [
    {
     "data": {
      "text/plain": [
       "'https://www.instagram.com/victorissleepless/'"
      ]
     },
     "execution_count": 37,
     "metadata": {},
     "output_type": "execute_result"
    }
   ],
   "source": [
    "url"
   ]
  },
  {
   "cell_type": "code",
   "execution_count": 88,
   "metadata": {},
   "outputs": [
    {
     "data": {
      "text/plain": [
       "['https://www.instagram.com/lilylii818/']"
      ]
     },
     "execution_count": 88,
     "metadata": {},
     "output_type": "execute_result"
    }
   ],
   "source": [
    "url_ls = pd.read_excel('data/url_data.xlsx')\n",
    "\n",
    "url_ls.values.tolist()[0]"
   ]
  },
  {
   "cell_type": "code",
   "execution_count": null,
   "metadata": {},
   "outputs": [],
   "source": []
  },
  {
   "cell_type": "code",
   "execution_count": 74,
   "metadata": {},
   "outputs": [
    {
     "data": {
      "text/plain": [
       "pandas.core.frame.DataFrame"
      ]
     },
     "execution_count": 74,
     "metadata": {},
     "output_type": "execute_result"
    }
   ],
   "source": [
    "url_ls = url_ls"
   ]
  },
  {
   "cell_type": "code",
   "execution_count": null,
   "metadata": {},
   "outputs": [],
   "source": []
  }
 ],
 "metadata": {
  "kernelspec": {
   "display_name": "Python 3",
   "language": "python",
   "name": "python3"
  },
  "language_info": {
   "codemirror_mode": {
    "name": "ipython",
    "version": 3
   },
   "file_extension": ".py",
   "mimetype": "text/x-python",
   "name": "python",
   "nbconvert_exporter": "python",
   "pygments_lexer": "ipython3",
   "version": "3.6.5"
  }
 },
 "nbformat": 4,
 "nbformat_minor": 2
}
