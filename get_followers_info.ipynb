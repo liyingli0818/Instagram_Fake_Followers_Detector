{
 "cells": [
  {
   "cell_type": "code",
   "execution_count": 97,
   "metadata": {},
   "outputs": [],
   "source": [
    "from urllib.request import urlopen as uReq\n",
    "import pandas as pd\n",
    "import requests\n",
    "import json\n",
    "import time\n",
    "import random\n",
    "import bs4\n",
    "from bs4 import BeautifulSoup"
   ]
  },
  {
   "cell_type": "code",
   "execution_count": 131,
   "metadata": {},
   "outputs": [],
   "source": [
    "from selenium.webdriver import Chrome, Firefox"
   ]
  },
  {
   "cell_type": "code",
   "execution_count": 100,
   "metadata": {},
   "outputs": [],
   "source": [
    "browser = Chrome()"
   ]
  },
  {
   "cell_type": "code",
   "execution_count": 146,
   "metadata": {},
   "outputs": [],
   "source": [
    "browser.get('https://www.instagram.com/rung4289/')"
   ]
  },
  {
   "cell_type": "code",
   "execution_count": 147,
   "metadata": {},
   "outputs": [],
   "source": [
    "html = browser.page_source"
   ]
  },
  {
   "cell_type": "code",
   "execution_count": 148,
   "metadata": {},
   "outputs": [],
   "source": [
    "soup = BeautifulSoup(html, \"html.parser\")"
   ]
  },
  {
   "cell_type": "code",
   "execution_count": 164,
   "metadata": {},
   "outputs": [],
   "source": [
    "followers = browser.find_elements_by_css_selector('a.FPmhX')"
   ]
  },
  {
   "cell_type": "code",
   "execution_count": 167,
   "metadata": {},
   "outputs": [],
   "source": [
    "last_follower = followers[-1]"
   ]
  },
  {
   "cell_type": "code",
   "execution_count": 168,
   "metadata": {},
   "outputs": [
    {
     "data": {
      "text/plain": [
       "{'x': 245, 'y': 537}"
      ]
     },
     "execution_count": 168,
     "metadata": {},
     "output_type": "execute_result"
    }
   ],
   "source": [
    "last_follower.location_once_scrolled_into_view"
   ]
  },
  {
   "cell_type": "code",
   "execution_count": 169,
   "metadata": {},
   "outputs": [],
   "source": [
    "scroll_to_last_follower(browser=browser)"
   ]
  },
  {
   "cell_type": "code",
   "execution_count": 170,
   "metadata": {},
   "outputs": [],
   "source": [
    "follower = followers[0]"
   ]
  },
  {
   "cell_type": "code",
   "execution_count": 171,
   "metadata": {},
   "outputs": [],
   "source": [
    "for i in range(5):\n",
    "    scroll_to_last_follower(browser=browser)\n",
    "    time.sleep(5)"
   ]
  },
  {
   "cell_type": "code",
   "execution_count": 172,
   "metadata": {},
   "outputs": [],
   "source": [
    "followers = browser.find_elements_by_css_selector(\"li.wo9IH\")"
   ]
  },
  {
   "cell_type": "code",
   "execution_count": 173,
   "metadata": {},
   "outputs": [],
   "source": [
    "follower_urls = [get_follower_url(follower) for follower in followers]"
   ]
  },
  {
   "cell_type": "code",
   "execution_count": 174,
   "metadata": {},
   "outputs": [
    {
     "data": {
      "text/plain": [
       "['https://www.instagram.com/realbanderson/',\n",
       " 'https://www.instagram.com/pomonyshop/',\n",
       " 'https://www.instagram.com/llaarrddll/',\n",
       " 'https://www.instagram.com/phachraa.aamaatmntrii/',\n",
       " 'https://www.instagram.com/charoenrak/',\n",
       " 'https://www.instagram.com/klaus_estamparia/',\n",
       " 'https://www.instagram.com/ploymingg/',\n",
       " 'https://www.instagram.com/lock__co/',\n",
       " 'https://www.instagram.com/lynaround_lyn.shop/',\n",
       " 'https://www.instagram.com/diarylovely_shop/',\n",
       " 'https://www.instagram.com/suphattra_stp/',\n",
       " 'https://www.instagram.com/alldy_horre_oficall/',\n",
       " 'https://www.instagram.com/250grownowbypla/',\n",
       " 'https://www.instagram.com/lopesluxo/',\n",
       " 'https://www.instagram.com/nichapa__42/',\n",
       " 'https://www.instagram.com/_tuktuck_/',\n",
       " 'https://www.instagram.com/sevetcompany/',\n",
       " 'https://www.instagram.com/nutsara_kae/',\n",
       " 'https://www.instagram.com/ephiiyngephyrungeruueng/',\n",
       " 'https://www.instagram.com/b2g.imports/',\n",
       " 'https://www.instagram.com/nunaraliz/',\n",
       " 'https://www.instagram.com/areeratsuthinon/',\n",
       " 'https://www.instagram.com/lojadoralph_oficial/',\n",
       " 'https://www.instagram.com/jubjubjaaa/',\n",
       " 'https://www.instagram.com/rukyim_arpeeraya/',\n",
       " 'https://www.instagram.com/styleschicchic/',\n",
       " 'https://www.instagram.com/jamilrobinson_/',\n",
       " 'https://www.instagram.com/japanshop.14/',\n",
       " 'https://www.instagram.com/porpar.takom/',\n",
       " 'https://www.instagram.com/hardcoreirk/',\n",
       " 'https://www.instagram.com/einooh/',\n",
       " 'https://www.instagram.com/elegancebastos/',\n",
       " 'https://www.instagram.com/eflatunnakliyat/',\n",
       " 'https://www.instagram.com/gianemodapb/',\n",
       " 'https://www.instagram.com/r8multimarcas_/',\n",
       " 'https://www.instagram.com/aomji_sp/',\n",
       " 'https://www.instagram.com/yamada_105th/',\n",
       " 'https://www.instagram.com/tonaor_aory/',\n",
       " 'https://www.instagram.com/250grownowbypare/',\n",
       " 'https://www.instagram.com/bbussabong_ph/',\n",
       " 'https://www.instagram.com/nookzaa.zaa/',\n",
       " 'https://www.instagram.com/disney_dolls_/',\n",
       " 'https://www.instagram.com/succhitraakhamphrayaa/',\n",
       " 'https://www.instagram.com/madamesofia_pop/',\n",
       " 'https://www.instagram.com/akropolbg_sales/',\n",
       " 'https://www.instagram.com/meebyme11_shoe2/',\n",
       " 'https://www.instagram.com/ya_gromova/',\n",
       " 'https://www.instagram.com/herclothes90/',\n",
       " 'https://www.instagram.com/oil.2hand/',\n",
       " 'https://www.instagram.com/takipcibegeni.kazan/',\n",
       " 'https://www.instagram.com/pai.doodee/',\n",
       " 'https://www.instagram.com/yok_kuki/',\n",
       " 'https://www.instagram.com/waniewaniex/',\n",
       " 'https://www.instagram.com/qeenieeeee/',\n",
       " 'https://www.instagram.com/lady.oat/',\n",
       " 'https://www.instagram.com/suwiml7673/',\n",
       " 'https://www.instagram.com/nichapa9898/',\n",
       " 'https://www.instagram.com/prapai1985/',\n",
       " 'https://www.instagram.com/ruckcana/',\n",
       " 'https://www.instagram.com/poywinnercar/',\n",
       " 'https://www.instagram.com/wansai_crazybrand_shop/',\n",
       " 'https://www.instagram.com/manish__lohar/',\n",
       " 'https://www.instagram.com/kanokpornpukpik/',\n",
       " 'https://www.instagram.com/beam_wijitpan/',\n",
       " 'https://www.instagram.com/sunisa.aom2/',\n",
       " 'https://www.instagram.com/ebijungofficial/',\n",
       " 'https://www.instagram.com/numtarn_numtarn/',\n",
       " 'https://www.instagram.com/minnie_sri/',\n",
       " 'https://www.instagram.com/suree_milk/',\n",
       " 'https://www.instagram.com/richardr.vega/',\n",
       " 'https://www.instagram.com/mookkkkk__2421/',\n",
       " 'https://www.instagram.com/second_handclothesshop/',\n",
       " 'https://www.instagram.com/rattanasasi/',\n",
       " 'https://www.instagram.com/natini699/',\n",
       " 'https://www.instagram.com/rththang_k14/',\n",
       " 'https://www.instagram.com/newcoolsocial/',\n",
       " 'https://www.instagram.com/windythefatcat/',\n",
       " 'https://www.instagram.com/8me.natty/',\n",
       " 'https://www.instagram.com/pockiya.421/',\n",
       " 'https://www.instagram.com/aki_oly8899/',\n",
       " 'https://www.instagram.com/janenista18/',\n",
       " 'https://www.instagram.com/kru_nampuengthai/',\n",
       " 'https://www.instagram.com/princess.botox/',\n",
       " 'https://www.instagram.com/oilyjazz/',\n",
       " 'https://www.instagram.com/fayrider_ii/',\n",
       " 'https://www.instagram.com/piyaratsiri/',\n",
       " 'https://www.instagram.com/phatwarin_j/',\n",
       " 'https://www.instagram.com/ns_pohntanit/',\n",
       " 'https://www.instagram.com/savitripoonsawat/',\n",
       " 'https://www.instagram.com/nitta_brandname/',\n",
       " 'https://www.instagram.com/pokhaphanish/',\n",
       " 'https://www.instagram.com/inspireyour/',\n",
       " 'https://www.instagram.com/kimber11mm/',\n",
       " 'https://www.instagram.com/wawa_zeza/',\n",
       " 'https://www.instagram.com/memorytou/',\n",
       " 'https://www.instagram.com/piachida/']"
      ]
     },
     "execution_count": 174,
     "metadata": {},
     "output_type": "execute_result"
    }
   ],
   "source": [
    "follower_urls"
   ]
  },
  {
   "cell_type": "code",
   "execution_count": null,
   "metadata": {},
   "outputs": [],
   "source": []
  },
  {
   "cell_type": "code",
   "execution_count": null,
   "metadata": {},
   "outputs": [],
   "source": []
  },
  {
   "cell_type": "code",
   "execution_count": null,
   "metadata": {},
   "outputs": [],
   "source": []
  }
 ],
 "metadata": {
  "kernelspec": {
   "display_name": "Python 3",
   "language": "python",
   "name": "python3"
  },
  "language_info": {
   "codemirror_mode": {
    "name": "ipython",
    "version": 3
   },
   "file_extension": ".py",
   "mimetype": "text/x-python",
   "name": "python",
   "nbconvert_exporter": "python",
   "pygments_lexer": "ipython3",
   "version": "3.6.5"
  }
 },
 "nbformat": 4,
 "nbformat_minor": 2
}
